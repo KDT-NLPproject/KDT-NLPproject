{
 "cells": [
  {
   "cell_type": "code",
   "execution_count": 1,
   "metadata": {},
   "outputs": [],
   "source": [
    "import pandas as pd"
   ]
  },
  {
   "cell_type": "code",
   "execution_count": 2,
   "metadata": {},
   "outputs": [],
   "source": [
    "# trot1 = pd.read_csv('trot.csv', index_col=0)\n",
    "# trot2 = pd.read_csv('trot2.csv', index_col=0)"
   ]
  },
  {
   "cell_type": "code",
   "execution_count": 3,
   "metadata": {},
   "outputs": [],
   "source": [
    "#trotDF = pd.concat([trot1, trot2])"
   ]
  },
  {
   "cell_type": "code",
   "execution_count": 4,
   "metadata": {},
   "outputs": [],
   "source": [
    "#trotDF"
   ]
  },
  {
   "cell_type": "code",
   "execution_count": 5,
   "metadata": {},
   "outputs": [],
   "source": [
    "# trotDF.to_csv('trot1.csv')\n",
    "# print('csv 파일로 저장 완료')"
   ]
  },
  {
   "cell_type": "code",
   "execution_count": 6,
   "metadata": {},
   "outputs": [],
   "source": [
    "# fork1 = pd.read_csv('fork.csv', index_col=0)\n",
    "# fork2 = pd.read_csv('fork2.csv', index_col=0)"
   ]
  },
  {
   "cell_type": "code",
   "execution_count": 7,
   "metadata": {},
   "outputs": [],
   "source": [
    "# forkDF = pd.concat([fork1, fork2])"
   ]
  },
  {
   "cell_type": "code",
   "execution_count": 8,
   "metadata": {},
   "outputs": [
    {
     "data": {
      "text/html": [
       "<div>\n",
       "<style scoped>\n",
       "    .dataframe tbody tr th:only-of-type {\n",
       "        vertical-align: middle;\n",
       "    }\n",
       "\n",
       "    .dataframe tbody tr th {\n",
       "        vertical-align: top;\n",
       "    }\n",
       "\n",
       "    .dataframe thead th {\n",
       "        text-align: right;\n",
       "    }\n",
       "</style>\n",
       "<table border=\"1\" class=\"dataframe\">\n",
       "  <thead>\n",
       "    <tr style=\"text-align: right;\">\n",
       "      <th></th>\n",
       "      <th>title</th>\n",
       "      <th>artist</th>\n",
       "      <th>lyric</th>\n",
       "    </tr>\n",
       "  </thead>\n",
       "  <tbody>\n",
       "    <tr>\n",
       "      <th>0</th>\n",
       "      <td>kuiz_sketch_220404.m4a</td>\n",
       "      <td>9o1</td>\n",
       "      <td>After years and years, now I am here\\nI’ve bee...</td>\n",
       "    </tr>\n",
       "    <tr>\n",
       "      <th>1</th>\n",
       "      <td>소나기 (feat. 예빛)</td>\n",
       "      <td>SHUYA</td>\n",
       "      <td>잠깐 내린 비에\\n네가 보고 싶어진 게 우습지\\n우산을 두드리는 빗소리보다\\n더 시...</td>\n",
       "    </tr>\n",
       "    <tr>\n",
       "      <th>2</th>\n",
       "      <td>무뎌진단건</td>\n",
       "      <td>projectsummit</td>\n",
       "      <td>난 말야 있잖아 항상\\n무너지는게 싫었어 아프니까\\n무뎌지고 싶었어 무너지기 싫어서...</td>\n",
       "    </tr>\n",
       "    <tr>\n",
       "      <th>3</th>\n",
       "      <td>구름</td>\n",
       "      <td>박서하</td>\n",
       "      <td>이 어두운 방안에 드리워진 네 그림자\\n어지럽혀진 내 생각, 그리고 너\\n\\n우두커...</td>\n",
       "    </tr>\n",
       "    <tr>\n",
       "      <th>4</th>\n",
       "      <td>몽마르뜨 언덕</td>\n",
       "      <td>장하윤</td>\n",
       "      <td>몽마르뜨 언덕의 숲을 지나\\n샹젤리제 거리의 부티크 부티크\\n\\n눈에 보이지 않으면...</td>\n",
       "    </tr>\n",
       "    <tr>\n",
       "      <th>...</th>\n",
       "      <td>...</td>\n",
       "      <td>...</td>\n",
       "      <td>...</td>\n",
       "    </tr>\n",
       "    <tr>\n",
       "      <th>89</th>\n",
       "      <td>다시, 우리</td>\n",
       "      <td>유월 (Youwere)</td>\n",
       "      <td>인스타를 켜보니\\n올라와있는 네 스토리\\nmaybe you look happy\\n잘...</td>\n",
       "    </tr>\n",
       "    <tr>\n",
       "      <th>90</th>\n",
       "      <td>고생했어요</td>\n",
       "      <td>박시환</td>\n",
       "      <td>어떻게 지내 별일 없었냐며\\n오랜만이야 보고 싶었다고\\n정겨운 말투 그립던 목소리\\...</td>\n",
       "    </tr>\n",
       "    <tr>\n",
       "      <th>91</th>\n",
       "      <td>영원히 머물게요</td>\n",
       "      <td>성휘</td>\n",
       "      <td>당신은 잘 견디고 있나요\\n조용히 묻고 싶어요\\n외로이 삼켜버린 서로의 마음 안에\\...</td>\n",
       "    </tr>\n",
       "    <tr>\n",
       "      <th>92</th>\n",
       "      <td>Emotional Rain</td>\n",
       "      <td>박준하</td>\n",
       "      <td>The queen that I serve\\nIn the palace of hope\\...</td>\n",
       "    </tr>\n",
       "    <tr>\n",
       "      <th>93</th>\n",
       "      <td>손글씨</td>\n",
       "      <td>도화</td>\n",
       "      <td>왜 그리\\n널 미워했지\\n편지 위 못난\\n글씨처럼\\n\\n원래 이런 걸까\\n구겨진 종...</td>\n",
       "    </tr>\n",
       "  </tbody>\n",
       "</table>\n",
       "<p>188 rows × 3 columns</p>\n",
       "</div>"
      ],
      "text/plain": [
       "                     title         artist  \\\n",
       "0   kuiz_sketch_220404.m4a            9o1   \n",
       "1           소나기 (feat. 예빛)          SHUYA   \n",
       "2                    무뎌진단건  projectsummit   \n",
       "3                       구름            박서하   \n",
       "4                  몽마르뜨 언덕            장하윤   \n",
       "..                     ...            ...   \n",
       "89                  다시, 우리   유월 (Youwere)   \n",
       "90                   고생했어요            박시환   \n",
       "91                영원히 머물게요             성휘   \n",
       "92          Emotional Rain            박준하   \n",
       "93                     손글씨             도화   \n",
       "\n",
       "                                                lyric  \n",
       "0   After years and years, now I am here\\nI’ve bee...  \n",
       "1   잠깐 내린 비에\\n네가 보고 싶어진 게 우습지\\n우산을 두드리는 빗소리보다\\n더 시...  \n",
       "2   난 말야 있잖아 항상\\n무너지는게 싫었어 아프니까\\n무뎌지고 싶었어 무너지기 싫어서...  \n",
       "3   이 어두운 방안에 드리워진 네 그림자\\n어지럽혀진 내 생각, 그리고 너\\n\\n우두커...  \n",
       "4   몽마르뜨 언덕의 숲을 지나\\n샹젤리제 거리의 부티크 부티크\\n\\n눈에 보이지 않으면...  \n",
       "..                                                ...  \n",
       "89  인스타를 켜보니\\n올라와있는 네 스토리\\nmaybe you look happy\\n잘...  \n",
       "90  어떻게 지내 별일 없었냐며\\n오랜만이야 보고 싶었다고\\n정겨운 말투 그립던 목소리\\...  \n",
       "91  당신은 잘 견디고 있나요\\n조용히 묻고 싶어요\\n외로이 삼켜버린 서로의 마음 안에\\...  \n",
       "92  The queen that I serve\\nIn the palace of hope\\...  \n",
       "93  왜 그리\\n널 미워했지\\n편지 위 못난\\n글씨처럼\\n\\n원래 이런 걸까\\n구겨진 종...  \n",
       "\n",
       "[188 rows x 3 columns]"
      ]
     },
     "execution_count": 8,
     "metadata": {},
     "output_type": "execute_result"
    }
   ],
   "source": [
    "# forkDF"
   ]
  },
  {
   "cell_type": "code",
   "execution_count": 9,
   "metadata": {},
   "outputs": [
    {
     "name": "stdout",
     "output_type": "stream",
     "text": [
      "csv 파일로 저장 완료\n"
     ]
    }
   ],
   "source": [
    "forkDF.to_csv('fork1.csv')\n",
    "print('csv 파일로 저장 완료')"
   ]
  },
  {
   "cell_type": "code",
   "execution_count": 15,
   "metadata": {},
   "outputs": [],
   "source": [
    "forkDF = forkDF.iloc[:100]"
   ]
  },
  {
   "cell_type": "code",
   "execution_count": 16,
   "metadata": {},
   "outputs": [
    {
     "name": "stdout",
     "output_type": "stream",
     "text": [
      "csv 파일로 저장 완료\n"
     ]
    }
   ],
   "source": [
    "# forkDF.to_csv('fork1.csv')\n",
    "# print('csv 파일로 저장 완료')"
   ]
  },
  {
   "cell_type": "code",
   "execution_count": 17,
   "metadata": {},
   "outputs": [
    {
     "data": {
      "text/plain": [
       "(100, 3)"
      ]
     },
     "execution_count": 17,
     "metadata": {},
     "output_type": "execute_result"
    }
   ],
   "source": [
    "forkDF.shape"
   ]
  },
  {
   "cell_type": "code",
   "execution_count": null,
   "metadata": {},
   "outputs": [],
   "source": []
  }
 ],
 "metadata": {
  "kernelspec": {
   "display_name": "NLP_38",
   "language": "python",
   "name": "python3"
  },
  "language_info": {
   "codemirror_mode": {
    "name": "ipython",
    "version": 3
   },
   "file_extension": ".py",
   "mimetype": "text/x-python",
   "name": "python",
   "nbconvert_exporter": "python",
   "pygments_lexer": "ipython3",
   "version": "3.8.19"
  }
 },
 "nbformat": 4,
 "nbformat_minor": 2
}
