{
 "cells": [
  {
   "cell_type": "code",
   "execution_count": 55,
   "metadata": {
    "ExecuteTime": {
     "end_time": "2024-04-03T12:43:03.980084Z",
     "start_time": "2024-04-03T12:43:03.968146Z"
    }
   },
   "outputs": [],
   "source": [
    "from selenium.webdriver.common.keys import Keys\n",
    "import time\n",
    "import requests\n",
    "import pandas as pd\n",
    "from bs4 import BeautifulSoup\n",
    "from selenium import webdriver\n",
    "import re"
   ]
  },
  {
   "cell_type": "code",
   "outputs": [
    {
     "ename": "AttributeError",
     "evalue": "'WebDriver' object has no attribute 'find_elements_by_class_name'",
     "output_type": "error",
     "traceback": [
      "\u001B[1;31m---------------------------------------------------------------------------\u001B[0m",
      "\u001B[1;31mAttributeError\u001B[0m                            Traceback (most recent call last)",
      "Cell \u001B[1;32mIn[56], line 7\u001B[0m\n\u001B[0;32m      4\u001B[0m driver\u001B[38;5;241m.\u001B[39mget(\u001B[38;5;124m\"\u001B[39m\u001B[38;5;124mhttps://www.melon.com/genre/song_list.htm?gnrCode=GN0300\u001B[39m\u001B[38;5;124m\"\u001B[39m)\n\u001B[0;32m      6\u001B[0m \u001B[38;5;66;03m# print(driver.page_source)\u001B[39;00m\n\u001B[1;32m----> 7\u001B[0m title \u001B[38;5;241m=\u001B[39m \u001B[43mdriver\u001B[49m\u001B[38;5;241;43m.\u001B[39;49m\u001B[43mfind_elements_by_class_name\u001B[49m(\u001B[38;5;124m\"\u001B[39m\u001B[38;5;124mbutton_icons scrap\u001B[39m\u001B[38;5;124m\"\u001B[39m)\n\u001B[0;32m      8\u001B[0m \u001B[38;5;66;03m# <button type=\"button\" title=\"담기\" class=\"button_icons scrap\" onclick=\"melon.play.addPlayList('37379032');\"><span class=\"none\">담기</span></button>\u001B[39;00m\n\u001B[0;32m      9\u001B[0m \u001B[38;5;66;03m# print(title)\u001B[39;00m\n\u001B[0;32m     10\u001B[0m time\u001B[38;5;241m.\u001B[39msleep(\u001B[38;5;241m3\u001B[39m)\n",
      "\u001B[1;31mAttributeError\u001B[0m: 'WebDriver' object has no attribute 'find_elements_by_class_name'"
     ]
    }
   ],
   "source": [
    "# 멜론 창 열기\n",
    "driver = webdriver.Chrome()\n",
    "driver.implicitly_wait(5)\n",
    "driver.get(\"https://www.melon.com/genre/song_list.htm?gnrCode=GN0300\")\n",
    "\n",
    "# print(driver.page_source)\n",
    "title = driver.find_elements_by_class_name(\"button_icons scrap\")\n",
    "# <button type=\"button\" title=\"담기\" class=\"button_icons scrap\" onclick=\"melon.play.addPlayList('37379032');\"><span class=\"none\">담기</span></button>\n",
    "# print(title)\n",
    "time.sleep(3)\n",
    "driver.quit()"
   ],
   "metadata": {
    "collapsed": false,
    "ExecuteTime": {
     "end_time": "2024-04-03T12:43:08.623430Z",
     "start_time": "2024-04-03T12:43:03.982597Z"
    }
   },
   "execution_count": 56
  },
  {
   "cell_type": "code",
   "outputs": [],
   "source": [
    "from selenium.webdriver.common.keys import Keys\n",
    "import time\n",
    "import requests\n",
    "import pandas as pd\n",
    "from bs4 import BeautifulSoup\n",
    "from selenium import webdriver\n",
    "import re\n",
    "from selenium.webdriver.common.by import By\n",
    "from selenium.webdriver.support.ui import WebDriverWait\n",
    "from selenium.webdriver.support import expected_conditions as EC\n",
    "\n",
    "# 멜론 창 열기\n",
    "driver = webdriver.Chrome()\n",
    "driver.get(\"https://www.melon.com/genre/song_list.htm?gnrCode=GN0300\")\n",
    "\n",
    "# '담기' 버튼을 포함한 요소를 찾음\n",
    "try:\n",
    "    # '담기' 버튼이 로드될 때까지 최대 10초 대기\n",
    "    element = WebDriverWait(driver, 1).until(\n",
    "        EC.presence_of_element_located((By.CLASS_NAME, \"song_info\"))\n",
    "    )\n",
    "    # 요소를 찾았으면 클릭\n",
    "    element.click()\n",
    "    print(\"가사 창을 클릭했습니다.\")\n",
    "    \n",
    "    result = EC.presence_of_element_located((By.CLASS_NAME, 'lyric')).text\n",
    "    print(result)\n",
    "    time.sleep(10)\n",
    "    \n",
    "except Exception as e:\n",
    "    print(\"실패\", e)\n",
    "\n",
    "driver.quit()"
   ],
   "metadata": {
    "collapsed": false,
    "ExecuteTime": {
     "start_time": "2024-04-03T12:43:08.625526Z"
    }
   },
   "execution_count": null
  },
  {
   "cell_type": "code",
   "outputs": [
    {
     "name": "stdout",
     "output_type": "stream",
     "text": [
      "가사 창을 클릭했습니다.\n",
      "I ain't waiting for your care\n",
      "다 귀찮아 dizzy calls\n",
      "일단 잠시 멀리\n",
      "\n",
      "\n",
      "We want a reset\n",
      "Every pains gonna hoppin’, regret\n",
      "Dizzy fail fuzzy dreams\n",
      "Wrong, mistakes\n",
      "Back all pains and greeds\n",
      "Regret\n",
      "\n",
      "\n",
      "It's gonna rainy day\n",
      "If you stand in a rain, spend your all day\n",
      "Dance in a rain, you can do that\n",
      "Back all pains and greeds\n",
      "Reset\n",
      "\n",
      "\n",
      "New choice, oh\n",
      "Reset\n",
      "\n",
      "\n",
      "Heart, starts, run\n",
      "Reset\n",
      "\n",
      "\n",
      "Plans gotta work\n",
      "This time\n",
      "\n",
      "\n",
      "Reset\n",
      "Pains and greeds\n",
      "Regret\n",
      "\n",
      "\n",
      "Reset\n",
      "Heart, starts, run\n",
      "\n",
      "\n",
      "We want a reset\n",
      "Every pains gonna hoppin’, regret\n",
      "Dizzy fail fuzzy dreams\n",
      "Wrong, mistakes\n",
      "Back all pains and greeds\n",
      "Regret\n",
      "\n",
      "\n",
      "It's gonna rainy day\n",
      "If you stand in a rain, spend your all day\n",
      "Dance in a rain, you can do that\n",
      "Back all pains and greeds\n",
      "Regret\n",
      "\n",
      "\n",
      "Don`t make me start\n",
      "Pains and greeds\n",
      "Regret\n",
      "\n",
      "\n",
      "You\n",
      "dictionary에 추가함\n",
      "{'title': ['Reset'], 'artist': ['선재 (snzae)'], 'lyric': [\"I ain't waiting for your care\\n다 귀찮아 dizzy calls\\n일단 잠시 멀리\\n\\n\\nWe want a reset\\nEvery pains gonna hoppin’, regret\\nDizzy fail fuzzy dreams\\nWrong, mistakes\\nBack all pains and greeds\\nRegret\\n\\n\\nIt's gonna rainy day\\nIf you stand in a rain, spend your all day\\nDance in a rain, you can do that\\nBack all pains and greeds\\nReset\\n\\n\\nNew choice, oh\\nReset\\n\\n\\nHeart, starts, run\\nReset\\n\\n\\nPlans gotta work\\nThis time\\n\\n\\nReset\\nPains and greeds\\nRegret\\n\\n\\nReset\\nHeart, starts, run\\n\\n\\nWe want a reset\\nEvery pains gonna hoppin’, regret\\nDizzy fail fuzzy dreams\\nWrong, mistakes\\nBack all pains and greeds\\nRegret\\n\\n\\nIt's gonna rainy day\\nIf you stand in a rain, spend your all day\\nDance in a rain, you can do that\\nBack all pains and greeds\\nRegret\\n\\n\\nDon`t make me start\\nPains and greeds\\nRegret\\n\\n\\nYou\"]}\n"
     ]
    }
   ],
   "source": [
    "from selenium.webdriver.common.keys import Keys\n",
    "import time\n",
    "import requests\n",
    "import pandas as pd\n",
    "from bs4 import BeautifulSoup\n",
    "from selenium import webdriver\n",
    "import re\n",
    "from selenium.webdriver.common.by import By\n",
    "from selenium.webdriver.support.ui import WebDriverWait\n",
    "from selenium.webdriver.support import expected_conditions as EC\n",
    "\n",
    "\n",
    "title_artist_lyrics = {'title':[], 'artist':[], 'lyric':[]}\n",
    "\n",
    "# 멜론 창 열기\n",
    "driver = webdriver.Chrome()\n",
    "driver.get(\"https://www.melon.com/genre/song_list.htm?gnrCode=GN0300\")\n",
    "\n",
    "try:\n",
    "    # 버튼이 로드될 때까지 최대 10초 대기\n",
    "    element = WebDriverWait(driver, 10).until(\n",
    "        EC.presence_of_element_located((By.CLASS_NAME, \"song_info\"))\n",
    "    )\n",
    "    # 요소를 찾았으면 클릭\n",
    "    element.click()\n",
    "    print(\"가사 창을 클릭했습니다.\")\n",
    "    \n",
    "    # 가사가 로드될 때까지 대기\n",
    "    lyric_element = WebDriverWait(driver, 10).until(\n",
    "        EC.presence_of_element_located((By.CLASS_NAME, 'lyric'))\n",
    "    )\n",
    "    \n",
    "    # text 부분만 뽑아서 print\n",
    "    lyric_text = lyric_element.text\n",
    "    # print(lyric_text)\n",
    "    \n",
    "    # 노래 제목 뽑기\n",
    "    title_element = WebDriverWait(driver, 10).until(\n",
    "        EC.presence_of_element_located((By.CLASS_NAME, 'song_name')))\n",
    "    title_text = title_element.text\n",
    "    # print(f\"노래 제목 : {title_text}\")\n",
    "    \n",
    "    # 아티스트 뽑기\n",
    "    artist_element = WebDriverWait(driver, 10).until(\n",
    "        EC.presence_of_element_located((By.CLASS_NAME, 'artist_name')))\n",
    "    artist_text = artist_element.text\n",
    "    # print(f\"가수 이름 : {artist_text}\")\n",
    "    \n",
    "    title_artist_lyrics['title'].append(title_text)\n",
    "    title_artist_lyrics['artist'].append(artist_text)\n",
    "    title_artist_lyrics['lyric'].append(lyric_text)\n",
    "    print('dictionary에 추가함')\n",
    "    \n",
    "    # 이전 창으로 복구\n",
    "    driver.back()\n",
    "    \n",
    "    time.sleep(5)\n",
    "    \n",
    "except Exception as e:\n",
    "    print(\"실패\", e)\n",
    "time.sleep(1)\n",
    "driver.quit()\n",
    "\n",
    "print(title_artist_lyrics)"
   ],
   "metadata": {
    "collapsed": false,
    "ExecuteTime": {
     "end_time": "2024-04-03T12:45:55.939339Z",
     "start_time": "2024-04-03T12:45:44.249131Z"
    }
   },
   "execution_count": 1
  },
  {
   "cell_type": "code",
   "outputs": [],
   "source": [
    "title_artist_lyrics"
   ],
   "metadata": {
    "collapsed": false,
    "ExecuteTime": {
     "start_time": "2024-04-03T12:43:08.627794Z"
    }
   },
   "execution_count": null
  },
  {
   "cell_type": "code",
   "outputs": [],
   "source": [],
   "metadata": {
    "collapsed": false
   }
  }
 ],
 "metadata": {
  "kernelspec": {
   "display_name": "NLP_38",
   "language": "python",
   "name": "python3"
  },
  "language_info": {
   "codemirror_mode": {
    "name": "ipython",
    "version": 3
   },
   "file_extension": ".py",
   "mimetype": "text/x-python",
   "name": "python",
   "nbconvert_exporter": "python",
   "pygments_lexer": "ipython3",
   "version": "3.8.19"
  }
 },
 "nbformat": 4,
 "nbformat_minor": 2
}
