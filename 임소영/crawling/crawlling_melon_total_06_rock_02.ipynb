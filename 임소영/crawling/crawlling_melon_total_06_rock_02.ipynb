{
 "cells": [
  {
   "cell_type": "markdown",
   "source": [
    "# 장르별로 가사 크롤링하기! "
   ],
   "metadata": {
    "collapsed": false
   }
  },
  {
   "cell_type": "markdown",
   "source": [
    "### 총 3가지 바꾸셔야합니다."
   ],
   "metadata": {
    "collapsed": false
   }
  },
  {
   "cell_type": "code",
   "outputs": [],
   "source": [
    "from selenium.webdriver.common.keys import Keys\n",
    "import time\n",
    "import requests\n",
    "import pandas as pd\n",
    "from bs4 import BeautifulSoup\n",
    "from selenium import webdriver\n",
    "import re\n",
    "from selenium.webdriver.common.by import By\n",
    "from selenium.webdriver.support.ui import WebDriverWait\n",
    "from selenium.webdriver.support import expected_conditions as EC\n",
    "\n",
    "title_artist_lyrics = {'title':[], 'artist':[], 'lyric':[]}\n",
    "song_num_list = []"
   ],
   "metadata": {
    "collapsed": false,
    "ExecuteTime": {
     "end_time": "2024-04-04T03:39:11.433950Z",
     "start_time": "2024-04-04T03:39:10.735732Z"
    }
   },
   "execution_count": 1
  },
  {
   "cell_type": "code",
   "outputs": [],
   "source": [
    "input_url = \"https://www.melon.com/genre/song_list.htm?gnrCode=GN0600#params%5BgnrCode%5D=GN0600&params%5BdtlGnrCode%5D=&params%5BorderBy%5D=NEW&params%5BsteadyYn%5D=N&po=pageObj&startIndex=101\"\n",
    "\n",
    "# 멜론 창 열기\n",
    "driver = webdriver.Chrome()\n",
    "driver.get(input_url)\n",
    "\n",
    "bs = BeautifulSoup(driver.page_source, 'html.parser')\n",
    "result = bs.find_all('tr')\n",
    "count = 1\n",
    "\n",
    "for res in result:\n",
    "    #print(res)\n",
    "    # print(f\"===== {count} =====\")\n",
    "    # print(res.find('button'))\n",
    "    if res.find('button'):\n",
    "        try: \n",
    "            # print(f\"===== {count} =====\")\n",
    "            song_number = str(res.find('button')).split('-no=\"')[1][:8]\n",
    "            song_num_list.append(song_number)\n",
    "        except: pass\n",
    "    count +=1\n",
    "\n",
    "time.sleep(1)\n",
    "driver.quit()"
   ],
   "metadata": {
    "collapsed": false,
    "ExecuteTime": {
     "end_time": "2024-04-04T03:39:17.578359Z",
     "start_time": "2024-04-04T03:39:11.436027Z"
    }
   },
   "execution_count": 2
  },
  {
   "cell_type": "code",
   "outputs": [],
   "source": [
    "input_url = \"https://www.melon.com/genre/song_list.htm?gnrCode=GN0600#params%5BgnrCode%5D=GN0600&params%5BdtlGnrCode%5D=&params%5BorderBy%5D=NEW&params%5BsteadyYn%5D=N&po=pageObj&startIndex=151\"\n",
    "# 멜론 창 열기\n",
    "driver = webdriver.Chrome()\n",
    "driver.get(input_url)\n",
    "bs = BeautifulSoup(driver.page_source, 'html.parser')\n",
    "result = bs.find_all('tr')\n",
    "count = 1\n",
    "for res in result:\n",
    "    #print(res)\n",
    "    # print(f\"===== {count} =====\")\n",
    "    # print(res.find('button'))\n",
    "    if res.find('button'):\n",
    "        try: \n",
    "            # print(f\"===== {count} =====\")\n",
    "            song_number = str(res.find('button')).split('-no=\"')[1][:8]\n",
    "            song_num_list.append(song_number)\n",
    "        except: pass\n",
    "    count +=1\n",
    "\n",
    "time.sleep(1)\n",
    "driver.quit()"
   ],
   "metadata": {
    "collapsed": false,
    "ExecuteTime": {
     "end_time": "2024-04-04T03:39:27.697977Z",
     "start_time": "2024-04-04T03:39:17.580352Z"
    }
   },
   "execution_count": 3
  },
  {
   "cell_type": "code",
   "outputs": [
    {
     "name": "stdout",
     "output_type": "stream",
     "text": [
      "98\n"
     ]
    }
   ],
   "source": [
    "print(len(song_num_list))"
   ],
   "metadata": {
    "collapsed": false,
    "ExecuteTime": {
     "end_time": "2024-04-04T03:39:27.714065Z",
     "start_time": "2024-04-04T03:39:27.701159Z"
    }
   },
   "execution_count": 4
  },
  {
   "cell_type": "code",
   "outputs": [
    {
     "name": "stdout",
     "output_type": "stream",
     "text": [
      "dictionary에 추가함\n",
      "dictionary에 추가함\n",
      "dictionary에 추가함\n",
      "dictionary에 추가함\n",
      "dictionary에 추가함\n",
      "dictionary에 추가함\n",
      "dictionary에 추가함\n",
      "dictionary에 추가함\n",
      "dictionary에 추가함\n",
      "dictionary에 추가함\n",
      "실패 Message: \n",
      "Stacktrace:\n",
      "\tGetHandleVerifier [0x00007FF68EE870C2+63090]\n",
      "\t(No symbol) [0x00007FF68EDF2D12]\n",
      "\t(No symbol) [0x00007FF68EC8EC65]\n",
      "\t(No symbol) [0x00007FF68ECD499D]\n",
      "\t(No symbol) [0x00007FF68ECD4ADC]\n",
      "\t(No symbol) [0x00007FF68ED15B37]\n",
      "\t(No symbol) [0x00007FF68ECF701F]\n",
      "\t(No symbol) [0x00007FF68ED13412]\n",
      "\t(No symbol) [0x00007FF68ECF6D83]\n",
      "\t(No symbol) [0x00007FF68ECC83A8]\n",
      "\t(No symbol) [0x00007FF68ECC9441]\n",
      "\tGetHandleVerifier [0x00007FF68F28262D+4238301]\n",
      "\tGetHandleVerifier [0x00007FF68F2BF78D+4488509]\n",
      "\tGetHandleVerifier [0x00007FF68F2B7A6F+4456479]\n",
      "\tGetHandleVerifier [0x00007FF68EF60606+953270]\n",
      "\t(No symbol) [0x00007FF68EDFE5DF]\n",
      "\t(No symbol) [0x00007FF68EDF92B4]\n",
      "\t(No symbol) [0x00007FF68EDF93EB]\n",
      "\t(No symbol) [0x00007FF68EDE9C24]\n",
      "\tBaseThreadInitThunk [0x00007FFC07C3257D+29]\n",
      "\tRtlUserThreadStart [0x00007FFC092AAA58+40]\n",
      "dictionary에 추가함\n",
      "dictionary에 추가함\n",
      "dictionary에 추가함\n",
      "dictionary에 추가함\n",
      "dictionary에 추가함\n",
      "dictionary에 추가함\n",
      "dictionary에 추가함\n",
      "dictionary에 추가함\n",
      "dictionary에 추가함\n",
      "dictionary에 추가함\n",
      "dictionary에 추가함\n",
      "dictionary에 추가함\n",
      "dictionary에 추가함\n",
      "dictionary에 추가함\n",
      "dictionary에 추가함\n",
      "dictionary에 추가함\n",
      "dictionary에 추가함\n",
      "dictionary에 추가함\n",
      "dictionary에 추가함\n",
      "dictionary에 추가함\n",
      "dictionary에 추가함\n",
      "dictionary에 추가함\n",
      "dictionary에 추가함\n",
      "dictionary에 추가함\n",
      "dictionary에 추가함\n",
      "dictionary에 추가함\n",
      "dictionary에 추가함\n",
      "실패 Message: \n",
      "Stacktrace:\n",
      "\tGetHandleVerifier [0x00007FF68EE870C2+63090]\n",
      "\t(No symbol) [0x00007FF68EDF2D12]\n",
      "\t(No symbol) [0x00007FF68EC8EC65]\n",
      "\t(No symbol) [0x00007FF68ECD499D]\n",
      "\t(No symbol) [0x00007FF68ECD4ADC]\n",
      "\t(No symbol) [0x00007FF68ED15B37]\n",
      "\t(No symbol) [0x00007FF68ECF701F]\n",
      "\t(No symbol) [0x00007FF68ED13412]\n",
      "\t(No symbol) [0x00007FF68ECF6D83]\n",
      "\t(No symbol) [0x00007FF68ECC83A8]\n",
      "\t(No symbol) [0x00007FF68ECC9441]\n",
      "\tGetHandleVerifier [0x00007FF68F28262D+4238301]\n",
      "\tGetHandleVerifier [0x00007FF68F2BF78D+4488509]\n",
      "\tGetHandleVerifier [0x00007FF68F2B7A6F+4456479]\n",
      "\tGetHandleVerifier [0x00007FF68EF60606+953270]\n",
      "\t(No symbol) [0x00007FF68EDFE5DF]\n",
      "\t(No symbol) [0x00007FF68EDF92B4]\n",
      "\t(No symbol) [0x00007FF68EDF93EB]\n",
      "\t(No symbol) [0x00007FF68EDE9C24]\n",
      "\tBaseThreadInitThunk [0x00007FFC07C3257D+29]\n",
      "\tRtlUserThreadStart [0x00007FFC092AAA58+40]\n",
      "dictionary에 추가함\n",
      "dictionary에 추가함\n",
      "dictionary에 추가함\n",
      "dictionary에 추가함\n",
      "dictionary에 추가함\n",
      "dictionary에 추가함\n",
      "실패 Message: \n",
      "Stacktrace:\n",
      "\tGetHandleVerifier [0x00007FF68EE870C2+63090]\n",
      "\t(No symbol) [0x00007FF68EDF2D12]\n",
      "\t(No symbol) [0x00007FF68EC8EC65]\n",
      "\t(No symbol) [0x00007FF68ECD499D]\n",
      "\t(No symbol) [0x00007FF68ECD4ADC]\n",
      "\t(No symbol) [0x00007FF68ED15B37]\n",
      "\t(No symbol) [0x00007FF68ECF701F]\n",
      "\t(No symbol) [0x00007FF68ED13412]\n",
      "\t(No symbol) [0x00007FF68ECF6D83]\n",
      "\t(No symbol) [0x00007FF68ECC83A8]\n",
      "\t(No symbol) [0x00007FF68ECC9441]\n",
      "\tGetHandleVerifier [0x00007FF68F28262D+4238301]\n",
      "\tGetHandleVerifier [0x00007FF68F2BF78D+4488509]\n",
      "\tGetHandleVerifier [0x00007FF68F2B7A6F+4456479]\n",
      "\tGetHandleVerifier [0x00007FF68EF60606+953270]\n",
      "\t(No symbol) [0x00007FF68EDFE5DF]\n",
      "\t(No symbol) [0x00007FF68EDF92B4]\n",
      "\t(No symbol) [0x00007FF68EDF93EB]\n",
      "\t(No symbol) [0x00007FF68EDE9C24]\n",
      "\tBaseThreadInitThunk [0x00007FFC07C3257D+29]\n",
      "\tRtlUserThreadStart [0x00007FFC092AAA58+40]\n",
      "dictionary에 추가함\n",
      "dictionary에 추가함\n",
      "dictionary에 추가함\n",
      "dictionary에 추가함\n",
      "dictionary에 추가함\n",
      "dictionary에 추가함\n",
      "dictionary에 추가함\n",
      "dictionary에 추가함\n",
      "dictionary에 추가함\n",
      "dictionary에 추가함\n",
      "dictionary에 추가함\n",
      "dictionary에 추가함\n",
      "dictionary에 추가함\n",
      "dictionary에 추가함\n",
      "dictionary에 추가함\n",
      "dictionary에 추가함\n",
      "dictionary에 추가함\n",
      "dictionary에 추가함\n",
      "실패 Message: \n",
      "Stacktrace:\n",
      "\tGetHandleVerifier [0x00007FF68EE870C2+63090]\n",
      "\t(No symbol) [0x00007FF68EDF2D12]\n",
      "\t(No symbol) [0x00007FF68EC8EC65]\n",
      "\t(No symbol) [0x00007FF68ECD499D]\n",
      "\t(No symbol) [0x00007FF68ECD4ADC]\n",
      "\t(No symbol) [0x00007FF68ED15B37]\n",
      "\t(No symbol) [0x00007FF68ECF701F]\n",
      "\t(No symbol) [0x00007FF68ED13412]\n",
      "\t(No symbol) [0x00007FF68ECF6D83]\n",
      "\t(No symbol) [0x00007FF68ECC83A8]\n",
      "\t(No symbol) [0x00007FF68ECC9441]\n",
      "\tGetHandleVerifier [0x00007FF68F28262D+4238301]\n",
      "\tGetHandleVerifier [0x00007FF68F2BF78D+4488509]\n",
      "\tGetHandleVerifier [0x00007FF68F2B7A6F+4456479]\n",
      "\tGetHandleVerifier [0x00007FF68EF60606+953270]\n",
      "\t(No symbol) [0x00007FF68EDFE5DF]\n",
      "\t(No symbol) [0x00007FF68EDF92B4]\n",
      "\t(No symbol) [0x00007FF68EDF93EB]\n",
      "\t(No symbol) [0x00007FF68EDE9C24]\n",
      "\tBaseThreadInitThunk [0x00007FFC07C3257D+29]\n",
      "\tRtlUserThreadStart [0x00007FFC092AAA58+40]\n",
      "dictionary에 추가함\n",
      "dictionary에 추가함\n",
      "dictionary에 추가함\n",
      "dictionary에 추가함\n",
      "dictionary에 추가함\n",
      "dictionary에 추가함\n",
      "dictionary에 추가함\n",
      "dictionary에 추가함\n",
      "dictionary에 추가함\n",
      "dictionary에 추가함\n",
      "dictionary에 추가함\n",
      "dictionary에 추가함\n",
      "dictionary에 추가함\n",
      "dictionary에 추가함\n",
      "dictionary에 추가함\n",
      "dictionary에 추가함\n",
      "dictionary에 추가함\n",
      "dictionary에 추가함\n",
      "dictionary에 추가함\n",
      "dictionary에 추가함\n",
      "dictionary에 추가함\n",
      "dictionary에 추가함\n",
      "dictionary에 추가함\n",
      "dictionary에 추가함\n",
      "dictionary에 추가함\n",
      "dictionary에 추가함\n",
      "dictionary에 추가함\n",
      "dictionary에 추가함\n",
      "dictionary에 추가함\n",
      "dictionary에 추가함\n",
      "dictionary에 추가함\n",
      "dictionary에 추가함\n",
      "dictionary에 추가함\n"
     ]
    }
   ],
   "source": [
    "title_artist_lyrics = {'title':[], 'artist':[], 'lyric':[]}\n",
    "\n",
    "url_front = 'https://www.melon.com/song/detail.htm?songId='\n",
    "for num in song_num_list:\n",
    "    url = url_front + num\n",
    "    driver = webdriver.Chrome()\n",
    "    driver.get(url)\n",
    "    try:\n",
    "        # 가사가 로드될 때까지 대기\n",
    "        lyric_element = WebDriverWait(driver, 1).until(\n",
    "            EC.presence_of_element_located((By.CLASS_NAME, 'lyric'))\n",
    "        )\n",
    "        \n",
    "        # text 부분만 뽑아서 print\n",
    "        lyric_text = lyric_element.text\n",
    "        # print(lyric_text)\n",
    "        \n",
    "        # 노래 제목 뽑기\n",
    "        title_element = WebDriverWait(driver, 1).until(\n",
    "            EC.presence_of_element_located((By.CLASS_NAME, 'song_name')))\n",
    "        title_text = title_element.text\n",
    "        # print(f\"노래 제목 : {title_text}\")\n",
    "        \n",
    "        # 아티스트 뽑기\n",
    "        artist_element = WebDriverWait(driver, 1).until(\n",
    "            EC.presence_of_element_located((By.CLASS_NAME, 'artist_name')))\n",
    "        artist_text = artist_element.text\n",
    "        # print(f\"가수 이름 : {artist_text}\")\n",
    "        \n",
    "        title_artist_lyrics['title'].append(title_text)\n",
    "        title_artist_lyrics['artist'].append(artist_text)\n",
    "        title_artist_lyrics['lyric'].append(lyric_text)\n",
    "        print('dictionary에 추가함')\n",
    "    except Exception as e: print(\"실패\", e)\n",
    "\n",
    "    driver.quit()\n",
    "    \n",
    "# print(title_artist_lyrics)"
   ],
   "metadata": {
    "collapsed": false,
    "ExecuteTime": {
     "end_time": "2024-04-04T03:54:18.333254Z",
     "start_time": "2024-04-04T03:39:27.720351Z"
    }
   },
   "execution_count": 5
  },
  {
   "cell_type": "code",
   "outputs": [
    {
     "data": {
      "text/plain": "94"
     },
     "execution_count": 6,
     "metadata": {},
     "output_type": "execute_result"
    }
   ],
   "source": [
    "len(title_artist_lyrics['lyric'])"
   ],
   "metadata": {
    "collapsed": false,
    "ExecuteTime": {
     "end_time": "2024-04-04T03:54:18.363609Z",
     "start_time": "2024-04-04T03:54:18.337016Z"
    }
   },
   "execution_count": 6
  },
  {
   "cell_type": "code",
   "outputs": [
    {
     "data": {
      "text/plain": "                                title           artist  \\\n0                                그 마음               자왕   \n1                  My Magical Romance         소피의 마법일기   \n2                            푸른봄 (靑春)             SEJI   \n3                       Heart disease  모르피네 (Morphiné)   \n4  NEED TO BREATHE (Feat. Movin, 추서준)           ryuxjo   \n\n                                               lyric  \n0  두근대는 그 마음은 숨기고\\n걸음 걸음 큰 용기를 더해서\\n둥그렇고 꽤 커다란 세상...  \n1  Draw a circle and a star\\nLight a candle in a ...  \n2  하얀 영혼 쉼없는 움직임\\n짙게 퍼져가는 그들의 땀향기\\n소리없는 외침에 답할리 없...  \n3  아 사라진 네 흔적, 지워져\\n아 되뇌이네 남은것도 하나 없는데\\n잘게 찢어진 심장...  \n4  It’s the reason I'm depressed\\nlooking for you...  ",
      "text/html": "<div>\n<style scoped>\n    .dataframe tbody tr th:only-of-type {\n        vertical-align: middle;\n    }\n\n    .dataframe tbody tr th {\n        vertical-align: top;\n    }\n\n    .dataframe thead th {\n        text-align: right;\n    }\n</style>\n<table border=\"1\" class=\"dataframe\">\n  <thead>\n    <tr style=\"text-align: right;\">\n      <th></th>\n      <th>title</th>\n      <th>artist</th>\n      <th>lyric</th>\n    </tr>\n  </thead>\n  <tbody>\n    <tr>\n      <th>0</th>\n      <td>그 마음</td>\n      <td>자왕</td>\n      <td>두근대는 그 마음은 숨기고\\n걸음 걸음 큰 용기를 더해서\\n둥그렇고 꽤 커다란 세상...</td>\n    </tr>\n    <tr>\n      <th>1</th>\n      <td>My Magical Romance</td>\n      <td>소피의 마법일기</td>\n      <td>Draw a circle and a star\\nLight a candle in a ...</td>\n    </tr>\n    <tr>\n      <th>2</th>\n      <td>푸른봄 (靑春)</td>\n      <td>SEJI</td>\n      <td>하얀 영혼 쉼없는 움직임\\n짙게 퍼져가는 그들의 땀향기\\n소리없는 외침에 답할리 없...</td>\n    </tr>\n    <tr>\n      <th>3</th>\n      <td>Heart disease</td>\n      <td>모르피네 (Morphiné)</td>\n      <td>아 사라진 네 흔적, 지워져\\n아 되뇌이네 남은것도 하나 없는데\\n잘게 찢어진 심장...</td>\n    </tr>\n    <tr>\n      <th>4</th>\n      <td>NEED TO BREATHE (Feat. Movin, 추서준)</td>\n      <td>ryuxjo</td>\n      <td>It’s the reason I'm depressed\\nlooking for you...</td>\n    </tr>\n  </tbody>\n</table>\n</div>"
     },
     "execution_count": 7,
     "metadata": {},
     "output_type": "execute_result"
    }
   ],
   "source": [
    "df_song = pd.DataFrame(title_artist_lyrics)\n",
    "df_song.head()"
   ],
   "metadata": {
    "collapsed": false,
    "ExecuteTime": {
     "end_time": "2024-04-04T03:54:18.394842Z",
     "start_time": "2024-04-04T03:54:18.365748Z"
    }
   },
   "execution_count": 7
  },
  {
   "cell_type": "markdown",
   "source": [
    "# 파일 저장명 변경"
   ],
   "metadata": {
    "collapsed": false
   }
  },
  {
   "cell_type": "code",
   "outputs": [
    {
     "name": "stdout",
     "output_type": "stream",
     "text": [
      "csv 파일로 저장 완료\n"
     ]
    }
   ],
   "source": [
    "save_name = 'rock_101~200.csv'\n",
    "df_song.to_csv(save_name)\n",
    "print('csv 파일로 저장 완료')"
   ],
   "metadata": {
    "collapsed": false,
    "ExecuteTime": {
     "end_time": "2024-04-04T03:54:18.425641Z",
     "start_time": "2024-04-04T03:54:18.398368Z"
    }
   },
   "execution_count": 8
  },
  {
   "cell_type": "code",
   "outputs": [],
   "source": [
    "file_02 = pd.read_csv('../data/rock_101~200.csv')\n",
    "file_01 = pd.read_csv('../data/06_rock.csv')"
   ],
   "metadata": {
    "collapsed": false,
    "ExecuteTime": {
     "end_time": "2024-04-04T03:56:55.411604Z",
     "start_time": "2024-04-04T03:56:55.385594Z"
    }
   },
   "execution_count": 12
  },
  {
   "cell_type": "code",
   "outputs": [],
   "source": [],
   "metadata": {
    "collapsed": false,
    "ExecuteTime": {
     "end_time": "2024-04-04T03:56:56.065341Z",
     "start_time": "2024-04-04T03:56:56.055308Z"
    }
   },
   "execution_count": 12
  },
  {
   "cell_type": "code",
   "outputs": [
    {
     "data": {
      "text/plain": "(140, 4)"
     },
     "execution_count": 13,
     "metadata": {},
     "output_type": "execute_result"
    }
   ],
   "source": [
    "result = pd.concat([file_01, file_02])\n",
    "result.shape"
   ],
   "metadata": {
    "collapsed": false,
    "ExecuteTime": {
     "end_time": "2024-04-04T03:56:56.663186Z",
     "start_time": "2024-04-04T03:56:56.640462Z"
    }
   },
   "execution_count": 13
  },
  {
   "cell_type": "code",
   "outputs": [],
   "source": [
    "result.to_csv('rock_~200.csv')"
   ],
   "metadata": {
    "collapsed": false,
    "ExecuteTime": {
     "end_time": "2024-04-04T03:57:17.917501Z",
     "start_time": "2024-04-04T03:57:17.897465Z"
    }
   },
   "execution_count": 14
  },
  {
   "cell_type": "code",
   "outputs": [],
   "source": [],
   "metadata": {
    "collapsed": false
   }
  }
 ],
 "metadata": {
  "kernelspec": {
   "display_name": "NLP_38",
   "language": "python",
   "name": "python3"
  },
  "language_info": {
   "codemirror_mode": {
    "name": "ipython",
    "version": 3
   },
   "file_extension": ".py",
   "mimetype": "text/x-python",
   "name": "python",
   "nbconvert_exporter": "python",
   "pygments_lexer": "ipython3",
   "version": "3.8.19"
  }
 },
 "nbformat": 4,
 "nbformat_minor": 2
}
