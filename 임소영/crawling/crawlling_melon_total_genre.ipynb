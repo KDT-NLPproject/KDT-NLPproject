{
 "cells": [
  {
   "cell_type": "markdown",
   "source": [
    "# 장르별로 가사 크롤링하기! "
   ],
   "metadata": {
    "collapsed": false
   }
  },
  {
   "cell_type": "markdown",
   "source": [
    "### 총 3가지 바꾸셔야합니다."
   ],
   "metadata": {
    "collapsed": false
   }
  },
  {
   "cell_type": "code",
   "outputs": [],
   "source": [
    "from selenium.webdriver.common.keys import Keys\n",
    "import time\n",
    "import requests\n",
    "import pandas as pd\n",
    "from bs4 import BeautifulSoup\n",
    "from selenium import webdriver\n",
    "import re\n",
    "from selenium.webdriver.common.by import By\n",
    "from selenium.webdriver.support.ui import WebDriverWait\n",
    "from selenium.webdriver.support import expected_conditions as EC\n",
    "\n",
    "title_artist_lyrics = {'title':[], 'artist':[], 'lyric':[]}\n",
    "song_num_list = []"
   ],
   "metadata": {
    "collapsed": false,
    "ExecuteTime": {
     "end_time": "2024-04-04T00:33:12.274045Z",
     "start_time": "2024-04-04T00:33:11.448540Z"
    }
   },
   "execution_count": 1
  },
  {
   "cell_type": "markdown",
   "source": [
    "# input_url 변경 (1페이지)"
   ],
   "metadata": {
    "collapsed": false
   }
  },
  {
   "cell_type": "code",
   "outputs": [],
   "source": [
    "input_url = \"\"\n",
    "\n",
    "# 멜론 창 열기\n",
    "driver = webdriver.Chrome()\n",
    "driver.get(input_url)\n",
    "\n",
    "bs = BeautifulSoup(driver.page_source, 'html.parser')\n",
    "result = bs.find_all('tr')\n",
    "count = 1\n",
    "\n",
    "for res in result:\n",
    "    #print(res)\n",
    "    # print(f\"===== {count} =====\")\n",
    "    # print(res.find('button'))\n",
    "    if res.find('button'):\n",
    "        try: \n",
    "            # print(f\"===== {count} =====\")\n",
    "            song_number = str(res.find('button')).split('-no=\"')[1][:8]\n",
    "            song_num_list.append(song_number)\n",
    "        except: pass\n",
    "    count +=1\n",
    "\n",
    "time.sleep(1)\n",
    "driver.quit()"
   ],
   "metadata": {
    "collapsed": false,
    "ExecuteTime": {
     "end_time": "2024-04-04T00:33:18.589418Z",
     "start_time": "2024-04-04T00:33:12.276238Z"
    }
   },
   "execution_count": 2
  },
  {
   "cell_type": "markdown",
   "source": [
    "# input_url 변경 (2페이지)"
   ],
   "metadata": {
    "collapsed": false
   }
  },
  {
   "cell_type": "code",
   "outputs": [
    {
     "name": "stderr",
     "output_type": "stream",
     "text": [
      "Exception ignored in: <function Service.__del__ at 0x000001FD9BEBF310>\n",
      "Traceback (most recent call last):\n",
      "  File \"C:\\Users\\kdp\\AppData\\Roaming\\Python\\Python38\\site-packages\\selenium\\webdriver\\common\\service.py\", line 189, in __del__\n",
      "    self.stop()\n",
      "  File \"C:\\Users\\kdp\\AppData\\Roaming\\Python\\Python38\\site-packages\\selenium\\webdriver\\common\\service.py\", line 146, in stop\n",
      "    self.send_remote_shutdown_command()\n",
      "  File \"C:\\Users\\kdp\\AppData\\Roaming\\Python\\Python38\\site-packages\\selenium\\webdriver\\common\\service.py\", line 126, in send_remote_shutdown_command\n",
      "    request.urlopen(f\"{self.service_url}/shutdown\")\n",
      "  File \"C:\\ProgramData\\anaconda3\\envs\\My_38\\lib\\urllib\\request.py\", line 222, in urlopen\n",
      "    return opener.open(url, data, timeout)\n",
      "  File \"C:\\ProgramData\\anaconda3\\envs\\My_38\\lib\\urllib\\request.py\", line 525, in open\n",
      "    response = self._open(req, data)\n",
      "  File \"C:\\ProgramData\\anaconda3\\envs\\My_38\\lib\\urllib\\request.py\", line 542, in _open\n",
      "    result = self._call_chain(self.handle_open, protocol, protocol +\n",
      "  File \"C:\\ProgramData\\anaconda3\\envs\\My_38\\lib\\urllib\\request.py\", line 502, in _call_chain\n",
      "    result = func(*args)\n",
      "  File \"C:\\ProgramData\\anaconda3\\envs\\My_38\\lib\\urllib\\request.py\", line 1383, in http_open\n",
      "    return self.do_open(http.client.HTTPConnection, req)\n",
      "  File \"C:\\ProgramData\\anaconda3\\envs\\My_38\\lib\\urllib\\request.py\", line 1354, in do_open\n",
      "    h.request(req.get_method(), req.selector, req.data, headers,\n",
      "  File \"C:\\ProgramData\\anaconda3\\envs\\My_38\\lib\\http\\client.py\", line 1256, in request\n",
      "    self._send_request(method, url, body, headers, encode_chunked)\n",
      "  File \"C:\\ProgramData\\anaconda3\\envs\\My_38\\lib\\http\\client.py\", line 1302, in _send_request\n",
      "    self.endheaders(body, encode_chunked=encode_chunked)\n",
      "  File \"C:\\ProgramData\\anaconda3\\envs\\My_38\\lib\\http\\client.py\", line 1251, in endheaders\n",
      "    self._send_output(message_body, encode_chunked=encode_chunked)\n",
      "  File \"C:\\ProgramData\\anaconda3\\envs\\My_38\\lib\\http\\client.py\", line 1011, in _send_output\n",
      "    self.send(msg)\n",
      "  File \"C:\\ProgramData\\anaconda3\\envs\\My_38\\lib\\http\\client.py\", line 951, in send\n",
      "    self.connect()\n",
      "  File \"C:\\ProgramData\\anaconda3\\envs\\My_38\\lib\\http\\client.py\", line 922, in connect\n",
      "    self.sock = self._create_connection(\n",
      "  File \"C:\\ProgramData\\anaconda3\\envs\\My_38\\lib\\socket.py\", line 796, in create_connection\n",
      "    sock.connect(sa)\n",
      "KeyboardInterrupt: \n"
     ]
    },
    {
     "ename": "NoSuchWindowException",
     "evalue": "Message: no such window: target window already closed\nfrom unknown error: web view not found\n  (Session info: chrome=123.0.6312.105)\nStacktrace:\n\tGetHandleVerifier [0x00007FF68EE870C2+63090]\n\t(No symbol) [0x00007FF68EDF2D12]\n\t(No symbol) [0x00007FF68EC8EC65]\n\t(No symbol) [0x00007FF68EC6CA7C]\n\t(No symbol) [0x00007FF68ECFD687]\n\t(No symbol) [0x00007FF68ED12AC1]\n\t(No symbol) [0x00007FF68ECF6D83]\n\t(No symbol) [0x00007FF68ECC83A8]\n\t(No symbol) [0x00007FF68ECC9441]\n\tGetHandleVerifier [0x00007FF68F28262D+4238301]\n\tGetHandleVerifier [0x00007FF68F2BF78D+4488509]\n\tGetHandleVerifier [0x00007FF68F2B7A6F+4456479]\n\tGetHandleVerifier [0x00007FF68EF60606+953270]\n\t(No symbol) [0x00007FF68EDFE5DF]\n\t(No symbol) [0x00007FF68EDF92B4]\n\t(No symbol) [0x00007FF68EDF93EB]\n\t(No symbol) [0x00007FF68EDE9C24]\n\tBaseThreadInitThunk [0x00007FFC07C3257D+29]\n\tRtlUserThreadStart [0x00007FFC092AAA58+40]\n",
     "output_type": "error",
     "traceback": [
      "\u001B[1;31m---------------------------------------------------------------------------\u001B[0m",
      "\u001B[1;31mNoSuchWindowException\u001B[0m                     Traceback (most recent call last)",
      "Cell \u001B[1;32mIn[3], line 4\u001B[0m\n\u001B[0;32m      2\u001B[0m \u001B[38;5;66;03m# 멜론 창 열기\u001B[39;00m\n\u001B[0;32m      3\u001B[0m driver \u001B[38;5;241m=\u001B[39m webdriver\u001B[38;5;241m.\u001B[39mChrome()\n\u001B[1;32m----> 4\u001B[0m \u001B[43mdriver\u001B[49m\u001B[38;5;241;43m.\u001B[39;49m\u001B[43mget\u001B[49m\u001B[43m(\u001B[49m\u001B[43minput_url\u001B[49m\u001B[43m)\u001B[49m\n\u001B[0;32m      5\u001B[0m bs \u001B[38;5;241m=\u001B[39m BeautifulSoup(driver\u001B[38;5;241m.\u001B[39mpage_source, \u001B[38;5;124m'\u001B[39m\u001B[38;5;124mhtml.parser\u001B[39m\u001B[38;5;124m'\u001B[39m)\n\u001B[0;32m      6\u001B[0m result \u001B[38;5;241m=\u001B[39m bs\u001B[38;5;241m.\u001B[39mfind_all(\u001B[38;5;124m'\u001B[39m\u001B[38;5;124mtr\u001B[39m\u001B[38;5;124m'\u001B[39m)\n",
      "File \u001B[1;32m~\\AppData\\Roaming\\Python\\Python38\\site-packages\\selenium\\webdriver\\remote\\webdriver.py:356\u001B[0m, in \u001B[0;36mWebDriver.get\u001B[1;34m(self, url)\u001B[0m\n\u001B[0;32m    354\u001B[0m \u001B[38;5;28;01mdef\u001B[39;00m \u001B[38;5;21mget\u001B[39m(\u001B[38;5;28mself\u001B[39m, url: \u001B[38;5;28mstr\u001B[39m) \u001B[38;5;241m-\u001B[39m\u001B[38;5;241m>\u001B[39m \u001B[38;5;28;01mNone\u001B[39;00m:\n\u001B[0;32m    355\u001B[0m \u001B[38;5;250m    \u001B[39m\u001B[38;5;124;03m\"\"\"Loads a web page in the current browser session.\"\"\"\u001B[39;00m\n\u001B[1;32m--> 356\u001B[0m     \u001B[38;5;28;43mself\u001B[39;49m\u001B[38;5;241;43m.\u001B[39;49m\u001B[43mexecute\u001B[49m\u001B[43m(\u001B[49m\u001B[43mCommand\u001B[49m\u001B[38;5;241;43m.\u001B[39;49m\u001B[43mGET\u001B[49m\u001B[43m,\u001B[49m\u001B[43m \u001B[49m\u001B[43m{\u001B[49m\u001B[38;5;124;43m\"\u001B[39;49m\u001B[38;5;124;43murl\u001B[39;49m\u001B[38;5;124;43m\"\u001B[39;49m\u001B[43m:\u001B[49m\u001B[43m \u001B[49m\u001B[43murl\u001B[49m\u001B[43m}\u001B[49m\u001B[43m)\u001B[49m\n",
      "File \u001B[1;32m~\\AppData\\Roaming\\Python\\Python38\\site-packages\\selenium\\webdriver\\remote\\webdriver.py:347\u001B[0m, in \u001B[0;36mWebDriver.execute\u001B[1;34m(self, driver_command, params)\u001B[0m\n\u001B[0;32m    345\u001B[0m response \u001B[38;5;241m=\u001B[39m \u001B[38;5;28mself\u001B[39m\u001B[38;5;241m.\u001B[39mcommand_executor\u001B[38;5;241m.\u001B[39mexecute(driver_command, params)\n\u001B[0;32m    346\u001B[0m \u001B[38;5;28;01mif\u001B[39;00m response:\n\u001B[1;32m--> 347\u001B[0m     \u001B[38;5;28;43mself\u001B[39;49m\u001B[38;5;241;43m.\u001B[39;49m\u001B[43merror_handler\u001B[49m\u001B[38;5;241;43m.\u001B[39;49m\u001B[43mcheck_response\u001B[49m\u001B[43m(\u001B[49m\u001B[43mresponse\u001B[49m\u001B[43m)\u001B[49m\n\u001B[0;32m    348\u001B[0m     response[\u001B[38;5;124m\"\u001B[39m\u001B[38;5;124mvalue\u001B[39m\u001B[38;5;124m\"\u001B[39m] \u001B[38;5;241m=\u001B[39m \u001B[38;5;28mself\u001B[39m\u001B[38;5;241m.\u001B[39m_unwrap_value(response\u001B[38;5;241m.\u001B[39mget(\u001B[38;5;124m\"\u001B[39m\u001B[38;5;124mvalue\u001B[39m\u001B[38;5;124m\"\u001B[39m, \u001B[38;5;28;01mNone\u001B[39;00m))\n\u001B[0;32m    349\u001B[0m     \u001B[38;5;28;01mreturn\u001B[39;00m response\n",
      "File \u001B[1;32m~\\AppData\\Roaming\\Python\\Python38\\site-packages\\selenium\\webdriver\\remote\\errorhandler.py:229\u001B[0m, in \u001B[0;36mErrorHandler.check_response\u001B[1;34m(self, response)\u001B[0m\n\u001B[0;32m    227\u001B[0m         alert_text \u001B[38;5;241m=\u001B[39m value[\u001B[38;5;124m\"\u001B[39m\u001B[38;5;124malert\u001B[39m\u001B[38;5;124m\"\u001B[39m]\u001B[38;5;241m.\u001B[39mget(\u001B[38;5;124m\"\u001B[39m\u001B[38;5;124mtext\u001B[39m\u001B[38;5;124m\"\u001B[39m)\n\u001B[0;32m    228\u001B[0m     \u001B[38;5;28;01mraise\u001B[39;00m exception_class(message, screen, stacktrace, alert_text)  \u001B[38;5;66;03m# type: ignore[call-arg]  # mypy is not smart enough here\u001B[39;00m\n\u001B[1;32m--> 229\u001B[0m \u001B[38;5;28;01mraise\u001B[39;00m exception_class(message, screen, stacktrace)\n",
      "\u001B[1;31mNoSuchWindowException\u001B[0m: Message: no such window: target window already closed\nfrom unknown error: web view not found\n  (Session info: chrome=123.0.6312.105)\nStacktrace:\n\tGetHandleVerifier [0x00007FF68EE870C2+63090]\n\t(No symbol) [0x00007FF68EDF2D12]\n\t(No symbol) [0x00007FF68EC8EC65]\n\t(No symbol) [0x00007FF68EC6CA7C]\n\t(No symbol) [0x00007FF68ECFD687]\n\t(No symbol) [0x00007FF68ED12AC1]\n\t(No symbol) [0x00007FF68ECF6D83]\n\t(No symbol) [0x00007FF68ECC83A8]\n\t(No symbol) [0x00007FF68ECC9441]\n\tGetHandleVerifier [0x00007FF68F28262D+4238301]\n\tGetHandleVerifier [0x00007FF68F2BF78D+4488509]\n\tGetHandleVerifier [0x00007FF68F2B7A6F+4456479]\n\tGetHandleVerifier [0x00007FF68EF60606+953270]\n\t(No symbol) [0x00007FF68EDFE5DF]\n\t(No symbol) [0x00007FF68EDF92B4]\n\t(No symbol) [0x00007FF68EDF93EB]\n\t(No symbol) [0x00007FF68EDE9C24]\n\tBaseThreadInitThunk [0x00007FFC07C3257D+29]\n\tRtlUserThreadStart [0x00007FFC092AAA58+40]\n"
     ]
    }
   ],
   "source": [
    "input_url = \"\"\n",
    "# 멜론 창 열기\n",
    "driver = webdriver.Chrome()\n",
    "driver.get(input_url)\n",
    "bs = BeautifulSoup(driver.page_source, 'html.parser')\n",
    "result = bs.find_all('tr')\n",
    "count = 1\n",
    "for res in result:\n",
    "    #print(res)\n",
    "    # print(f\"===== {count} =====\")\n",
    "    # print(res.find('button'))\n",
    "    if res.find('button'):\n",
    "        try: \n",
    "            # print(f\"===== {count} =====\")\n",
    "            song_number = str(res.find('button')).split('-no=\"')[1][:8]\n",
    "            song_num_list.append(song_number)\n",
    "        except: pass\n",
    "    count +=1\n",
    "\n",
    "time.sleep(1)\n",
    "driver.quit()"
   ],
   "metadata": {
    "collapsed": false,
    "ExecuteTime": {
     "end_time": "2024-04-04T00:33:25.005243Z",
     "start_time": "2024-04-04T00:33:18.591612Z"
    }
   },
   "execution_count": 3
  },
  {
   "cell_type": "code",
   "outputs": [],
   "source": [
    "print(len(song_num_list))"
   ],
   "metadata": {
    "collapsed": false,
    "ExecuteTime": {
     "start_time": "2024-04-04T00:33:25.008907Z"
    }
   },
   "execution_count": null
  },
  {
   "cell_type": "code",
   "outputs": [],
   "source": [
    "title_artist_lyrics = {'title':[], 'artist':[], 'lyric':[]}\n",
    "\n",
    "url_front = 'https://www.melon.com/song/detail.htm?songId='\n",
    "for num in song_num_list:\n",
    "    url = url_front + num\n",
    "    driver = webdriver.Chrome()\n",
    "    driver.get(url)\n",
    "    try:\n",
    "        # 가사가 로드될 때까지 대기\n",
    "        lyric_element = WebDriverWait(driver, 1).until(\n",
    "            EC.presence_of_element_located((By.CLASS_NAME, 'lyric'))\n",
    "        )\n",
    "        \n",
    "        # text 부분만 뽑아서 print\n",
    "        lyric_text = lyric_element.text\n",
    "        # print(lyric_text)\n",
    "        \n",
    "        # 노래 제목 뽑기\n",
    "        title_element = WebDriverWait(driver, 1).until(\n",
    "            EC.presence_of_element_located((By.CLASS_NAME, 'song_name')))\n",
    "        title_text = title_element.text\n",
    "        # print(f\"노래 제목 : {title_text}\")\n",
    "        \n",
    "        # 아티스트 뽑기\n",
    "        artist_element = WebDriverWait(driver, 1).until(\n",
    "            EC.presence_of_element_located((By.CLASS_NAME, 'artist_name')))\n",
    "        artist_text = artist_element.text\n",
    "        # print(f\"가수 이름 : {artist_text}\")\n",
    "        \n",
    "        title_artist_lyrics['title'].append(title_text)\n",
    "        title_artist_lyrics['artist'].append(artist_text)\n",
    "        title_artist_lyrics['lyric'].append(lyric_text)\n",
    "        print('dictionary에 추가함')\n",
    "    except Exception as e: print(\"실패\", e)\n",
    "\n",
    "    driver.quit()\n",
    "    \n",
    "# print(title_artist_lyrics)"
   ],
   "metadata": {
    "collapsed": false,
    "ExecuteTime": {
     "start_time": "2024-04-04T00:33:25.011008Z"
    }
   },
   "execution_count": null
  },
  {
   "cell_type": "code",
   "outputs": [],
   "source": [
    "len(title_artist_lyrics['lyric'])"
   ],
   "metadata": {
    "collapsed": false,
    "ExecuteTime": {
     "start_time": "2024-04-04T00:33:25.013139Z"
    }
   },
   "execution_count": null
  },
  {
   "cell_type": "code",
   "outputs": [],
   "source": [
    "df_song = pd.DataFrame(title_artist_lyrics)\n",
    "df_song.head()"
   ],
   "metadata": {
    "collapsed": false
   },
   "execution_count": null
  },
  {
   "cell_type": "markdown",
   "source": [
    "# 파일 저장명 변경"
   ],
   "metadata": {
    "collapsed": false
   }
  },
  {
   "cell_type": "code",
   "outputs": [],
   "source": [
    "# save_name = 'hiphop.csv'\n",
    "# df_song.to_csv('save_name)\n",
    "# print('csv 파일로 저장 완료')"
   ],
   "metadata": {
    "collapsed": false,
    "ExecuteTime": {
     "start_time": "2024-04-04T00:33:25.017108Z"
    }
   },
   "execution_count": null
  },
  {
   "cell_type": "code",
   "outputs": [],
   "source": [],
   "metadata": {
    "collapsed": false,
    "ExecuteTime": {
     "start_time": "2024-04-04T00:33:25.017612Z"
    }
   }
  }
 ],
 "metadata": {
  "kernelspec": {
   "display_name": "NLP_38",
   "language": "python",
   "name": "python3"
  },
  "language_info": {
   "codemirror_mode": {
    "name": "ipython",
    "version": 3
   },
   "file_extension": ".py",
   "mimetype": "text/x-python",
   "name": "python",
   "nbconvert_exporter": "python",
   "pygments_lexer": "ipython3",
   "version": "3.8.19"
  }
 },
 "nbformat": 4,
 "nbformat_minor": 2
}
