{
 "cells": [
  {
   "cell_type": "code",
   "execution_count": 13,
   "metadata": {
    "ExecuteTime": {
     "end_time": "2024-04-03T09:44:52.569162Z",
     "start_time": "2024-04-03T09:44:52.555261Z"
    }
   },
   "outputs": [],
   "source": [
    "import requests\n",
    "from bs4 import BeautifulSoup as bs\n",
    "import pandas as pd\n",
    "import time\n",
    "import os\n",
    "from time import sleep\n",
    "from selenium import webdriver\n",
    "from webdriver_manager.chrome import ChromeDriverManager\n",
    "import requests\n",
    "from bs4 import BeautifulSoup\n",
    "from selenium import webdriver\n",
    "from selenium.webdriver.common.keys import Keys\n",
    "import time\n",
    "from bs4 import BeautifulSoup\n",
    "from selenium import webdriver\n",
    "import requests\n",
    "import urllib.request\n",
    "from bs4 import BeautifulSoup\n",
    "import csv\n",
    "import datetime\n",
    "import time\n",
    "#from oauth2client.service_account import ServiceAccountCredentials\n",
    "from bs4 import CData"
   ]
  },
  {
   "cell_type": "code",
   "execution_count": 14,
   "metadata": {
    "ExecuteTime": {
     "end_time": "2024-04-03T09:56:09.658726Z",
     "start_time": "2024-04-03T09:56:06.940756Z"
    }
   },
   "outputs": [
    {
     "ename": "NoSuchWindowException",
     "evalue": "Message: no such window: target window already closed\nfrom unknown error: web view not found\n  (Session info: chrome=123.0.6312.86)\nStacktrace:\n\tGetHandleVerifier [0x00007FF675CB70C2+63090]\n\t(No symbol) [0x00007FF675C22D12]\n\t(No symbol) [0x00007FF675ABEC65]\n\t(No symbol) [0x00007FF675A9CA7C]\n\t(No symbol) [0x00007FF675B2D687]\n\t(No symbol) [0x00007FF675B42AC1]\n\t(No symbol) [0x00007FF675B26D83]\n\t(No symbol) [0x00007FF675AF83A8]\n\t(No symbol) [0x00007FF675AF9441]\n\tGetHandleVerifier [0x00007FF6760B262D+4238301]\n\tGetHandleVerifier [0x00007FF6760EF78D+4488509]\n\tGetHandleVerifier [0x00007FF6760E7A6F+4456479]\n\tGetHandleVerifier [0x00007FF675D90606+953270]\n\t(No symbol) [0x00007FF675C2E5DF]\n\t(No symbol) [0x00007FF675C292B4]\n\t(No symbol) [0x00007FF675C293EB]\n\t(No symbol) [0x00007FF675C19C24]\n\tBaseThreadInitThunk [0x00007FFC07C3257D+29]\n\tRtlUserThreadStart [0x00007FFC092AAA58+40]\n",
     "output_type": "error",
     "traceback": [
      "\u001b[1;31m---------------------------------------------------------------------------\u001b[0m",
      "\u001b[1;31mNoSuchWindowException\u001b[0m                     Traceback (most recent call last)",
      "Cell \u001b[1;32mIn[14], line 4\u001b[0m\n\u001b[0;32m      2\u001b[0m \u001b[38;5;28;01mimport\u001b[39;00m \u001b[38;5;21;01mre\u001b[39;00m\n\u001b[0;32m      3\u001b[0m \u001b[38;5;28;01mimport\u001b[39;00m \u001b[38;5;21;01mpandas\u001b[39;00m \u001b[38;5;28;01mas\u001b[39;00m \u001b[38;5;21;01mpd\u001b[39;00m\n\u001b[1;32m----> 4\u001b[0m \u001b[43mdriver\u001b[49m\u001b[38;5;241;43m.\u001b[39;49m\u001b[43mget\u001b[49m\u001b[43m(\u001b[49m\u001b[38;5;124;43m\"\u001b[39;49m\u001b[38;5;124;43mhttps://www.melon.com/chart/index.html\u001b[39;49m\u001b[38;5;124;43m\"\u001b[39;49m\u001b[43m)\u001b[49m\n",
      "File \u001b[1;32m~\\AppData\\Roaming\\Python\\Python38\\site-packages\\selenium\\webdriver\\remote\\webdriver.py:356\u001b[0m, in \u001b[0;36mWebDriver.get\u001b[1;34m(self, url)\u001b[0m\n\u001b[0;32m    354\u001b[0m \u001b[38;5;28;01mdef\u001b[39;00m \u001b[38;5;21mget\u001b[39m(\u001b[38;5;28mself\u001b[39m, url: \u001b[38;5;28mstr\u001b[39m) \u001b[38;5;241m-\u001b[39m\u001b[38;5;241m>\u001b[39m \u001b[38;5;28;01mNone\u001b[39;00m:\n\u001b[0;32m    355\u001b[0m \u001b[38;5;250m    \u001b[39m\u001b[38;5;124;03m\"\"\"Loads a web page in the current browser session.\"\"\"\u001b[39;00m\n\u001b[1;32m--> 356\u001b[0m     \u001b[38;5;28;43mself\u001b[39;49m\u001b[38;5;241;43m.\u001b[39;49m\u001b[43mexecute\u001b[49m\u001b[43m(\u001b[49m\u001b[43mCommand\u001b[49m\u001b[38;5;241;43m.\u001b[39;49m\u001b[43mGET\u001b[49m\u001b[43m,\u001b[49m\u001b[43m \u001b[49m\u001b[43m{\u001b[49m\u001b[38;5;124;43m\"\u001b[39;49m\u001b[38;5;124;43murl\u001b[39;49m\u001b[38;5;124;43m\"\u001b[39;49m\u001b[43m:\u001b[49m\u001b[43m \u001b[49m\u001b[43murl\u001b[49m\u001b[43m}\u001b[49m\u001b[43m)\u001b[49m\n",
      "File \u001b[1;32m~\\AppData\\Roaming\\Python\\Python38\\site-packages\\selenium\\webdriver\\remote\\webdriver.py:347\u001b[0m, in \u001b[0;36mWebDriver.execute\u001b[1;34m(self, driver_command, params)\u001b[0m\n\u001b[0;32m    345\u001b[0m response \u001b[38;5;241m=\u001b[39m \u001b[38;5;28mself\u001b[39m\u001b[38;5;241m.\u001b[39mcommand_executor\u001b[38;5;241m.\u001b[39mexecute(driver_command, params)\n\u001b[0;32m    346\u001b[0m \u001b[38;5;28;01mif\u001b[39;00m response:\n\u001b[1;32m--> 347\u001b[0m     \u001b[38;5;28;43mself\u001b[39;49m\u001b[38;5;241;43m.\u001b[39;49m\u001b[43merror_handler\u001b[49m\u001b[38;5;241;43m.\u001b[39;49m\u001b[43mcheck_response\u001b[49m\u001b[43m(\u001b[49m\u001b[43mresponse\u001b[49m\u001b[43m)\u001b[49m\n\u001b[0;32m    348\u001b[0m     response[\u001b[38;5;124m\"\u001b[39m\u001b[38;5;124mvalue\u001b[39m\u001b[38;5;124m\"\u001b[39m] \u001b[38;5;241m=\u001b[39m \u001b[38;5;28mself\u001b[39m\u001b[38;5;241m.\u001b[39m_unwrap_value(response\u001b[38;5;241m.\u001b[39mget(\u001b[38;5;124m\"\u001b[39m\u001b[38;5;124mvalue\u001b[39m\u001b[38;5;124m\"\u001b[39m, \u001b[38;5;28;01mNone\u001b[39;00m))\n\u001b[0;32m    349\u001b[0m     \u001b[38;5;28;01mreturn\u001b[39;00m response\n",
      "File \u001b[1;32m~\\AppData\\Roaming\\Python\\Python38\\site-packages\\selenium\\webdriver\\remote\\errorhandler.py:229\u001b[0m, in \u001b[0;36mErrorHandler.check_response\u001b[1;34m(self, response)\u001b[0m\n\u001b[0;32m    227\u001b[0m         alert_text \u001b[38;5;241m=\u001b[39m value[\u001b[38;5;124m\"\u001b[39m\u001b[38;5;124malert\u001b[39m\u001b[38;5;124m\"\u001b[39m]\u001b[38;5;241m.\u001b[39mget(\u001b[38;5;124m\"\u001b[39m\u001b[38;5;124mtext\u001b[39m\u001b[38;5;124m\"\u001b[39m)\n\u001b[0;32m    228\u001b[0m     \u001b[38;5;28;01mraise\u001b[39;00m exception_class(message, screen, stacktrace, alert_text)  \u001b[38;5;66;03m# type: ignore[call-arg]  # mypy is not smart enough here\u001b[39;00m\n\u001b[1;32m--> 229\u001b[0m \u001b[38;5;28;01mraise\u001b[39;00m exception_class(message, screen, stacktrace)\n",
      "\u001b[1;31mNoSuchWindowException\u001b[0m: Message: no such window: target window already closed\nfrom unknown error: web view not found\n  (Session info: chrome=123.0.6312.86)\nStacktrace:\n\tGetHandleVerifier [0x00007FF675CB70C2+63090]\n\t(No symbol) [0x00007FF675C22D12]\n\t(No symbol) [0x00007FF675ABEC65]\n\t(No symbol) [0x00007FF675A9CA7C]\n\t(No symbol) [0x00007FF675B2D687]\n\t(No symbol) [0x00007FF675B42AC1]\n\t(No symbol) [0x00007FF675B26D83]\n\t(No symbol) [0x00007FF675AF83A8]\n\t(No symbol) [0x00007FF675AF9441]\n\tGetHandleVerifier [0x00007FF6760B262D+4238301]\n\tGetHandleVerifier [0x00007FF6760EF78D+4488509]\n\tGetHandleVerifier [0x00007FF6760E7A6F+4456479]\n\tGetHandleVerifier [0x00007FF675D90606+953270]\n\t(No symbol) [0x00007FF675C2E5DF]\n\t(No symbol) [0x00007FF675C292B4]\n\t(No symbol) [0x00007FF675C293EB]\n\t(No symbol) [0x00007FF675C19C24]\n\tBaseThreadInitThunk [0x00007FFC07C3257D+29]\n\tRtlUserThreadStart [0x00007FFC092AAA58+40]\n"
     ]
    }
   ],
   "source": [
    "driver = webdriver.Chrome()\n",
    "import re\n",
    "import pandas as pd\n",
    "driver.get(\"https://www.melon.com/chart/index.html\")"
   ]
  },
  {
   "cell_type": "code",
   "execution_count": null,
   "metadata": {},
   "outputs": [],
   "source": [
    "# 노래 제목 얻는 함수\n",
    "def get_song_titles(url):\n",
    "    # URL에서 HTML 가져오기\n",
    "    response = requests.get(url)\n",
    "    html = response.text\n",
    "    \n",
    "    # BeautifulSoup을 사용하여 HTML 파싱\n",
    "    soup = BeautifulSoup(html, 'html.parser')\n",
    "    \n",
    "    # 노래 제목을 담을 리스트 초기화\n",
    "    song_titles = []\n",
    "    \n",
    "    # 노래 제목이 있는 요소를 찾아서 리스트에 추가\n",
    "    song_elements = soup.select('.ellipsis.rank01 > span > a')\n",
    "    for element in song_elements:\n",
    "        song_titles.append(element.text.strip())\n",
    "    \n",
    "    return song_titles\n",
    "\n",
    "# 주어진 URL에서 노래 제목 가져오기\n",
    "url_rap = \"https://www.melon.com/genre/song_list.htm?gnrCode=GN0300\"\n",
    "# song_titles = get_song_titles(url_rap)\n",
    "\n",
    "# 결과 출력\n",
    "for title in song_titles:\n",
    "    print(title)"
   ]
  },
  {
   "cell_type": "code",
   "execution_count": null,
   "metadata": {
    "ExecuteTime": {
     "end_time": "2024-04-03T09:47:50.914385Z",
     "start_time": "2024-04-03T09:47:50.300929Z"
    }
   },
   "outputs": [
    {
     "name": "stdout",
     "output_type": "stream",
     "text": [
      "Reset, 선재 (snzae)\n",
      "Tip Toe, EUNSAN\n",
      "신상 꿀템에 미쳤어, hipsummit\n",
      "와사비가 최고야, projectsummit\n",
      "Black Card, summitmusic\n",
      "southside, 이효승\n",
      "플레이더게임 (Play The Game), 21hee\n",
      "꽃신, Jimmy Bang, 아원 (A ONE)\n",
      "Royal (feat. 파란(PARAN),나길리(Na Gili)), D.hyeon\n",
      "적색 소년(feat.Tsuku), zisokada(지속하다)\n",
      "우린 눈만 봐도 알잖아, 태호서울\n",
      "떡볶이, 박강현, 신도현\n",
      "주인공 (feat. 295), raQoo\n",
      "열쩡., 웰빙 쿠키 (wellbeing kooki)\n",
      "Campus Chillout, MUSIC MUSEUM\n",
      "무념무상 (feat. gusii), sixty one\n",
      "Nebula of Emotions, proxy3096\n",
      "Profit, Lil Some\n",
      "Return, Forest Music\n",
      "약속했잖아 (Feat. 송수겸), 서인범\n",
      "Wassup (Feat. Cuven Hardi), BAPE HOUSE\n",
      "내 사랑, 피탈\n",
      "All new year (feat. LIL GIMCHI), Northfacegawd\n",
      "오늘 나는, 이랑\n",
      "100, hu57la\n",
      "해외도피, 0siggy\n",
      "Anti-hero, 솔 (SOL)\n",
      "Elevate, Guard\n",
      "시간이 몇 신데, 신코멧\n",
      "We Got Off, TripPin'\n",
      "향수(feat.Homeboy), 925notfound\n",
      "니가 보낸 heart 안에, 에이치 알\n",
      "사사이, 하성호, SPESS\n",
      "O'Z (ft.UZN), 오뉴월 (OHNEWOL)\n",
      "2000년대 명반 (Prod. ST4NDARD), JMR\n",
      "IDOL (Prod. Lemac), PIGIE\n",
      "랩아저씨 (90's eastcoast remix), 랩아저씨\n",
      "Tea Time, Room7\n",
      "Man Up (Feat. KOR KASH), Yonge Jaundice (영 잔디스)\n",
      "LEVEL UP, Travis YOUNG (트래비스영)\n",
      "밤하늘에게 (feat.$insa), 서다인\n",
      "2co, 가혁, GEOGU, Kaneya\n",
      "넌 내가 보고 싶지도 않니 (Don't you miss me?) (Feat. 현서 (HYUN SEO)), 바람이\n",
      "Don't scare me, 서진수\n",
      "Star, 하푼 (Harpoon)\n",
      "새내기, 해방둥이 임원철\n",
      "숲, 장성우\n",
      "우울이란 과녁, 한예준\n",
      "I'm baristar she is really star, 세홍 (sehong)\n",
      "랑그와 파롤, 김동원\n"
     ]
    }
   ],
   "source": [
    "datetime.datetime.today()\n",
    "now = datetime.datetime.now()\n",
    "nowDatetime = now.strftime('%Y-%m-%d %H:%M:%S')\n",
    "\n",
    "\n",
    "def 멜론(url):\n",
    "    if __name__ == \"__main__\":\n",
    "        RANK = 100\n",
    "    \n",
    "        header = {'User-Agent': 'Mozilla/5.0 (Windows NT 6.3; Trident/7.0; rv:11.0) like Gecko'}\n",
    "        req = requests.get(url, headers = header)\n",
    "        html = req.text\n",
    "        parse = BeautifulSoup(html, 'html.parser')\n",
    "    \n",
    "        titles = parse.find_all(\"div\", {\"class\": \"ellipsis rank01\"}) \n",
    "        singers = parse.find_all(\"div\", {\"class\": \"ellipsis rank02\"}) \n",
    "        albums = parse.find_all(\"div\",{\"class\": \"ellipsis rank03\"})\n",
    "    \n",
    "        title = []\n",
    "        singer = []\n",
    "        album = []\n",
    "        tnumber= []\n",
    "        snumber= []\n",
    "\n",
    "        for t in titles:\n",
    "            title.append(t.find('a').text)\n",
    "    \n",
    "        for s in singers:\n",
    "            singer.append(s.find('span', {\"class\": \"checkEllipsis\"}).text)\n",
    "\n",
    "        for n in titles:\n",
    "            tnumber.append(n.find('a'))\n",
    "\n",
    "        for s in singers:\n",
    "            snumber.append(s.find('span', {\"class\": \"checkEllipsis\"}))\n",
    "\n",
    "        # with open('new_melon.csv', 'a', encoding='utf-8-sig', newline='') as f:\n",
    "        #     melonwriter=csv.writer(f)\n",
    "        #     melonwriter.writerow([nowDatetime])\n",
    "        #     melonwriter.writerows([title,singer,tnumber,snumber])\n",
    "        #     f.close()\n",
    "        a = list(zip(title, singer))\n",
    "        for b in a:\n",
    "            print(\", \".join(b))\n",
    "        # print(title, singer)\n",
    "\n",
    "멜론('https://www.melon.com/genre/song_list.htm?gnrCode=GN0300')"
   ]
  },
  {
   "cell_type": "code",
   "execution_count": null,
   "metadata": {
    "collapsed": false
   },
   "outputs": [
    {
     "name": "stdout",
     "output_type": "stream",
     "text": [
      "None\n"
     ]
    }
   ],
   "source": [
    "# 노래 제목 얻는 함수\n",
    "def get_song_lyrics(url):\n",
    "    # URL에서 HTML 가져오기\n",
    "    response = requests.get(url)\n",
    "    html = response.text\n",
    "    \n",
    "    # BeautifulSoup을 사용하여 HTML 파싱\n",
    "    soup = BeautifulSoup(html, 'html.parser')\n",
    "    \n",
    "    print(soup.find('a', {'class':'btn button_icons type03 song_info'}))\n",
    "\n",
    "    # 노래 제목을 담을 리스트 초기화\n",
    "    song_titles = []\n",
    "    \n",
    "    # 노래 제목이 있는 요소를 찾아서 리스트에 추가\n",
    "    song_elements = soup.select('.ellipsis.rank01 > span > a')\n",
    "    for element in song_elements:\n",
    "        song_titles.append(element.text.strip())\n",
    "    \n",
    "    return song_titles\n",
    "\n",
    "# 주어진 URL에서 노래 제목 가져오기\n",
    "url_rap = \"https://www.melon.com/genre/song_list.htm?gnrCode=GN0300\"\n",
    "song_titles = get_song_lyrics(url_rap)\n",
    "\n",
    "# 결과 출력\n",
    "for title in song_titles:\n",
    "    print(title)"
   ]
  }
 ],
 "metadata": {
  "kernelspec": {
   "display_name": "NLP_38",
   "language": "python",
   "name": "python3"
  },
  "language_info": {
   "codemirror_mode": {
    "name": "ipython",
    "version": 3
   },
   "file_extension": ".py",
   "mimetype": "text/x-python",
   "name": "python",
   "nbconvert_exporter": "python",
   "pygments_lexer": "ipython3",
   "version": "3.8.19"
  }
 },
 "nbformat": 4,
 "nbformat_minor": 2
}
