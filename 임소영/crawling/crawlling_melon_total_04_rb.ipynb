{
 "cells": [
  {
   "cell_type": "markdown",
   "source": [
    "# 장르별로 가사 크롤링하기! "
   ],
   "metadata": {
    "collapsed": false
   }
  },
  {
   "cell_type": "markdown",
   "source": [
    "### 총 3가지 바꾸셔야합니다."
   ],
   "metadata": {
    "collapsed": false
   }
  },
  {
   "cell_type": "code",
   "outputs": [],
   "source": [
    "from selenium.webdriver.common.keys import Keys\n",
    "import time\n",
    "import requests\n",
    "import pandas as pd\n",
    "from bs4 import BeautifulSoup\n",
    "from selenium import webdriver\n",
    "import re\n",
    "from selenium.webdriver.common.by import By\n",
    "from selenium.webdriver.support.ui import WebDriverWait\n",
    "from selenium.webdriver.support import expected_conditions as EC\n",
    "\n",
    "title_artist_lyrics = {'title':[], 'artist':[], 'lyric':[]}\n",
    "song_num_list = []"
   ],
   "metadata": {
    "collapsed": false,
    "ExecuteTime": {
     "end_time": "2024-04-04T00:40:48.795085Z",
     "start_time": "2024-04-04T00:40:48.196480Z"
    }
   },
   "execution_count": 1
  },
  {
   "cell_type": "markdown",
   "source": [
    "# input_url 변경 (1페이지)"
   ],
   "metadata": {
    "collapsed": false
   }
  },
  {
   "cell_type": "code",
   "outputs": [],
   "source": [
    "input_url = \"https://www.melon.com/genre/song_list.htm?gnrCode=GN0400\"\n",
    "\n",
    "# 멜론 창 열기\n",
    "driver = webdriver.Chrome()\n",
    "driver.get(input_url)\n",
    "\n",
    "bs = BeautifulSoup(driver.page_source, 'html.parser')\n",
    "result = bs.find_all('tr')\n",
    "count = 1\n",
    "\n",
    "for res in result:\n",
    "    #print(res)\n",
    "    # print(f\"===== {count} =====\")\n",
    "    # print(res.find('button'))\n",
    "    if res.find('button'):\n",
    "        try: \n",
    "            # print(f\"===== {count} =====\")\n",
    "            song_number = str(res.find('button')).split('-no=\"')[1][:8]\n",
    "            song_num_list.append(song_number)\n",
    "        except: pass\n",
    "    count +=1\n",
    "\n",
    "time.sleep(1)\n",
    "driver.quit()"
   ],
   "metadata": {
    "collapsed": false,
    "ExecuteTime": {
     "end_time": "2024-04-04T00:40:55.237060Z",
     "start_time": "2024-04-04T00:40:48.797132Z"
    }
   },
   "execution_count": 2
  },
  {
   "cell_type": "markdown",
   "source": [
    "# input_url 변경 (2페이지)"
   ],
   "metadata": {
    "collapsed": false
   }
  },
  {
   "cell_type": "code",
   "outputs": [],
   "source": [
    "input_url = \"https://www.melon.com/genre/song_list.htm?gnrCode=GN0400#params%5BgnrCode%5D=GN0400&params%5BdtlGnrCode%5D=&params%5BorderBy%5D=NEW&params%5BsteadyYn%5D=N&po=pageObj&startIndex=51\"\n",
    "# 멜론 창 열기\n",
    "driver = webdriver.Chrome()\n",
    "driver.get(input_url)\n",
    "bs = BeautifulSoup(driver.page_source, 'html.parser')\n",
    "result = bs.find_all('tr')\n",
    "count = 1\n",
    "for res in result:\n",
    "    #print(res)\n",
    "    # print(f\"===== {count} =====\")\n",
    "    # print(res.find('button'))\n",
    "    if res.find('button'):\n",
    "        try: \n",
    "            # print(f\"===== {count} =====\")\n",
    "            song_number = str(res.find('button')).split('-no=\"')[1][:8]\n",
    "            song_num_list.append(song_number)\n",
    "        except: pass\n",
    "    count +=1\n",
    "\n",
    "time.sleep(1)\n",
    "driver.quit()"
   ],
   "metadata": {
    "collapsed": false,
    "ExecuteTime": {
     "end_time": "2024-04-04T00:41:05.302350Z",
     "start_time": "2024-04-04T00:40:55.239670Z"
    }
   },
   "execution_count": 3
  },
  {
   "cell_type": "code",
   "outputs": [
    {
     "name": "stdout",
     "output_type": "stream",
     "text": [
      "99\n"
     ]
    }
   ],
   "source": [
    "print(len(song_num_list))"
   ],
   "metadata": {
    "collapsed": false,
    "ExecuteTime": {
     "end_time": "2024-04-04T00:41:05.317360Z",
     "start_time": "2024-04-04T00:41:05.305449Z"
    }
   },
   "execution_count": 4
  },
  {
   "cell_type": "code",
   "outputs": [
    {
     "name": "stdout",
     "output_type": "stream",
     "text": [
      "dictionary에 추가함\n",
      "dictionary에 추가함\n",
      "dictionary에 추가함\n",
      "dictionary에 추가함\n",
      "dictionary에 추가함\n",
      "dictionary에 추가함\n",
      "dictionary에 추가함\n",
      "dictionary에 추가함\n",
      "dictionary에 추가함\n",
      "dictionary에 추가함\n",
      "dictionary에 추가함\n",
      "dictionary에 추가함\n",
      "실패 Message: \n",
      "Stacktrace:\n",
      "\tGetHandleVerifier [0x00007FF68EE870C2+63090]\n",
      "\t(No symbol) [0x00007FF68EDF2D12]\n",
      "\t(No symbol) [0x00007FF68EC8EC65]\n",
      "\t(No symbol) [0x00007FF68ECD499D]\n",
      "\t(No symbol) [0x00007FF68ECD4ADC]\n",
      "\t(No symbol) [0x00007FF68ED15B37]\n",
      "\t(No symbol) [0x00007FF68ECF701F]\n",
      "\t(No symbol) [0x00007FF68ED13412]\n",
      "\t(No symbol) [0x00007FF68ECF6D83]\n",
      "\t(No symbol) [0x00007FF68ECC83A8]\n",
      "\t(No symbol) [0x00007FF68ECC9441]\n",
      "\tGetHandleVerifier [0x00007FF68F28262D+4238301]\n",
      "\tGetHandleVerifier [0x00007FF68F2BF78D+4488509]\n",
      "\tGetHandleVerifier [0x00007FF68F2B7A6F+4456479]\n",
      "\tGetHandleVerifier [0x00007FF68EF60606+953270]\n",
      "\t(No symbol) [0x00007FF68EDFE5DF]\n",
      "\t(No symbol) [0x00007FF68EDF92B4]\n",
      "\t(No symbol) [0x00007FF68EDF93EB]\n",
      "\t(No symbol) [0x00007FF68EDE9C24]\n",
      "\tBaseThreadInitThunk [0x00007FFC07C3257D+29]\n",
      "\tRtlUserThreadStart [0x00007FFC092AAA58+40]\n",
      "dictionary에 추가함\n",
      "dictionary에 추가함\n",
      "dictionary에 추가함\n",
      "dictionary에 추가함\n",
      "dictionary에 추가함\n",
      "dictionary에 추가함\n",
      "실패 Message: \n",
      "Stacktrace:\n",
      "\tGetHandleVerifier [0x00007FF68EE870C2+63090]\n",
      "\t(No symbol) [0x00007FF68EDF2D12]\n",
      "\t(No symbol) [0x00007FF68EC8EC65]\n",
      "\t(No symbol) [0x00007FF68ECD499D]\n",
      "\t(No symbol) [0x00007FF68ECD4ADC]\n",
      "\t(No symbol) [0x00007FF68ED15B37]\n",
      "\t(No symbol) [0x00007FF68ECF701F]\n",
      "\t(No symbol) [0x00007FF68ED13412]\n",
      "\t(No symbol) [0x00007FF68ECF6D83]\n",
      "\t(No symbol) [0x00007FF68ECC83A8]\n",
      "\t(No symbol) [0x00007FF68ECC9441]\n",
      "\tGetHandleVerifier [0x00007FF68F28262D+4238301]\n",
      "\tGetHandleVerifier [0x00007FF68F2BF78D+4488509]\n",
      "\tGetHandleVerifier [0x00007FF68F2B7A6F+4456479]\n",
      "\tGetHandleVerifier [0x00007FF68EF60606+953270]\n",
      "\t(No symbol) [0x00007FF68EDFE5DF]\n",
      "\t(No symbol) [0x00007FF68EDF92B4]\n",
      "\t(No symbol) [0x00007FF68EDF93EB]\n",
      "\t(No symbol) [0x00007FF68EDE9C24]\n",
      "\tBaseThreadInitThunk [0x00007FFC07C3257D+29]\n",
      "\tRtlUserThreadStart [0x00007FFC092AAA58+40]\n",
      "dictionary에 추가함\n",
      "dictionary에 추가함\n",
      "dictionary에 추가함\n",
      "dictionary에 추가함\n",
      "dictionary에 추가함\n",
      "dictionary에 추가함\n",
      "dictionary에 추가함\n",
      "dictionary에 추가함\n",
      "dictionary에 추가함\n",
      "실패 Message: \n",
      "Stacktrace:\n",
      "\tGetHandleVerifier [0x00007FF68EE870C2+63090]\n",
      "\t(No symbol) [0x00007FF68EDF2D12]\n",
      "\t(No symbol) [0x00007FF68EC8EC65]\n",
      "\t(No symbol) [0x00007FF68ECD499D]\n",
      "\t(No symbol) [0x00007FF68ECD4ADC]\n",
      "\t(No symbol) [0x00007FF68ED15B37]\n",
      "\t(No symbol) [0x00007FF68ECF701F]\n",
      "\t(No symbol) [0x00007FF68ED13412]\n",
      "\t(No symbol) [0x00007FF68ECF6D83]\n",
      "\t(No symbol) [0x00007FF68ECC83A8]\n",
      "\t(No symbol) [0x00007FF68ECC9441]\n",
      "\tGetHandleVerifier [0x00007FF68F28262D+4238301]\n",
      "\tGetHandleVerifier [0x00007FF68F2BF78D+4488509]\n",
      "\tGetHandleVerifier [0x00007FF68F2B7A6F+4456479]\n",
      "\tGetHandleVerifier [0x00007FF68EF60606+953270]\n",
      "\t(No symbol) [0x00007FF68EDFE5DF]\n",
      "\t(No symbol) [0x00007FF68EDF92B4]\n",
      "\t(No symbol) [0x00007FF68EDF93EB]\n",
      "\t(No symbol) [0x00007FF68EDE9C24]\n",
      "\tBaseThreadInitThunk [0x00007FFC07C3257D+29]\n",
      "\tRtlUserThreadStart [0x00007FFC092AAA58+40]\n",
      "dictionary에 추가함\n",
      "dictionary에 추가함\n",
      "dictionary에 추가함\n",
      "dictionary에 추가함\n",
      "dictionary에 추가함\n",
      "dictionary에 추가함\n",
      "dictionary에 추가함\n",
      "dictionary에 추가함\n",
      "dictionary에 추가함\n",
      "dictionary에 추가함\n",
      "dictionary에 추가함\n",
      "dictionary에 추가함\n",
      "dictionary에 추가함\n",
      "dictionary에 추가함\n",
      "dictionary에 추가함\n",
      "dictionary에 추가함\n",
      "dictionary에 추가함\n",
      "dictionary에 추가함\n",
      "dictionary에 추가함\n",
      "dictionary에 추가함\n",
      "dictionary에 추가함\n",
      "dictionary에 추가함\n",
      "dictionary에 추가함\n",
      "dictionary에 추가함\n",
      "dictionary에 추가함\n",
      "dictionary에 추가함\n",
      "dictionary에 추가함\n",
      "dictionary에 추가함\n",
      "dictionary에 추가함\n",
      "dictionary에 추가함\n",
      "dictionary에 추가함\n",
      "dictionary에 추가함\n",
      "dictionary에 추가함\n",
      "dictionary에 추가함\n",
      "dictionary에 추가함\n",
      "dictionary에 추가함\n",
      "dictionary에 추가함\n",
      "dictionary에 추가함\n",
      "실패 Message: \n",
      "Stacktrace:\n",
      "\tGetHandleVerifier [0x00007FF68EE870C2+63090]\n",
      "\t(No symbol) [0x00007FF68EDF2D12]\n",
      "\t(No symbol) [0x00007FF68EC8EC65]\n",
      "\t(No symbol) [0x00007FF68ECD499D]\n",
      "\t(No symbol) [0x00007FF68ECD4ADC]\n",
      "\t(No symbol) [0x00007FF68ED15B37]\n",
      "\t(No symbol) [0x00007FF68ECF701F]\n",
      "\t(No symbol) [0x00007FF68ED13412]\n",
      "\t(No symbol) [0x00007FF68ECF6D83]\n",
      "\t(No symbol) [0x00007FF68ECC83A8]\n",
      "\t(No symbol) [0x00007FF68ECC9441]\n",
      "\tGetHandleVerifier [0x00007FF68F28262D+4238301]\n",
      "\tGetHandleVerifier [0x00007FF68F2BF78D+4488509]\n",
      "\tGetHandleVerifier [0x00007FF68F2B7A6F+4456479]\n",
      "\tGetHandleVerifier [0x00007FF68EF60606+953270]\n",
      "\t(No symbol) [0x00007FF68EDFE5DF]\n",
      "\t(No symbol) [0x00007FF68EDF92B4]\n",
      "\t(No symbol) [0x00007FF68EDF93EB]\n",
      "\t(No symbol) [0x00007FF68EDE9C24]\n",
      "\tBaseThreadInitThunk [0x00007FFC07C3257D+29]\n",
      "\tRtlUserThreadStart [0x00007FFC092AAA58+40]\n",
      "dictionary에 추가함\n",
      "dictionary에 추가함\n",
      "dictionary에 추가함\n",
      "dictionary에 추가함\n",
      "dictionary에 추가함\n",
      "dictionary에 추가함\n",
      "dictionary에 추가함\n",
      "dictionary에 추가함\n",
      "dictionary에 추가함\n",
      "dictionary에 추가함\n",
      "dictionary에 추가함\n",
      "dictionary에 추가함\n",
      "dictionary에 추가함\n",
      "dictionary에 추가함\n",
      "dictionary에 추가함\n",
      "dictionary에 추가함\n",
      "dictionary에 추가함\n",
      "dictionary에 추가함\n",
      "dictionary에 추가함\n",
      "dictionary에 추가함\n",
      "dictionary에 추가함\n",
      "dictionary에 추가함\n",
      "dictionary에 추가함\n",
      "dictionary에 추가함\n",
      "dictionary에 추가함\n",
      "dictionary에 추가함\n",
      "dictionary에 추가함\n",
      "dictionary에 추가함\n",
      "dictionary에 추가함\n",
      "dictionary에 추가함\n"
     ]
    }
   ],
   "source": [
    "title_artist_lyrics = {'title':[], 'artist':[], 'lyric':[]}\n",
    "\n",
    "url_front = 'https://www.melon.com/song/detail.htm?songId='\n",
    "for num in song_num_list:\n",
    "    url = url_front + num\n",
    "    driver = webdriver.Chrome()\n",
    "    driver.get(url)\n",
    "    try:\n",
    "        # 가사가 로드될 때까지 대기\n",
    "        lyric_element = WebDriverWait(driver, 1).until(\n",
    "            EC.presence_of_element_located((By.CLASS_NAME, 'lyric'))\n",
    "        )\n",
    "        \n",
    "        # text 부분만 뽑아서 print\n",
    "        lyric_text = lyric_element.text\n",
    "        # print(lyric_text)\n",
    "        \n",
    "        # 노래 제목 뽑기\n",
    "        title_element = WebDriverWait(driver, 1).until(\n",
    "            EC.presence_of_element_located((By.CLASS_NAME, 'song_name')))\n",
    "        title_text = title_element.text\n",
    "        # print(f\"노래 제목 : {title_text}\")\n",
    "        \n",
    "        # 아티스트 뽑기\n",
    "        artist_element = WebDriverWait(driver, 1).until(\n",
    "            EC.presence_of_element_located((By.CLASS_NAME, 'artist_name')))\n",
    "        artist_text = artist_element.text\n",
    "        # print(f\"가수 이름 : {artist_text}\")\n",
    "        \n",
    "        title_artist_lyrics['title'].append(title_text)\n",
    "        title_artist_lyrics['artist'].append(artist_text)\n",
    "        title_artist_lyrics['lyric'].append(lyric_text)\n",
    "        print('dictionary에 추가함')\n",
    "    except Exception as e: print(\"실패\", e)\n",
    "\n",
    "    driver.quit()\n",
    "    \n",
    "# print(title_artist_lyrics)"
   ],
   "metadata": {
    "collapsed": false,
    "ExecuteTime": {
     "end_time": "2024-04-04T00:55:34.109745Z",
     "start_time": "2024-04-04T00:41:05.320153Z"
    }
   },
   "execution_count": 5
  },
  {
   "cell_type": "code",
   "outputs": [
    {
     "data": {
      "text/plain": "95"
     },
     "execution_count": 6,
     "metadata": {},
     "output_type": "execute_result"
    }
   ],
   "source": [
    "len(title_artist_lyrics['lyric'])"
   ],
   "metadata": {
    "collapsed": false,
    "ExecuteTime": {
     "end_time": "2024-04-04T00:55:34.125213Z",
     "start_time": "2024-04-04T00:55:34.112920Z"
    }
   },
   "execution_count": 6
  },
  {
   "cell_type": "code",
   "outputs": [
    {
     "data": {
      "text/plain": "                         title       artist  \\\n0                         LURE    I.M (아이엠)   \n1  Take Me Away (Feat. g1nger)  CHANNEL 201   \n2    cat and mouse (feat. 전예찬)  루카스 (Lucas)   \n3                      구름도 아니고     Kinn (킨)   \n4          Nothin' Without You           행성   \n\n                                               lyric  \n0  Give me all your time cause I can’t hide\\nKeep...  \n1  I never told you\\n서투른 고백과\\n낯선 표정 채워진\\n모든게 미지의 ...  \n2  헷갈리게 하지 마\\nBaby close to me\\n자꾸 반응하잖아\\nJust fe...  \n3  한 번도 말해 본 적 없었어\\n혹시 들킬까 봐 난\\n도대체 어떡해야 할지\\n나도 잘...  \n4  How can i live without your love?\\nCuz I’m not...  ",
      "text/html": "<div>\n<style scoped>\n    .dataframe tbody tr th:only-of-type {\n        vertical-align: middle;\n    }\n\n    .dataframe tbody tr th {\n        vertical-align: top;\n    }\n\n    .dataframe thead th {\n        text-align: right;\n    }\n</style>\n<table border=\"1\" class=\"dataframe\">\n  <thead>\n    <tr style=\"text-align: right;\">\n      <th></th>\n      <th>title</th>\n      <th>artist</th>\n      <th>lyric</th>\n    </tr>\n  </thead>\n  <tbody>\n    <tr>\n      <th>0</th>\n      <td>LURE</td>\n      <td>I.M (아이엠)</td>\n      <td>Give me all your time cause I can’t hide\\nKeep...</td>\n    </tr>\n    <tr>\n      <th>1</th>\n      <td>Take Me Away (Feat. g1nger)</td>\n      <td>CHANNEL 201</td>\n      <td>I never told you\\n서투른 고백과\\n낯선 표정 채워진\\n모든게 미지의 ...</td>\n    </tr>\n    <tr>\n      <th>2</th>\n      <td>cat and mouse (feat. 전예찬)</td>\n      <td>루카스 (Lucas)</td>\n      <td>헷갈리게 하지 마\\nBaby close to me\\n자꾸 반응하잖아\\nJust fe...</td>\n    </tr>\n    <tr>\n      <th>3</th>\n      <td>구름도 아니고</td>\n      <td>Kinn (킨)</td>\n      <td>한 번도 말해 본 적 없었어\\n혹시 들킬까 봐 난\\n도대체 어떡해야 할지\\n나도 잘...</td>\n    </tr>\n    <tr>\n      <th>4</th>\n      <td>Nothin' Without You</td>\n      <td>행성</td>\n      <td>How can i live without your love?\\nCuz I’m not...</td>\n    </tr>\n  </tbody>\n</table>\n</div>"
     },
     "execution_count": 7,
     "metadata": {},
     "output_type": "execute_result"
    }
   ],
   "source": [
    "df_song = pd.DataFrame(title_artist_lyrics)\n",
    "df_song.head()"
   ],
   "metadata": {
    "collapsed": false,
    "ExecuteTime": {
     "end_time": "2024-04-04T00:55:34.140715Z",
     "start_time": "2024-04-04T00:55:34.127147Z"
    }
   },
   "execution_count": 7
  },
  {
   "cell_type": "markdown",
   "source": [
    "# 파일 저장명 변경"
   ],
   "metadata": {
    "collapsed": false
   }
  },
  {
   "cell_type": "code",
   "outputs": [
    {
     "name": "stdout",
     "output_type": "stream",
     "text": [
      "csv 파일로 저장 완료\n"
     ]
    }
   ],
   "source": [
    "save_name = ('rb.csv')\n",
    "df_song.to_csv(save_name)\n",
    "print('csv 파일로 저장 완료')"
   ],
   "metadata": {
    "collapsed": false,
    "ExecuteTime": {
     "end_time": "2024-04-04T00:55:34.156236Z",
     "start_time": "2024-04-04T00:55:34.141702Z"
    }
   },
   "execution_count": 8
  },
  {
   "cell_type": "code",
   "outputs": [],
   "source": [],
   "metadata": {
    "collapsed": false,
    "ExecuteTime": {
     "end_time": "2024-04-04T00:55:34.171182Z",
     "start_time": "2024-04-04T00:55:34.157240Z"
    }
   },
   "execution_count": 8
  }
 ],
 "metadata": {
  "kernelspec": {
   "display_name": "NLP_38",
   "language": "python",
   "name": "python3"
  },
  "language_info": {
   "codemirror_mode": {
    "name": "ipython",
    "version": 3
   },
   "file_extension": ".py",
   "mimetype": "text/x-python",
   "name": "python",
   "nbconvert_exporter": "python",
   "pygments_lexer": "ipython3",
   "version": "3.8.19"
  }
 },
 "nbformat": 4,
 "nbformat_minor": 2
}
