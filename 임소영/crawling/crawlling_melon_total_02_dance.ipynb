{
 "cells": [
  {
   "cell_type": "markdown",
   "source": [
    "# 댄스"
   ],
   "metadata": {
    "collapsed": false
   }
  },
  {
   "cell_type": "code",
   "outputs": [],
   "source": [
    "from selenium.webdriver.common.keys import Keys\n",
    "import time\n",
    "import requests\n",
    "import pandas as pd\n",
    "from bs4 import BeautifulSoup\n",
    "from selenium import webdriver\n",
    "import re\n",
    "from selenium.webdriver.common.by import By\n",
    "from selenium.webdriver.support.ui import WebDriverWait\n",
    "from selenium.webdriver.support import expected_conditions as EC\n",
    "\n",
    "title_artist_lyrics = {'title':[], 'artist':[], 'lyric':[]}\n",
    "song_num_list = []"
   ],
   "metadata": {
    "collapsed": false,
    "ExecuteTime": {
     "end_time": "2024-04-03T15:33:23.637336Z",
     "start_time": "2024-04-03T15:33:23.012410Z"
    }
   },
   "execution_count": 1
  },
  {
   "cell_type": "code",
   "outputs": [],
   "source": [
    "input_url = \"https://www.melon.com/genre/song_list.htm?gnrCode=GN0200\"\n",
    "# 멜론 창 열기\n",
    "driver = webdriver.Chrome()\n",
    "driver.get(input_url)\n",
    "\n",
    "bs = BeautifulSoup(driver.page_source, 'html.parser')\n",
    "result = bs.find_all('tr')\n",
    "count = 1\n",
    "\n",
    "for res in result:\n",
    "    #print(res)\n",
    "    # print(f\"===== {count} =====\")\n",
    "    # print(res.find('button'))\n",
    "    if res.find('button'):\n",
    "        try: \n",
    "            # print(f\"===== {count} =====\")\n",
    "            song_number = str(res.find('button')).split('-no=\"')[1][:8]\n",
    "            song_num_list.append(song_number)\n",
    "        except: pass\n",
    "    count +=1\n",
    "\n",
    "time.sleep(1)\n",
    "driver.quit()"
   ],
   "metadata": {
    "collapsed": false,
    "ExecuteTime": {
     "end_time": "2024-04-03T15:33:30.759593Z",
     "start_time": "2024-04-03T15:33:23.639466Z"
    }
   },
   "execution_count": 2
  },
  {
   "cell_type": "code",
   "outputs": [],
   "source": [
    "input_url = \"https://www.melon.com/genre/song_list.htm?gnrCode=GN0200#params%5BgnrCode%5D=GN0200&params%5BdtlGnrCode%5D=&params%5BorderBy%5D=NEW&params%5BsteadyYn%5D=N&po=pageObj&startIndex=51\"\n",
    "# 멜론 창 열기\n",
    "driver = webdriver.Chrome()\n",
    "driver.get(input_url)\n",
    "bs = BeautifulSoup(driver.page_source, 'html.parser')\n",
    "result = bs.find_all('tr')\n",
    "count = 1\n",
    "for res in result:\n",
    "    #print(res)\n",
    "    # print(f\"===== {count} =====\")\n",
    "    # print(res.find('button'))\n",
    "    if res.find('button'):\n",
    "        try: \n",
    "            # print(f\"===== {count} =====\")\n",
    "            song_number = str(res.find('button')).split('-no=\"')[1][:8]\n",
    "            song_num_list.append(song_number)\n",
    "        except: pass\n",
    "    count +=1\n",
    "\n",
    "time.sleep(1)\n",
    "driver.quit()"
   ],
   "metadata": {
    "collapsed": false,
    "ExecuteTime": {
     "end_time": "2024-04-03T15:33:41.102259Z",
     "start_time": "2024-04-03T15:33:30.762843Z"
    }
   },
   "execution_count": 3
  },
  {
   "cell_type": "code",
   "outputs": [
    {
     "name": "stdout",
     "output_type": "stream",
     "text": [
      "94\n"
     ]
    }
   ],
   "source": [
    "print(len(song_num_list))"
   ],
   "metadata": {
    "collapsed": false,
    "ExecuteTime": {
     "end_time": "2024-04-03T15:33:41.118333Z",
     "start_time": "2024-04-03T15:33:41.105328Z"
    }
   },
   "execution_count": 4
  },
  {
   "cell_type": "code",
   "outputs": [
    {
     "name": "stdout",
     "output_type": "stream",
     "text": [
      "dictionary에 추가함\n",
      "dictionary에 추가함\n",
      "dictionary에 추가함\n",
      "dictionary에 추가함\n",
      "dictionary에 추가함\n",
      "dictionary에 추가함\n",
      "dictionary에 추가함\n",
      "dictionary에 추가함\n",
      "dictionary에 추가함\n",
      "dictionary에 추가함\n",
      "dictionary에 추가함\n",
      "dictionary에 추가함\n",
      "dictionary에 추가함\n",
      "dictionary에 추가함\n",
      "dictionary에 추가함\n",
      "dictionary에 추가함\n",
      "dictionary에 추가함\n",
      "dictionary에 추가함\n",
      "실패 Message: \n",
      "Stacktrace:\n",
      "\tGetHandleVerifier [0x00007FF675CB70C2+63090]\n",
      "\t(No symbol) [0x00007FF675C22D12]\n",
      "\t(No symbol) [0x00007FF675ABEC65]\n",
      "\t(No symbol) [0x00007FF675B0499D]\n",
      "\t(No symbol) [0x00007FF675B04ADC]\n",
      "\t(No symbol) [0x00007FF675B45B37]\n",
      "\t(No symbol) [0x00007FF675B2701F]\n",
      "\t(No symbol) [0x00007FF675B43412]\n",
      "\t(No symbol) [0x00007FF675B26D83]\n",
      "\t(No symbol) [0x00007FF675AF83A8]\n",
      "\t(No symbol) [0x00007FF675AF9441]\n",
      "\tGetHandleVerifier [0x00007FF6760B262D+4238301]\n",
      "\tGetHandleVerifier [0x00007FF6760EF78D+4488509]\n",
      "\tGetHandleVerifier [0x00007FF6760E7A6F+4456479]\n",
      "\tGetHandleVerifier [0x00007FF675D90606+953270]\n",
      "\t(No symbol) [0x00007FF675C2E5DF]\n",
      "\t(No symbol) [0x00007FF675C292B4]\n",
      "\t(No symbol) [0x00007FF675C293EB]\n",
      "\t(No symbol) [0x00007FF675C19C24]\n",
      "\tBaseThreadInitThunk [0x00007FFC07C3257D+29]\n",
      "\tRtlUserThreadStart [0x00007FFC092AAA58+40]\n",
      "dictionary에 추가함\n",
      "dictionary에 추가함\n",
      "dictionary에 추가함\n",
      "dictionary에 추가함\n",
      "실패 Message: \n",
      "Stacktrace:\n",
      "\tGetHandleVerifier [0x00007FF675CB70C2+63090]\n",
      "\t(No symbol) [0x00007FF675C22D12]\n",
      "\t(No symbol) [0x00007FF675ABEC65]\n",
      "\t(No symbol) [0x00007FF675B0499D]\n",
      "\t(No symbol) [0x00007FF675B04ADC]\n",
      "\t(No symbol) [0x00007FF675B45B37]\n",
      "\t(No symbol) [0x00007FF675B2701F]\n",
      "\t(No symbol) [0x00007FF675B43412]\n",
      "\t(No symbol) [0x00007FF675B26D83]\n",
      "\t(No symbol) [0x00007FF675AF83A8]\n",
      "\t(No symbol) [0x00007FF675AF9441]\n",
      "\tGetHandleVerifier [0x00007FF6760B262D+4238301]\n",
      "\tGetHandleVerifier [0x00007FF6760EF78D+4488509]\n",
      "\tGetHandleVerifier [0x00007FF6760E7A6F+4456479]\n",
      "\tGetHandleVerifier [0x00007FF675D90606+953270]\n",
      "\t(No symbol) [0x00007FF675C2E5DF]\n",
      "\t(No symbol) [0x00007FF675C292B4]\n",
      "\t(No symbol) [0x00007FF675C293EB]\n",
      "\t(No symbol) [0x00007FF675C19C24]\n",
      "\tBaseThreadInitThunk [0x00007FFC07C3257D+29]\n",
      "\tRtlUserThreadStart [0x00007FFC092AAA58+40]\n",
      "dictionary에 추가함\n",
      "dictionary에 추가함\n",
      "실패 Message: \n",
      "Stacktrace:\n",
      "\tGetHandleVerifier [0x00007FF675CB70C2+63090]\n",
      "\t(No symbol) [0x00007FF675C22D12]\n",
      "\t(No symbol) [0x00007FF675ABEC65]\n",
      "\t(No symbol) [0x00007FF675B0499D]\n",
      "\t(No symbol) [0x00007FF675B04ADC]\n",
      "\t(No symbol) [0x00007FF675B45B37]\n",
      "\t(No symbol) [0x00007FF675B2701F]\n",
      "\t(No symbol) [0x00007FF675B43412]\n",
      "\t(No symbol) [0x00007FF675B26D83]\n",
      "\t(No symbol) [0x00007FF675AF83A8]\n",
      "\t(No symbol) [0x00007FF675AF9441]\n",
      "\tGetHandleVerifier [0x00007FF6760B262D+4238301]\n",
      "\tGetHandleVerifier [0x00007FF6760EF78D+4488509]\n",
      "\tGetHandleVerifier [0x00007FF6760E7A6F+4456479]\n",
      "\tGetHandleVerifier [0x00007FF675D90606+953270]\n",
      "\t(No symbol) [0x00007FF675C2E5DF]\n",
      "\t(No symbol) [0x00007FF675C292B4]\n",
      "\t(No symbol) [0x00007FF675C293EB]\n",
      "\t(No symbol) [0x00007FF675C19C24]\n",
      "\tBaseThreadInitThunk [0x00007FFC07C3257D+29]\n",
      "\tRtlUserThreadStart [0x00007FFC092AAA58+40]\n",
      "dictionary에 추가함\n",
      "dictionary에 추가함\n",
      "dictionary에 추가함\n",
      "dictionary에 추가함\n",
      "dictionary에 추가함\n",
      "dictionary에 추가함\n",
      "dictionary에 추가함\n",
      "dictionary에 추가함\n",
      "dictionary에 추가함\n",
      "dictionary에 추가함\n",
      "dictionary에 추가함\n",
      "실패 Message: \n",
      "Stacktrace:\n",
      "\tGetHandleVerifier [0x00007FF675CB70C2+63090]\n",
      "\t(No symbol) [0x00007FF675C22D12]\n",
      "\t(No symbol) [0x00007FF675ABEC65]\n",
      "\t(No symbol) [0x00007FF675B0499D]\n",
      "\t(No symbol) [0x00007FF675B04ADC]\n",
      "\t(No symbol) [0x00007FF675B45B37]\n",
      "\t(No symbol) [0x00007FF675B2701F]\n",
      "\t(No symbol) [0x00007FF675B43412]\n",
      "\t(No symbol) [0x00007FF675B26D83]\n",
      "\t(No symbol) [0x00007FF675AF83A8]\n",
      "\t(No symbol) [0x00007FF675AF9441]\n",
      "\tGetHandleVerifier [0x00007FF6760B262D+4238301]\n",
      "\tGetHandleVerifier [0x00007FF6760EF78D+4488509]\n",
      "\tGetHandleVerifier [0x00007FF6760E7A6F+4456479]\n",
      "\tGetHandleVerifier [0x00007FF675D90606+953270]\n",
      "\t(No symbol) [0x00007FF675C2E5DF]\n",
      "\t(No symbol) [0x00007FF675C292B4]\n",
      "\t(No symbol) [0x00007FF675C293EB]\n",
      "\t(No symbol) [0x00007FF675C19C24]\n",
      "\tBaseThreadInitThunk [0x00007FFC07C3257D+29]\n",
      "\tRtlUserThreadStart [0x00007FFC092AAA58+40]\n",
      "dictionary에 추가함\n",
      "dictionary에 추가함\n",
      "dictionary에 추가함\n",
      "dictionary에 추가함\n",
      "dictionary에 추가함\n",
      "dictionary에 추가함\n",
      "dictionary에 추가함\n",
      "dictionary에 추가함\n",
      "dictionary에 추가함\n",
      "dictionary에 추가함\n",
      "dictionary에 추가함\n",
      "dictionary에 추가함\n",
      "dictionary에 추가함\n",
      "dictionary에 추가함\n",
      "dictionary에 추가함\n",
      "dictionary에 추가함\n",
      "dictionary에 추가함\n",
      "dictionary에 추가함\n",
      "dictionary에 추가함\n",
      "dictionary에 추가함\n",
      "dictionary에 추가함\n",
      "dictionary에 추가함\n",
      "dictionary에 추가함\n",
      "dictionary에 추가함\n",
      "dictionary에 추가함\n",
      "dictionary에 추가함\n",
      "dictionary에 추가함\n",
      "dictionary에 추가함\n",
      "dictionary에 추가함\n",
      "dictionary에 추가함\n",
      "dictionary에 추가함\n",
      "dictionary에 추가함\n",
      "dictionary에 추가함\n",
      "dictionary에 추가함\n",
      "dictionary에 추가함\n",
      "dictionary에 추가함\n",
      "dictionary에 추가함\n",
      "실패 Message: \n",
      "Stacktrace:\n",
      "\tGetHandleVerifier [0x00007FF675CB70C2+63090]\n",
      "\t(No symbol) [0x00007FF675C22D12]\n",
      "\t(No symbol) [0x00007FF675ABEC65]\n",
      "\t(No symbol) [0x00007FF675B0499D]\n",
      "\t(No symbol) [0x00007FF675B04ADC]\n",
      "\t(No symbol) [0x00007FF675B45B37]\n",
      "\t(No symbol) [0x00007FF675B2701F]\n",
      "\t(No symbol) [0x00007FF675B43412]\n",
      "\t(No symbol) [0x00007FF675B26D83]\n",
      "\t(No symbol) [0x00007FF675AF83A8]\n",
      "\t(No symbol) [0x00007FF675AF9441]\n",
      "\tGetHandleVerifier [0x00007FF6760B262D+4238301]\n",
      "\tGetHandleVerifier [0x00007FF6760EF78D+4488509]\n",
      "\tGetHandleVerifier [0x00007FF6760E7A6F+4456479]\n",
      "\tGetHandleVerifier [0x00007FF675D90606+953270]\n",
      "\t(No symbol) [0x00007FF675C2E5DF]\n",
      "\t(No symbol) [0x00007FF675C292B4]\n",
      "\t(No symbol) [0x00007FF675C293EB]\n",
      "\t(No symbol) [0x00007FF675C19C24]\n",
      "\tBaseThreadInitThunk [0x00007FFC07C3257D+29]\n",
      "\tRtlUserThreadStart [0x00007FFC092AAA58+40]\n",
      "dictionary에 추가함\n",
      "dictionary에 추가함\n",
      "dictionary에 추가함\n",
      "dictionary에 추가함\n",
      "dictionary에 추가함\n",
      "dictionary에 추가함\n",
      "dictionary에 추가함\n",
      "실패 Message: \n",
      "Stacktrace:\n",
      "\tGetHandleVerifier [0x00007FF675CB70C2+63090]\n",
      "\t(No symbol) [0x00007FF675C22D12]\n",
      "\t(No symbol) [0x00007FF675ABEC65]\n",
      "\t(No symbol) [0x00007FF675B0499D]\n",
      "\t(No symbol) [0x00007FF675B04ADC]\n",
      "\t(No symbol) [0x00007FF675B45B37]\n",
      "\t(No symbol) [0x00007FF675B2701F]\n",
      "\t(No symbol) [0x00007FF675B43412]\n",
      "\t(No symbol) [0x00007FF675B26D83]\n",
      "\t(No symbol) [0x00007FF675AF83A8]\n",
      "\t(No symbol) [0x00007FF675AF9441]\n",
      "\tGetHandleVerifier [0x00007FF6760B262D+4238301]\n",
      "\tGetHandleVerifier [0x00007FF6760EF78D+4488509]\n",
      "\tGetHandleVerifier [0x00007FF6760E7A6F+4456479]\n",
      "\tGetHandleVerifier [0x00007FF675D90606+953270]\n",
      "\t(No symbol) [0x00007FF675C2E5DF]\n",
      "\t(No symbol) [0x00007FF675C292B4]\n",
      "\t(No symbol) [0x00007FF675C293EB]\n",
      "\t(No symbol) [0x00007FF675C19C24]\n",
      "\tBaseThreadInitThunk [0x00007FFC07C3257D+29]\n",
      "\tRtlUserThreadStart [0x00007FFC092AAA58+40]\n",
      "실패 Message: \n",
      "Stacktrace:\n",
      "\tGetHandleVerifier [0x00007FF675CB70C2+63090]\n",
      "\t(No symbol) [0x00007FF675C22D12]\n",
      "\t(No symbol) [0x00007FF675ABEC65]\n",
      "\t(No symbol) [0x00007FF675B0499D]\n",
      "\t(No symbol) [0x00007FF675B04ADC]\n",
      "\t(No symbol) [0x00007FF675B45B37]\n",
      "\t(No symbol) [0x00007FF675B2701F]\n",
      "\t(No symbol) [0x00007FF675B43412]\n",
      "\t(No symbol) [0x00007FF675B26D83]\n",
      "\t(No symbol) [0x00007FF675AF83A8]\n",
      "\t(No symbol) [0x00007FF675AF9441]\n",
      "\tGetHandleVerifier [0x00007FF6760B262D+4238301]\n",
      "\tGetHandleVerifier [0x00007FF6760EF78D+4488509]\n",
      "\tGetHandleVerifier [0x00007FF6760E7A6F+4456479]\n",
      "\tGetHandleVerifier [0x00007FF675D90606+953270]\n",
      "\t(No symbol) [0x00007FF675C2E5DF]\n",
      "\t(No symbol) [0x00007FF675C292B4]\n",
      "\t(No symbol) [0x00007FF675C293EB]\n",
      "\t(No symbol) [0x00007FF675C19C24]\n",
      "\tBaseThreadInitThunk [0x00007FFC07C3257D+29]\n",
      "\tRtlUserThreadStart [0x00007FFC092AAA58+40]\n",
      "dictionary에 추가함\n",
      "dictionary에 추가함\n",
      "dictionary에 추가함\n",
      "dictionary에 추가함\n",
      "dictionary에 추가함\n",
      "dictionary에 추가함\n",
      "dictionary에 추가함\n",
      "dictionary에 추가함\n"
     ]
    }
   ],
   "source": [
    "title_artist_lyrics = {'title':[], 'artist':[], 'lyric':[]}\n",
    "\n",
    "url_front = 'https://www.melon.com/song/detail.htm?songId='\n",
    "for num in song_num_list:\n",
    "    url = url_front + num\n",
    "    driver = webdriver.Chrome()\n",
    "    driver.get(url)\n",
    "    try:\n",
    "        # 가사가 로드될 때까지 대기\n",
    "        lyric_element = WebDriverWait(driver, 1).until(\n",
    "            EC.presence_of_element_located((By.CLASS_NAME, 'lyric'))\n",
    "        )\n",
    "        \n",
    "        # text 부분만 뽑아서 print\n",
    "        lyric_text = lyric_element.text\n",
    "        # print(lyric_text)\n",
    "        \n",
    "        # 노래 제목 뽑기\n",
    "        title_element = WebDriverWait(driver, 1).until(\n",
    "            EC.presence_of_element_located((By.CLASS_NAME, 'song_name')))\n",
    "        title_text = title_element.text\n",
    "        # print(f\"노래 제목 : {title_text}\")\n",
    "        \n",
    "        # 아티스트 뽑기\n",
    "        artist_element = WebDriverWait(driver, 1).until(\n",
    "            EC.presence_of_element_located((By.CLASS_NAME, 'artist_name')))\n",
    "        artist_text = artist_element.text\n",
    "        # print(f\"가수 이름 : {artist_text}\")\n",
    "        \n",
    "        title_artist_lyrics['title'].append(title_text)\n",
    "        title_artist_lyrics['artist'].append(artist_text)\n",
    "        title_artist_lyrics['lyric'].append(lyric_text)\n",
    "        print('dictionary에 추가함')\n",
    "    except Exception as e: print(\"실패\", e)\n",
    "\n",
    "    driver.quit()\n",
    "    \n",
    "# print(title_artist_lyrics)"
   ],
   "metadata": {
    "collapsed": false,
    "ExecuteTime": {
     "end_time": "2024-04-03T15:47:47.170690Z",
     "start_time": "2024-04-03T15:33:41.120497Z"
    }
   },
   "execution_count": 5
  },
  {
   "cell_type": "code",
   "outputs": [
    {
     "data": {
      "text/plain": "87"
     },
     "execution_count": 6,
     "metadata": {},
     "output_type": "execute_result"
    }
   ],
   "source": [
    "len(title_artist_lyrics['lyric'])"
   ],
   "metadata": {
    "collapsed": false,
    "ExecuteTime": {
     "end_time": "2024-04-03T15:47:47.196122Z",
     "start_time": "2024-04-03T15:47:47.173862Z"
    }
   },
   "execution_count": 6
  },
  {
   "cell_type": "code",
   "outputs": [
    {
     "data": {
      "text/plain": "            title          artist  \\\n0     Midas Touch    KISS OF LIFE   \n1  Beautiful MAZE   DRIPPIN (드리핀)   \n2           Siren           RIIZE   \n3    Happy ending  그라나다 (GRANADA)   \n4     벚꽃이 내리면 둘이서            노노제이   \n\n                                               lyric  \n0  Baby, count 10 That’s all I need\\n단숨에 빠져들어\\n(C...  \n1  I want to back the time\\n갈라져 버린 우리\\n끝내질 못해 Why...  \n2  Beat droppin’ low feelin’ up\\n뒤섞여 봐 완전히 새로운 Fl...  \n3  꼬일대로 꼬여버린\\n망한 인생 같아도\\n해도해도 안된다고\\n누가 말해도\\n다 집어치...  \n4  내게도 선물을 주세요 꽃은 됐구요\\n내 손위에 달콤한 초콜릿 주세요\\n나도 이제 함...  ",
      "text/html": "<div>\n<style scoped>\n    .dataframe tbody tr th:only-of-type {\n        vertical-align: middle;\n    }\n\n    .dataframe tbody tr th {\n        vertical-align: top;\n    }\n\n    .dataframe thead th {\n        text-align: right;\n    }\n</style>\n<table border=\"1\" class=\"dataframe\">\n  <thead>\n    <tr style=\"text-align: right;\">\n      <th></th>\n      <th>title</th>\n      <th>artist</th>\n      <th>lyric</th>\n    </tr>\n  </thead>\n  <tbody>\n    <tr>\n      <th>0</th>\n      <td>Midas Touch</td>\n      <td>KISS OF LIFE</td>\n      <td>Baby, count 10 That’s all I need\\n단숨에 빠져들어\\n(C...</td>\n    </tr>\n    <tr>\n      <th>1</th>\n      <td>Beautiful MAZE</td>\n      <td>DRIPPIN (드리핀)</td>\n      <td>I want to back the time\\n갈라져 버린 우리\\n끝내질 못해 Why...</td>\n    </tr>\n    <tr>\n      <th>2</th>\n      <td>Siren</td>\n      <td>RIIZE</td>\n      <td>Beat droppin’ low feelin’ up\\n뒤섞여 봐 완전히 새로운 Fl...</td>\n    </tr>\n    <tr>\n      <th>3</th>\n      <td>Happy ending</td>\n      <td>그라나다 (GRANADA)</td>\n      <td>꼬일대로 꼬여버린\\n망한 인생 같아도\\n해도해도 안된다고\\n누가 말해도\\n다 집어치...</td>\n    </tr>\n    <tr>\n      <th>4</th>\n      <td>벚꽃이 내리면 둘이서</td>\n      <td>노노제이</td>\n      <td>내게도 선물을 주세요 꽃은 됐구요\\n내 손위에 달콤한 초콜릿 주세요\\n나도 이제 함...</td>\n    </tr>\n  </tbody>\n</table>\n</div>"
     },
     "execution_count": 7,
     "metadata": {},
     "output_type": "execute_result"
    }
   ],
   "source": [
    "df_song = pd.DataFrame(title_artist_lyrics)\n",
    "df_song.head()"
   ],
   "metadata": {
    "collapsed": false,
    "ExecuteTime": {
     "end_time": "2024-04-03T15:47:47.227954Z",
     "start_time": "2024-04-03T15:47:47.198226Z"
    }
   },
   "execution_count": 7
  },
  {
   "cell_type": "code",
   "outputs": [
    {
     "name": "stdout",
     "output_type": "stream",
     "text": [
      "저장완료\n"
     ]
    }
   ],
   "source": [
    "df_song.to_csv('dance.csv')\n",
    "print('저장완료')"
   ],
   "metadata": {
    "collapsed": false,
    "ExecuteTime": {
     "end_time": "2024-04-03T15:47:47.259274Z",
     "start_time": "2024-04-03T15:47:47.230035Z"
    }
   },
   "execution_count": 8
  },
  {
   "cell_type": "code",
   "outputs": [],
   "source": [],
   "metadata": {
    "collapsed": false,
    "ExecuteTime": {
     "end_time": "2024-04-03T15:47:47.274890Z",
     "start_time": "2024-04-03T15:47:47.261388Z"
    }
   },
   "execution_count": 8
  }
 ],
 "metadata": {
  "kernelspec": {
   "display_name": "NLP_38",
   "language": "python",
   "name": "python3"
  },
  "language_info": {
   "codemirror_mode": {
    "name": "ipython",
    "version": 3
   },
   "file_extension": ".py",
   "mimetype": "text/x-python",
   "name": "python",
   "nbconvert_exporter": "python",
   "pygments_lexer": "ipython3",
   "version": "3.8.19"
  }
 },
 "nbformat": 4,
 "nbformat_minor": 2
}
