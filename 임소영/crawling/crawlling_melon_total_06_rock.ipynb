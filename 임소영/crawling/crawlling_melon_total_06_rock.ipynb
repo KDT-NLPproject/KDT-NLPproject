{
 "cells": [
  {
   "cell_type": "markdown",
   "source": [
    "# 장르별로 가사 크롤링하기! "
   ],
   "metadata": {
    "collapsed": false
   }
  },
  {
   "cell_type": "markdown",
   "source": [
    "### 총 3가지 바꾸셔야합니다."
   ],
   "metadata": {
    "collapsed": false
   }
  },
  {
   "cell_type": "code",
   "outputs": [],
   "source": [
    "from selenium.webdriver.common.keys import Keys\n",
    "import time\n",
    "import requests\n",
    "import pandas as pd\n",
    "from bs4 import BeautifulSoup\n",
    "from selenium import webdriver\n",
    "import re\n",
    "from selenium.webdriver.common.by import By\n",
    "from selenium.webdriver.support.ui import WebDriverWait\n",
    "from selenium.webdriver.support import expected_conditions as EC\n",
    "\n",
    "title_artist_lyrics = {'title':[], 'artist':[], 'lyric':[]}\n",
    "song_num_list = []"
   ],
   "metadata": {
    "collapsed": false,
    "ExecuteTime": {
     "end_time": "2024-04-04T01:13:41.603331Z",
     "start_time": "2024-04-04T01:13:41.061025Z"
    }
   },
   "execution_count": 1
  },
  {
   "cell_type": "markdown",
   "source": [
    "# input_url 변경 (1페이지)"
   ],
   "metadata": {
    "collapsed": false
   }
  },
  {
   "cell_type": "code",
   "outputs": [],
   "source": [
    "input_url = \"https://www.melon.com/genre/song_list.htm?gnrCode=GN0600\"\n",
    "\n",
    "# 멜론 창 열기\n",
    "driver = webdriver.Chrome()\n",
    "driver.get(input_url)\n",
    "\n",
    "bs = BeautifulSoup(driver.page_source, 'html.parser')\n",
    "result = bs.find_all('tr')\n",
    "count = 1\n",
    "\n",
    "for res in result:\n",
    "    #print(res)\n",
    "    # print(f\"===== {count} =====\")\n",
    "    # print(res.find('button'))\n",
    "    if res.find('button'):\n",
    "        try: \n",
    "            # print(f\"===== {count} =====\")\n",
    "            song_number = str(res.find('button')).split('-no=\"')[1][:8]\n",
    "            song_num_list.append(song_number)\n",
    "        except: pass\n",
    "    count +=1\n",
    "\n",
    "time.sleep(1)\n",
    "driver.quit()"
   ],
   "metadata": {
    "collapsed": false,
    "ExecuteTime": {
     "end_time": "2024-04-04T01:13:46.992071Z",
     "start_time": "2024-04-04T01:13:41.605315Z"
    }
   },
   "execution_count": 2
  },
  {
   "cell_type": "markdown",
   "source": [
    "# input_url 변경 (2페이지)"
   ],
   "metadata": {
    "collapsed": false
   }
  },
  {
   "cell_type": "code",
   "outputs": [],
   "source": [
    "input_url = \"https://www.melon.com/genre/song_list.htm?gnrCode=GN0600#params%5BgnrCode%5D=GN0600&params%5BdtlGnrCode%5D=&params%5BorderBy%5D=NEW&params%5BsteadyYn%5D=N&po=pageObj&startIndex=51\"\n",
    "# 멜론 창 열기\n",
    "driver = webdriver.Chrome()\n",
    "driver.get(input_url)\n",
    "bs = BeautifulSoup(driver.page_source, 'html.parser')\n",
    "result = bs.find_all('tr')\n",
    "count = 1\n",
    "for res in result:\n",
    "    #print(res)\n",
    "    # print(f\"===== {count} =====\")\n",
    "    # print(res.find('button'))\n",
    "    if res.find('button'):\n",
    "        try: \n",
    "            # print(f\"===== {count} =====\")\n",
    "            song_number = str(res.find('button')).split('-no=\"')[1][:8]\n",
    "            song_num_list.append(song_number)\n",
    "        except: pass\n",
    "    count +=1\n",
    "\n",
    "time.sleep(1)\n",
    "driver.quit()"
   ],
   "metadata": {
    "collapsed": false,
    "ExecuteTime": {
     "end_time": "2024-04-04T01:13:56.673546Z",
     "start_time": "2024-04-04T01:13:46.995432Z"
    }
   },
   "execution_count": 3
  },
  {
   "cell_type": "code",
   "outputs": [
    {
     "name": "stdout",
     "output_type": "stream",
     "text": [
      "50\n"
     ]
    }
   ],
   "source": [
    "print(len(song_num_list))"
   ],
   "metadata": {
    "collapsed": false,
    "ExecuteTime": {
     "end_time": "2024-04-04T01:13:56.688840Z",
     "start_time": "2024-04-04T01:13:56.674548Z"
    }
   },
   "execution_count": 4
  },
  {
   "cell_type": "code",
   "outputs": [
    {
     "name": "stdout",
     "output_type": "stream",
     "text": [
      "dictionary에 추가함\n",
      "dictionary에 추가함\n",
      "dictionary에 추가함\n",
      "dictionary에 추가함\n",
      "dictionary에 추가함\n",
      "dictionary에 추가함\n",
      "dictionary에 추가함\n",
      "dictionary에 추가함\n",
      "dictionary에 추가함\n",
      "실패 Message: \n",
      "Stacktrace:\n",
      "\tGetHandleVerifier [0x00007FF68EE870C2+63090]\n",
      "\t(No symbol) [0x00007FF68EDF2D12]\n",
      "\t(No symbol) [0x00007FF68EC8EC65]\n",
      "\t(No symbol) [0x00007FF68ECD499D]\n",
      "\t(No symbol) [0x00007FF68ECD4ADC]\n",
      "\t(No symbol) [0x00007FF68ED15B37]\n",
      "\t(No symbol) [0x00007FF68ECF701F]\n",
      "\t(No symbol) [0x00007FF68ED13412]\n",
      "\t(No symbol) [0x00007FF68ECF6D83]\n",
      "\t(No symbol) [0x00007FF68ECC83A8]\n",
      "\t(No symbol) [0x00007FF68ECC9441]\n",
      "\tGetHandleVerifier [0x00007FF68F28262D+4238301]\n",
      "\tGetHandleVerifier [0x00007FF68F2BF78D+4488509]\n",
      "\tGetHandleVerifier [0x00007FF68F2B7A6F+4456479]\n",
      "\tGetHandleVerifier [0x00007FF68EF60606+953270]\n",
      "\t(No symbol) [0x00007FF68EDFE5DF]\n",
      "\t(No symbol) [0x00007FF68EDF92B4]\n",
      "\t(No symbol) [0x00007FF68EDF93EB]\n",
      "\t(No symbol) [0x00007FF68EDE9C24]\n",
      "\tBaseThreadInitThunk [0x00007FFC07C3257D+29]\n",
      "\tRtlUserThreadStart [0x00007FFC092AAA58+40]\n",
      "dictionary에 추가함\n",
      "dictionary에 추가함\n",
      "dictionary에 추가함\n",
      "dictionary에 추가함\n",
      "dictionary에 추가함\n",
      "dictionary에 추가함\n",
      "dictionary에 추가함\n",
      "dictionary에 추가함\n",
      "dictionary에 추가함\n",
      "dictionary에 추가함\n",
      "dictionary에 추가함\n",
      "dictionary에 추가함\n",
      "dictionary에 추가함\n",
      "dictionary에 추가함\n",
      "dictionary에 추가함\n",
      "dictionary에 추가함\n",
      "dictionary에 추가함\n",
      "dictionary에 추가함\n",
      "dictionary에 추가함\n",
      "dictionary에 추가함\n",
      "dictionary에 추가함\n",
      "실패 Message: \n",
      "Stacktrace:\n",
      "\tGetHandleVerifier [0x00007FF68EE870C2+63090]\n",
      "\t(No symbol) [0x00007FF68EDF2D12]\n",
      "\t(No symbol) [0x00007FF68EC8EC65]\n",
      "\t(No symbol) [0x00007FF68ECD499D]\n",
      "\t(No symbol) [0x00007FF68ECD4ADC]\n",
      "\t(No symbol) [0x00007FF68ED15B37]\n",
      "\t(No symbol) [0x00007FF68ECF701F]\n",
      "\t(No symbol) [0x00007FF68ED13412]\n",
      "\t(No symbol) [0x00007FF68ECF6D83]\n",
      "\t(No symbol) [0x00007FF68ECC83A8]\n",
      "\t(No symbol) [0x00007FF68ECC9441]\n",
      "\tGetHandleVerifier [0x00007FF68F28262D+4238301]\n",
      "\tGetHandleVerifier [0x00007FF68F2BF78D+4488509]\n",
      "\tGetHandleVerifier [0x00007FF68F2B7A6F+4456479]\n",
      "\tGetHandleVerifier [0x00007FF68EF60606+953270]\n",
      "\t(No symbol) [0x00007FF68EDFE5DF]\n",
      "\t(No symbol) [0x00007FF68EDF92B4]\n",
      "\t(No symbol) [0x00007FF68EDF93EB]\n",
      "\t(No symbol) [0x00007FF68EDE9C24]\n",
      "\tBaseThreadInitThunk [0x00007FFC07C3257D+29]\n",
      "\tRtlUserThreadStart [0x00007FFC092AAA58+40]\n",
      "dictionary에 추가함\n",
      "dictionary에 추가함\n",
      "dictionary에 추가함\n",
      "실패 Message: \n",
      "Stacktrace:\n",
      "\tGetHandleVerifier [0x00007FF68EE870C2+63090]\n",
      "\t(No symbol) [0x00007FF68EDF2D12]\n",
      "\t(No symbol) [0x00007FF68EC8EC65]\n",
      "\t(No symbol) [0x00007FF68ECD499D]\n",
      "\t(No symbol) [0x00007FF68ECD4ADC]\n",
      "\t(No symbol) [0x00007FF68ED15B37]\n",
      "\t(No symbol) [0x00007FF68ECF701F]\n",
      "\t(No symbol) [0x00007FF68ED13412]\n",
      "\t(No symbol) [0x00007FF68ECF6D83]\n",
      "\t(No symbol) [0x00007FF68ECC83A8]\n",
      "\t(No symbol) [0x00007FF68ECC9441]\n",
      "\tGetHandleVerifier [0x00007FF68F28262D+4238301]\n",
      "\tGetHandleVerifier [0x00007FF68F2BF78D+4488509]\n",
      "\tGetHandleVerifier [0x00007FF68F2B7A6F+4456479]\n",
      "\tGetHandleVerifier [0x00007FF68EF60606+953270]\n",
      "\t(No symbol) [0x00007FF68EDFE5DF]\n",
      "\t(No symbol) [0x00007FF68EDF92B4]\n",
      "\t(No symbol) [0x00007FF68EDF93EB]\n",
      "\t(No symbol) [0x00007FF68EDE9C24]\n",
      "\tBaseThreadInitThunk [0x00007FFC07C3257D+29]\n",
      "\tRtlUserThreadStart [0x00007FFC092AAA58+40]\n",
      "dictionary에 추가함\n",
      "dictionary에 추가함\n",
      "dictionary에 추가함\n",
      "dictionary에 추가함\n",
      "dictionary에 추가함\n",
      "dictionary에 추가함\n",
      "dictionary에 추가함\n",
      "dictionary에 추가함\n",
      "dictionary에 추가함\n",
      "dictionary에 추가함\n",
      "dictionary에 추가함\n",
      "실패 Message: \n",
      "Stacktrace:\n",
      "\tGetHandleVerifier [0x00007FF68EE870C2+63090]\n",
      "\t(No symbol) [0x00007FF68EDF2D12]\n",
      "\t(No symbol) [0x00007FF68EC8EC65]\n",
      "\t(No symbol) [0x00007FF68ECD499D]\n",
      "\t(No symbol) [0x00007FF68ECD4ADC]\n",
      "\t(No symbol) [0x00007FF68ED15B37]\n",
      "\t(No symbol) [0x00007FF68ECF701F]\n",
      "\t(No symbol) [0x00007FF68ED13412]\n",
      "\t(No symbol) [0x00007FF68ECF6D83]\n",
      "\t(No symbol) [0x00007FF68ECC83A8]\n",
      "\t(No symbol) [0x00007FF68ECC9441]\n",
      "\tGetHandleVerifier [0x00007FF68F28262D+4238301]\n",
      "\tGetHandleVerifier [0x00007FF68F2BF78D+4488509]\n",
      "\tGetHandleVerifier [0x00007FF68F2B7A6F+4456479]\n",
      "\tGetHandleVerifier [0x00007FF68EF60606+953270]\n",
      "\t(No symbol) [0x00007FF68EDFE5DF]\n",
      "\t(No symbol) [0x00007FF68EDF92B4]\n",
      "\t(No symbol) [0x00007FF68EDF93EB]\n",
      "\t(No symbol) [0x00007FF68EDE9C24]\n",
      "\tBaseThreadInitThunk [0x00007FFC07C3257D+29]\n",
      "\tRtlUserThreadStart [0x00007FFC092AAA58+40]\n",
      "dictionary에 추가함\n",
      "dictionary에 추가함\n"
     ]
    }
   ],
   "source": [
    "title_artist_lyrics = {'title':[], 'artist':[], 'lyric':[]}\n",
    "\n",
    "url_front = 'https://www.melon.com/song/detail.htm?songId='\n",
    "for num in song_num_list:\n",
    "    url = url_front + num\n",
    "    driver = webdriver.Chrome()\n",
    "    driver.get(url)\n",
    "    try:\n",
    "        # 가사가 로드될 때까지 대기\n",
    "        lyric_element = WebDriverWait(driver, 1).until(\n",
    "            EC.presence_of_element_located((By.CLASS_NAME, 'lyric'))\n",
    "        )\n",
    "        \n",
    "        # text 부분만 뽑아서 print\n",
    "        lyric_text = lyric_element.text\n",
    "        # print(lyric_text)\n",
    "        \n",
    "        # 노래 제목 뽑기\n",
    "        title_element = WebDriverWait(driver, 1).until(\n",
    "            EC.presence_of_element_located((By.CLASS_NAME, 'song_name')))\n",
    "        title_text = title_element.text\n",
    "        # print(f\"노래 제목 : {title_text}\")\n",
    "        \n",
    "        # 아티스트 뽑기\n",
    "        artist_element = WebDriverWait(driver, 1).until(\n",
    "            EC.presence_of_element_located((By.CLASS_NAME, 'artist_name')))\n",
    "        artist_text = artist_element.text\n",
    "        # print(f\"가수 이름 : {artist_text}\")\n",
    "        \n",
    "        title_artist_lyrics['title'].append(title_text)\n",
    "        title_artist_lyrics['artist'].append(artist_text)\n",
    "        title_artist_lyrics['lyric'].append(lyric_text)\n",
    "        print('dictionary에 추가함')\n",
    "    except Exception as e: print(\"실패\", e)\n",
    "\n",
    "    driver.quit()\n",
    "    \n",
    "# print(title_artist_lyrics)"
   ],
   "metadata": {
    "collapsed": false,
    "ExecuteTime": {
     "end_time": "2024-04-04T01:21:06.570514Z",
     "start_time": "2024-04-04T01:13:56.690834Z"
    }
   },
   "execution_count": 5
  },
  {
   "cell_type": "code",
   "outputs": [
    {
     "data": {
      "text/plain": "46"
     },
     "execution_count": 6,
     "metadata": {},
     "output_type": "execute_result"
    }
   ],
   "source": [
    "len(title_artist_lyrics['lyric'])"
   ],
   "metadata": {
    "collapsed": false,
    "ExecuteTime": {
     "end_time": "2024-04-04T01:21:06.601409Z",
     "start_time": "2024-04-04T01:21:06.572983Z"
    }
   },
   "execution_count": 6
  },
  {
   "cell_type": "code",
   "outputs": [
    {
     "data": {
      "text/plain": "           title            artist  \\\n0             12   오스터존 (OSTERJON)   \n1             개화    청슬 (ChungSeul)   \n2         흐르는 대로       Adios Audio   \n3      돼지와 함께 춤을             리얼프로그   \n4  Horizon (수평선)  Vanillare (바닐레어)   \n\n                                               lyric  \n0  못 받은 전화 미안하지만\\n새하얀 세상과 난 어울리지 않아\\n난 괜찮은데 왜 그런 ...  \n1  우연히 찾아온 너란 큰 세상 속에\\n두 눈을 감고서 온전히 널 느껴\\n\\n쓰린 아픔...  \n2  흐르는 대로 드리운 대로 느끼는 대로\\n\\n지독하리 찌는 기분\\n흩어지지 못하는 개...  \n3  나의 현실은 쓰라리곤 아팠고\\n우린 쏟아져내렸어\\n구멍 난 하루의 나의 모든 파란을...  \n4  Just set me free\\nFrom all the messes you’re i...  ",
      "text/html": "<div>\n<style scoped>\n    .dataframe tbody tr th:only-of-type {\n        vertical-align: middle;\n    }\n\n    .dataframe tbody tr th {\n        vertical-align: top;\n    }\n\n    .dataframe thead th {\n        text-align: right;\n    }\n</style>\n<table border=\"1\" class=\"dataframe\">\n  <thead>\n    <tr style=\"text-align: right;\">\n      <th></th>\n      <th>title</th>\n      <th>artist</th>\n      <th>lyric</th>\n    </tr>\n  </thead>\n  <tbody>\n    <tr>\n      <th>0</th>\n      <td>12</td>\n      <td>오스터존 (OSTERJON)</td>\n      <td>못 받은 전화 미안하지만\\n새하얀 세상과 난 어울리지 않아\\n난 괜찮은데 왜 그런 ...</td>\n    </tr>\n    <tr>\n      <th>1</th>\n      <td>개화</td>\n      <td>청슬 (ChungSeul)</td>\n      <td>우연히 찾아온 너란 큰 세상 속에\\n두 눈을 감고서 온전히 널 느껴\\n\\n쓰린 아픔...</td>\n    </tr>\n    <tr>\n      <th>2</th>\n      <td>흐르는 대로</td>\n      <td>Adios Audio</td>\n      <td>흐르는 대로 드리운 대로 느끼는 대로\\n\\n지독하리 찌는 기분\\n흩어지지 못하는 개...</td>\n    </tr>\n    <tr>\n      <th>3</th>\n      <td>돼지와 함께 춤을</td>\n      <td>리얼프로그</td>\n      <td>나의 현실은 쓰라리곤 아팠고\\n우린 쏟아져내렸어\\n구멍 난 하루의 나의 모든 파란을...</td>\n    </tr>\n    <tr>\n      <th>4</th>\n      <td>Horizon (수평선)</td>\n      <td>Vanillare (바닐레어)</td>\n      <td>Just set me free\\nFrom all the messes you’re i...</td>\n    </tr>\n  </tbody>\n</table>\n</div>"
     },
     "execution_count": 7,
     "metadata": {},
     "output_type": "execute_result"
    }
   ],
   "source": [
    "df_song = pd.DataFrame(title_artist_lyrics)\n",
    "df_song.head()"
   ],
   "metadata": {
    "collapsed": false,
    "ExecuteTime": {
     "end_time": "2024-04-04T01:21:06.642851Z",
     "start_time": "2024-04-04T01:21:06.603091Z"
    }
   },
   "execution_count": 7
  },
  {
   "cell_type": "markdown",
   "source": [
    "# 파일 저장명 변경"
   ],
   "metadata": {
    "collapsed": false
   }
  },
  {
   "cell_type": "code",
   "outputs": [
    {
     "name": "stdout",
     "output_type": "stream",
     "text": [
      "csv 파일로 저장 완료\n"
     ]
    }
   ],
   "source": [
    "save_name = 'rock.csv'\n",
    "df_song.to_csv(save_name)\n",
    "print('csv 파일로 저장 완료')"
   ],
   "metadata": {
    "collapsed": false,
    "ExecuteTime": {
     "end_time": "2024-04-04T01:21:06.689950Z",
     "start_time": "2024-04-04T01:21:06.646807Z"
    }
   },
   "execution_count": 8
  },
  {
   "cell_type": "code",
   "outputs": [],
   "source": [],
   "metadata": {
    "collapsed": false,
    "ExecuteTime": {
     "end_time": "2024-04-04T01:21:06.720933Z",
     "start_time": "2024-04-04T01:21:06.709678Z"
    }
   },
   "execution_count": 8
  }
 ],
 "metadata": {
  "kernelspec": {
   "display_name": "NLP_38",
   "language": "python",
   "name": "python3"
  },
  "language_info": {
   "codemirror_mode": {
    "name": "ipython",
    "version": 3
   },
   "file_extension": ".py",
   "mimetype": "text/x-python",
   "name": "python",
   "nbconvert_exporter": "python",
   "pygments_lexer": "ipython3",
   "version": "3.8.19"
  }
 },
 "nbformat": 4,
 "nbformat_minor": 2
}
