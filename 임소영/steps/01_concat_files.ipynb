{
 "cells": [
  {
   "cell_type": "code",
   "outputs": [],
   "source": [
    "import pandas as pd\n",
    "hip = '../data/crawl_data/03_hiphop.csv'\n",
    "hip_data = pd.read_csv(hip)\n",
    "hip_data['genre'] = 'hiphop'\n",
    "\n",
    "dan = '../data/crawl_data/02_dance.csv'\n",
    "dance_data = pd.read_csv(dan)\n",
    "dance_data['genre'] = 'dance'\n",
    "\n",
    "bal = '../data/crawl_data/01_balad.csv'\n",
    "balad_data = pd.read_csv(bal)\n",
    "balad_data['genre'] = 'balad'\n",
    "\n",
    "indi = '../data/crawl_data/04_indi.csv'\n",
    "indi_data = pd.read_csv(indi)\n",
    "indi_data['genre'] = 'indi'\n",
    "\n",
    "rb = '../data/crawl_data/05_rb.csv'\n",
    "rb_data = pd.read_csv(rb)\n",
    "rb_data['genre'] = 'rb'\n",
    "\n",
    "rock = '../data/crawl_data/rock_~200.csv'\n",
    "rock_data = pd.read_csv(rock)\n",
    "rock_data['genre'] = 'rock'\n",
    "\n",
    "trot = '../data/crawl_data/trot1.csv'\n",
    "trot_data = pd.read_csv(trot)\n",
    "trot_data['genre'] = 'trot'\n",
    "\n",
    "fork = '../data/crawl_data/fork1.csv'\n",
    "fork_data = pd.read_csv(fork)\n",
    "fork_data['genre'] = 'fork'"
   ],
   "metadata": {
    "collapsed": false,
    "ExecuteTime": {
     "end_time": "2024-04-04T04:05:32.364189Z",
     "start_time": "2024-04-04T04:05:32.320954Z"
    }
   },
   "id": "5cca70fb23bd70ff",
   "execution_count": 62
  },
  {
   "cell_type": "code",
   "outputs": [
    {
     "data": {
      "text/plain": "(100, 5)"
     },
     "execution_count": 63,
     "metadata": {},
     "output_type": "execute_result"
    }
   ],
   "source": [
    "rock_data = rock_data.iloc[:100]\n",
    "rock_data = rock_data[['Unnamed: 0', 'title','artist', 'lyric','genre']]\n",
    "rock_data.shape"
   ],
   "metadata": {
    "collapsed": false,
    "ExecuteTime": {
     "end_time": "2024-04-04T04:05:33.528876Z",
     "start_time": "2024-04-04T04:05:33.520716Z"
    }
   },
   "id": "7dafb983658bdbfb",
   "execution_count": 63
  },
  {
   "cell_type": "code",
   "outputs": [
    {
     "data": {
      "text/plain": "   Unnamed: 0          title            artist  \\\n0           0             12   오스터존 (OSTERJON)   \n1           1             개화    청슬 (ChungSeul)   \n2           2         흐르는 대로       Adios Audio   \n3           3      돼지와 함께 춤을             리얼프로그   \n4           4  Horizon (수평선)  Vanillare (바닐레어)   \n\n                                               lyric genre  \n0  못 받은 전화 미안하지만\\n새하얀 세상과 난 어울리지 않아\\n난 괜찮은데 왜 그런 ...  rock  \n1  우연히 찾아온 너란 큰 세상 속에\\n두 눈을 감고서 온전히 널 느껴\\n\\n쓰린 아픔...  rock  \n2  흐르는 대로 드리운 대로 느끼는 대로\\n\\n지독하리 찌는 기분\\n흩어지지 못하는 개...  rock  \n3  나의 현실은 쓰라리곤 아팠고\\n우린 쏟아져내렸어\\n구멍 난 하루의 나의 모든 파란을...  rock  \n4  Just set me free\\nFrom all the messes you’re i...  rock  ",
      "text/html": "<div>\n<style scoped>\n    .dataframe tbody tr th:only-of-type {\n        vertical-align: middle;\n    }\n\n    .dataframe tbody tr th {\n        vertical-align: top;\n    }\n\n    .dataframe thead th {\n        text-align: right;\n    }\n</style>\n<table border=\"1\" class=\"dataframe\">\n  <thead>\n    <tr style=\"text-align: right;\">\n      <th></th>\n      <th>Unnamed: 0</th>\n      <th>title</th>\n      <th>artist</th>\n      <th>lyric</th>\n      <th>genre</th>\n    </tr>\n  </thead>\n  <tbody>\n    <tr>\n      <th>0</th>\n      <td>0</td>\n      <td>12</td>\n      <td>오스터존 (OSTERJON)</td>\n      <td>못 받은 전화 미안하지만\\n새하얀 세상과 난 어울리지 않아\\n난 괜찮은데 왜 그런 ...</td>\n      <td>rock</td>\n    </tr>\n    <tr>\n      <th>1</th>\n      <td>1</td>\n      <td>개화</td>\n      <td>청슬 (ChungSeul)</td>\n      <td>우연히 찾아온 너란 큰 세상 속에\\n두 눈을 감고서 온전히 널 느껴\\n\\n쓰린 아픔...</td>\n      <td>rock</td>\n    </tr>\n    <tr>\n      <th>2</th>\n      <td>2</td>\n      <td>흐르는 대로</td>\n      <td>Adios Audio</td>\n      <td>흐르는 대로 드리운 대로 느끼는 대로\\n\\n지독하리 찌는 기분\\n흩어지지 못하는 개...</td>\n      <td>rock</td>\n    </tr>\n    <tr>\n      <th>3</th>\n      <td>3</td>\n      <td>돼지와 함께 춤을</td>\n      <td>리얼프로그</td>\n      <td>나의 현실은 쓰라리곤 아팠고\\n우린 쏟아져내렸어\\n구멍 난 하루의 나의 모든 파란을...</td>\n      <td>rock</td>\n    </tr>\n    <tr>\n      <th>4</th>\n      <td>4</td>\n      <td>Horizon (수평선)</td>\n      <td>Vanillare (바닐레어)</td>\n      <td>Just set me free\\nFrom all the messes you’re i...</td>\n      <td>rock</td>\n    </tr>\n  </tbody>\n</table>\n</div>"
     },
     "execution_count": 64,
     "metadata": {},
     "output_type": "execute_result"
    }
   ],
   "source": [
    "rock_data.head()"
   ],
   "metadata": {
    "collapsed": false,
    "ExecuteTime": {
     "end_time": "2024-04-04T04:05:34.912975Z",
     "start_time": "2024-04-04T04:05:34.887724Z"
    }
   },
   "id": "d0b78162c70a0bd8",
   "execution_count": 64
  },
  {
   "cell_type": "code",
   "outputs": [],
   "source": [
    "fork_data = fork_data.iloc[:100]"
   ],
   "metadata": {
    "collapsed": false,
    "ExecuteTime": {
     "end_time": "2024-04-04T04:05:36.520932Z",
     "start_time": "2024-04-04T04:05:36.516363Z"
    }
   },
   "id": "de0d2647afab584e",
   "execution_count": 65
  },
  {
   "cell_type": "code",
   "outputs": [
    {
     "data": {
      "text/plain": "   Unnamed: 0                   title         artist  \\\n0           0  kuiz_sketch_220404.m4a            9o1   \n1           1          소나기 (feat. 예빛)          SHUYA   \n2           2                   무뎌진단건  projectsummit   \n3           3                      구름            박서하   \n4           4                 몽마르뜨 언덕            장하윤   \n\n                                               lyric genre  \n0  After years and years, now I am here\\nI’ve bee...  fork  \n1  잠깐 내린 비에\\n네가 보고 싶어진 게 우습지\\n우산을 두드리는 빗소리보다\\n더 시...  fork  \n2  난 말야 있잖아 항상\\n무너지는게 싫었어 아프니까\\n무뎌지고 싶었어 무너지기 싫어서...  fork  \n3  이 어두운 방안에 드리워진 네 그림자\\n어지럽혀진 내 생각, 그리고 너\\n\\n우두커...  fork  \n4  몽마르뜨 언덕의 숲을 지나\\n샹젤리제 거리의 부티크 부티크\\n\\n눈에 보이지 않으면...  fork  ",
      "text/html": "<div>\n<style scoped>\n    .dataframe tbody tr th:only-of-type {\n        vertical-align: middle;\n    }\n\n    .dataframe tbody tr th {\n        vertical-align: top;\n    }\n\n    .dataframe thead th {\n        text-align: right;\n    }\n</style>\n<table border=\"1\" class=\"dataframe\">\n  <thead>\n    <tr style=\"text-align: right;\">\n      <th></th>\n      <th>Unnamed: 0</th>\n      <th>title</th>\n      <th>artist</th>\n      <th>lyric</th>\n      <th>genre</th>\n    </tr>\n  </thead>\n  <tbody>\n    <tr>\n      <th>0</th>\n      <td>0</td>\n      <td>kuiz_sketch_220404.m4a</td>\n      <td>9o1</td>\n      <td>After years and years, now I am here\\nI’ve bee...</td>\n      <td>fork</td>\n    </tr>\n    <tr>\n      <th>1</th>\n      <td>1</td>\n      <td>소나기 (feat. 예빛)</td>\n      <td>SHUYA</td>\n      <td>잠깐 내린 비에\\n네가 보고 싶어진 게 우습지\\n우산을 두드리는 빗소리보다\\n더 시...</td>\n      <td>fork</td>\n    </tr>\n    <tr>\n      <th>2</th>\n      <td>2</td>\n      <td>무뎌진단건</td>\n      <td>projectsummit</td>\n      <td>난 말야 있잖아 항상\\n무너지는게 싫었어 아프니까\\n무뎌지고 싶었어 무너지기 싫어서...</td>\n      <td>fork</td>\n    </tr>\n    <tr>\n      <th>3</th>\n      <td>3</td>\n      <td>구름</td>\n      <td>박서하</td>\n      <td>이 어두운 방안에 드리워진 네 그림자\\n어지럽혀진 내 생각, 그리고 너\\n\\n우두커...</td>\n      <td>fork</td>\n    </tr>\n    <tr>\n      <th>4</th>\n      <td>4</td>\n      <td>몽마르뜨 언덕</td>\n      <td>장하윤</td>\n      <td>몽마르뜨 언덕의 숲을 지나\\n샹젤리제 거리의 부티크 부티크\\n\\n눈에 보이지 않으면...</td>\n      <td>fork</td>\n    </tr>\n  </tbody>\n</table>\n</div>"
     },
     "execution_count": 66,
     "metadata": {},
     "output_type": "execute_result"
    }
   ],
   "source": [
    "fork_data.shape\n",
    "fork_data.head()"
   ],
   "metadata": {
    "collapsed": false,
    "ExecuteTime": {
     "end_time": "2024-04-04T04:05:38.170914Z",
     "start_time": "2024-04-04T04:05:38.146051Z"
    }
   },
   "id": "77c83b3627ae2404",
   "execution_count": 66
  },
  {
   "cell_type": "code",
   "outputs": [
    {
     "name": "stdout",
     "output_type": "stream",
     "text": [
      "   Unnamed: 0       title         artist  \\\n",
      "0           0       Reset     선재 (snzae)   \n",
      "1           1     Tip Toe         EUNSAN   \n",
      "2           2    와사비가 최고야  projectsummit   \n",
      "3           3  Black Card    summitmusic   \n",
      "4           4   southside            이효승   \n",
      "\n",
      "                                               lyric   genre  \n",
      "0  I ain't waiting for your care\\n다 귀찮아 dizzy cal...  hiphop  \n",
      "1  oh baby girl I'll never let you go\\n너 없인 못사는 놈...  hiphop  \n",
      "2  완전 와사비 중독 나\\n코에서 뻥 나오는 매콤한 향기\\n혀끝에서 터지는 톡 쏘는 맛...  hiphop  \n",
      "3  Yeah, we living that black card life, you know...  hiphop  \n",
      "4  iam from south side\\ncappers 전부 박살 (박살)\\nrap m...  hiphop  \n",
      "\n",
      "\n",
      "\n",
      "   Unnamed: 0           title          artist  \\\n",
      "0           0     Midas Touch    KISS OF LIFE   \n",
      "1           1  Beautiful MAZE   DRIPPIN (드리핀)   \n",
      "2           2           Siren           RIIZE   \n",
      "3           3    Happy ending  그라나다 (GRANADA)   \n",
      "4           4     벚꽃이 내리면 둘이서            노노제이   \n",
      "\n",
      "                                               lyric  genre  \n",
      "0  Baby, count 10 That’s all I need\\n단숨에 빠져들어\\n(C...  dance  \n",
      "1  I want to back the time\\n갈라져 버린 우리\\n끝내질 못해 Why...  dance  \n",
      "2  Beat droppin’ low feelin’ up\\n뒤섞여 봐 완전히 새로운 Fl...  dance  \n",
      "3  꼬일대로 꼬여버린\\n망한 인생 같아도\\n해도해도 안된다고\\n누가 말해도\\n다 집어치...  dance  \n",
      "4  내게도 선물을 주세요 꽃은 됐구요\\n내 손위에 달콤한 초콜릿 주세요\\n나도 이제 함...  dance  \n",
      "\n",
      "\n",
      "\n",
      "   Unnamed: 0                       title       artist  \\\n",
      "0           0                  끝이 없는 영화처럼           영주   \n",
      "1           1                     보고싶다 벌써          박보람   \n",
      "2           2                    사랑인 것 같아    에이블(Able)   \n",
      "3           3  넌 기쁨이자 행운이야 (Piano by 임인건)  슬기 (SEULGI)   \n",
      "4           4           어떤 말도 우릴 설명할 수 없죠          주예인   \n",
      "\n",
      "                                               lyric  genre  \n",
      "0  난 언제나 그랬듯이, 이 적막에 익숙해져\\n무심하게 들어오는 찬 바람에 틈을 막아\\...  balad  \n",
      "1  밤은 깊어져가고\\n취기는 더 오르고\\n눈앞이 비틀대고\\n말끝은 흐려지고\\n\\n방금 ...  balad  \n",
      "2  사랑에 빠진 것 같아 널 볼 때\\n두근거리는 소리가 더 커져\\n부드러운 눈빛이 나를...  balad  \n",
      "3  넓고 푸르른 하늘이 이불이 되어 너는 편히 꿈꾸렴\\n즐거웠던 날의 기억 두 눈을 감...  balad  \n",
      "4  오늘 밤 우리의 사랑이 끝난다면\\n어떤 모습일까\\n너와 나의 계절이 흩어져 사라지면...  balad  \n",
      "\n",
      "\n",
      "\n",
      "   Unnamed: 0                      title       artist  \\\n",
      "0           0          어떤 말도 우릴 설명할 수 없죠          주예인   \n",
      "1           1  cat and mouse (feat. 전예찬)  루카스 (Lucas)   \n",
      "2           2             소나기 (feat. 예빛)        SHUYA   \n",
      "3           3                    구름도 아니고     Kinn (킨)   \n",
      "4           4        Nothin' Without You           행성   \n",
      "\n",
      "                                               lyric genre  \n",
      "0  오늘 밤 우리의 사랑이 끝난다면\\n어떤 모습일까\\n너와 나의 계절이 흩어져 사라지면...  indi  \n",
      "1  헷갈리게 하지 마\\nBaby close to me\\n자꾸 반응하잖아\\nJust fe...  indi  \n",
      "2  잠깐 내린 비에\\n네가 보고 싶어진 게 우습지\\n우산을 두드리는 빗소리보다\\n더 시...  indi  \n",
      "3  한 번도 말해 본 적 없었어\\n혹시 들킬까 봐 난\\n도대체 어떡해야 할지\\n나도 잘...  indi  \n",
      "4  How can i live without your love?\\nCuz I’m not...  indi  \n",
      "\n",
      "\n",
      "\n",
      "   Unnamed: 0                        title       artist  \\\n",
      "0           0                         LURE    I.M (아이엠)   \n",
      "1           1  Take Me Away (Feat. g1nger)  CHANNEL 201   \n",
      "2           2    cat and mouse (feat. 전예찬)  루카스 (Lucas)   \n",
      "3           3                      구름도 아니고     Kinn (킨)   \n",
      "4           4          Nothin' Without You           행성   \n",
      "\n",
      "                                               lyric genre  \n",
      "0  Give me all your time cause I can’t hide\\nKeep...    rb  \n",
      "1  I never told you\\n서투른 고백과\\n낯선 표정 채워진\\n모든게 미지의 ...    rb  \n",
      "2  헷갈리게 하지 마\\nBaby close to me\\n자꾸 반응하잖아\\nJust fe...    rb  \n",
      "3  한 번도 말해 본 적 없었어\\n혹시 들킬까 봐 난\\n도대체 어떡해야 할지\\n나도 잘...    rb  \n",
      "4  How can i live without your love?\\nCuz I’m not...    rb  \n",
      "\n",
      "\n",
      "\n",
      "   Unnamed: 0          title            artist  \\\n",
      "0           0             12   오스터존 (OSTERJON)   \n",
      "1           1             개화    청슬 (ChungSeul)   \n",
      "2           2         흐르는 대로       Adios Audio   \n",
      "3           3      돼지와 함께 춤을             리얼프로그   \n",
      "4           4  Horizon (수평선)  Vanillare (바닐레어)   \n",
      "\n",
      "                                               lyric genre  \n",
      "0  못 받은 전화 미안하지만\\n새하얀 세상과 난 어울리지 않아\\n난 괜찮은데 왜 그런 ...  rock  \n",
      "1  우연히 찾아온 너란 큰 세상 속에\\n두 눈을 감고서 온전히 널 느껴\\n\\n쓰린 아픔...  rock  \n",
      "2  흐르는 대로 드리운 대로 느끼는 대로\\n\\n지독하리 찌는 기분\\n흩어지지 못하는 개...  rock  \n",
      "3  나의 현실은 쓰라리곤 아팠고\\n우린 쏟아져내렸어\\n구멍 난 하루의 나의 모든 파란을...  rock  \n",
      "4  Just set me free\\nFrom all the messes you’re i...  rock  \n",
      "\n",
      "\n",
      "\n",
      "   Unnamed: 0               title     artist  \\\n",
      "0           0            내 인생 드라마        양송희   \n",
      "1           1                  웃자        김무진   \n",
      "2           2               나만의 꽃        김보영   \n",
      "3           3             오르락 내리락        김규석   \n",
      "4           4  강변역에서 (기타 솔로 ver.)  서사장 (SSJ)   \n",
      "\n",
      "                                               lyric genre  \n",
      "0  매일 같이 돌아가는 내 하루\\n웃고 우는 하루는 날 채워가\\n넘어져도 일어나려 했던...  trot  \n",
      "1  지난날 슬픔 모두 잊고서 시원하게 소리쳐봐요 하하\\n\\n그대여 무슨 사연 있나요. ...  trot  \n",
      "2  다시는 가지 않아요 가시밭 그 길\\n모르고 걸어왔지만 이젠 알아요\\n눈물이 많아 외...  trot  \n",
      "3  오르락 내리락 오르락 내리락\\n세상만사 모든것이 오르락 내리락\\n그런것이 인생이라 ...  trot  \n",
      "4  강변역에서 출발 할께요\\n당신을 만나러 막차를 타고\\n아아아아 벌써 설레여 와요\\n...  trot  \n"
     ]
    }
   ],
   "source": [
    "print(hip_data.head(), dance_data.head(), balad_data.head(), indi_data.head(), rb_data.head(), rock_data.head(), trot_data.head(), sep = '\\n\\n\\n\\n')"
   ],
   "metadata": {
    "collapsed": false,
    "ExecuteTime": {
     "end_time": "2024-04-04T04:05:43.913115Z",
     "start_time": "2024-04-04T04:05:43.884791Z"
    }
   },
   "id": "6d5c0d5140ee6eca",
   "execution_count": 67
  },
  {
   "cell_type": "code",
   "outputs": [
    {
     "data": {
      "text/plain": "   Unnamed: 0                   title         artist  \\\n0           0  kuiz_sketch_220404.m4a            9o1   \n1           1          소나기 (feat. 예빛)          SHUYA   \n2           2                   무뎌진단건  projectsummit   \n3           3                      구름            박서하   \n4           4                 몽마르뜨 언덕            장하윤   \n\n                                               lyric genre  \n0  After years and years, now I am here\\nI’ve bee...  fork  \n1  잠깐 내린 비에\\n네가 보고 싶어진 게 우습지\\n우산을 두드리는 빗소리보다\\n더 시...  fork  \n2  난 말야 있잖아 항상\\n무너지는게 싫었어 아프니까\\n무뎌지고 싶었어 무너지기 싫어서...  fork  \n3  이 어두운 방안에 드리워진 네 그림자\\n어지럽혀진 내 생각, 그리고 너\\n\\n우두커...  fork  \n4  몽마르뜨 언덕의 숲을 지나\\n샹젤리제 거리의 부티크 부티크\\n\\n눈에 보이지 않으면...  fork  ",
      "text/html": "<div>\n<style scoped>\n    .dataframe tbody tr th:only-of-type {\n        vertical-align: middle;\n    }\n\n    .dataframe tbody tr th {\n        vertical-align: top;\n    }\n\n    .dataframe thead th {\n        text-align: right;\n    }\n</style>\n<table border=\"1\" class=\"dataframe\">\n  <thead>\n    <tr style=\"text-align: right;\">\n      <th></th>\n      <th>Unnamed: 0</th>\n      <th>title</th>\n      <th>artist</th>\n      <th>lyric</th>\n      <th>genre</th>\n    </tr>\n  </thead>\n  <tbody>\n    <tr>\n      <th>0</th>\n      <td>0</td>\n      <td>kuiz_sketch_220404.m4a</td>\n      <td>9o1</td>\n      <td>After years and years, now I am here\\nI’ve bee...</td>\n      <td>fork</td>\n    </tr>\n    <tr>\n      <th>1</th>\n      <td>1</td>\n      <td>소나기 (feat. 예빛)</td>\n      <td>SHUYA</td>\n      <td>잠깐 내린 비에\\n네가 보고 싶어진 게 우습지\\n우산을 두드리는 빗소리보다\\n더 시...</td>\n      <td>fork</td>\n    </tr>\n    <tr>\n      <th>2</th>\n      <td>2</td>\n      <td>무뎌진단건</td>\n      <td>projectsummit</td>\n      <td>난 말야 있잖아 항상\\n무너지는게 싫었어 아프니까\\n무뎌지고 싶었어 무너지기 싫어서...</td>\n      <td>fork</td>\n    </tr>\n    <tr>\n      <th>3</th>\n      <td>3</td>\n      <td>구름</td>\n      <td>박서하</td>\n      <td>이 어두운 방안에 드리워진 네 그림자\\n어지럽혀진 내 생각, 그리고 너\\n\\n우두커...</td>\n      <td>fork</td>\n    </tr>\n    <tr>\n      <th>4</th>\n      <td>4</td>\n      <td>몽마르뜨 언덕</td>\n      <td>장하윤</td>\n      <td>몽마르뜨 언덕의 숲을 지나\\n샹젤리제 거리의 부티크 부티크\\n\\n눈에 보이지 않으면...</td>\n      <td>fork</td>\n    </tr>\n  </tbody>\n</table>\n</div>"
     },
     "execution_count": 68,
     "metadata": {},
     "output_type": "execute_result"
    }
   ],
   "source": [
    "fork_data.head()"
   ],
   "metadata": {
    "collapsed": false,
    "ExecuteTime": {
     "end_time": "2024-04-04T04:05:44.601365Z",
     "start_time": "2024-04-04T04:05:44.590964Z"
    }
   },
   "id": "441a44b73178fad1",
   "execution_count": 68
  },
  {
   "cell_type": "code",
   "outputs": [
    {
     "data": {
      "text/plain": "(772, 5)"
     },
     "execution_count": 69,
     "metadata": {},
     "output_type": "execute_result"
    }
   ],
   "source": [
    "lyric_data = pd.concat([hip_data, dance_data, balad_data, indi_data, rb_data, rock_data, trot_data, fork_data])\n",
    "lyric_data.shape"
   ],
   "metadata": {
    "collapsed": false,
    "ExecuteTime": {
     "end_time": "2024-04-04T04:05:45.689940Z",
     "start_time": "2024-04-04T04:05:45.668350Z"
    }
   },
   "id": "f8a22407faf56d1",
   "execution_count": 69
  },
  {
   "cell_type": "code",
   "outputs": [],
   "source": [
    "lyric_data.to_csv('real_real_all_genre.csv')"
   ],
   "metadata": {
    "collapsed": false,
    "ExecuteTime": {
     "end_time": "2024-04-04T04:05:50.735127Z",
     "start_time": "2024-04-04T04:05:50.707547Z"
    }
   },
   "id": "e55413fef2136b23",
   "execution_count": 70
  },
  {
   "cell_type": "code",
   "outputs": [],
   "source": [],
   "metadata": {
    "collapsed": false
   },
   "id": "90be1215ed8490e7",
   "execution_count": null
  }
 ],
 "metadata": {
  "kernelspec": {
   "display_name": "Python 3",
   "language": "python",
   "name": "python3"
  },
  "language_info": {
   "codemirror_mode": {
    "name": "ipython",
    "version": 2
   },
   "file_extension": ".py",
   "mimetype": "text/x-python",
   "name": "python",
   "nbconvert_exporter": "python",
   "pygments_lexer": "ipython2",
   "version": "2.7.6"
  }
 },
 "nbformat": 4,
 "nbformat_minor": 5
}
