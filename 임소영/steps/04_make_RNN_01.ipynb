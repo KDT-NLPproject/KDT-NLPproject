{
 "cells": [
  {
   "cell_type": "code",
   "execution_count": null,
   "id": "initial_id",
   "metadata": {
    "collapsed": true,
    "ExecuteTime": {
     "start_time": "2024-04-05T03:06:26.945278Z"
    }
   },
   "outputs": [],
   "source": [
    "import pandas as pd"
   ]
  },
  {
   "cell_type": "code",
   "outputs": [],
   "source": [
    "result = pd.read_csv('./padded_encoded_df.csv', usecols=[1,2])\n",
    "data = pd.DataFrame(result)\n",
    "data.head()"
   ],
   "metadata": {
    "collapsed": false,
    "ExecuteTime": {
     "start_time": "2024-04-05T03:06:22.443655Z"
    }
   },
   "id": "c65fef1ba31536f0",
   "execution_count": null
  },
  {
   "cell_type": "markdown",
   "source": [
    "# feature, label 분리"
   ],
   "metadata": {
    "collapsed": false
   },
   "id": "6f13644b5b9cbcca"
  },
  {
   "cell_type": "code",
   "outputs": [],
   "source": [
    "feature_df = data[['encoded_lyrics']]\n",
    "label_df = data[['genre']]"
   ],
   "metadata": {
    "collapsed": false,
    "ExecuteTime": {
     "start_time": "2024-04-05T03:06:22.490161Z"
    }
   },
   "id": "6d31254c789d0efe",
   "execution_count": null
  },
  {
   "cell_type": "markdown",
   "source": [
    "# train, test    DataLoader 생성"
   ],
   "metadata": {
    "collapsed": false
   },
   "id": "8605f744e291a0f1"
  },
  {
   "cell_type": "code",
   "outputs": [],
   "source": [
    "from sklearn.model_selection import train_test_split\n",
    "\n",
    "X_train, X_test, y_train, y_test = train_test_split(feature_df, label_df, stratify=label_df, test_size=0.2, random_state=42)"
   ],
   "metadata": {
    "collapsed": false,
    "ExecuteTime": {
     "start_time": "2024-04-05T03:06:26.949575Z"
    }
   },
   "id": "73f70386efcb7a57",
   "execution_count": null
  },
  {
   "cell_type": "code",
   "outputs": [],
   "source": [
    "train_data = pd.concat([X_train, y_train], axis=1)\n",
    "test_data = pd.concat([X_test, y_test], axis = 1)\n",
    "train_data.head()"
   ],
   "metadata": {
    "collapsed": false,
    "ExecuteTime": {
     "start_time": "2024-04-05T03:06:26.950642Z"
    }
   },
   "id": "ae7978f6afc0ec61",
   "execution_count": null
  },
  {
   "cell_type": "code",
   "outputs": [],
   "source": [
    "train_data.shape"
   ],
   "metadata": {
    "collapsed": false,
    "ExecuteTime": {
     "start_time": "2024-04-05T03:06:26.951740Z"
    }
   },
   "id": "95516c6f0e9a553",
   "execution_count": null
  },
  {
   "cell_type": "code",
   "outputs": [],
   "source": [
    "test_data.head()"
   ],
   "metadata": {
    "collapsed": false,
    "ExecuteTime": {
     "start_time": "2024-04-05T03:06:23.395207Z"
    }
   },
   "id": "4de1acb8c0e6e226",
   "execution_count": null
  },
  {
   "cell_type": "markdown",
   "source": [
    "# 텐서로 변환"
   ],
   "metadata": {
    "collapsed": false
   },
   "id": "bee31a9e971a6475"
  },
  {
   "cell_type": "code",
   "outputs": [],
   "source": [],
   "metadata": {
    "collapsed": false,
    "ExecuteTime": {
     "start_time": "2024-04-05T03:06:23.410410Z"
    }
   },
   "id": "5a15da7ffbae737a"
  },
  {
   "cell_type": "code",
   "outputs": [],
   "source": [
    "from torch.utils.data import DataLoader\n",
    "\n",
    "BATCH = 20\n",
    "\n",
    "train_loader = DataLoader(train_data, batch_size = BATCH, shuffle = True)\n",
    "test_loader = DataLoader(test_data, batch_size = BATCH, shuffle = True)"
   ],
   "metadata": {
    "collapsed": false,
    "ExecuteTime": {
     "start_time": "2024-04-05T03:06:26.958041Z"
    }
   },
   "id": "38d160a3f931d616",
   "execution_count": null
  },
  {
   "cell_type": "markdown",
   "source": [
    "# 모델 설계"
   ],
   "metadata": {
    "collapsed": false
   },
   "id": "31f71710a9c4b6ac"
  },
  {
   "cell_type": "code",
   "outputs": [],
   "source": [
    "import torch.nn as nn\n",
    "class music_rnn(nn.Module):\n",
    "    def __init__(self, VOCAB_SIZE, EMBED_DIM, HIDDEN_SIZE, NUM_CLASS):\n",
    "        super().__init__()\n",
    "        self.embedding = nn.Embedding(num_embeddings=VOCAB_SIZE, embedding_dim=EMBED_DIM)\n",
    "        self.rnn = nn.RNN(input_size=EMBED_DIM, hidden_size=HIDDEN_SIZE)\n",
    "        # 학습 모델을 RNN 대신에 LSTM을 사용해볼수도 있겠다\n",
    "        # RNN에서 양방향 학습 파라미터를 설정해볼 수 도 있겠다.\n",
    "        \n",
    "        # 활성화함수 => 다중 분류니까\n",
    "        # self.fc = nn.Softmax(HIDDEN_SIZE, NUM_CLASS) # 이렇게 쓰는게아닌가?\n",
    "        self.fc = nn.Linear(HIDDEN_SIZE, NUM_CLASS) # 다중 분류인데 이게 되나?\n",
    "        self.init_weights() # 이건 왜 쓴거지?\n",
    "        self.dropout = nn.Dropout()  # 혹시 모를 과대적합을 위해서\n",
    "        \n",
    "    # 가중치 초기화\n",
    "    def init_weights(self):\n",
    "        range = 0.5\n",
    "        self.embedding.weight.data.uniform_(-range, range)\n",
    "        self.fc.weight.data.uniform_(-range, range)\n",
    "        self.fc.bias.data.zero_()\n",
    "        \n",
    "    # 순방향 학습 진행\n",
    "    def forward(self, text, offsets):\n",
    "        embed = self.embedding(text, offsets)\n",
    "        output, hidden = self.rnn(embed)\n",
    "        result = self.fc(output)\n",
    "        return result"
   ],
   "metadata": {
    "collapsed": false,
    "ExecuteTime": {
     "start_time": "2024-04-05T03:06:26.959107Z"
    }
   },
   "id": "56fe7d4666bf3171",
   "execution_count": null
  },
  {
   "cell_type": "code",
   "outputs": [],
   "source": [
    "# 학습용 변수들 지정\n",
    "from torch import optim\n",
    "import torch\n",
    "import torch.nn as nn\n",
    "import torch.nn.functional as F\n",
    "VOCAB_SIZE = 13714\n",
    "EMBED_DIM = 50\n",
    "HIDDEN_SIZE = 10 \n",
    "NUM_CLASS = 8\n",
    "model = music_rnn(VOCAB_SIZE, EMBED_DIM, HIDDEN_SIZE, NUM_CLASS)\n",
    "\n",
    "device = 'cuda' if torch.cuda.is_available() else 'cpu'\n",
    "loss_fn = nn.CrossEntropyLoss().to(device)\n",
    "optimizer = optim.Adam(params = model.parameters())\n",
    "scheduler = optim.lr_scheduler.ReduceLROnPlateau(optimizer)"
   ],
   "metadata": {
    "collapsed": false,
    "ExecuteTime": {
     "start_time": "2024-04-05T03:06:25.294043Z"
    }
   },
   "id": "2e2f1701cefa5cb1",
   "execution_count": null
  },
  {
   "cell_type": "markdown",
   "source": [
    "# 함수 지정 (train, test)"
   ],
   "metadata": {
    "collapsed": false
   },
   "id": "9df80cc45c27fead"
  },
  {
   "cell_type": "code",
   "outputs": [],
   "source": [
    "# !pip install torchmetrics"
   ],
   "metadata": {
    "collapsed": false,
    "ExecuteTime": {
     "start_time": "2024-04-05T03:06:26.962293Z"
    }
   },
   "id": "eb5c5b44f4115725",
   "execution_count": null
  },
  {
   "cell_type": "code",
   "outputs": [],
   "source": [
    "# 데이터 로더를 텐서화 시키기"
   ],
   "metadata": {
    "collapsed": false,
    "ExecuteTime": {
     "start_time": "2024-04-05T03:06:26.265027Z"
    }
   },
   "id": "b325f8af9e6b53d1",
   "execution_count": null
  },
  {
   "cell_type": "code",
   "outputs": [],
   "source": [
    "train_tensor = torch.Tensor(train_loader)"
   ],
   "metadata": {
    "collapsed": false,
    "ExecuteTime": {
     "start_time": "2024-04-05T03:06:26.965577Z"
    }
   },
   "id": "4a51d9031b324239",
   "execution_count": null
  },
  {
   "cell_type": "code",
   "outputs": [],
   "source": [],
   "metadata": {
    "collapsed": false,
    "ExecuteTime": {
     "start_time": "2024-04-05T03:06:26.939943Z"
    }
   },
   "id": "e2dd02d468534db7"
  },
  {
   "cell_type": "code",
   "outputs": [],
   "source": [],
   "metadata": {
    "collapsed": false,
    "ExecuteTime": {
     "start_time": "2024-04-05T03:06:26.968892Z"
    }
   },
   "id": "7780b1f858ea1b35"
  },
  {
   "cell_type": "code",
   "outputs": [],
   "source": [
    "import torchmetrics.functional.classification as metrics\n",
    "def training(DATALOADER):\n",
    "    model.train()\n",
    "    output_list = [[], [], [], [], []]\n",
    "    # loss, acc, precision, recall, f1_score\n",
    "    for (feature, label) in DATALOADER:\n",
    "        train_feature = feature.to(device)\n",
    "        train_label = label.to(device)\n",
    "        pred = model(train_feature)\n",
    "        \n",
    "        # 손실 검정\n",
    "        loss = loss_fn(pred, train_label) \n",
    "        output_list[0].append(loss)\n",
    "        output_list[1].append(metrics.accuracy(pred, train_label, task = 'multiclass'))\n",
    "        output_list[2].append(metrics.precision(pred, train_label, task = 'multiclass'))\n",
    "        output_list[3].append(metrics.recall(pred, train_label, task = 'multiclass'))\n",
    "        output_list[4].append(metrics.f1_score(pred, train_label, task = 'multiclass'))\n",
    "        \n",
    "        # 업데이트\n",
    "        optimizer.zero_grad()\n",
    "        loss.backward()\n",
    "        optimizer.step()\n",
    "    \n",
    "    return output_list"
   ],
   "metadata": {
    "collapsed": false,
    "ExecuteTime": {
     "start_time": "2024-04-05T03:06:26.971065Z"
    }
   },
   "id": "73f7f55acbfe51e",
   "execution_count": null
  },
  {
   "cell_type": "code",
   "outputs": [],
   "source": [],
   "metadata": {
    "collapsed": false,
    "ExecuteTime": {
     "start_time": "2024-04-05T03:06:26.943105Z"
    }
   },
   "id": "2143a64bee4d8b2a"
  }
 ],
 "metadata": {
  "kernelspec": {
   "display_name": "Python 3",
   "language": "python",
   "name": "python3"
  },
  "language_info": {
   "codemirror_mode": {
    "name": "ipython",
    "version": 2
   },
   "file_extension": ".py",
   "mimetype": "text/x-python",
   "name": "python",
   "nbconvert_exporter": "python",
   "pygments_lexer": "ipython2",
   "version": "2.7.6"
  }
 },
 "nbformat": 4,
 "nbformat_minor": 5
}
