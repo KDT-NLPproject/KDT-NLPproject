{
 "cells": [
  {
   "cell_type": "code",
   "execution_count": 1,
   "id": "initial_id",
   "metadata": {
    "collapsed": true,
    "ExecuteTime": {
     "end_time": "2024-04-05T03:00:29.229552Z",
     "start_time": "2024-04-05T03:00:28.722414Z"
    }
   },
   "outputs": [],
   "source": [
    "import pandas as pd"
   ]
  },
  {
   "cell_type": "code",
   "outputs": [
    {
     "data": {
      "text/plain": "   Unnamed: 0  genre    1    2    3    4    5    6    7    8  ...  843  844  \\\n0           0      1    0    2    3    0    0    4    0    5  ...    1    1   \n1           1      1   31   41   42   43   44   45    0   46  ...    1    1   \n2           2      1  138  139  140    0    0    0  141    0  ...    1    1   \n3           3      1  117    0  203    0  204  205  206    0  ...    1    1   \n4           4      1  284    0  285  286  287    0  288  288  ...    1    1   \n\n   845  846  847  848  849  850  851  852  \n0    1    1    1    1    1    1    1    1  \n1    1    1    1    1    1    1    1    1  \n2    1    1    1    1    1    1    1    1  \n3    1    1    1    1    1    1    1    1  \n4    1    1    1    1    1    1    1    1  \n\n[5 rows x 854 columns]",
      "text/html": "<div>\n<style scoped>\n    .dataframe tbody tr th:only-of-type {\n        vertical-align: middle;\n    }\n\n    .dataframe tbody tr th {\n        vertical-align: top;\n    }\n\n    .dataframe thead th {\n        text-align: right;\n    }\n</style>\n<table border=\"1\" class=\"dataframe\">\n  <thead>\n    <tr style=\"text-align: right;\">\n      <th></th>\n      <th>Unnamed: 0</th>\n      <th>genre</th>\n      <th>1</th>\n      <th>2</th>\n      <th>3</th>\n      <th>4</th>\n      <th>5</th>\n      <th>6</th>\n      <th>7</th>\n      <th>8</th>\n      <th>...</th>\n      <th>843</th>\n      <th>844</th>\n      <th>845</th>\n      <th>846</th>\n      <th>847</th>\n      <th>848</th>\n      <th>849</th>\n      <th>850</th>\n      <th>851</th>\n      <th>852</th>\n    </tr>\n  </thead>\n  <tbody>\n    <tr>\n      <th>0</th>\n      <td>0</td>\n      <td>1</td>\n      <td>0</td>\n      <td>2</td>\n      <td>3</td>\n      <td>0</td>\n      <td>0</td>\n      <td>4</td>\n      <td>0</td>\n      <td>5</td>\n      <td>...</td>\n      <td>1</td>\n      <td>1</td>\n      <td>1</td>\n      <td>1</td>\n      <td>1</td>\n      <td>1</td>\n      <td>1</td>\n      <td>1</td>\n      <td>1</td>\n      <td>1</td>\n    </tr>\n    <tr>\n      <th>1</th>\n      <td>1</td>\n      <td>1</td>\n      <td>31</td>\n      <td>41</td>\n      <td>42</td>\n      <td>43</td>\n      <td>44</td>\n      <td>45</td>\n      <td>0</td>\n      <td>46</td>\n      <td>...</td>\n      <td>1</td>\n      <td>1</td>\n      <td>1</td>\n      <td>1</td>\n      <td>1</td>\n      <td>1</td>\n      <td>1</td>\n      <td>1</td>\n      <td>1</td>\n      <td>1</td>\n    </tr>\n    <tr>\n      <th>2</th>\n      <td>2</td>\n      <td>1</td>\n      <td>138</td>\n      <td>139</td>\n      <td>140</td>\n      <td>0</td>\n      <td>0</td>\n      <td>0</td>\n      <td>141</td>\n      <td>0</td>\n      <td>...</td>\n      <td>1</td>\n      <td>1</td>\n      <td>1</td>\n      <td>1</td>\n      <td>1</td>\n      <td>1</td>\n      <td>1</td>\n      <td>1</td>\n      <td>1</td>\n      <td>1</td>\n    </tr>\n    <tr>\n      <th>3</th>\n      <td>3</td>\n      <td>1</td>\n      <td>117</td>\n      <td>0</td>\n      <td>203</td>\n      <td>0</td>\n      <td>204</td>\n      <td>205</td>\n      <td>206</td>\n      <td>0</td>\n      <td>...</td>\n      <td>1</td>\n      <td>1</td>\n      <td>1</td>\n      <td>1</td>\n      <td>1</td>\n      <td>1</td>\n      <td>1</td>\n      <td>1</td>\n      <td>1</td>\n      <td>1</td>\n    </tr>\n    <tr>\n      <th>4</th>\n      <td>4</td>\n      <td>1</td>\n      <td>284</td>\n      <td>0</td>\n      <td>285</td>\n      <td>286</td>\n      <td>287</td>\n      <td>0</td>\n      <td>288</td>\n      <td>288</td>\n      <td>...</td>\n      <td>1</td>\n      <td>1</td>\n      <td>1</td>\n      <td>1</td>\n      <td>1</td>\n      <td>1</td>\n      <td>1</td>\n      <td>1</td>\n      <td>1</td>\n      <td>1</td>\n    </tr>\n  </tbody>\n</table>\n<p>5 rows × 854 columns</p>\n</div>"
     },
     "execution_count": 2,
     "metadata": {},
     "output_type": "execute_result"
    }
   ],
   "source": [
    "result = pd.read_csv('./total_padded_encoded_df.csv')\n",
    "data = pd.DataFrame(result)\n",
    "data.head()"
   ],
   "metadata": {
    "collapsed": false,
    "ExecuteTime": {
     "end_time": "2024-04-05T03:00:29.308448Z",
     "start_time": "2024-04-05T03:00:29.231858Z"
    }
   },
   "id": "c65fef1ba31536f0",
   "execution_count": 2
  },
  {
   "cell_type": "markdown",
   "source": [
    "# feature, label 분리"
   ],
   "metadata": {
    "collapsed": false
   },
   "id": "6f13644b5b9cbcca"
  },
  {
   "cell_type": "code",
   "outputs": [
    {
     "name": "stdout",
     "output_type": "stream",
     "text": [
      "(772, 852) (772, 1)\n"
     ]
    }
   ],
   "source": [
    "feature_df = data.iloc[:, 2:]\n",
    "label_df = data[['genre']]\n",
    "print(feature_df.shape, label_df.shape)"
   ],
   "metadata": {
    "collapsed": false,
    "ExecuteTime": {
     "end_time": "2024-04-05T03:00:29.323814Z",
     "start_time": "2024-04-05T03:00:29.310714Z"
    }
   },
   "id": "6d31254c789d0efe",
   "execution_count": 3
  },
  {
   "cell_type": "code",
   "outputs": [
    {
     "data": {
      "text/plain": "     1    2    3    4    5    6    7    8    9   10  ...  843  844  845  846  \\\n0    0    2    3    0    0    4    0    5    6    7  ...    1    1    1    1   \n1   31   41   42   43   44   45    0   46    0   47  ...    1    1    1    1   \n2  138  139  140    0    0    0  141    0  143    0  ...    1    1    1    1   \n3  117    0  203    0  204  205  206    0  118  207  ...    1    1    1    1   \n4  284    0  285  286  287    0  288  288  289  290  ...    1    1    1    1   \n\n   847  848  849  850  851  852  \n0    1    1    1    1    1    1  \n1    1    1    1    1    1    1  \n2    1    1    1    1    1    1  \n3    1    1    1    1    1    1  \n4    1    1    1    1    1    1  \n\n[5 rows x 852 columns]",
      "text/html": "<div>\n<style scoped>\n    .dataframe tbody tr th:only-of-type {\n        vertical-align: middle;\n    }\n\n    .dataframe tbody tr th {\n        vertical-align: top;\n    }\n\n    .dataframe thead th {\n        text-align: right;\n    }\n</style>\n<table border=\"1\" class=\"dataframe\">\n  <thead>\n    <tr style=\"text-align: right;\">\n      <th></th>\n      <th>1</th>\n      <th>2</th>\n      <th>3</th>\n      <th>4</th>\n      <th>5</th>\n      <th>6</th>\n      <th>7</th>\n      <th>8</th>\n      <th>9</th>\n      <th>10</th>\n      <th>...</th>\n      <th>843</th>\n      <th>844</th>\n      <th>845</th>\n      <th>846</th>\n      <th>847</th>\n      <th>848</th>\n      <th>849</th>\n      <th>850</th>\n      <th>851</th>\n      <th>852</th>\n    </tr>\n  </thead>\n  <tbody>\n    <tr>\n      <th>0</th>\n      <td>0</td>\n      <td>2</td>\n      <td>3</td>\n      <td>0</td>\n      <td>0</td>\n      <td>4</td>\n      <td>0</td>\n      <td>5</td>\n      <td>6</td>\n      <td>7</td>\n      <td>...</td>\n      <td>1</td>\n      <td>1</td>\n      <td>1</td>\n      <td>1</td>\n      <td>1</td>\n      <td>1</td>\n      <td>1</td>\n      <td>1</td>\n      <td>1</td>\n      <td>1</td>\n    </tr>\n    <tr>\n      <th>1</th>\n      <td>31</td>\n      <td>41</td>\n      <td>42</td>\n      <td>43</td>\n      <td>44</td>\n      <td>45</td>\n      <td>0</td>\n      <td>46</td>\n      <td>0</td>\n      <td>47</td>\n      <td>...</td>\n      <td>1</td>\n      <td>1</td>\n      <td>1</td>\n      <td>1</td>\n      <td>1</td>\n      <td>1</td>\n      <td>1</td>\n      <td>1</td>\n      <td>1</td>\n      <td>1</td>\n    </tr>\n    <tr>\n      <th>2</th>\n      <td>138</td>\n      <td>139</td>\n      <td>140</td>\n      <td>0</td>\n      <td>0</td>\n      <td>0</td>\n      <td>141</td>\n      <td>0</td>\n      <td>143</td>\n      <td>0</td>\n      <td>...</td>\n      <td>1</td>\n      <td>1</td>\n      <td>1</td>\n      <td>1</td>\n      <td>1</td>\n      <td>1</td>\n      <td>1</td>\n      <td>1</td>\n      <td>1</td>\n      <td>1</td>\n    </tr>\n    <tr>\n      <th>3</th>\n      <td>117</td>\n      <td>0</td>\n      <td>203</td>\n      <td>0</td>\n      <td>204</td>\n      <td>205</td>\n      <td>206</td>\n      <td>0</td>\n      <td>118</td>\n      <td>207</td>\n      <td>...</td>\n      <td>1</td>\n      <td>1</td>\n      <td>1</td>\n      <td>1</td>\n      <td>1</td>\n      <td>1</td>\n      <td>1</td>\n      <td>1</td>\n      <td>1</td>\n      <td>1</td>\n    </tr>\n    <tr>\n      <th>4</th>\n      <td>284</td>\n      <td>0</td>\n      <td>285</td>\n      <td>286</td>\n      <td>287</td>\n      <td>0</td>\n      <td>288</td>\n      <td>288</td>\n      <td>289</td>\n      <td>290</td>\n      <td>...</td>\n      <td>1</td>\n      <td>1</td>\n      <td>1</td>\n      <td>1</td>\n      <td>1</td>\n      <td>1</td>\n      <td>1</td>\n      <td>1</td>\n      <td>1</td>\n      <td>1</td>\n    </tr>\n  </tbody>\n</table>\n<p>5 rows × 852 columns</p>\n</div>"
     },
     "execution_count": 4,
     "metadata": {},
     "output_type": "execute_result"
    }
   ],
   "source": [
    "feature_df.head()"
   ],
   "metadata": {
    "collapsed": false,
    "ExecuteTime": {
     "end_time": "2024-04-05T03:00:29.339829Z",
     "start_time": "2024-04-05T03:00:29.326035Z"
    }
   },
   "id": "7e97bdb90f217b31",
   "execution_count": 4
  },
  {
   "cell_type": "code",
   "outputs": [
    {
     "data": {
      "text/plain": "   genre\n0      1\n1      1\n2      1\n3      1\n4      1",
      "text/html": "<div>\n<style scoped>\n    .dataframe tbody tr th:only-of-type {\n        vertical-align: middle;\n    }\n\n    .dataframe tbody tr th {\n        vertical-align: top;\n    }\n\n    .dataframe thead th {\n        text-align: right;\n    }\n</style>\n<table border=\"1\" class=\"dataframe\">\n  <thead>\n    <tr style=\"text-align: right;\">\n      <th></th>\n      <th>genre</th>\n    </tr>\n  </thead>\n  <tbody>\n    <tr>\n      <th>0</th>\n      <td>1</td>\n    </tr>\n    <tr>\n      <th>1</th>\n      <td>1</td>\n    </tr>\n    <tr>\n      <th>2</th>\n      <td>1</td>\n    </tr>\n    <tr>\n      <th>3</th>\n      <td>1</td>\n    </tr>\n    <tr>\n      <th>4</th>\n      <td>1</td>\n    </tr>\n  </tbody>\n</table>\n</div>"
     },
     "execution_count": 5,
     "metadata": {},
     "output_type": "execute_result"
    }
   ],
   "source": [
    "label_df.head()"
   ],
   "metadata": {
    "collapsed": false,
    "ExecuteTime": {
     "end_time": "2024-04-05T03:00:29.355179Z",
     "start_time": "2024-04-05T03:00:29.340983Z"
    }
   },
   "id": "8f93f08d6d24cf41",
   "execution_count": 5
  },
  {
   "cell_type": "markdown",
   "source": [
    "# train, test    DataLoader 생성 및 텐서 변환"
   ],
   "metadata": {
    "collapsed": false
   },
   "id": "8605f744e291a0f1"
  },
  {
   "cell_type": "code",
   "outputs": [],
   "source": [
    "from sklearn.model_selection import train_test_split\n",
    "\n",
    "X_train, X_test, y_train, y_test = train_test_split(feature_df, label_df, stratify=label_df, test_size=0.2, random_state=42)"
   ],
   "metadata": {
    "collapsed": false,
    "ExecuteTime": {
     "end_time": "2024-04-05T03:00:30.381756Z",
     "start_time": "2024-04-05T03:00:29.358290Z"
    }
   },
   "id": "73f70386efcb7a57",
   "execution_count": 6
  },
  {
   "cell_type": "code",
   "outputs": [
    {
     "data": {
      "text/plain": "        1     2      3      4      5     6     7     8     9    10  ...  844  \\\n530  3016  3530  11254    805      0  2592     0   253     0     0  ...    1   \n563     0     0      0      0      0  1831     0  7634     0  1831  ...    1   \n443  1090     0    294      0  10208     0     0  3996  2715   123  ...    1   \n442     0     0      0  10188      0    50     0     0    89     0  ...    1   \n355  3648  3849   9287   9288      0     0  9289  9290   728     0  ...    1   \n\n     845  846  847  848  849  850  851  852  genre  \n530    1    1    1    1    1    1    1    1      6  \n563    1    1    1    1    1    1    1    1      7  \n443    1    1    1    1    1    1    1    1      5  \n442    1    1    1    1    1    1    1    1      5  \n355    1    1    1    1    1    1    1    1      4  \n\n[5 rows x 853 columns]",
      "text/html": "<div>\n<style scoped>\n    .dataframe tbody tr th:only-of-type {\n        vertical-align: middle;\n    }\n\n    .dataframe tbody tr th {\n        vertical-align: top;\n    }\n\n    .dataframe thead th {\n        text-align: right;\n    }\n</style>\n<table border=\"1\" class=\"dataframe\">\n  <thead>\n    <tr style=\"text-align: right;\">\n      <th></th>\n      <th>1</th>\n      <th>2</th>\n      <th>3</th>\n      <th>4</th>\n      <th>5</th>\n      <th>6</th>\n      <th>7</th>\n      <th>8</th>\n      <th>9</th>\n      <th>10</th>\n      <th>...</th>\n      <th>844</th>\n      <th>845</th>\n      <th>846</th>\n      <th>847</th>\n      <th>848</th>\n      <th>849</th>\n      <th>850</th>\n      <th>851</th>\n      <th>852</th>\n      <th>genre</th>\n    </tr>\n  </thead>\n  <tbody>\n    <tr>\n      <th>530</th>\n      <td>3016</td>\n      <td>3530</td>\n      <td>11254</td>\n      <td>805</td>\n      <td>0</td>\n      <td>2592</td>\n      <td>0</td>\n      <td>253</td>\n      <td>0</td>\n      <td>0</td>\n      <td>...</td>\n      <td>1</td>\n      <td>1</td>\n      <td>1</td>\n      <td>1</td>\n      <td>1</td>\n      <td>1</td>\n      <td>1</td>\n      <td>1</td>\n      <td>1</td>\n      <td>6</td>\n    </tr>\n    <tr>\n      <th>563</th>\n      <td>0</td>\n      <td>0</td>\n      <td>0</td>\n      <td>0</td>\n      <td>0</td>\n      <td>1831</td>\n      <td>0</td>\n      <td>7634</td>\n      <td>0</td>\n      <td>1831</td>\n      <td>...</td>\n      <td>1</td>\n      <td>1</td>\n      <td>1</td>\n      <td>1</td>\n      <td>1</td>\n      <td>1</td>\n      <td>1</td>\n      <td>1</td>\n      <td>1</td>\n      <td>7</td>\n    </tr>\n    <tr>\n      <th>443</th>\n      <td>1090</td>\n      <td>0</td>\n      <td>294</td>\n      <td>0</td>\n      <td>10208</td>\n      <td>0</td>\n      <td>0</td>\n      <td>3996</td>\n      <td>2715</td>\n      <td>123</td>\n      <td>...</td>\n      <td>1</td>\n      <td>1</td>\n      <td>1</td>\n      <td>1</td>\n      <td>1</td>\n      <td>1</td>\n      <td>1</td>\n      <td>1</td>\n      <td>1</td>\n      <td>5</td>\n    </tr>\n    <tr>\n      <th>442</th>\n      <td>0</td>\n      <td>0</td>\n      <td>0</td>\n      <td>10188</td>\n      <td>0</td>\n      <td>50</td>\n      <td>0</td>\n      <td>0</td>\n      <td>89</td>\n      <td>0</td>\n      <td>...</td>\n      <td>1</td>\n      <td>1</td>\n      <td>1</td>\n      <td>1</td>\n      <td>1</td>\n      <td>1</td>\n      <td>1</td>\n      <td>1</td>\n      <td>1</td>\n      <td>5</td>\n    </tr>\n    <tr>\n      <th>355</th>\n      <td>3648</td>\n      <td>3849</td>\n      <td>9287</td>\n      <td>9288</td>\n      <td>0</td>\n      <td>0</td>\n      <td>9289</td>\n      <td>9290</td>\n      <td>728</td>\n      <td>0</td>\n      <td>...</td>\n      <td>1</td>\n      <td>1</td>\n      <td>1</td>\n      <td>1</td>\n      <td>1</td>\n      <td>1</td>\n      <td>1</td>\n      <td>1</td>\n      <td>1</td>\n      <td>4</td>\n    </tr>\n  </tbody>\n</table>\n<p>5 rows × 853 columns</p>\n</div>"
     },
     "execution_count": 7,
     "metadata": {},
     "output_type": "execute_result"
    }
   ],
   "source": [
    "train_data = pd.concat([X_train, y_train], axis=1)\n",
    "test_data = pd.concat([X_test, y_test], axis = 1)\n",
    "train_data.head()"
   ],
   "metadata": {
    "collapsed": false,
    "ExecuteTime": {
     "end_time": "2024-04-05T03:00:30.412901Z",
     "start_time": "2024-04-05T03:00:30.382860Z"
    }
   },
   "id": "ae7978f6afc0ec61",
   "execution_count": 7
  },
  {
   "cell_type": "code",
   "outputs": [
    {
     "data": {
      "text/plain": "(617, 853)"
     },
     "execution_count": 8,
     "metadata": {},
     "output_type": "execute_result"
    }
   ],
   "source": [
    "train_data.shape"
   ],
   "metadata": {
    "collapsed": false,
    "ExecuteTime": {
     "end_time": "2024-04-05T03:00:30.428469Z",
     "start_time": "2024-04-05T03:00:30.414961Z"
    }
   },
   "id": "95516c6f0e9a553",
   "execution_count": 8
  },
  {
   "cell_type": "code",
   "outputs": [
    {
     "data": {
      "text/plain": "        1     2     3     4     5     6     7      8      9    10  ...  844  \\\n171     0  2291     0   149     0     0     0   7167      0     0  ...    1   \n155  4279  6894  1351  4279  4279  6894  1351   4279      0     0  ...    1   \n656     0     0  5262     0     0  9264     0  12671  12672     0  ...    1   \n146     0     0     0  6748     0     0     0   6749      0  6750  ...    1   \n63    519  4235  4236  4237  4238     0  4239      0   1547  4240  ...    1   \n\n     845  846  847  848  849  850  851  852  genre  \n171    1    1    1    1    1    1    1    1      3  \n155    1    1    1    1    1    1    1    1      2  \n656    1    1    1    1    1    1    1    1      7  \n146    1    1    1    1    1    1    1    1      2  \n63     1    1    1    1    1    1    1    1      1  \n\n[5 rows x 853 columns]",
      "text/html": "<div>\n<style scoped>\n    .dataframe tbody tr th:only-of-type {\n        vertical-align: middle;\n    }\n\n    .dataframe tbody tr th {\n        vertical-align: top;\n    }\n\n    .dataframe thead th {\n        text-align: right;\n    }\n</style>\n<table border=\"1\" class=\"dataframe\">\n  <thead>\n    <tr style=\"text-align: right;\">\n      <th></th>\n      <th>1</th>\n      <th>2</th>\n      <th>3</th>\n      <th>4</th>\n      <th>5</th>\n      <th>6</th>\n      <th>7</th>\n      <th>8</th>\n      <th>9</th>\n      <th>10</th>\n      <th>...</th>\n      <th>844</th>\n      <th>845</th>\n      <th>846</th>\n      <th>847</th>\n      <th>848</th>\n      <th>849</th>\n      <th>850</th>\n      <th>851</th>\n      <th>852</th>\n      <th>genre</th>\n    </tr>\n  </thead>\n  <tbody>\n    <tr>\n      <th>171</th>\n      <td>0</td>\n      <td>2291</td>\n      <td>0</td>\n      <td>149</td>\n      <td>0</td>\n      <td>0</td>\n      <td>0</td>\n      <td>7167</td>\n      <td>0</td>\n      <td>0</td>\n      <td>...</td>\n      <td>1</td>\n      <td>1</td>\n      <td>1</td>\n      <td>1</td>\n      <td>1</td>\n      <td>1</td>\n      <td>1</td>\n      <td>1</td>\n      <td>1</td>\n      <td>3</td>\n    </tr>\n    <tr>\n      <th>155</th>\n      <td>4279</td>\n      <td>6894</td>\n      <td>1351</td>\n      <td>4279</td>\n      <td>4279</td>\n      <td>6894</td>\n      <td>1351</td>\n      <td>4279</td>\n      <td>0</td>\n      <td>0</td>\n      <td>...</td>\n      <td>1</td>\n      <td>1</td>\n      <td>1</td>\n      <td>1</td>\n      <td>1</td>\n      <td>1</td>\n      <td>1</td>\n      <td>1</td>\n      <td>1</td>\n      <td>2</td>\n    </tr>\n    <tr>\n      <th>656</th>\n      <td>0</td>\n      <td>0</td>\n      <td>5262</td>\n      <td>0</td>\n      <td>0</td>\n      <td>9264</td>\n      <td>0</td>\n      <td>12671</td>\n      <td>12672</td>\n      <td>0</td>\n      <td>...</td>\n      <td>1</td>\n      <td>1</td>\n      <td>1</td>\n      <td>1</td>\n      <td>1</td>\n      <td>1</td>\n      <td>1</td>\n      <td>1</td>\n      <td>1</td>\n      <td>7</td>\n    </tr>\n    <tr>\n      <th>146</th>\n      <td>0</td>\n      <td>0</td>\n      <td>0</td>\n      <td>6748</td>\n      <td>0</td>\n      <td>0</td>\n      <td>0</td>\n      <td>6749</td>\n      <td>0</td>\n      <td>6750</td>\n      <td>...</td>\n      <td>1</td>\n      <td>1</td>\n      <td>1</td>\n      <td>1</td>\n      <td>1</td>\n      <td>1</td>\n      <td>1</td>\n      <td>1</td>\n      <td>1</td>\n      <td>2</td>\n    </tr>\n    <tr>\n      <th>63</th>\n      <td>519</td>\n      <td>4235</td>\n      <td>4236</td>\n      <td>4237</td>\n      <td>4238</td>\n      <td>0</td>\n      <td>4239</td>\n      <td>0</td>\n      <td>1547</td>\n      <td>4240</td>\n      <td>...</td>\n      <td>1</td>\n      <td>1</td>\n      <td>1</td>\n      <td>1</td>\n      <td>1</td>\n      <td>1</td>\n      <td>1</td>\n      <td>1</td>\n      <td>1</td>\n      <td>1</td>\n    </tr>\n  </tbody>\n</table>\n<p>5 rows × 853 columns</p>\n</div>"
     },
     "execution_count": 9,
     "metadata": {},
     "output_type": "execute_result"
    }
   ],
   "source": [
    "test_data.head()"
   ],
   "metadata": {
    "collapsed": false,
    "ExecuteTime": {
     "end_time": "2024-04-05T03:00:30.444429Z",
     "start_time": "2024-04-05T03:00:30.430541Z"
    }
   },
   "id": "4de1acb8c0e6e226",
   "execution_count": 9
  },
  {
   "cell_type": "markdown",
   "source": [
    "- 텐서 변환"
   ],
   "metadata": {
    "collapsed": false
   },
   "id": "bee31a9e971a6475"
  },
  {
   "cell_type": "code",
   "outputs": [
    {
     "data": {
      "text/plain": "numpy.ndarray"
     },
     "execution_count": 10,
     "metadata": {},
     "output_type": "execute_result"
    }
   ],
   "source": [
    "import torch\n",
    "import numpy as np\n",
    "type(train_data.values)"
   ],
   "metadata": {
    "collapsed": false,
    "ExecuteTime": {
     "end_time": "2024-04-05T03:00:32.219339Z",
     "start_time": "2024-04-05T03:00:30.445766Z"
    }
   },
   "id": "5a15da7ffbae737a",
   "execution_count": 10
  },
  {
   "cell_type": "code",
   "outputs": [
    {
     "data": {
      "text/plain": "tensor([[ 3016,  3530, 11254,  ...,     1,     1,     6],\n        [    0,     0,     0,  ...,     1,     1,     7],\n        [ 1090,     0,   294,  ...,     1,     1,     5],\n        ...,\n        [ 7199,   162,     0,  ...,     1,     1,     4],\n        [    0,  1565,  7569,  ...,     1,     1,     3],\n        [    0,     0,   118,  ...,     1,     1,     5]])"
     },
     "execution_count": 11,
     "metadata": {},
     "output_type": "execute_result"
    }
   ],
   "source": [
    "train_data = torch.LongTensor(train_data.values)\n",
    "train_data"
   ],
   "metadata": {
    "collapsed": false,
    "ExecuteTime": {
     "end_time": "2024-04-05T03:00:32.234632Z",
     "start_time": "2024-04-05T03:00:32.220478Z"
    }
   },
   "id": "73a64b929528e576",
   "execution_count": 11
  },
  {
   "cell_type": "code",
   "outputs": [
    {
     "data": {
      "text/plain": "tensor([[    0,  2291,     0,  ...,     1,     1,     3],\n        [ 4279,  6894,  1351,  ...,     1,     1,     2],\n        [    0,     0,  5262,  ...,     1,     1,     7],\n        ...,\n        [    0,     0, 12729,  ...,     1,     1,     7],\n        [    0,  1616,     0,  ...,     1,     1,     5],\n        [ 5293,   115,     0,  ...,     1,     1,     8]])"
     },
     "execution_count": 12,
     "metadata": {},
     "output_type": "execute_result"
    }
   ],
   "source": [
    "test_data = torch.LongTensor(test_data.values)\n",
    "test_data"
   ],
   "metadata": {
    "collapsed": false,
    "ExecuteTime": {
     "end_time": "2024-04-05T03:00:32.249924Z",
     "start_time": "2024-04-05T03:00:32.236775Z"
    }
   },
   "id": "6abce11baabce218",
   "execution_count": 12
  },
  {
   "cell_type": "code",
   "outputs": [],
   "source": [
    "from torch.utils.data import DataLoader\n",
    "\n",
    "BATCH = 20\n",
    "\n",
    "train_loader = DataLoader(train_data, batch_size = BATCH, shuffle = True)\n",
    "test_loader = DataLoader(test_data, batch_size = BATCH, shuffle = True)"
   ],
   "metadata": {
    "collapsed": false,
    "ExecuteTime": {
     "end_time": "2024-04-05T03:00:32.265628Z",
     "start_time": "2024-04-05T03:00:32.252131Z"
    }
   },
   "id": "38d160a3f931d616",
   "execution_count": 13
  },
  {
   "cell_type": "markdown",
   "source": [
    "# 모델 설계"
   ],
   "metadata": {
    "collapsed": false
   },
   "id": "31f71710a9c4b6ac"
  },
  {
   "cell_type": "code",
   "outputs": [],
   "source": [
    "import torch.nn as nn\n",
    "class music_rnn(nn.Module):\n",
    "    def __init__(self, VOCAB_SIZE, EMBED_DIM, HIDDEN_SIZE, NUM_CLASS):\n",
    "        super().__init__()\n",
    "        self.embedding = nn.Embedding(num_embeddings=VOCAB_SIZE, embedding_dim=EMBED_DIM)\n",
    "        self.rnn = nn.RNN(input_size=EMBED_DIM, hidden_size=HIDDEN_SIZE)\n",
    "        # 학습 모델을 RNN 대신에 LSTM을 사용해볼수도 있겠다\n",
    "        # RNN에서 양방향 학습 파라미터를 설정해볼 수 도 있겠다.\n",
    "        \n",
    "        # 활성화함수 => 다중 분류니까\n",
    "        # self.fc = nn.Softmax(HIDDEN_SIZE, NUM_CLASS) # 이렇게 쓰는게아닌가?\n",
    "        self.fc = nn.Linear(HIDDEN_SIZE, NUM_CLASS) # 다중 분류인데 이게 되나?\n",
    "        self.init_weights() # 이건 왜 쓴거지?\n",
    "        self.dropout = nn.Dropout()  # 혹시 모를 과대적합을 위해서\n",
    "        \n",
    "    # 가중치 초기화\n",
    "    def init_weights(self):\n",
    "        range = 0.5\n",
    "        self.embedding.weight.data.uniform_(-range, range)\n",
    "        self.fc.weight.data.uniform_(-range, range)\n",
    "        self.fc.bias.data.zero_()\n",
    "        \n",
    "    # 순방향 학습 진행\n",
    "    def forward(self, text):\n",
    "        embed = self.embedding(text)\n",
    "        output, hidden = self.rnn(embed)\n",
    "        # result = self.fc(output)\n",
    "        result = F.softmax(self.fc(output), dim=2)\n",
    "        return result"
   ],
   "metadata": {
    "collapsed": false,
    "ExecuteTime": {
     "end_time": "2024-04-05T03:00:32.280867Z",
     "start_time": "2024-04-05T03:00:32.266660Z"
    }
   },
   "id": "56fe7d4666bf3171",
   "execution_count": 14
  },
  {
   "cell_type": "code",
   "outputs": [],
   "source": [
    "# 학습용 변수들 지정\n",
    "from torch import optim\n",
    "import torch\n",
    "import torch.nn as nn\n",
    "import torch.nn.functional as F\n",
    "VOCAB_SIZE = 13714\n",
    "EMBED_DIM = 50\n",
    "HIDDEN_SIZE = 10 \n",
    "NUM_CLASS = 8\n",
    "model = music_rnn(VOCAB_SIZE, EMBED_DIM, HIDDEN_SIZE, NUM_CLASS)\n",
    "\n",
    "device = 'cuda' if torch.cuda.is_available() else 'cpu'\n",
    "loss_fn = nn.CrossEntropyLoss().to(device)\n",
    "optimizer = optim.Adam(params = model.parameters())\n",
    "scheduler = optim.lr_scheduler.ReduceLROnPlateau(optimizer)"
   ],
   "metadata": {
    "collapsed": false,
    "ExecuteTime": {
     "end_time": "2024-04-05T03:00:33.155748Z",
     "start_time": "2024-04-05T03:00:32.281927Z"
    }
   },
   "id": "2e2f1701cefa5cb1",
   "execution_count": 15
  },
  {
   "cell_type": "markdown",
   "source": [
    "# 함수 지정 (train, test)"
   ],
   "metadata": {
    "collapsed": false
   },
   "id": "9df80cc45c27fead"
  },
  {
   "cell_type": "code",
   "outputs": [
    {
     "name": "stdout",
     "output_type": "stream",
     "text": [
      "torch.Size([853]) torch.Size([853])\n"
     ]
    },
    {
     "ename": "IndexError",
     "evalue": "Dimension out of range (expected to be in range of [-2, 1], but got 2)",
     "output_type": "error",
     "traceback": [
      "\u001B[1;31m---------------------------------------------------------------------------\u001B[0m",
      "\u001B[1;31mIndexError\u001B[0m                                Traceback (most recent call last)",
      "Cell \u001B[1;32mIn[16], line 30\u001B[0m\n\u001B[0;32m     27\u001B[0m         optimizer\u001B[38;5;241m.\u001B[39mstep()\n\u001B[0;32m     29\u001B[0m     \u001B[38;5;28;01mreturn\u001B[39;00m output_list\n\u001B[1;32m---> 30\u001B[0m \u001B[43mtraining\u001B[49m\u001B[43m(\u001B[49m\u001B[43mtrain_loader\u001B[49m\u001B[43m)\u001B[49m\n",
      "Cell \u001B[1;32mIn[16], line 14\u001B[0m, in \u001B[0;36mtraining\u001B[1;34m(DATALOADER)\u001B[0m\n\u001B[0;32m     11\u001B[0m train_label \u001B[38;5;241m=\u001B[39m label\u001B[38;5;241m.\u001B[39mto(device)\n\u001B[0;32m     12\u001B[0m \u001B[38;5;28mprint\u001B[39m(train_feature\u001B[38;5;241m.\u001B[39mshape, train_label\u001B[38;5;241m.\u001B[39mshape)\n\u001B[1;32m---> 14\u001B[0m pred \u001B[38;5;241m=\u001B[39m \u001B[43mmodel\u001B[49m\u001B[43m(\u001B[49m\u001B[43mtrain_feature\u001B[49m\u001B[43m)\u001B[49m\n\u001B[0;32m     16\u001B[0m \u001B[38;5;66;03m# 손실 검정\u001B[39;00m\n\u001B[0;32m     17\u001B[0m loss \u001B[38;5;241m=\u001B[39m loss_fn(pred, train_label) \n",
      "File \u001B[1;32mC:\\ProgramData\\anaconda3\\envs\\TORCH_NLP38\\lib\\site-packages\\torch\\nn\\modules\\module.py:1511\u001B[0m, in \u001B[0;36mModule._wrapped_call_impl\u001B[1;34m(self, *args, **kwargs)\u001B[0m\n\u001B[0;32m   1509\u001B[0m     \u001B[38;5;28;01mreturn\u001B[39;00m \u001B[38;5;28mself\u001B[39m\u001B[38;5;241m.\u001B[39m_compiled_call_impl(\u001B[38;5;241m*\u001B[39margs, \u001B[38;5;241m*\u001B[39m\u001B[38;5;241m*\u001B[39mkwargs)  \u001B[38;5;66;03m# type: ignore[misc]\u001B[39;00m\n\u001B[0;32m   1510\u001B[0m \u001B[38;5;28;01melse\u001B[39;00m:\n\u001B[1;32m-> 1511\u001B[0m     \u001B[38;5;28;01mreturn\u001B[39;00m \u001B[38;5;28;43mself\u001B[39;49m\u001B[38;5;241;43m.\u001B[39;49m\u001B[43m_call_impl\u001B[49m\u001B[43m(\u001B[49m\u001B[38;5;241;43m*\u001B[39;49m\u001B[43margs\u001B[49m\u001B[43m,\u001B[49m\u001B[43m \u001B[49m\u001B[38;5;241;43m*\u001B[39;49m\u001B[38;5;241;43m*\u001B[39;49m\u001B[43mkwargs\u001B[49m\u001B[43m)\u001B[49m\n",
      "File \u001B[1;32mC:\\ProgramData\\anaconda3\\envs\\TORCH_NLP38\\lib\\site-packages\\torch\\nn\\modules\\module.py:1520\u001B[0m, in \u001B[0;36mModule._call_impl\u001B[1;34m(self, *args, **kwargs)\u001B[0m\n\u001B[0;32m   1515\u001B[0m \u001B[38;5;66;03m# If we don't have any hooks, we want to skip the rest of the logic in\u001B[39;00m\n\u001B[0;32m   1516\u001B[0m \u001B[38;5;66;03m# this function, and just call forward.\u001B[39;00m\n\u001B[0;32m   1517\u001B[0m \u001B[38;5;28;01mif\u001B[39;00m \u001B[38;5;129;01mnot\u001B[39;00m (\u001B[38;5;28mself\u001B[39m\u001B[38;5;241m.\u001B[39m_backward_hooks \u001B[38;5;129;01mor\u001B[39;00m \u001B[38;5;28mself\u001B[39m\u001B[38;5;241m.\u001B[39m_backward_pre_hooks \u001B[38;5;129;01mor\u001B[39;00m \u001B[38;5;28mself\u001B[39m\u001B[38;5;241m.\u001B[39m_forward_hooks \u001B[38;5;129;01mor\u001B[39;00m \u001B[38;5;28mself\u001B[39m\u001B[38;5;241m.\u001B[39m_forward_pre_hooks\n\u001B[0;32m   1518\u001B[0m         \u001B[38;5;129;01mor\u001B[39;00m _global_backward_pre_hooks \u001B[38;5;129;01mor\u001B[39;00m _global_backward_hooks\n\u001B[0;32m   1519\u001B[0m         \u001B[38;5;129;01mor\u001B[39;00m _global_forward_hooks \u001B[38;5;129;01mor\u001B[39;00m _global_forward_pre_hooks):\n\u001B[1;32m-> 1520\u001B[0m     \u001B[38;5;28;01mreturn\u001B[39;00m \u001B[43mforward_call\u001B[49m\u001B[43m(\u001B[49m\u001B[38;5;241;43m*\u001B[39;49m\u001B[43margs\u001B[49m\u001B[43m,\u001B[49m\u001B[43m \u001B[49m\u001B[38;5;241;43m*\u001B[39;49m\u001B[38;5;241;43m*\u001B[39;49m\u001B[43mkwargs\u001B[49m\u001B[43m)\u001B[49m\n\u001B[0;32m   1522\u001B[0m \u001B[38;5;28;01mtry\u001B[39;00m:\n\u001B[0;32m   1523\u001B[0m     result \u001B[38;5;241m=\u001B[39m \u001B[38;5;28;01mNone\u001B[39;00m\n",
      "Cell \u001B[1;32mIn[14], line 28\u001B[0m, in \u001B[0;36mmusic_rnn.forward\u001B[1;34m(self, text)\u001B[0m\n\u001B[0;32m     26\u001B[0m output, hidden \u001B[38;5;241m=\u001B[39m \u001B[38;5;28mself\u001B[39m\u001B[38;5;241m.\u001B[39mrnn(embed)\n\u001B[0;32m     27\u001B[0m \u001B[38;5;66;03m# result = self.fc(output)\u001B[39;00m\n\u001B[1;32m---> 28\u001B[0m result \u001B[38;5;241m=\u001B[39m \u001B[43mF\u001B[49m\u001B[38;5;241;43m.\u001B[39;49m\u001B[43msoftmax\u001B[49m\u001B[43m(\u001B[49m\u001B[38;5;28;43mself\u001B[39;49m\u001B[38;5;241;43m.\u001B[39;49m\u001B[43mfc\u001B[49m\u001B[43m(\u001B[49m\u001B[43moutput\u001B[49m\u001B[43m)\u001B[49m\u001B[43m,\u001B[49m\u001B[43m \u001B[49m\u001B[43mdim\u001B[49m\u001B[38;5;241;43m=\u001B[39;49m\u001B[38;5;241;43m2\u001B[39;49m\u001B[43m)\u001B[49m\n\u001B[0;32m     29\u001B[0m \u001B[38;5;28;01mreturn\u001B[39;00m result\n",
      "File \u001B[1;32mC:\\ProgramData\\anaconda3\\envs\\TORCH_NLP38\\lib\\site-packages\\torch\\nn\\functional.py:1858\u001B[0m, in \u001B[0;36msoftmax\u001B[1;34m(input, dim, _stacklevel, dtype)\u001B[0m\n\u001B[0;32m   1856\u001B[0m     dim \u001B[38;5;241m=\u001B[39m _get_softmax_dim(\u001B[38;5;124m\"\u001B[39m\u001B[38;5;124msoftmax\u001B[39m\u001B[38;5;124m\"\u001B[39m, \u001B[38;5;28minput\u001B[39m\u001B[38;5;241m.\u001B[39mdim(), _stacklevel)\n\u001B[0;32m   1857\u001B[0m \u001B[38;5;28;01mif\u001B[39;00m dtype \u001B[38;5;129;01mis\u001B[39;00m \u001B[38;5;28;01mNone\u001B[39;00m:\n\u001B[1;32m-> 1858\u001B[0m     ret \u001B[38;5;241m=\u001B[39m \u001B[38;5;28;43minput\u001B[39;49m\u001B[38;5;241;43m.\u001B[39;49m\u001B[43msoftmax\u001B[49m\u001B[43m(\u001B[49m\u001B[43mdim\u001B[49m\u001B[43m)\u001B[49m\n\u001B[0;32m   1859\u001B[0m \u001B[38;5;28;01melse\u001B[39;00m:\n\u001B[0;32m   1860\u001B[0m     ret \u001B[38;5;241m=\u001B[39m \u001B[38;5;28minput\u001B[39m\u001B[38;5;241m.\u001B[39msoftmax(dim, dtype\u001B[38;5;241m=\u001B[39mdtype)\n",
      "\u001B[1;31mIndexError\u001B[0m: Dimension out of range (expected to be in range of [-2, 1], but got 2)"
     ]
    }
   ],
   "source": [
    "import torchmetrics.functional.classification as metrics\n",
    "def training(DATALOADER):\n",
    "    model.train()\n",
    "    output_list = [[], [], [], [], []]\n",
    "    # loss, acc, precision, recall, f1_score\n",
    "    for data in DATALOADER:\n",
    "        feature = data[0]\n",
    "        label = data[1]\n",
    "        \n",
    "        train_feature = feature.to(device)\n",
    "        train_label = label.to(device)\n",
    "        print(train_feature.shape, train_label.shape)\n",
    "        \n",
    "        pred = model(train_feature)\n",
    "        \n",
    "        # 손실 검정\n",
    "        loss = loss_fn(pred, train_label) \n",
    "        output_list[0].append(loss.item())\n",
    "        output_list[1].append(metrics.accuracy(pred, train_label, task = 'multiclass').item())\n",
    "        output_list[2].append(metrics.precision(pred, train_label, task = 'multiclass').item())\n",
    "        output_list[3].append(metrics.recall(pred, train_label, task = 'multiclass').item())\n",
    "        output_list[4].append(metrics.f1_score(pred, train_label, task = 'multiclass').item())\n",
    "        \n",
    "        # 업데이트\n",
    "        optimizer.zero_grad()\n",
    "        loss.backward()\n",
    "        optimizer.step()\n",
    "    \n",
    "    return output_list\n",
    "training(train_loader)"
   ],
   "metadata": {
    "collapsed": false,
    "ExecuteTime": {
     "end_time": "2024-04-05T03:00:36.095320Z",
     "start_time": "2024-04-05T03:00:33.156770Z"
    }
   },
   "id": "73f7f55acbfe51e",
   "execution_count": 16
  },
  {
   "cell_type": "code",
   "outputs": [],
   "source": [],
   "metadata": {
    "collapsed": false,
    "ExecuteTime": {
     "start_time": "2024-04-05T03:00:36.097398Z"
    }
   },
   "id": "14f253f639a46ee9",
   "execution_count": null
  }
 ],
 "metadata": {
  "kernelspec": {
   "display_name": "Python 3",
   "language": "python",
   "name": "python3"
  },
  "language_info": {
   "codemirror_mode": {
    "name": "ipython",
    "version": 2
   },
   "file_extension": ".py",
   "mimetype": "text/x-python",
   "name": "python",
   "nbconvert_exporter": "python",
   "pygments_lexer": "ipython2",
   "version": "2.7.6"
  }
 },
 "nbformat": 4,
 "nbformat_minor": 5
}
