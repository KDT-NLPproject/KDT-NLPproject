{
 "cells": [
  {
   "cell_type": "code",
   "execution_count": 60,
   "id": "initial_id",
   "metadata": {
    "collapsed": true,
    "ExecuteTime": {
     "end_time": "2024-04-05T03:07:25.801437Z",
     "start_time": "2024-04-05T03:07:25.796021Z"
    }
   },
   "outputs": [],
   "source": [
    "import pandas as pd"
   ]
  },
  {
   "cell_type": "code",
   "outputs": [
    {
     "data": {
      "text/plain": "   Unnamed: 0  genre    1    2    3    4    5    6    7    8  ...  843  844  \\\n0           0      1    0    2    3    0    0    4    0    5  ...    1    1   \n1           1      1   31   41   42   43   44   45    0   46  ...    1    1   \n2           2      1  138  139  140    0    0    0  141    0  ...    1    1   \n3           3      1  117    0  203    0  204  205  206    0  ...    1    1   \n4           4      1  284    0  285  286  287    0  288  288  ...    1    1   \n\n   845  846  847  848  849  850  851  852  \n0    1    1    1    1    1    1    1    1  \n1    1    1    1    1    1    1    1    1  \n2    1    1    1    1    1    1    1    1  \n3    1    1    1    1    1    1    1    1  \n4    1    1    1    1    1    1    1    1  \n\n[5 rows x 854 columns]",
      "text/html": "<div>\n<style scoped>\n    .dataframe tbody tr th:only-of-type {\n        vertical-align: middle;\n    }\n\n    .dataframe tbody tr th {\n        vertical-align: top;\n    }\n\n    .dataframe thead th {\n        text-align: right;\n    }\n</style>\n<table border=\"1\" class=\"dataframe\">\n  <thead>\n    <tr style=\"text-align: right;\">\n      <th></th>\n      <th>Unnamed: 0</th>\n      <th>genre</th>\n      <th>1</th>\n      <th>2</th>\n      <th>3</th>\n      <th>4</th>\n      <th>5</th>\n      <th>6</th>\n      <th>7</th>\n      <th>8</th>\n      <th>...</th>\n      <th>843</th>\n      <th>844</th>\n      <th>845</th>\n      <th>846</th>\n      <th>847</th>\n      <th>848</th>\n      <th>849</th>\n      <th>850</th>\n      <th>851</th>\n      <th>852</th>\n    </tr>\n  </thead>\n  <tbody>\n    <tr>\n      <th>0</th>\n      <td>0</td>\n      <td>1</td>\n      <td>0</td>\n      <td>2</td>\n      <td>3</td>\n      <td>0</td>\n      <td>0</td>\n      <td>4</td>\n      <td>0</td>\n      <td>5</td>\n      <td>...</td>\n      <td>1</td>\n      <td>1</td>\n      <td>1</td>\n      <td>1</td>\n      <td>1</td>\n      <td>1</td>\n      <td>1</td>\n      <td>1</td>\n      <td>1</td>\n      <td>1</td>\n    </tr>\n    <tr>\n      <th>1</th>\n      <td>1</td>\n      <td>1</td>\n      <td>31</td>\n      <td>41</td>\n      <td>42</td>\n      <td>43</td>\n      <td>44</td>\n      <td>45</td>\n      <td>0</td>\n      <td>46</td>\n      <td>...</td>\n      <td>1</td>\n      <td>1</td>\n      <td>1</td>\n      <td>1</td>\n      <td>1</td>\n      <td>1</td>\n      <td>1</td>\n      <td>1</td>\n      <td>1</td>\n      <td>1</td>\n    </tr>\n    <tr>\n      <th>2</th>\n      <td>2</td>\n      <td>1</td>\n      <td>138</td>\n      <td>139</td>\n      <td>140</td>\n      <td>0</td>\n      <td>0</td>\n      <td>0</td>\n      <td>141</td>\n      <td>0</td>\n      <td>...</td>\n      <td>1</td>\n      <td>1</td>\n      <td>1</td>\n      <td>1</td>\n      <td>1</td>\n      <td>1</td>\n      <td>1</td>\n      <td>1</td>\n      <td>1</td>\n      <td>1</td>\n    </tr>\n    <tr>\n      <th>3</th>\n      <td>3</td>\n      <td>1</td>\n      <td>117</td>\n      <td>0</td>\n      <td>203</td>\n      <td>0</td>\n      <td>204</td>\n      <td>205</td>\n      <td>206</td>\n      <td>0</td>\n      <td>...</td>\n      <td>1</td>\n      <td>1</td>\n      <td>1</td>\n      <td>1</td>\n      <td>1</td>\n      <td>1</td>\n      <td>1</td>\n      <td>1</td>\n      <td>1</td>\n      <td>1</td>\n    </tr>\n    <tr>\n      <th>4</th>\n      <td>4</td>\n      <td>1</td>\n      <td>284</td>\n      <td>0</td>\n      <td>285</td>\n      <td>286</td>\n      <td>287</td>\n      <td>0</td>\n      <td>288</td>\n      <td>288</td>\n      <td>...</td>\n      <td>1</td>\n      <td>1</td>\n      <td>1</td>\n      <td>1</td>\n      <td>1</td>\n      <td>1</td>\n      <td>1</td>\n      <td>1</td>\n      <td>1</td>\n      <td>1</td>\n    </tr>\n  </tbody>\n</table>\n<p>5 rows × 854 columns</p>\n</div>"
     },
     "execution_count": 61,
     "metadata": {},
     "output_type": "execute_result"
    }
   ],
   "source": [
    "result = pd.read_csv('./total_padded_encoded_df.csv')\n",
    "data = pd.DataFrame(result)\n",
    "data.head()"
   ],
   "metadata": {
    "collapsed": false,
    "ExecuteTime": {
     "end_time": "2024-04-05T03:07:25.940934Z",
     "start_time": "2024-04-05T03:07:25.873168Z"
    }
   },
   "id": "c65fef1ba31536f0",
   "execution_count": 61
  },
  {
   "cell_type": "markdown",
   "source": [
    "# feature, label 분리"
   ],
   "metadata": {
    "collapsed": false
   },
   "id": "6f13644b5b9cbcca"
  },
  {
   "cell_type": "code",
   "outputs": [
    {
     "name": "stdout",
     "output_type": "stream",
     "text": [
      "(772, 852) (772, 1)\n"
     ]
    }
   ],
   "source": [
    "feature_df = data.iloc[:, 2:]\n",
    "label_df = data[['genre']]\n",
    "print(feature_df.shape, label_df.shape)"
   ],
   "metadata": {
    "collapsed": false,
    "ExecuteTime": {
     "end_time": "2024-04-05T03:07:25.956716Z",
     "start_time": "2024-04-05T03:07:25.943394Z"
    }
   },
   "id": "6d31254c789d0efe",
   "execution_count": 62
  },
  {
   "cell_type": "code",
   "outputs": [
    {
     "data": {
      "text/plain": "     1    2    3    4    5    6    7    8    9   10  ...  843  844  845  846  \\\n0    0    2    3    0    0    4    0    5    6    7  ...    1    1    1    1   \n1   31   41   42   43   44   45    0   46    0   47  ...    1    1    1    1   \n2  138  139  140    0    0    0  141    0  143    0  ...    1    1    1    1   \n3  117    0  203    0  204  205  206    0  118  207  ...    1    1    1    1   \n4  284    0  285  286  287    0  288  288  289  290  ...    1    1    1    1   \n\n   847  848  849  850  851  852  \n0    1    1    1    1    1    1  \n1    1    1    1    1    1    1  \n2    1    1    1    1    1    1  \n3    1    1    1    1    1    1  \n4    1    1    1    1    1    1  \n\n[5 rows x 852 columns]",
      "text/html": "<div>\n<style scoped>\n    .dataframe tbody tr th:only-of-type {\n        vertical-align: middle;\n    }\n\n    .dataframe tbody tr th {\n        vertical-align: top;\n    }\n\n    .dataframe thead th {\n        text-align: right;\n    }\n</style>\n<table border=\"1\" class=\"dataframe\">\n  <thead>\n    <tr style=\"text-align: right;\">\n      <th></th>\n      <th>1</th>\n      <th>2</th>\n      <th>3</th>\n      <th>4</th>\n      <th>5</th>\n      <th>6</th>\n      <th>7</th>\n      <th>8</th>\n      <th>9</th>\n      <th>10</th>\n      <th>...</th>\n      <th>843</th>\n      <th>844</th>\n      <th>845</th>\n      <th>846</th>\n      <th>847</th>\n      <th>848</th>\n      <th>849</th>\n      <th>850</th>\n      <th>851</th>\n      <th>852</th>\n    </tr>\n  </thead>\n  <tbody>\n    <tr>\n      <th>0</th>\n      <td>0</td>\n      <td>2</td>\n      <td>3</td>\n      <td>0</td>\n      <td>0</td>\n      <td>4</td>\n      <td>0</td>\n      <td>5</td>\n      <td>6</td>\n      <td>7</td>\n      <td>...</td>\n      <td>1</td>\n      <td>1</td>\n      <td>1</td>\n      <td>1</td>\n      <td>1</td>\n      <td>1</td>\n      <td>1</td>\n      <td>1</td>\n      <td>1</td>\n      <td>1</td>\n    </tr>\n    <tr>\n      <th>1</th>\n      <td>31</td>\n      <td>41</td>\n      <td>42</td>\n      <td>43</td>\n      <td>44</td>\n      <td>45</td>\n      <td>0</td>\n      <td>46</td>\n      <td>0</td>\n      <td>47</td>\n      <td>...</td>\n      <td>1</td>\n      <td>1</td>\n      <td>1</td>\n      <td>1</td>\n      <td>1</td>\n      <td>1</td>\n      <td>1</td>\n      <td>1</td>\n      <td>1</td>\n      <td>1</td>\n    </tr>\n    <tr>\n      <th>2</th>\n      <td>138</td>\n      <td>139</td>\n      <td>140</td>\n      <td>0</td>\n      <td>0</td>\n      <td>0</td>\n      <td>141</td>\n      <td>0</td>\n      <td>143</td>\n      <td>0</td>\n      <td>...</td>\n      <td>1</td>\n      <td>1</td>\n      <td>1</td>\n      <td>1</td>\n      <td>1</td>\n      <td>1</td>\n      <td>1</td>\n      <td>1</td>\n      <td>1</td>\n      <td>1</td>\n    </tr>\n    <tr>\n      <th>3</th>\n      <td>117</td>\n      <td>0</td>\n      <td>203</td>\n      <td>0</td>\n      <td>204</td>\n      <td>205</td>\n      <td>206</td>\n      <td>0</td>\n      <td>118</td>\n      <td>207</td>\n      <td>...</td>\n      <td>1</td>\n      <td>1</td>\n      <td>1</td>\n      <td>1</td>\n      <td>1</td>\n      <td>1</td>\n      <td>1</td>\n      <td>1</td>\n      <td>1</td>\n      <td>1</td>\n    </tr>\n    <tr>\n      <th>4</th>\n      <td>284</td>\n      <td>0</td>\n      <td>285</td>\n      <td>286</td>\n      <td>287</td>\n      <td>0</td>\n      <td>288</td>\n      <td>288</td>\n      <td>289</td>\n      <td>290</td>\n      <td>...</td>\n      <td>1</td>\n      <td>1</td>\n      <td>1</td>\n      <td>1</td>\n      <td>1</td>\n      <td>1</td>\n      <td>1</td>\n      <td>1</td>\n      <td>1</td>\n      <td>1</td>\n    </tr>\n  </tbody>\n</table>\n<p>5 rows × 852 columns</p>\n</div>"
     },
     "execution_count": 63,
     "metadata": {},
     "output_type": "execute_result"
    }
   ],
   "source": [
    "feature_df.head()"
   ],
   "metadata": {
    "collapsed": false,
    "ExecuteTime": {
     "end_time": "2024-04-05T03:07:25.972166Z",
     "start_time": "2024-04-05T03:07:25.957994Z"
    }
   },
   "id": "7e97bdb90f217b31",
   "execution_count": 63
  },
  {
   "cell_type": "code",
   "outputs": [
    {
     "data": {
      "text/plain": "   genre\n0      1\n1      1\n2      1\n3      1\n4      1",
      "text/html": "<div>\n<style scoped>\n    .dataframe tbody tr th:only-of-type {\n        vertical-align: middle;\n    }\n\n    .dataframe tbody tr th {\n        vertical-align: top;\n    }\n\n    .dataframe thead th {\n        text-align: right;\n    }\n</style>\n<table border=\"1\" class=\"dataframe\">\n  <thead>\n    <tr style=\"text-align: right;\">\n      <th></th>\n      <th>genre</th>\n    </tr>\n  </thead>\n  <tbody>\n    <tr>\n      <th>0</th>\n      <td>1</td>\n    </tr>\n    <tr>\n      <th>1</th>\n      <td>1</td>\n    </tr>\n    <tr>\n      <th>2</th>\n      <td>1</td>\n    </tr>\n    <tr>\n      <th>3</th>\n      <td>1</td>\n    </tr>\n    <tr>\n      <th>4</th>\n      <td>1</td>\n    </tr>\n  </tbody>\n</table>\n</div>"
     },
     "execution_count": 64,
     "metadata": {},
     "output_type": "execute_result"
    }
   ],
   "source": [
    "label_df.head()"
   ],
   "metadata": {
    "collapsed": false,
    "ExecuteTime": {
     "end_time": "2024-04-05T03:07:25.987855Z",
     "start_time": "2024-04-05T03:07:25.973233Z"
    }
   },
   "id": "8f93f08d6d24cf41",
   "execution_count": 64
  },
  {
   "cell_type": "markdown",
   "source": [
    "# DataSet 생성, Tensor 변환, DataLoader 생성"
   ],
   "metadata": {
    "collapsed": false
   },
   "id": "8605f744e291a0f1"
  },
  {
   "cell_type": "code",
   "outputs": [],
   "source": [
    "from sklearn.model_selection import train_test_split\n",
    "\n",
    "X_train, X_test, y_train, y_test = train_test_split(feature_df, label_df, stratify=label_df, test_size=0.2, random_state=42)"
   ],
   "metadata": {
    "collapsed": false,
    "ExecuteTime": {
     "end_time": "2024-04-05T03:07:26.003836Z",
     "start_time": "2024-04-05T03:07:25.991086Z"
    }
   },
   "id": "73f70386efcb7a57",
   "execution_count": 65
  },
  {
   "cell_type": "code",
   "outputs": [],
   "source": [
    "X_train = X_train.reset_index(drop=True)\n",
    "X_test = X_test.reset_index(drop=True)\n",
    "y_train = y_train.reset_index(drop=True)\n",
    "y_test = y_test.reset_index(drop=True)"
   ],
   "metadata": {
    "collapsed": false,
    "ExecuteTime": {
     "end_time": "2024-04-05T03:07:26.018948Z",
     "start_time": "2024-04-05T03:07:26.005015Z"
    }
   },
   "id": "90d1a8a3c1d7fe78",
   "execution_count": 66
  },
  {
   "cell_type": "code",
   "outputs": [
    {
     "name": "stdout",
     "output_type": "stream",
     "text": [
      "Train (617, 852)     (617, 1)\n",
      "Test  (155, 852)      (155, 1)\n"
     ]
    }
   ],
   "source": [
    "print(f\"Train {X_train.shape}     {y_train.shape}\")\n",
    "print(f\"Test  {X_test.shape}      {y_test.shape}\")"
   ],
   "metadata": {
    "collapsed": false,
    "ExecuteTime": {
     "end_time": "2024-04-05T03:07:26.034308Z",
     "start_time": "2024-04-05T03:07:26.020006Z"
    }
   },
   "id": "4db92487a47f83d4",
   "execution_count": 67
  },
  {
   "cell_type": "code",
   "outputs": [
    {
     "data": {
      "text/plain": "695"
     },
     "execution_count": 68,
     "metadata": {},
     "output_type": "execute_result"
    }
   ],
   "source": [
    "num_train = int(round(int(len(data))*0.9, 0))\n",
    "num_train"
   ],
   "metadata": {
    "collapsed": false,
    "ExecuteTime": {
     "end_time": "2024-04-05T03:07:26.050187Z",
     "start_time": "2024-04-05T03:07:26.035428Z"
    }
   },
   "id": "7587287123156c92",
   "execution_count": 68
  },
  {
   "cell_type": "code",
   "outputs": [],
   "source": [
    "from torch.utils.data.dataset import random_split"
   ],
   "metadata": {
    "collapsed": false,
    "ExecuteTime": {
     "end_time": "2024-04-05T03:07:26.065518Z",
     "start_time": "2024-04-05T03:07:26.051301Z"
    }
   },
   "id": "bf799cef675645d6",
   "execution_count": 69
  },
  {
   "cell_type": "code",
   "outputs": [],
   "source": [],
   "metadata": {
    "collapsed": false,
    "ExecuteTime": {
     "end_time": "2024-04-05T03:07:26.080971Z",
     "start_time": "2024-04-05T03:07:26.066520Z"
    }
   },
   "id": "c2d43730341ef89f",
   "execution_count": 69
  },
  {
   "cell_type": "code",
   "outputs": [],
   "source": [],
   "metadata": {
    "collapsed": false,
    "ExecuteTime": {
     "end_time": "2024-04-05T03:07:26.096282Z",
     "start_time": "2024-04-05T03:07:26.083118Z"
    }
   },
   "id": "a796efc282b91992",
   "execution_count": 69
  },
  {
   "cell_type": "code",
   "outputs": [],
   "source": [
    "import torch\n",
    "class CustomDataset(torch.utils.data.Dataset):\n",
    "    def __init__(self, X, y):\n",
    "        self.x_data = X\n",
    "        self.y_data = y\n",
    "        \n",
    "    def __len__(self):\n",
    "        return len(self.x_data)\n",
    "    \n",
    "    def __getitem__(self,idx):\n",
    "        x = torch.LongTensor(self.x_data.iloc[idx])\n",
    "        y = torch.LongTensor(self.y_data.iloc[idx])\n",
    "        return x, y"
   ],
   "metadata": {
    "collapsed": false,
    "ExecuteTime": {
     "end_time": "2024-04-05T03:07:26.111363Z",
     "start_time": "2024-04-05T03:07:26.099415Z"
    }
   },
   "id": "88b825dd1d405dd0",
   "execution_count": 70
  },
  {
   "cell_type": "code",
   "outputs": [],
   "source": [
    "train_dataset = CustomDataset(X_train, y_train)\n",
    "test_dataset = CustomDataset(X_test, y_test)"
   ],
   "metadata": {
    "collapsed": false,
    "ExecuteTime": {
     "end_time": "2024-04-05T03:07:26.161904Z",
     "start_time": "2024-04-05T03:07:26.146042Z"
    }
   },
   "id": "62931dfdd73f77e0",
   "execution_count": 71
  },
  {
   "cell_type": "code",
   "outputs": [],
   "source": [
    "from torch.utils.data import DataLoader\n",
    "\n",
    "BATCH = 20\n",
    "train_loader = DataLoader(train_dataset, batch_size = BATCH, shuffle = True)\n",
    "test_loader = DataLoader(test_dataset, batch_size = BATCH, shuffle = True)"
   ],
   "metadata": {
    "collapsed": false,
    "ExecuteTime": {
     "end_time": "2024-04-05T03:07:26.363584Z",
     "start_time": "2024-04-05T03:07:26.357033Z"
    }
   },
   "id": "c057b84b01f99374",
   "execution_count": 72
  },
  {
   "cell_type": "markdown",
   "source": [
    "# 모델 설계"
   ],
   "metadata": {
    "collapsed": false
   },
   "id": "31f71710a9c4b6ac"
  },
  {
   "cell_type": "code",
   "outputs": [],
   "source": [
    "import torch.nn as nn\n",
    "class music_rnn(nn.Module):\n",
    "    def __init__(self, VOCAB_SIZE, EMBED_DIM, HIDDEN_SIZE, NUM_CLASS):\n",
    "        super().__init__()\n",
    "        self.embedding = nn.Embedding(num_embeddings=VOCAB_SIZE, embedding_dim=EMBED_DIM)\n",
    "        self.rnn = nn.RNN(input_size=EMBED_DIM, hidden_size=HIDDEN_SIZE, batch_first = True)\n",
    "        # 학습 모델을 RNN 대신에 LSTM을 사용해볼수도 있겠다\n",
    "        # RNN에서 양방향 학습 파라미터를 설정해볼 수 도 있겠다.\n",
    "        \n",
    "        # 활성화함수 => 다중 분류니까\n",
    "        # self.fc = nn.Softmax(HIDDEN_SIZE, NUM_CLASS) # 이렇게 쓰는게 아닌가?\n",
    "        self.fc = nn.Linear(HIDDEN_SIZE, NUM_CLASS) # 다중 분류인데 이게 되나?\n",
    "        \n",
    "        self.init_weights() # 이건 왜 쓴거지?\n",
    "        self.dropout = nn.Dropout()  # 혹시 모를 과대적합을 위해서\n",
    "        \n",
    "    # 가중치 초기화\n",
    "    def init_weights(self):\n",
    "        range = 0.5\n",
    "        self.embedding.weight.data.uniform_(-range, range)\n",
    "        # self.fc.weight.data.uniform_(-range, range)\n",
    "        # self.fc.bias.data.zero_()\n",
    "        \n",
    "    # 순방향 학습 진행\n",
    "    def forward(self, text):\n",
    "        embed = self.embedding(text)\n",
    "        output, hidden = self.rnn(embed)\n",
    "        result = self.fc(output)                # 이 층을 왜 통과시켜줘야하는거지? ;;\n",
    "        # result = F.softmax(self.fc(output), dim=1)\n",
    "        return result"
   ],
   "metadata": {
    "collapsed": false,
    "ExecuteTime": {
     "end_time": "2024-04-05T03:07:26.410503Z",
     "start_time": "2024-04-05T03:07:26.399794Z"
    }
   },
   "id": "56fe7d4666bf3171",
   "execution_count": 73
  },
  {
   "cell_type": "code",
   "outputs": [],
   "source": [
    "# 학습용 변수들 지정\n",
    "from torch import optim\n",
    "import torch\n",
    "import torch.nn as nn\n",
    "import torch.nn.functional as F\n",
    "VOCAB_SIZE = 13714\n",
    "EMBED_DIM = 50\n",
    "HIDDEN_SIZE = 10\n",
    "NUM_CLASS = 8\n",
    "model = music_rnn(VOCAB_SIZE, EMBED_DIM, HIDDEN_SIZE, NUM_CLASS)\n",
    "\n",
    "device = 'cuda' if torch.cuda.is_available() else 'cpu'\n",
    "loss_fn = nn.CrossEntropyLoss().to(device)\n",
    "optimizer = optim.Adam(params = model.parameters())\n",
    "scheduler = optim.lr_scheduler.ReduceLROnPlateau(optimizer)"
   ],
   "metadata": {
    "collapsed": false,
    "ExecuteTime": {
     "end_time": "2024-04-05T03:07:26.440748Z",
     "start_time": "2024-04-05T03:07:26.412664Z"
    }
   },
   "id": "2e2f1701cefa5cb1",
   "execution_count": 74
  },
  {
   "cell_type": "markdown",
   "source": [
    "# 함수 지정 (train, test)"
   ],
   "metadata": {
    "collapsed": false
   },
   "id": "9df80cc45c27fead"
  },
  {
   "cell_type": "code",
   "outputs": [
    {
     "name": "stdout",
     "output_type": "stream",
     "text": [
      "tensor([[[0, 0, 0, 0, 0, 0, 0, 0, 1]],\n",
      "\n",
      "        [[0, 0, 0, 0, 0, 0, 0, 1, 0]],\n",
      "\n",
      "        [[0, 1, 0, 0, 0, 0, 0, 0, 0]],\n",
      "\n",
      "        [[0, 0, 0, 1, 0, 0, 0, 0, 0]],\n",
      "\n",
      "        [[0, 0, 0, 1, 0, 0, 0, 0, 0]],\n",
      "\n",
      "        [[0, 0, 0, 0, 1, 0, 0, 0, 0]],\n",
      "\n",
      "        [[0, 0, 0, 1, 0, 0, 0, 0, 0]],\n",
      "\n",
      "        [[0, 0, 0, 0, 0, 0, 0, 0, 1]],\n",
      "\n",
      "        [[0, 1, 0, 0, 0, 0, 0, 0, 0]],\n",
      "\n",
      "        [[0, 0, 0, 0, 0, 1, 0, 0, 0]],\n",
      "\n",
      "        [[0, 0, 0, 0, 1, 0, 0, 0, 0]],\n",
      "\n",
      "        [[0, 0, 0, 0, 0, 0, 1, 0, 0]],\n",
      "\n",
      "        [[0, 0, 1, 0, 0, 0, 0, 0, 0]],\n",
      "\n",
      "        [[0, 0, 0, 0, 1, 0, 0, 0, 0]],\n",
      "\n",
      "        [[0, 0, 0, 0, 0, 0, 0, 0, 1]],\n",
      "\n",
      "        [[0, 0, 0, 0, 0, 0, 0, 1, 0]],\n",
      "\n",
      "        [[0, 0, 0, 0, 0, 0, 1, 0, 0]],\n",
      "\n",
      "        [[0, 0, 0, 0, 0, 1, 0, 0, 0]],\n",
      "\n",
      "        [[0, 0, 1, 0, 0, 0, 0, 0, 0]],\n",
      "\n",
      "        [[0, 0, 0, 1, 0, 0, 0, 0, 0]]])\n",
      "--------------------------------------------------\n",
      "label.shape - torch.Size([20, 1, 9])   pred.shape - torch.Size([20, 852, 8])\n"
     ]
    },
    {
     "ename": "RuntimeError",
     "evalue": "Expected target size [20, 8], got [20, 1, 9]",
     "output_type": "error",
     "traceback": [
      "\u001B[1;31m---------------------------------------------------------------------------\u001B[0m",
      "\u001B[1;31mRuntimeError\u001B[0m                              Traceback (most recent call last)",
      "Cell \u001B[1;32mIn[76], line 34\u001B[0m\n\u001B[0;32m     31\u001B[0m         optimizer\u001B[38;5;241m.\u001B[39mstep()\n\u001B[0;32m     33\u001B[0m     \u001B[38;5;28;01mreturn\u001B[39;00m output_list\n\u001B[1;32m---> 34\u001B[0m \u001B[43mtraining\u001B[49m\u001B[43m(\u001B[49m\u001B[43mtrain_loader\u001B[49m\u001B[43m)\u001B[49m\n",
      "Cell \u001B[1;32mIn[76], line 21\u001B[0m, in \u001B[0;36mtraining\u001B[1;34m(DATALOADER)\u001B[0m\n\u001B[0;32m     19\u001B[0m \u001B[38;5;66;03m# 손실 검정\u001B[39;00m\n\u001B[0;32m     20\u001B[0m \u001B[38;5;28mprint\u001B[39m(\u001B[38;5;124mf\u001B[39m\u001B[38;5;124m\"\u001B[39m\u001B[38;5;124mlabel.shape - \u001B[39m\u001B[38;5;132;01m{\u001B[39;00mlabel\u001B[38;5;241m.\u001B[39mshape\u001B[38;5;132;01m}\u001B[39;00m\u001B[38;5;124m   pred.shape - \u001B[39m\u001B[38;5;132;01m{\u001B[39;00mpred\u001B[38;5;241m.\u001B[39mshape\u001B[38;5;132;01m}\u001B[39;00m\u001B[38;5;124m\"\u001B[39m)\n\u001B[1;32m---> 21\u001B[0m loss \u001B[38;5;241m=\u001B[39m \u001B[43mloss_fn\u001B[49m\u001B[43m(\u001B[49m\u001B[43mpred\u001B[49m\u001B[43m,\u001B[49m\u001B[43m \u001B[49m\u001B[43mtrain_label\u001B[49m\u001B[43m)\u001B[49m \n\u001B[0;32m     22\u001B[0m output_list[\u001B[38;5;241m0\u001B[39m]\u001B[38;5;241m.\u001B[39mappend(loss\u001B[38;5;241m.\u001B[39mitem())\n\u001B[0;32m     23\u001B[0m output_list[\u001B[38;5;241m1\u001B[39m]\u001B[38;5;241m.\u001B[39mappend(metrics\u001B[38;5;241m.\u001B[39maccuracy(pred, train_label, task \u001B[38;5;241m=\u001B[39m \u001B[38;5;124m'\u001B[39m\u001B[38;5;124mbinary\u001B[39m\u001B[38;5;124m'\u001B[39m)\u001B[38;5;241m.\u001B[39mitem())\n",
      "File \u001B[1;32mC:\\ProgramData\\anaconda3\\envs\\TORCH_NLP38\\lib\\site-packages\\torch\\nn\\modules\\module.py:1511\u001B[0m, in \u001B[0;36mModule._wrapped_call_impl\u001B[1;34m(self, *args, **kwargs)\u001B[0m\n\u001B[0;32m   1509\u001B[0m     \u001B[38;5;28;01mreturn\u001B[39;00m \u001B[38;5;28mself\u001B[39m\u001B[38;5;241m.\u001B[39m_compiled_call_impl(\u001B[38;5;241m*\u001B[39margs, \u001B[38;5;241m*\u001B[39m\u001B[38;5;241m*\u001B[39mkwargs)  \u001B[38;5;66;03m# type: ignore[misc]\u001B[39;00m\n\u001B[0;32m   1510\u001B[0m \u001B[38;5;28;01melse\u001B[39;00m:\n\u001B[1;32m-> 1511\u001B[0m     \u001B[38;5;28;01mreturn\u001B[39;00m \u001B[38;5;28;43mself\u001B[39;49m\u001B[38;5;241;43m.\u001B[39;49m\u001B[43m_call_impl\u001B[49m\u001B[43m(\u001B[49m\u001B[38;5;241;43m*\u001B[39;49m\u001B[43margs\u001B[49m\u001B[43m,\u001B[49m\u001B[43m \u001B[49m\u001B[38;5;241;43m*\u001B[39;49m\u001B[38;5;241;43m*\u001B[39;49m\u001B[43mkwargs\u001B[49m\u001B[43m)\u001B[49m\n",
      "File \u001B[1;32mC:\\ProgramData\\anaconda3\\envs\\TORCH_NLP38\\lib\\site-packages\\torch\\nn\\modules\\module.py:1520\u001B[0m, in \u001B[0;36mModule._call_impl\u001B[1;34m(self, *args, **kwargs)\u001B[0m\n\u001B[0;32m   1515\u001B[0m \u001B[38;5;66;03m# If we don't have any hooks, we want to skip the rest of the logic in\u001B[39;00m\n\u001B[0;32m   1516\u001B[0m \u001B[38;5;66;03m# this function, and just call forward.\u001B[39;00m\n\u001B[0;32m   1517\u001B[0m \u001B[38;5;28;01mif\u001B[39;00m \u001B[38;5;129;01mnot\u001B[39;00m (\u001B[38;5;28mself\u001B[39m\u001B[38;5;241m.\u001B[39m_backward_hooks \u001B[38;5;129;01mor\u001B[39;00m \u001B[38;5;28mself\u001B[39m\u001B[38;5;241m.\u001B[39m_backward_pre_hooks \u001B[38;5;129;01mor\u001B[39;00m \u001B[38;5;28mself\u001B[39m\u001B[38;5;241m.\u001B[39m_forward_hooks \u001B[38;5;129;01mor\u001B[39;00m \u001B[38;5;28mself\u001B[39m\u001B[38;5;241m.\u001B[39m_forward_pre_hooks\n\u001B[0;32m   1518\u001B[0m         \u001B[38;5;129;01mor\u001B[39;00m _global_backward_pre_hooks \u001B[38;5;129;01mor\u001B[39;00m _global_backward_hooks\n\u001B[0;32m   1519\u001B[0m         \u001B[38;5;129;01mor\u001B[39;00m _global_forward_hooks \u001B[38;5;129;01mor\u001B[39;00m _global_forward_pre_hooks):\n\u001B[1;32m-> 1520\u001B[0m     \u001B[38;5;28;01mreturn\u001B[39;00m \u001B[43mforward_call\u001B[49m\u001B[43m(\u001B[49m\u001B[38;5;241;43m*\u001B[39;49m\u001B[43margs\u001B[49m\u001B[43m,\u001B[49m\u001B[43m \u001B[49m\u001B[38;5;241;43m*\u001B[39;49m\u001B[38;5;241;43m*\u001B[39;49m\u001B[43mkwargs\u001B[49m\u001B[43m)\u001B[49m\n\u001B[0;32m   1522\u001B[0m \u001B[38;5;28;01mtry\u001B[39;00m:\n\u001B[0;32m   1523\u001B[0m     result \u001B[38;5;241m=\u001B[39m \u001B[38;5;28;01mNone\u001B[39;00m\n",
      "File \u001B[1;32mC:\\ProgramData\\anaconda3\\envs\\TORCH_NLP38\\lib\\site-packages\\torch\\nn\\modules\\loss.py:1179\u001B[0m, in \u001B[0;36mCrossEntropyLoss.forward\u001B[1;34m(self, input, target)\u001B[0m\n\u001B[0;32m   1178\u001B[0m \u001B[38;5;28;01mdef\u001B[39;00m \u001B[38;5;21mforward\u001B[39m(\u001B[38;5;28mself\u001B[39m, \u001B[38;5;28minput\u001B[39m: Tensor, target: Tensor) \u001B[38;5;241m-\u001B[39m\u001B[38;5;241m>\u001B[39m Tensor:\n\u001B[1;32m-> 1179\u001B[0m     \u001B[38;5;28;01mreturn\u001B[39;00m \u001B[43mF\u001B[49m\u001B[38;5;241;43m.\u001B[39;49m\u001B[43mcross_entropy\u001B[49m\u001B[43m(\u001B[49m\u001B[38;5;28;43minput\u001B[39;49m\u001B[43m,\u001B[49m\u001B[43m \u001B[49m\u001B[43mtarget\u001B[49m\u001B[43m,\u001B[49m\u001B[43m \u001B[49m\u001B[43mweight\u001B[49m\u001B[38;5;241;43m=\u001B[39;49m\u001B[38;5;28;43mself\u001B[39;49m\u001B[38;5;241;43m.\u001B[39;49m\u001B[43mweight\u001B[49m\u001B[43m,\u001B[49m\n\u001B[0;32m   1180\u001B[0m \u001B[43m                           \u001B[49m\u001B[43mignore_index\u001B[49m\u001B[38;5;241;43m=\u001B[39;49m\u001B[38;5;28;43mself\u001B[39;49m\u001B[38;5;241;43m.\u001B[39;49m\u001B[43mignore_index\u001B[49m\u001B[43m,\u001B[49m\u001B[43m \u001B[49m\u001B[43mreduction\u001B[49m\u001B[38;5;241;43m=\u001B[39;49m\u001B[38;5;28;43mself\u001B[39;49m\u001B[38;5;241;43m.\u001B[39;49m\u001B[43mreduction\u001B[49m\u001B[43m,\u001B[49m\n\u001B[0;32m   1181\u001B[0m \u001B[43m                           \u001B[49m\u001B[43mlabel_smoothing\u001B[49m\u001B[38;5;241;43m=\u001B[39;49m\u001B[38;5;28;43mself\u001B[39;49m\u001B[38;5;241;43m.\u001B[39;49m\u001B[43mlabel_smoothing\u001B[49m\u001B[43m)\u001B[49m\n",
      "File \u001B[1;32mC:\\ProgramData\\anaconda3\\envs\\TORCH_NLP38\\lib\\site-packages\\torch\\nn\\functional.py:3059\u001B[0m, in \u001B[0;36mcross_entropy\u001B[1;34m(input, target, weight, size_average, ignore_index, reduce, reduction, label_smoothing)\u001B[0m\n\u001B[0;32m   3057\u001B[0m \u001B[38;5;28;01mif\u001B[39;00m size_average \u001B[38;5;129;01mis\u001B[39;00m \u001B[38;5;129;01mnot\u001B[39;00m \u001B[38;5;28;01mNone\u001B[39;00m \u001B[38;5;129;01mor\u001B[39;00m reduce \u001B[38;5;129;01mis\u001B[39;00m \u001B[38;5;129;01mnot\u001B[39;00m \u001B[38;5;28;01mNone\u001B[39;00m:\n\u001B[0;32m   3058\u001B[0m     reduction \u001B[38;5;241m=\u001B[39m _Reduction\u001B[38;5;241m.\u001B[39mlegacy_get_string(size_average, reduce)\n\u001B[1;32m-> 3059\u001B[0m \u001B[38;5;28;01mreturn\u001B[39;00m \u001B[43mtorch\u001B[49m\u001B[38;5;241;43m.\u001B[39;49m\u001B[43m_C\u001B[49m\u001B[38;5;241;43m.\u001B[39;49m\u001B[43m_nn\u001B[49m\u001B[38;5;241;43m.\u001B[39;49m\u001B[43mcross_entropy_loss\u001B[49m\u001B[43m(\u001B[49m\u001B[38;5;28;43minput\u001B[39;49m\u001B[43m,\u001B[49m\u001B[43m \u001B[49m\u001B[43mtarget\u001B[49m\u001B[43m,\u001B[49m\u001B[43m \u001B[49m\u001B[43mweight\u001B[49m\u001B[43m,\u001B[49m\u001B[43m \u001B[49m\u001B[43m_Reduction\u001B[49m\u001B[38;5;241;43m.\u001B[39;49m\u001B[43mget_enum\u001B[49m\u001B[43m(\u001B[49m\u001B[43mreduction\u001B[49m\u001B[43m)\u001B[49m\u001B[43m,\u001B[49m\u001B[43m \u001B[49m\u001B[43mignore_index\u001B[49m\u001B[43m,\u001B[49m\u001B[43m \u001B[49m\u001B[43mlabel_smoothing\u001B[49m\u001B[43m)\u001B[49m\n",
      "\u001B[1;31mRuntimeError\u001B[0m: Expected target size [20, 8], got [20, 1, 9]"
     ]
    }
   ],
   "source": [
    "import torchmetrics.functional.classification as metrics\n",
    "import numpy as np\n",
    "def training(DATALOADER):\n",
    "    model.train()\n",
    "    output_list = [[], [], [], [], []]\n",
    "    # loss, acc, precision, recall, f1_score\n",
    "    for data in DATALOADER:\n",
    "        feature = data[0]\n",
    "        label = data[1]\n",
    "        label = F.one_hot(label)\n",
    "        print(label)\n",
    "        print('-'*50)\n",
    "\n",
    "        train_feature = feature.to(device)\n",
    "        train_label = label.to(device)\n",
    "        \n",
    "        pred = model(train_feature)\n",
    "\n",
    "        # 손실 검정\n",
    "        print(f\"label.shape - {label.shape}   pred.shape - {pred.shape}\")\n",
    "        loss = loss_fn(pred, train_label) \n",
    "        output_list[0].append(loss.item())\n",
    "        output_list[1].append(metrics.accuracy(pred, train_label, task = 'binary').item())\n",
    "        output_list[2].append(metrics.precision(pred, train_label, task = 'binary').item())\n",
    "        output_list[3].append(metrics.recall(pred, train_label, task = 'binary').item())\n",
    "        output_list[4].append(metrics.f1_score(pred, train_label, task = 'binary').item())\n",
    "        \n",
    "        # 업데이트\n",
    "        optimizer.zero_grad()\n",
    "        loss.backward()\n",
    "        optimizer.step()\n",
    "    \n",
    "    return output_list\n",
    "training(train_loader)"
   ],
   "metadata": {
    "collapsed": false,
    "ExecuteTime": {
     "end_time": "2024-04-05T03:08:21.017987Z",
     "start_time": "2024-04-05T03:08:20.715502Z"
    }
   },
   "id": "73f7f55acbfe51e",
   "execution_count": 76
  },
  {
   "cell_type": "code",
   "outputs": [],
   "source": [],
   "metadata": {
    "collapsed": false,
    "ExecuteTime": {
     "end_time": "2024-04-05T03:08:21.236434Z",
     "start_time": "2024-04-05T03:08:21.217681Z"
    }
   },
   "id": "4ec79e0a675ca239",
   "execution_count": 76
  },
  {
   "cell_type": "code",
   "outputs": [],
   "source": [],
   "metadata": {
    "collapsed": false,
    "ExecuteTime": {
     "start_time": "2024-04-05T03:07:26.570735Z"
    }
   },
   "id": "fda4c6a330eec192",
   "execution_count": null
  }
 ],
 "metadata": {
  "kernelspec": {
   "display_name": "Python 3",
   "language": "python",
   "name": "python3"
  },
  "language_info": {
   "codemirror_mode": {
    "name": "ipython",
    "version": 2
   },
   "file_extension": ".py",
   "mimetype": "text/x-python",
   "name": "python",
   "nbconvert_exporter": "python",
   "pygments_lexer": "ipython2",
   "version": "2.7.6"
  }
 },
 "nbformat": 4,
 "nbformat_minor": 5
}
