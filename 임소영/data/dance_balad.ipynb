{
 "cells": [
  {
   "cell_type": "code",
   "execution_count": 1,
   "id": "initial_id",
   "metadata": {
    "collapsed": true,
    "ExecuteTime": {
     "end_time": "2024-04-04T04:37:29.403876Z",
     "start_time": "2024-04-04T04:37:28.961051Z"
    }
   },
   "outputs": [],
   "source": [
    "import pandas as pd"
   ]
  },
  {
   "cell_type": "code",
   "outputs": [
    {
     "data": {
      "text/plain": "        title         artist  \\\n0       Reset     선재 (snzae)   \n1     Tip Toe         EUNSAN   \n2    와사비가 최고야  projectsummit   \n3  Black Card    summitmusic   \n4   southside            이효승   \n\n                                               lyric   genre  \n0  I ain't waiting for your care\\n다 귀찮아 dizzy cal...  hiphop  \n1  oh baby girl I'll never let you go\\n너 없인 못사는 놈...  hiphop  \n2  완전 와사비 중독 나\\n코에서 뻥 나오는 매콤한 향기\\n혀끝에서 터지는 톡 쏘는 맛...  hiphop  \n3  Yeah, we living that black card life, you know...  hiphop  \n4  iam from south side\\ncappers 전부 박살 (박살)\\nrap m...  hiphop  ",
      "text/html": "<div>\n<style scoped>\n    .dataframe tbody tr th:only-of-type {\n        vertical-align: middle;\n    }\n\n    .dataframe tbody tr th {\n        vertical-align: top;\n    }\n\n    .dataframe thead th {\n        text-align: right;\n    }\n</style>\n<table border=\"1\" class=\"dataframe\">\n  <thead>\n    <tr style=\"text-align: right;\">\n      <th></th>\n      <th>title</th>\n      <th>artist</th>\n      <th>lyric</th>\n      <th>genre</th>\n    </tr>\n  </thead>\n  <tbody>\n    <tr>\n      <th>0</th>\n      <td>Reset</td>\n      <td>선재 (snzae)</td>\n      <td>I ain't waiting for your care\\n다 귀찮아 dizzy cal...</td>\n      <td>hiphop</td>\n    </tr>\n    <tr>\n      <th>1</th>\n      <td>Tip Toe</td>\n      <td>EUNSAN</td>\n      <td>oh baby girl I'll never let you go\\n너 없인 못사는 놈...</td>\n      <td>hiphop</td>\n    </tr>\n    <tr>\n      <th>2</th>\n      <td>와사비가 최고야</td>\n      <td>projectsummit</td>\n      <td>완전 와사비 중독 나\\n코에서 뻥 나오는 매콤한 향기\\n혀끝에서 터지는 톡 쏘는 맛...</td>\n      <td>hiphop</td>\n    </tr>\n    <tr>\n      <th>3</th>\n      <td>Black Card</td>\n      <td>summitmusic</td>\n      <td>Yeah, we living that black card life, you know...</td>\n      <td>hiphop</td>\n    </tr>\n    <tr>\n      <th>4</th>\n      <td>southside</td>\n      <td>이효승</td>\n      <td>iam from south side\\ncappers 전부 박살 (박살)\\nrap m...</td>\n      <td>hiphop</td>\n    </tr>\n  </tbody>\n</table>\n</div>"
     },
     "execution_count": 4,
     "metadata": {},
     "output_type": "execute_result"
    }
   ],
   "source": [
    "file = '../data/real_real_all_genre.csv'\n",
    "result = pd.read_csv(file)[['title','artist','lyric','genre']]\n",
    "result.head()"
   ],
   "metadata": {
    "collapsed": false,
    "ExecuteTime": {
     "end_time": "2024-04-04T04:39:28.528807Z",
     "start_time": "2024-04-04T04:39:28.485486Z"
    }
   },
   "id": "1d576ea57231dd8e",
   "execution_count": 4
  },
  {
   "cell_type": "code",
   "outputs": [
    {
     "data": {
      "text/plain": "(87, 4)"
     },
     "execution_count": 7,
     "metadata": {},
     "output_type": "execute_result"
    }
   ],
   "source": [
    "dance = result[result['genre'] == 'dance']\n",
    "dance.shape"
   ],
   "metadata": {
    "collapsed": false,
    "ExecuteTime": {
     "end_time": "2024-04-04T04:40:21.142784Z",
     "start_time": "2024-04-04T04:40:21.130919Z"
    }
   },
   "id": "c6f7ea48da9c0f46",
   "execution_count": 7
  },
  {
   "cell_type": "code",
   "outputs": [
    {
     "data": {
      "text/plain": "(97, 4)"
     },
     "execution_count": 8,
     "metadata": {},
     "output_type": "execute_result"
    }
   ],
   "source": [
    "balad = result[result['genre'] == 'balad']\n",
    "balad.shape"
   ],
   "metadata": {
    "collapsed": false,
    "ExecuteTime": {
     "end_time": "2024-04-04T04:40:32.685556Z",
     "start_time": "2024-04-04T04:40:32.668752Z"
    }
   },
   "id": "1f807c5180c1adf7",
   "execution_count": 8
  },
  {
   "cell_type": "code",
   "outputs": [
    {
     "data": {
      "text/plain": "(184, 4)"
     },
     "execution_count": 9,
     "metadata": {},
     "output_type": "execute_result"
    }
   ],
   "source": [
    "total_df = pd.concat([dance,balad])\n",
    "total_df.shape"
   ],
   "metadata": {
    "collapsed": false,
    "ExecuteTime": {
     "end_time": "2024-04-04T04:40:52.467637Z",
     "start_time": "2024-04-04T04:40:52.445026Z"
    }
   },
   "id": "9aa818fe77d5480a",
   "execution_count": 9
  },
  {
   "cell_type": "code",
   "outputs": [
    {
     "data": {
      "text/plain": "             title          artist  \\\n82     Midas Touch    KISS OF LIFE   \n83  Beautiful MAZE   DRIPPIN (드리핀)   \n84           Siren           RIIZE   \n85    Happy ending  그라나다 (GRANADA)   \n86     벚꽃이 내리면 둘이서            노노제이   \n\n                                                lyric  genre  \n82  Baby, count 10 That’s all I need\\n단숨에 빠져들어\\n(C...  dance  \n83  I want to back the time\\n갈라져 버린 우리\\n끝내질 못해 Why...  dance  \n84  Beat droppin’ low feelin’ up\\n뒤섞여 봐 완전히 새로운 Fl...  dance  \n85  꼬일대로 꼬여버린\\n망한 인생 같아도\\n해도해도 안된다고\\n누가 말해도\\n다 집어치...  dance  \n86  내게도 선물을 주세요 꽃은 됐구요\\n내 손위에 달콤한 초콜릿 주세요\\n나도 이제 함...  dance  ",
      "text/html": "<div>\n<style scoped>\n    .dataframe tbody tr th:only-of-type {\n        vertical-align: middle;\n    }\n\n    .dataframe tbody tr th {\n        vertical-align: top;\n    }\n\n    .dataframe thead th {\n        text-align: right;\n    }\n</style>\n<table border=\"1\" class=\"dataframe\">\n  <thead>\n    <tr style=\"text-align: right;\">\n      <th></th>\n      <th>title</th>\n      <th>artist</th>\n      <th>lyric</th>\n      <th>genre</th>\n    </tr>\n  </thead>\n  <tbody>\n    <tr>\n      <th>82</th>\n      <td>Midas Touch</td>\n      <td>KISS OF LIFE</td>\n      <td>Baby, count 10 That’s all I need\\n단숨에 빠져들어\\n(C...</td>\n      <td>dance</td>\n    </tr>\n    <tr>\n      <th>83</th>\n      <td>Beautiful MAZE</td>\n      <td>DRIPPIN (드리핀)</td>\n      <td>I want to back the time\\n갈라져 버린 우리\\n끝내질 못해 Why...</td>\n      <td>dance</td>\n    </tr>\n    <tr>\n      <th>84</th>\n      <td>Siren</td>\n      <td>RIIZE</td>\n      <td>Beat droppin’ low feelin’ up\\n뒤섞여 봐 완전히 새로운 Fl...</td>\n      <td>dance</td>\n    </tr>\n    <tr>\n      <th>85</th>\n      <td>Happy ending</td>\n      <td>그라나다 (GRANADA)</td>\n      <td>꼬일대로 꼬여버린\\n망한 인생 같아도\\n해도해도 안된다고\\n누가 말해도\\n다 집어치...</td>\n      <td>dance</td>\n    </tr>\n    <tr>\n      <th>86</th>\n      <td>벚꽃이 내리면 둘이서</td>\n      <td>노노제이</td>\n      <td>내게도 선물을 주세요 꽃은 됐구요\\n내 손위에 달콤한 초콜릿 주세요\\n나도 이제 함...</td>\n      <td>dance</td>\n    </tr>\n  </tbody>\n</table>\n</div>"
     },
     "execution_count": 11,
     "metadata": {},
     "output_type": "execute_result"
    }
   ],
   "source": [
    "total_df.head()"
   ],
   "metadata": {
    "collapsed": false,
    "ExecuteTime": {
     "end_time": "2024-04-04T04:41:25.865191Z",
     "start_time": "2024-04-04T04:41:25.842894Z"
    }
   },
   "id": "990db25c63cf1bcf",
   "execution_count": 11
  },
  {
   "cell_type": "code",
   "outputs": [
    {
     "data": {
      "text/plain": "                              title       artist  \\\n261                        관계(2017)          주용정   \n262        어떤 날 (Vocal by COLORMAN)   비공일호 (B01)   \n263            Prettily (Vocal MP3)        고3 형민   \n264                  가을 그리고 겨울 다음 봄          김윤오   \n265  잊혀진 꿈 아쉬움 위로 (Feat. Easther.P)  아이럴 (ilull)   \n\n                                                 lyric  genre  \n261  우리가 그때 그렇게 만나면 괜찮았을텐데\\n생각이 많던 나라서 좀 많이 힘들었을텐데\\...  balad  \n262  바람이 불어와 마음을 흔들어놓으면\\n가라앉았던 내 마음은 다시금 어질러져\\n\\n평범...  balad  \n263  외톨이 산소와 외톨이 수소가\\n만나 물이 됐어요\\n이젠 목마를 일 없어요\\n아주 맘...  balad  \n264  기다리고 기다려도\\n안된다는걸 알아\\n\\n같이 봤던 꽃이 시들어가\\n\\n겉옷을 꺼내...  balad  \n265  시작은 늘 어렵고 마음은 더 불안해도\\n당신을 바라볼 수 있어서\\n다시 또 힘을 내...  balad  ",
      "text/html": "<div>\n<style scoped>\n    .dataframe tbody tr th:only-of-type {\n        vertical-align: middle;\n    }\n\n    .dataframe tbody tr th {\n        vertical-align: top;\n    }\n\n    .dataframe thead th {\n        text-align: right;\n    }\n</style>\n<table border=\"1\" class=\"dataframe\">\n  <thead>\n    <tr style=\"text-align: right;\">\n      <th></th>\n      <th>title</th>\n      <th>artist</th>\n      <th>lyric</th>\n      <th>genre</th>\n    </tr>\n  </thead>\n  <tbody>\n    <tr>\n      <th>261</th>\n      <td>관계(2017)</td>\n      <td>주용정</td>\n      <td>우리가 그때 그렇게 만나면 괜찮았을텐데\\n생각이 많던 나라서 좀 많이 힘들었을텐데\\...</td>\n      <td>balad</td>\n    </tr>\n    <tr>\n      <th>262</th>\n      <td>어떤 날 (Vocal by COLORMAN)</td>\n      <td>비공일호 (B01)</td>\n      <td>바람이 불어와 마음을 흔들어놓으면\\n가라앉았던 내 마음은 다시금 어질러져\\n\\n평범...</td>\n      <td>balad</td>\n    </tr>\n    <tr>\n      <th>263</th>\n      <td>Prettily (Vocal MP3)</td>\n      <td>고3 형민</td>\n      <td>외톨이 산소와 외톨이 수소가\\n만나 물이 됐어요\\n이젠 목마를 일 없어요\\n아주 맘...</td>\n      <td>balad</td>\n    </tr>\n    <tr>\n      <th>264</th>\n      <td>가을 그리고 겨울 다음 봄</td>\n      <td>김윤오</td>\n      <td>기다리고 기다려도\\n안된다는걸 알아\\n\\n같이 봤던 꽃이 시들어가\\n\\n겉옷을 꺼내...</td>\n      <td>balad</td>\n    </tr>\n    <tr>\n      <th>265</th>\n      <td>잊혀진 꿈 아쉬움 위로 (Feat. Easther.P)</td>\n      <td>아이럴 (ilull)</td>\n      <td>시작은 늘 어렵고 마음은 더 불안해도\\n당신을 바라볼 수 있어서\\n다시 또 힘을 내...</td>\n      <td>balad</td>\n    </tr>\n  </tbody>\n</table>\n</div>"
     },
     "execution_count": 12,
     "metadata": {},
     "output_type": "execute_result"
    }
   ],
   "source": [
    "total_df.tail()"
   ],
   "metadata": {
    "collapsed": false,
    "ExecuteTime": {
     "end_time": "2024-04-04T04:41:35.387817Z",
     "start_time": "2024-04-04T04:41:35.363736Z"
    }
   },
   "id": "a42d1648a2a7075a",
   "execution_count": 12
  },
  {
   "cell_type": "code",
   "outputs": [],
   "source": [
    "total_df.to_csv('for_ys_yr.csv')"
   ],
   "metadata": {
    "collapsed": false,
    "ExecuteTime": {
     "end_time": "2024-04-04T04:41:09.232757Z",
     "start_time": "2024-04-04T04:41:09.210671Z"
    }
   },
   "id": "2d597c1a6e402383",
   "execution_count": 10
  },
  {
   "cell_type": "code",
   "outputs": [],
   "source": [],
   "metadata": {
    "collapsed": false
   },
   "id": "327c120edea22c2e"
  }
 ],
 "metadata": {
  "kernelspec": {
   "display_name": "Python 3",
   "language": "python",
   "name": "python3"
  },
  "language_info": {
   "codemirror_mode": {
    "name": "ipython",
    "version": 2
   },
   "file_extension": ".py",
   "mimetype": "text/x-python",
   "name": "python",
   "nbconvert_exporter": "python",
   "pygments_lexer": "ipython2",
   "version": "2.7.6"
  }
 },
 "nbformat": 4,
 "nbformat_minor": 5
}
