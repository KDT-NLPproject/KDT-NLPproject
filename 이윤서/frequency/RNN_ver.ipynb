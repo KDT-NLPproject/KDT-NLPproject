{
 "cells": [
  {
   "cell_type": "markdown",
   "source": [
    "# dance - ballade 분류(RGG Ver)\n",
    "- 프로젝트에 사용된 파일"
   ],
   "metadata": {
    "collapsed": false
   },
   "id": "35b0beaa710e4036"
  },
  {
   "cell_type": "code",
   "outputs": [],
   "source": [
    "# 모듈 로딩\n",
    "import pandas as pd\n",
    "import numpy as np\n",
    "\n",
    "from PIL import Image\n",
    "import torchvision.transforms as transforms\n",
    "from torch.utils.data import DataLoader, WeightedRandomSampler\n",
    "\n",
    "\n",
    "import torch\n",
    "import torch.nn as nn\n",
    "import torch.nn.functional as F\n",
    "import torch.optim as optim\n",
    "import torch.nn.init as init\n",
    "import matplotlib.pyplot as plt"
   ],
   "metadata": {
    "collapsed": false,
    "ExecuteTime": {
     "end_time": "2024-04-05T00:07:02.274736200Z",
     "start_time": "2024-04-05T00:07:02.187499300Z"
    }
   },
   "id": "9194ba7419847ba8",
   "execution_count": 95
  },
  {
   "cell_type": "markdown",
   "source": [
    "# 데이터 불러오기"
   ],
   "metadata": {
    "collapsed": false
   },
   "id": "2e665d5a2538f343"
  },
  {
   "cell_type": "code",
   "outputs": [],
   "source": [
    "from torchvision.datasets import ImageFolder \n",
    "from torchvision.transforms import transforms\n",
    "from PIL import Image\n",
    "\n",
    "# 데이터셋 경로\n",
    "train_root = \"./data/train\"\n",
    "test_root = \"./data/test\"\n",
    "\n",
    "# 전처리를 위한 변환\n",
    "preprocessing = transforms.Compose([\n",
    "    transforms.Resize((100, 100)),  # 이미지 크기 조정\n",
    "    transforms.Grayscale(),  # 이미지를 흑백으로 변환\n",
    "    transforms.ToTensor(),  # 텐서로 변환\n",
    "])\n",
    "\n",
    "# 데이터셋 로드\n",
    "trainDS = ImageFolder(root=train_root, transform=preprocessing)\n",
    "testDS = ImageFolder(root=test_root, transform=preprocessing)"
   ],
   "metadata": {
    "collapsed": false,
    "ExecuteTime": {
     "end_time": "2024-04-05T00:07:02.282342400Z",
     "start_time": "2024-04-05T00:07:02.270374100Z"
    }
   },
   "id": "56ee1fd646844f7b",
   "execution_count": 96
  },
  {
   "cell_type": "code",
   "outputs": [
    {
     "data": {
      "text/plain": "[('./data/train\\\\ballade\\\\balad1.png', 0),\n ('./data/train\\\\ballade\\\\balad10.png', 0),\n ('./data/train\\\\ballade\\\\balad100.png', 0),\n ('./data/train\\\\ballade\\\\balad11.png', 0),\n ('./data/train\\\\ballade\\\\balad12.png', 0),\n ('./data/train\\\\ballade\\\\balad13.png', 0),\n ('./data/train\\\\ballade\\\\balad14.png', 0),\n ('./data/train\\\\ballade\\\\balad15.png', 0),\n ('./data/train\\\\ballade\\\\balad16.png', 0),\n ('./data/train\\\\ballade\\\\balad17.png', 0),\n ('./data/train\\\\ballade\\\\balad18.png', 0),\n ('./data/train\\\\ballade\\\\balad2.png', 0),\n ('./data/train\\\\ballade\\\\balad20.png', 0),\n ('./data/train\\\\ballade\\\\balad21.png', 0),\n ('./data/train\\\\ballade\\\\balad22.png', 0),\n ('./data/train\\\\ballade\\\\balad23.png', 0),\n ('./data/train\\\\ballade\\\\balad25.png', 0),\n ('./data/train\\\\ballade\\\\balad26.png', 0),\n ('./data/train\\\\ballade\\\\balad28.png', 0),\n ('./data/train\\\\ballade\\\\balad29.png', 0),\n ('./data/train\\\\ballade\\\\balad3.png', 0),\n ('./data/train\\\\ballade\\\\balad30.png', 0),\n ('./data/train\\\\ballade\\\\balad32.png', 0),\n ('./data/train\\\\ballade\\\\balad33.png', 0),\n ('./data/train\\\\ballade\\\\balad34.png', 0),\n ('./data/train\\\\ballade\\\\balad36.png', 0),\n ('./data/train\\\\ballade\\\\balad37.png', 0),\n ('./data/train\\\\ballade\\\\balad39.png', 0),\n ('./data/train\\\\ballade\\\\balad4.png', 0),\n ('./data/train\\\\ballade\\\\balad40.png', 0),\n ('./data/train\\\\ballade\\\\balad41.png', 0),\n ('./data/train\\\\ballade\\\\balad42.png', 0),\n ('./data/train\\\\ballade\\\\balad44.png', 0),\n ('./data/train\\\\ballade\\\\balad46.png', 0),\n ('./data/train\\\\ballade\\\\balad47.png', 0),\n ('./data/train\\\\ballade\\\\balad48.png', 0),\n ('./data/train\\\\ballade\\\\balad49.png', 0),\n ('./data/train\\\\ballade\\\\balad5.png', 0),\n ('./data/train\\\\ballade\\\\balad50.png', 0),\n ('./data/train\\\\ballade\\\\balad53.png', 0),\n ('./data/train\\\\ballade\\\\balad54.png', 0),\n ('./data/train\\\\ballade\\\\balad55.png', 0),\n ('./data/train\\\\ballade\\\\balad56.png', 0),\n ('./data/train\\\\ballade\\\\balad57.png', 0),\n ('./data/train\\\\ballade\\\\balad58.png', 0),\n ('./data/train\\\\ballade\\\\balad6.png', 0),\n ('./data/train\\\\ballade\\\\balad61.png', 0),\n ('./data/train\\\\ballade\\\\balad62.png', 0),\n ('./data/train\\\\ballade\\\\balad63.png', 0),\n ('./data/train\\\\ballade\\\\balad64.png', 0),\n ('./data/train\\\\ballade\\\\balad65.png', 0),\n ('./data/train\\\\ballade\\\\balad67.png', 0),\n ('./data/train\\\\ballade\\\\balad69.png', 0),\n ('./data/train\\\\ballade\\\\balad7.png', 0),\n ('./data/train\\\\ballade\\\\balad70.png', 0),\n ('./data/train\\\\ballade\\\\balad71.png', 0),\n ('./data/train\\\\ballade\\\\balad72.png', 0),\n ('./data/train\\\\ballade\\\\balad74.png', 0),\n ('./data/train\\\\ballade\\\\balad75.png', 0),\n ('./data/train\\\\ballade\\\\balad77.png', 0),\n ('./data/train\\\\ballade\\\\balad78.png', 0),\n ('./data/train\\\\ballade\\\\balad79.png', 0),\n ('./data/train\\\\ballade\\\\balad8.png', 0),\n ('./data/train\\\\ballade\\\\balad81.png', 0),\n ('./data/train\\\\ballade\\\\balad82.png', 0),\n ('./data/train\\\\ballade\\\\balad83.png', 0),\n ('./data/train\\\\ballade\\\\balad85.png', 0),\n ('./data/train\\\\ballade\\\\balad86.png', 0),\n ('./data/train\\\\ballade\\\\balad88.png', 0),\n ('./data/train\\\\ballade\\\\balad89.png', 0),\n ('./data/train\\\\ballade\\\\balad9.png', 0),\n ('./data/train\\\\ballade\\\\balad90.png', 0),\n ('./data/train\\\\ballade\\\\balad91.png', 0),\n ('./data/train\\\\ballade\\\\balad93.png', 0),\n ('./data/train\\\\ballade\\\\balad94.png', 0),\n ('./data/train\\\\ballade\\\\balad95.png', 0),\n ('./data/train\\\\ballade\\\\balad96.png', 0),\n ('./data/train\\\\ballade\\\\balad97.png', 0),\n ('./data/train\\\\ballade\\\\balad98.png', 0),\n ('./data/train\\\\ballade\\\\balad99.png', 0),\n ('./data/train\\\\dance\\\\dance10.png', 1),\n ('./data/train\\\\dance\\\\dance100.png', 1),\n ('./data/train\\\\dance\\\\dance11.png', 1),\n ('./data/train\\\\dance\\\\dance12.png', 1),\n ('./data/train\\\\dance\\\\dance13.png', 1),\n ('./data/train\\\\dance\\\\dance15.png', 1),\n ('./data/train\\\\dance\\\\dance16.png', 1),\n ('./data/train\\\\dance\\\\dance17.png', 1),\n ('./data/train\\\\dance\\\\dance19.png', 1),\n ('./data/train\\\\dance\\\\dance2.png', 1),\n ('./data/train\\\\dance\\\\dance20.png', 1),\n ('./data/train\\\\dance\\\\dance22.png', 1),\n ('./data/train\\\\dance\\\\dance23.png', 1),\n ('./data/train\\\\dance\\\\dance24.png', 1),\n ('./data/train\\\\dance\\\\dance25.png', 1),\n ('./data/train\\\\dance\\\\dance26.png', 1),\n ('./data/train\\\\dance\\\\dance27.png', 1),\n ('./data/train\\\\dance\\\\dance3.png', 1),\n ('./data/train\\\\dance\\\\dance31.png', 1),\n ('./data/train\\\\dance\\\\dance34.png', 1),\n ('./data/train\\\\dance\\\\dance36.png', 1),\n ('./data/train\\\\dance\\\\dance37.png', 1),\n ('./data/train\\\\dance\\\\dance38.png', 1),\n ('./data/train\\\\dance\\\\dance39.png', 1),\n ('./data/train\\\\dance\\\\dance4.png', 1),\n ('./data/train\\\\dance\\\\dance40.png', 1),\n ('./data/train\\\\dance\\\\dance41.png', 1),\n ('./data/train\\\\dance\\\\dance43.png', 1),\n ('./data/train\\\\dance\\\\dance44.png', 1),\n ('./data/train\\\\dance\\\\dance45.png', 1),\n ('./data/train\\\\dance\\\\dance46.png', 1),\n ('./data/train\\\\dance\\\\dance47.png', 1),\n ('./data/train\\\\dance\\\\dance48.png', 1),\n ('./data/train\\\\dance\\\\dance5.png', 1),\n ('./data/train\\\\dance\\\\dance50.png', 1),\n ('./data/train\\\\dance\\\\dance51.png', 1),\n ('./data/train\\\\dance\\\\dance52.png', 1),\n ('./data/train\\\\dance\\\\dance53.png', 1),\n ('./data/train\\\\dance\\\\dance54.png', 1),\n ('./data/train\\\\dance\\\\dance55.png', 1),\n ('./data/train\\\\dance\\\\dance57.png', 1),\n ('./data/train\\\\dance\\\\dance58.png', 1),\n ('./data/train\\\\dance\\\\dance59.png', 1),\n ('./data/train\\\\dance\\\\dance6.png', 1),\n ('./data/train\\\\dance\\\\dance60.png', 1),\n ('./data/train\\\\dance\\\\dance61.png', 1),\n ('./data/train\\\\dance\\\\dance62.png', 1),\n ('./data/train\\\\dance\\\\dance64.png', 1),\n ('./data/train\\\\dance\\\\dance65.png', 1),\n ('./data/train\\\\dance\\\\dance66.png', 1),\n ('./data/train\\\\dance\\\\dance67.png', 1),\n ('./data/train\\\\dance\\\\dance68.png', 1),\n ('./data/train\\\\dance\\\\dance69.png', 1),\n ('./data/train\\\\dance\\\\dance71.png', 1),\n ('./data/train\\\\dance\\\\dance72.png', 1),\n ('./data/train\\\\dance\\\\dance73.png', 1),\n ('./data/train\\\\dance\\\\dance74.png', 1),\n ('./data/train\\\\dance\\\\dance75.png', 1),\n ('./data/train\\\\dance\\\\dance76.png', 1),\n ('./data/train\\\\dance\\\\dance78.png', 1),\n ('./data/train\\\\dance\\\\dance79.png', 1),\n ('./data/train\\\\dance\\\\dance8.png', 1),\n ('./data/train\\\\dance\\\\dance80.png', 1),\n ('./data/train\\\\dance\\\\dance81.png', 1),\n ('./data/train\\\\dance\\\\dance82.png', 1),\n ('./data/train\\\\dance\\\\dance83.png', 1),\n ('./data/train\\\\dance\\\\dance85.png', 1),\n ('./data/train\\\\dance\\\\dance86.png', 1),\n ('./data/train\\\\dance\\\\dance87.png', 1),\n ('./data/train\\\\dance\\\\dance88.png', 1),\n ('./data/train\\\\dance\\\\dance89.png', 1),\n ('./data/train\\\\dance\\\\dance9.png', 1),\n ('./data/train\\\\dance\\\\dance90.png', 1),\n ('./data/train\\\\dance\\\\dance92.png', 1),\n ('./data/train\\\\dance\\\\dance93.png', 1),\n ('./data/train\\\\dance\\\\dance94.png', 1),\n ('./data/train\\\\dance\\\\dance95.png', 1),\n ('./data/train\\\\dance\\\\dance96.png', 1),\n ('./data/train\\\\dance\\\\dance97.png', 1),\n ('./data/train\\\\dance\\\\dance99.png', 1)]"
     },
     "execution_count": 97,
     "metadata": {},
     "output_type": "execute_result"
    }
   ],
   "source": [
    "trainDS.samples"
   ],
   "metadata": {
    "collapsed": false,
    "ExecuteTime": {
     "end_time": "2024-04-05T00:07:02.324221800Z",
     "start_time": "2024-04-05T00:07:02.294643700Z"
    }
   },
   "id": "8aa94dba639469bb",
   "execution_count": 97
  },
  {
   "cell_type": "markdown",
   "source": [
    "## 데이터 셋이 잘 읽혔는지 확인"
   ],
   "metadata": {
    "collapsed": false
   },
   "id": "bca4528fe0e93b19"
  },
  {
   "cell_type": "code",
   "outputs": [
    {
     "data": {
      "text/plain": "(['ballade', 'dance'], {'ballade': 0, 'dance': 1})"
     },
     "execution_count": 98,
     "metadata": {},
     "output_type": "execute_result"
    }
   ],
   "source": [
    "trainDS.classes, trainDS.class_to_idx"
   ],
   "metadata": {
    "collapsed": false,
    "ExecuteTime": {
     "end_time": "2024-04-05T00:07:02.325335500Z",
     "start_time": "2024-04-05T00:07:02.298700100Z"
    }
   },
   "id": "bc9729a8211af0cc",
   "execution_count": 98
  },
  {
   "cell_type": "code",
   "outputs": [],
   "source": [
    "# valDS.classes, valDS.class_to_idx"
   ],
   "metadata": {
    "collapsed": false,
    "ExecuteTime": {
     "end_time": "2024-04-05T00:07:02.382285100Z",
     "start_time": "2024-04-05T00:07:02.315390300Z"
    }
   },
   "id": "fe102052011e9fe9",
   "execution_count": 99
  },
  {
   "cell_type": "code",
   "outputs": [
    {
     "data": {
      "text/plain": "(['ballade', 'dance'], {'ballade': 0, 'dance': 1})"
     },
     "execution_count": 100,
     "metadata": {},
     "output_type": "execute_result"
    }
   ],
   "source": [
    "testDS.classes, testDS.class_to_idx"
   ],
   "metadata": {
    "collapsed": false,
    "ExecuteTime": {
     "end_time": "2024-04-05T00:07:02.384375700Z",
     "start_time": "2024-04-05T00:07:02.331810200Z"
    }
   },
   "id": "57df3703ffeabc57",
   "execution_count": 100
  },
  {
   "cell_type": "code",
   "outputs": [
    {
     "data": {
      "text/plain": "(160, 20)"
     },
     "execution_count": 101,
     "metadata": {},
     "output_type": "execute_result"
    }
   ],
   "source": [
    "# 비율 확인\n",
    "len(trainDS), len(testDS)"
   ],
   "metadata": {
    "collapsed": false,
    "ExecuteTime": {
     "end_time": "2024-04-05T00:07:02.385451100Z",
     "start_time": "2024-04-05T00:07:02.347061800Z"
    }
   },
   "id": "85e25d525831aadb",
   "execution_count": 101
  },
  {
   "cell_type": "code",
   "outputs": [
    {
     "data": {
      "text/plain": "tensor([[[0.7255, 0.8510, 0.8549,  ..., 0.8510, 0.8510, 0.8431],\n         [0.7333, 0.8627, 0.8627,  ..., 0.8627, 0.8627, 0.8549],\n         [0.7333, 0.8627, 0.8627,  ..., 0.8627, 0.8627, 0.8549],\n         ...,\n         [0.7216, 0.8510, 0.8510,  ..., 0.6549, 0.6588, 0.6431],\n         [0.7216, 0.8510, 0.8510,  ..., 0.6549, 0.6588, 0.6431],\n         [0.7137, 0.8392, 0.8431,  ..., 0.6471, 0.6510, 0.6353]]])"
     },
     "execution_count": 102,
     "metadata": {},
     "output_type": "execute_result"
    }
   ],
   "source": [
    "trainDS[0][0]"
   ],
   "metadata": {
    "collapsed": false,
    "ExecuteTime": {
     "end_time": "2024-04-05T00:07:02.424697600Z",
     "start_time": "2024-04-05T00:07:02.388800500Z"
    }
   },
   "id": "61d8a022288c4db3",
   "execution_count": 102
  },
  {
   "cell_type": "code",
   "outputs": [],
   "source": [
    "# sampler -> 각 배치의 분포를 맞추기 위함 \n",
    "# weights = make_weights(imgDS.targets, len(imgDS.classes))\n",
    "weights = torch.ones(len(trainDS.targets), dtype=torch.float)\n",
    "sampler = WeightedRandomSampler(weights, len(weights))\n",
    "\n",
    "train_DL = DataLoader(trainDS, batch_size=20, shuffle=True)\n",
    "test_DL = DataLoader(testDS, batch_size=20)  # 테스트 데이터 로더도 동일한 배치 크기를 설정합니다.\n"
   ],
   "metadata": {
    "collapsed": false,
    "ExecuteTime": {
     "end_time": "2024-04-05T00:07:02.486237400Z",
     "start_time": "2024-04-05T00:07:02.455087Z"
    }
   },
   "id": "9d6debbd99eead3a",
   "execution_count": 104
  },
  {
   "cell_type": "code",
   "outputs": [],
   "source": [
    "# max = 10\n",
    "# for cnt, (_, label) in enumerate(val_DL):\n",
    "#     print(f'batch별 target 분포\\n{label.bincount()}\\n')\n",
    "#     if cnt > max:\n",
    "#         break"
   ],
   "metadata": {
    "collapsed": false,
    "ExecuteTime": {
     "end_time": "2024-04-05T00:07:02.489782500Z",
     "start_time": "2024-04-05T00:07:02.475073700Z"
    }
   },
   "id": "5ba577f82fb7b486",
   "execution_count": 105
  },
  {
   "cell_type": "code",
   "outputs": [
    {
     "data": {
      "text/plain": "(8, 1)"
     },
     "execution_count": 106,
     "metadata": {},
     "output_type": "execute_result"
    }
   ],
   "source": [
    "len(train_DL), len(test_DL) # 배치 개수"
   ],
   "metadata": {
    "collapsed": false,
    "ExecuteTime": {
     "end_time": "2024-04-05T00:07:02.527775400Z",
     "start_time": "2024-04-05T00:07:02.494528400Z"
    }
   },
   "id": "6117f2ba111ec92c",
   "execution_count": 106
  },
  {
   "cell_type": "markdown",
   "source": [
    "# 학습 준비"
   ],
   "metadata": {
    "collapsed": false
   },
   "id": "fa99ea61a09f830f"
  },
  {
   "cell_type": "code",
   "outputs": [
    {
     "name": "stdout",
     "output_type": "stream",
     "text": [
      "Using PyTorch version: 2.2.2  Device: cpu\n"
     ]
    }
   ],
   "source": [
    "### ===> 딥러닝 모델을 설계할 때 활용하는 장비 확인\n",
    "if torch.cuda.is_available():\n",
    "    DEVICE = torch.device('cuda')\n",
    "else:\n",
    "    DEVICE = torch.device('cpu')\n",
    "    \n",
    "print('Using PyTorch version:', torch.__version__, ' Device:', DEVICE)"
   ],
   "metadata": {
    "collapsed": false,
    "ExecuteTime": {
     "end_time": "2024-04-05T00:07:02.530880500Z",
     "start_time": "2024-04-05T00:07:02.511245Z"
    }
   },
   "id": "f343160eda89d149",
   "execution_count": 107
  },
  {
   "cell_type": "code",
   "outputs": [],
   "source": [
    "# 데이터 모양... RNN이 뭔데 날 울려\n",
    "sequence_length = 100 # 이미지 가로\n",
    "input_size = 100 # 이미지 세로\n",
    "hidden_size = 128\n",
    "num_layers = 5\n",
    "num_classes = 2\n",
    "num_epochs = 10\n",
    "learning_rate = 0.001"
   ],
   "metadata": {
    "collapsed": false,
    "ExecuteTime": {
     "end_time": "2024-04-05T03:43:45.065719100Z",
     "start_time": "2024-04-05T03:43:45.045559800Z"
    }
   },
   "id": "d226121c639afc4c",
   "execution_count": 120
  },
  {
   "cell_type": "markdown",
   "source": [
    "# RNN CLASS"
   ],
   "metadata": {
    "collapsed": false
   },
   "id": "924e9ccf5db8687d"
  },
  {
   "cell_type": "code",
   "outputs": [],
   "source": [
    "# LSTM 클래스 정의 \n",
    "# hidden : 닐라닐라바닐라 LSTM(강사님 피셜 이게 제일 기본)/LSTM/GRU(?) -> 종류에 따라 기능이 다른가?\n",
    "\n",
    "class RNN(nn.Module):\n",
    "    def __init__(self, input_size, hidden_size, num_layers, num_classes):\n",
    "        super().__init__()\n",
    "        self.hidden_size = hidden_size\n",
    "        self.num_layers = num_layers\n",
    "        self.lstm = nn.LSTM(input_size, hidden_size, num_layers, batch_first=True) # 배치가 앞으로 \n",
    "        self.fc = nn.Linear(hidden_size, num_classes)\n",
    "    \n",
    "    # input x -> (BATCH, LENGTH, INPUT_SIZE)\n",
    "    # 단방향\n",
    "    def forward(self, x): \n",
    "        h0 = torch.zeros(self.num_layers, x.size(0), self.hidden_size).to(DEVICE) # (BATCH SIZE, SEQ_LENGTH, HIDDEN_SIZE)\n",
    "        c0 = torch.zeros(self.num_layers, x.size(0), self.hidden_size).to(DEVICE) # hidden state와 동일\n",
    "        result, _ = self.lstm(x, (h0, c0))                                           # output : (BATCH_SIZE, SEQ_LENGTH, HIDDEN_SIZE)\n",
    "        result = self.fc(result[:, -1, :])                                              # logit \n",
    "        return result"
   ],
   "metadata": {
    "collapsed": false,
    "ExecuteTime": {
     "end_time": "2024-04-05T03:51:35.763905500Z",
     "start_time": "2024-04-05T03:51:35.753411800Z"
    }
   },
   "id": "30c77d731d7ab7a0",
   "execution_count": 124
  },
  {
   "cell_type": "markdown",
   "source": [
    "# 학습 및 평가"
   ],
   "metadata": {
    "collapsed": false
   },
   "id": "9a0d4cdd3739fafc"
  },
  {
   "cell_type": "code",
   "outputs": [
    {
     "name": "stdout",
     "output_type": "stream",
     "text": [
      "Epoch [1/10], Step [1/8], Loss: 0.6842\n",
      "Epoch [1/10], Step [2/8], Loss: 0.6881\n",
      "Epoch [1/10], Step [3/8], Loss: 0.6884\n",
      "Epoch [1/10], Step [4/8], Loss: 0.6749\n",
      "Epoch [1/10], Step [5/8], Loss: 0.7238\n",
      "Epoch [1/10], Step [6/8], Loss: 0.7476\n",
      "Epoch [1/10], Step [7/8], Loss: 0.7239\n",
      "Epoch [1/10], Step [8/8], Loss: 0.6976\n",
      "Epoch [2/10], Step [1/8], Loss: 0.6811\n",
      "Epoch [2/10], Step [2/8], Loss: 0.6889\n",
      "Epoch [2/10], Step [3/8], Loss: 0.7000\n",
      "Epoch [2/10], Step [4/8], Loss: 0.6985\n",
      "Epoch [2/10], Step [5/8], Loss: 0.6937\n",
      "Epoch [2/10], Step [6/8], Loss: 0.6934\n",
      "Epoch [2/10], Step [7/8], Loss: 0.6954\n",
      "Epoch [2/10], Step [8/8], Loss: 0.6936\n",
      "Epoch [3/10], Step [1/8], Loss: 0.6905\n",
      "Epoch [3/10], Step [2/8], Loss: 0.6878\n",
      "Epoch [3/10], Step [3/8], Loss: 0.7052\n",
      "Epoch [3/10], Step [4/8], Loss: 0.7003\n",
      "Epoch [3/10], Step [5/8], Loss: 0.7097\n",
      "Epoch [3/10], Step [6/8], Loss: 0.6825\n",
      "Epoch [3/10], Step [7/8], Loss: 0.7041\n",
      "Epoch [3/10], Step [8/8], Loss: 0.6881\n",
      "Epoch [4/10], Step [1/8], Loss: 0.6957\n",
      "Epoch [4/10], Step [2/8], Loss: 0.6991\n",
      "Epoch [4/10], Step [3/8], Loss: 0.6932\n",
      "Epoch [4/10], Step [4/8], Loss: 0.6932\n",
      "Epoch [4/10], Step [5/8], Loss: 0.6927\n",
      "Epoch [4/10], Step [6/8], Loss: 0.6931\n",
      "Epoch [4/10], Step [7/8], Loss: 0.6931\n",
      "Epoch [4/10], Step [8/8], Loss: 0.6933\n",
      "Epoch [5/10], Step [1/8], Loss: 0.6933\n",
      "Epoch [5/10], Step [2/8], Loss: 0.6932\n",
      "Epoch [5/10], Step [3/8], Loss: 0.6930\n",
      "Epoch [5/10], Step [4/8], Loss: 0.6931\n",
      "Epoch [5/10], Step [5/8], Loss: 0.6949\n",
      "Epoch [5/10], Step [6/8], Loss: 0.6927\n",
      "Epoch [5/10], Step [7/8], Loss: 0.6947\n",
      "Epoch [5/10], Step [8/8], Loss: 0.6926\n",
      "Epoch [6/10], Step [1/8], Loss: 0.6931\n",
      "Epoch [6/10], Step [2/8], Loss: 0.6930\n",
      "Epoch [6/10], Step [3/8], Loss: 0.6927\n",
      "Epoch [6/10], Step [4/8], Loss: 0.6936\n",
      "Epoch [6/10], Step [5/8], Loss: 0.6941\n",
      "Epoch [6/10], Step [6/8], Loss: 0.6935\n",
      "Epoch [6/10], Step [7/8], Loss: 0.6934\n",
      "Epoch [6/10], Step [8/8], Loss: 0.6931\n",
      "Epoch [7/10], Step [1/8], Loss: 0.6929\n",
      "Epoch [7/10], Step [2/8], Loss: 0.6921\n",
      "Epoch [7/10], Step [3/8], Loss: 0.6942\n",
      "Epoch [7/10], Step [4/8], Loss: 0.6991\n",
      "Epoch [7/10], Step [5/8], Loss: 0.6948\n",
      "Epoch [7/10], Step [6/8], Loss: 0.6917\n",
      "Epoch [7/10], Step [7/8], Loss: 0.6965\n",
      "Epoch [7/10], Step [8/8], Loss: 0.6948\n",
      "Epoch [8/10], Step [1/8], Loss: 0.6905\n",
      "Epoch [8/10], Step [2/8], Loss: 0.6973\n",
      "Epoch [8/10], Step [3/8], Loss: 0.6920\n",
      "Epoch [8/10], Step [4/8], Loss: 0.6901\n",
      "Epoch [8/10], Step [5/8], Loss: 0.6965\n",
      "Epoch [8/10], Step [6/8], Loss: 0.6922\n",
      "Epoch [8/10], Step [7/8], Loss: 0.6932\n",
      "Epoch [8/10], Step [8/8], Loss: 0.6940\n",
      "Epoch [9/10], Step [1/8], Loss: 0.6924\n",
      "Epoch [9/10], Step [2/8], Loss: 0.6932\n",
      "Epoch [9/10], Step [3/8], Loss: 0.6925\n",
      "Epoch [9/10], Step [4/8], Loss: 0.6938\n",
      "Epoch [9/10], Step [5/8], Loss: 0.6932\n",
      "Epoch [9/10], Step [6/8], Loss: 0.6926\n",
      "Epoch [9/10], Step [7/8], Loss: 0.6942\n",
      "Epoch [9/10], Step [8/8], Loss: 0.6931\n",
      "Epoch [10/10], Step [1/8], Loss: 0.6925\n",
      "Epoch [10/10], Step [2/8], Loss: 0.6931\n",
      "Epoch [10/10], Step [3/8], Loss: 0.6925\n",
      "Epoch [10/10], Step [4/8], Loss: 0.6922\n",
      "Epoch [10/10], Step [5/8], Loss: 0.6953\n",
      "Epoch [10/10], Step [6/8], Loss: 0.6939\n",
      "Epoch [10/10], Step [7/8], Loss: 0.6953\n",
      "Epoch [10/10], Step [8/8], Loss: 0.6926\n"
     ]
    }
   ],
   "source": [
    "# 모델 할당 후 학습\n",
    "model = RNN(input_size, hidden_size, num_layers, num_classes).to(DEVICE) # \n",
    "\n",
    "# 손실 함수와 옵티마이저 정의\n",
    "criterion = nn.CrossEntropyLoss() # 분류\n",
    "optimizer = torch.optim.Adam(model.parameters(), lr=learning_rate)\n",
    "\n",
    "# 학습\n",
    "\n",
    "total_step = len(train_DL) # 배치 개수\n",
    "for epoch in range(num_epochs):\n",
    "    for i, (images, labels) in enumerate(train_DL):\n",
    "       # print(images.shape, images.reshape(-1, sequence_length, input_size).shape)\n",
    "       images = images.reshape(-1, sequence_length, input_size).to(DEVICE) # (BATCH, 1, 28, 28) -> (BATCH, 28, 28)\n",
    "       labels = labels.to(DEVICE)\n",
    "\n",
    "       # 순전파\n",
    "       outputs = model(images)\n",
    "       # print(torch.argmax(outputs, dim=1),len(torch.argmax(outputs, dim=1)))\n",
    "       # print(labels)\n",
    "       # print()\n",
    "       loss = criterion(outputs, labels)\n",
    "\n",
    "       # 역전파 & 최적화\n",
    "       optimizer.zero_grad()\n",
    "       loss.backward()\n",
    "       optimizer.step()\n",
    "\n",
    "       if (i+1) % 1 == 0: \n",
    "         print('Epoch [{}/{}], Step [{}/{}], Loss: {:.4f}'.format(\n",
    "             epoch+1, num_epochs, i+1, total_step, loss.item()))"
   ],
   "metadata": {
    "collapsed": false,
    "ExecuteTime": {
     "end_time": "2024-04-05T03:51:43.938181100Z",
     "start_time": "2024-04-05T03:51:36.433203300Z"
    }
   },
   "id": "d50418695085e638",
   "execution_count": 125
  },
  {
   "cell_type": "markdown",
   "source": [
    "# 모델 평가"
   ],
   "metadata": {
    "collapsed": false
   },
   "id": "5b4a2ea813056aa1"
  },
  {
   "cell_type": "code",
   "outputs": [
    {
     "name": "stdout",
     "output_type": "stream",
     "text": [
      "Accuracy: 50.0 %\n"
     ]
    }
   ],
   "source": [
    "model.eval() # Dropout, Batchnorm 등 실행 x\n",
    "with torch.no_grad():\n",
    "    correct = 0\n",
    "    total = 0\n",
    "    for images, labels in test_DL:\n",
    "        images = images.reshape(-1, sequence_length, input_size).to(DEVICE)\n",
    "        labels = labels.to(DEVICE)\n",
    "        outputs = model(images)\n",
    "        _, predicted = torch.max(outputs, 1) # logit(확률)이 가장 큰 class index 반환\n",
    "        total += labels.size(0)\n",
    "        correct += (predicted == labels).sum().item()\n",
    "    \n",
    "    print('Accuracy: {} %'.format(100 * correct / total)) \n"
   ],
   "metadata": {
    "collapsed": false,
    "ExecuteTime": {
     "end_time": "2024-04-05T03:43:57.674667100Z",
     "start_time": "2024-04-05T03:43:57.588263800Z"
    }
   },
   "id": "229021f352237493",
   "execution_count": 123
  },
  {
   "cell_type": "code",
   "outputs": [],
   "source": [],
   "metadata": {
    "collapsed": false,
    "ExecuteTime": {
     "end_time": "2024-04-05T00:07:06.698731700Z",
     "start_time": "2024-04-05T00:07:06.679119500Z"
    }
   },
   "id": "7ee68a8aff20aae8",
   "execution_count": 111
  },
  {
   "cell_type": "code",
   "outputs": [],
   "source": [],
   "metadata": {
    "collapsed": false,
    "ExecuteTime": {
     "end_time": "2024-04-05T00:07:06.708100Z",
     "start_time": "2024-04-05T00:07:06.693628500Z"
    }
   },
   "id": "e03bee4449c978bd",
   "execution_count": 111
  },
  {
   "cell_type": "code",
   "outputs": [],
   "source": [
    "torch.save(model.state_dict(), 'RNN.pth')"
   ],
   "metadata": {
    "collapsed": false,
    "ExecuteTime": {
     "end_time": "2024-04-05T00:07:06.732205600Z",
     "start_time": "2024-04-05T00:07:06.710186Z"
    }
   },
   "id": "84d4a6239ba3c9c7",
   "execution_count": 112
  },
  {
   "cell_type": "code",
   "outputs": [],
   "source": [],
   "metadata": {
    "collapsed": false,
    "ExecuteTime": {
     "end_time": "2024-04-05T00:07:06.741884700Z",
     "start_time": "2024-04-05T00:07:06.724838100Z"
    }
   },
   "id": "42176a7feb3b07a2",
   "execution_count": 112
  }
 ],
 "metadata": {
  "kernelspec": {
   "display_name": "Python 3",
   "language": "python",
   "name": "python3"
  },
  "language_info": {
   "codemirror_mode": {
    "name": "ipython",
    "version": 2
   },
   "file_extension": ".py",
   "mimetype": "text/x-python",
   "name": "python",
   "nbconvert_exporter": "python",
   "pygments_lexer": "ipython2",
   "version": "2.7.6"
  }
 },
 "nbformat": 4,
 "nbformat_minor": 5
}
