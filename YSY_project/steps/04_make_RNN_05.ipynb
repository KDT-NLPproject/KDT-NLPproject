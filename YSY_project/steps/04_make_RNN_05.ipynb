{
 "cells": [
  {
   "cell_type": "code",
   "execution_count": 249,
   "id": "initial_id",
   "metadata": {
    "collapsed": true,
    "ExecuteTime": {
     "end_time": "2024-04-05T04:11:06.020579Z",
     "start_time": "2024-04-05T04:11:06.014615Z"
    }
   },
   "outputs": [],
   "source": [
    "import pandas as pd"
   ]
  },
  {
   "cell_type": "code",
   "execution_count": 250,
   "id": "c65fef1ba31536f0",
   "metadata": {
    "collapsed": false,
    "ExecuteTime": {
     "end_time": "2024-04-05T04:11:06.100157Z",
     "start_time": "2024-04-05T04:11:06.022148Z"
    }
   },
   "outputs": [
    {
     "data": {
      "text/plain": "   Unnamed: 0  genre    1    2    3    4    5    6    7    8  ...  843  844  \\\n0           0      1    0    2    3    0    0    4    0    5  ...    1    1   \n1           1      1   31   41   42   43   44   45    0   46  ...    1    1   \n2           2      1  138  139  140    0    0    0  141    0  ...    1    1   \n3           3      1  117    0  203    0  204  205  206    0  ...    1    1   \n4           4      1  284    0  285  286  287    0  288  288  ...    1    1   \n\n   845  846  847  848  849  850  851  852  \n0    1    1    1    1    1    1    1    1  \n1    1    1    1    1    1    1    1    1  \n2    1    1    1    1    1    1    1    1  \n3    1    1    1    1    1    1    1    1  \n4    1    1    1    1    1    1    1    1  \n\n[5 rows x 854 columns]",
      "text/html": "<div>\n<style scoped>\n    .dataframe tbody tr th:only-of-type {\n        vertical-align: middle;\n    }\n\n    .dataframe tbody tr th {\n        vertical-align: top;\n    }\n\n    .dataframe thead th {\n        text-align: right;\n    }\n</style>\n<table border=\"1\" class=\"dataframe\">\n  <thead>\n    <tr style=\"text-align: right;\">\n      <th></th>\n      <th>Unnamed: 0</th>\n      <th>genre</th>\n      <th>1</th>\n      <th>2</th>\n      <th>3</th>\n      <th>4</th>\n      <th>5</th>\n      <th>6</th>\n      <th>7</th>\n      <th>8</th>\n      <th>...</th>\n      <th>843</th>\n      <th>844</th>\n      <th>845</th>\n      <th>846</th>\n      <th>847</th>\n      <th>848</th>\n      <th>849</th>\n      <th>850</th>\n      <th>851</th>\n      <th>852</th>\n    </tr>\n  </thead>\n  <tbody>\n    <tr>\n      <th>0</th>\n      <td>0</td>\n      <td>1</td>\n      <td>0</td>\n      <td>2</td>\n      <td>3</td>\n      <td>0</td>\n      <td>0</td>\n      <td>4</td>\n      <td>0</td>\n      <td>5</td>\n      <td>...</td>\n      <td>1</td>\n      <td>1</td>\n      <td>1</td>\n      <td>1</td>\n      <td>1</td>\n      <td>1</td>\n      <td>1</td>\n      <td>1</td>\n      <td>1</td>\n      <td>1</td>\n    </tr>\n    <tr>\n      <th>1</th>\n      <td>1</td>\n      <td>1</td>\n      <td>31</td>\n      <td>41</td>\n      <td>42</td>\n      <td>43</td>\n      <td>44</td>\n      <td>45</td>\n      <td>0</td>\n      <td>46</td>\n      <td>...</td>\n      <td>1</td>\n      <td>1</td>\n      <td>1</td>\n      <td>1</td>\n      <td>1</td>\n      <td>1</td>\n      <td>1</td>\n      <td>1</td>\n      <td>1</td>\n      <td>1</td>\n    </tr>\n    <tr>\n      <th>2</th>\n      <td>2</td>\n      <td>1</td>\n      <td>138</td>\n      <td>139</td>\n      <td>140</td>\n      <td>0</td>\n      <td>0</td>\n      <td>0</td>\n      <td>141</td>\n      <td>0</td>\n      <td>...</td>\n      <td>1</td>\n      <td>1</td>\n      <td>1</td>\n      <td>1</td>\n      <td>1</td>\n      <td>1</td>\n      <td>1</td>\n      <td>1</td>\n      <td>1</td>\n      <td>1</td>\n    </tr>\n    <tr>\n      <th>3</th>\n      <td>3</td>\n      <td>1</td>\n      <td>117</td>\n      <td>0</td>\n      <td>203</td>\n      <td>0</td>\n      <td>204</td>\n      <td>205</td>\n      <td>206</td>\n      <td>0</td>\n      <td>...</td>\n      <td>1</td>\n      <td>1</td>\n      <td>1</td>\n      <td>1</td>\n      <td>1</td>\n      <td>1</td>\n      <td>1</td>\n      <td>1</td>\n      <td>1</td>\n      <td>1</td>\n    </tr>\n    <tr>\n      <th>4</th>\n      <td>4</td>\n      <td>1</td>\n      <td>284</td>\n      <td>0</td>\n      <td>285</td>\n      <td>286</td>\n      <td>287</td>\n      <td>0</td>\n      <td>288</td>\n      <td>288</td>\n      <td>...</td>\n      <td>1</td>\n      <td>1</td>\n      <td>1</td>\n      <td>1</td>\n      <td>1</td>\n      <td>1</td>\n      <td>1</td>\n      <td>1</td>\n      <td>1</td>\n      <td>1</td>\n    </tr>\n  </tbody>\n</table>\n<p>5 rows × 854 columns</p>\n</div>"
     },
     "execution_count": 250,
     "metadata": {},
     "output_type": "execute_result"
    }
   ],
   "source": [
    "result = pd.read_csv('./total_padded_encoded_df.csv')\n",
    "data = pd.DataFrame(result)\n",
    "data.head()"
   ]
  },
  {
   "cell_type": "code",
   "execution_count": 251,
   "id": "a98fa634a6f42206",
   "metadata": {
    "collapsed": false,
    "ExecuteTime": {
     "end_time": "2024-04-05T04:11:06.116020Z",
     "start_time": "2024-04-05T04:11:06.102196Z"
    }
   },
   "outputs": [],
   "source": [
    "data['genre'] = data['genre'].replace({1:0, 2:1, 3:2, 4:3, 5:4, 6:5, 7:6, 8:7})"
   ]
  },
  {
   "cell_type": "markdown",
   "id": "6f13644b5b9cbcca",
   "metadata": {
    "collapsed": false
   },
   "source": [
    "# feature, label 분리"
   ]
  },
  {
   "cell_type": "code",
   "execution_count": 252,
   "id": "6d31254c789d0efe",
   "metadata": {
    "collapsed": false,
    "ExecuteTime": {
     "end_time": "2024-04-05T04:11:06.132011Z",
     "start_time": "2024-04-05T04:11:06.119268Z"
    }
   },
   "outputs": [
    {
     "name": "stdout",
     "output_type": "stream",
     "text": [
      "(772, 852) (772, 1)\n"
     ]
    }
   ],
   "source": [
    "feature_df = data.iloc[:, 2:]\n",
    "label_df = data[['genre']]\n",
    "print(feature_df.shape, label_df.shape)"
   ]
  },
  {
   "cell_type": "code",
   "execution_count": 253,
   "id": "7e97bdb90f217b31",
   "metadata": {
    "collapsed": false,
    "ExecuteTime": {
     "end_time": "2024-04-05T04:11:06.163362Z",
     "start_time": "2024-04-05T04:11:06.133108Z"
    }
   },
   "outputs": [
    {
     "data": {
      "text/plain": "     1    2    3    4    5    6    7    8    9   10  ...  843  844  845  846  \\\n0    0    2    3    0    0    4    0    5    6    7  ...    1    1    1    1   \n1   31   41   42   43   44   45    0   46    0   47  ...    1    1    1    1   \n2  138  139  140    0    0    0  141    0  143    0  ...    1    1    1    1   \n3  117    0  203    0  204  205  206    0  118  207  ...    1    1    1    1   \n4  284    0  285  286  287    0  288  288  289  290  ...    1    1    1    1   \n\n   847  848  849  850  851  852  \n0    1    1    1    1    1    1  \n1    1    1    1    1    1    1  \n2    1    1    1    1    1    1  \n3    1    1    1    1    1    1  \n4    1    1    1    1    1    1  \n\n[5 rows x 852 columns]",
      "text/html": "<div>\n<style scoped>\n    .dataframe tbody tr th:only-of-type {\n        vertical-align: middle;\n    }\n\n    .dataframe tbody tr th {\n        vertical-align: top;\n    }\n\n    .dataframe thead th {\n        text-align: right;\n    }\n</style>\n<table border=\"1\" class=\"dataframe\">\n  <thead>\n    <tr style=\"text-align: right;\">\n      <th></th>\n      <th>1</th>\n      <th>2</th>\n      <th>3</th>\n      <th>4</th>\n      <th>5</th>\n      <th>6</th>\n      <th>7</th>\n      <th>8</th>\n      <th>9</th>\n      <th>10</th>\n      <th>...</th>\n      <th>843</th>\n      <th>844</th>\n      <th>845</th>\n      <th>846</th>\n      <th>847</th>\n      <th>848</th>\n      <th>849</th>\n      <th>850</th>\n      <th>851</th>\n      <th>852</th>\n    </tr>\n  </thead>\n  <tbody>\n    <tr>\n      <th>0</th>\n      <td>0</td>\n      <td>2</td>\n      <td>3</td>\n      <td>0</td>\n      <td>0</td>\n      <td>4</td>\n      <td>0</td>\n      <td>5</td>\n      <td>6</td>\n      <td>7</td>\n      <td>...</td>\n      <td>1</td>\n      <td>1</td>\n      <td>1</td>\n      <td>1</td>\n      <td>1</td>\n      <td>1</td>\n      <td>1</td>\n      <td>1</td>\n      <td>1</td>\n      <td>1</td>\n    </tr>\n    <tr>\n      <th>1</th>\n      <td>31</td>\n      <td>41</td>\n      <td>42</td>\n      <td>43</td>\n      <td>44</td>\n      <td>45</td>\n      <td>0</td>\n      <td>46</td>\n      <td>0</td>\n      <td>47</td>\n      <td>...</td>\n      <td>1</td>\n      <td>1</td>\n      <td>1</td>\n      <td>1</td>\n      <td>1</td>\n      <td>1</td>\n      <td>1</td>\n      <td>1</td>\n      <td>1</td>\n      <td>1</td>\n    </tr>\n    <tr>\n      <th>2</th>\n      <td>138</td>\n      <td>139</td>\n      <td>140</td>\n      <td>0</td>\n      <td>0</td>\n      <td>0</td>\n      <td>141</td>\n      <td>0</td>\n      <td>143</td>\n      <td>0</td>\n      <td>...</td>\n      <td>1</td>\n      <td>1</td>\n      <td>1</td>\n      <td>1</td>\n      <td>1</td>\n      <td>1</td>\n      <td>1</td>\n      <td>1</td>\n      <td>1</td>\n      <td>1</td>\n    </tr>\n    <tr>\n      <th>3</th>\n      <td>117</td>\n      <td>0</td>\n      <td>203</td>\n      <td>0</td>\n      <td>204</td>\n      <td>205</td>\n      <td>206</td>\n      <td>0</td>\n      <td>118</td>\n      <td>207</td>\n      <td>...</td>\n      <td>1</td>\n      <td>1</td>\n      <td>1</td>\n      <td>1</td>\n      <td>1</td>\n      <td>1</td>\n      <td>1</td>\n      <td>1</td>\n      <td>1</td>\n      <td>1</td>\n    </tr>\n    <tr>\n      <th>4</th>\n      <td>284</td>\n      <td>0</td>\n      <td>285</td>\n      <td>286</td>\n      <td>287</td>\n      <td>0</td>\n      <td>288</td>\n      <td>288</td>\n      <td>289</td>\n      <td>290</td>\n      <td>...</td>\n      <td>1</td>\n      <td>1</td>\n      <td>1</td>\n      <td>1</td>\n      <td>1</td>\n      <td>1</td>\n      <td>1</td>\n      <td>1</td>\n      <td>1</td>\n      <td>1</td>\n    </tr>\n  </tbody>\n</table>\n<p>5 rows × 852 columns</p>\n</div>"
     },
     "execution_count": 253,
     "metadata": {},
     "output_type": "execute_result"
    }
   ],
   "source": [
    "feature_df.head()"
   ]
  },
  {
   "cell_type": "code",
   "execution_count": 254,
   "id": "8f93f08d6d24cf41",
   "metadata": {
    "collapsed": false,
    "ExecuteTime": {
     "end_time": "2024-04-05T04:11:06.179354Z",
     "start_time": "2024-04-05T04:11:06.165490Z"
    }
   },
   "outputs": [
    {
     "data": {
      "text/plain": "   genre\n0      0\n1      0\n2      0\n3      0\n4      0",
      "text/html": "<div>\n<style scoped>\n    .dataframe tbody tr th:only-of-type {\n        vertical-align: middle;\n    }\n\n    .dataframe tbody tr th {\n        vertical-align: top;\n    }\n\n    .dataframe thead th {\n        text-align: right;\n    }\n</style>\n<table border=\"1\" class=\"dataframe\">\n  <thead>\n    <tr style=\"text-align: right;\">\n      <th></th>\n      <th>genre</th>\n    </tr>\n  </thead>\n  <tbody>\n    <tr>\n      <th>0</th>\n      <td>0</td>\n    </tr>\n    <tr>\n      <th>1</th>\n      <td>0</td>\n    </tr>\n    <tr>\n      <th>2</th>\n      <td>0</td>\n    </tr>\n    <tr>\n      <th>3</th>\n      <td>0</td>\n    </tr>\n    <tr>\n      <th>4</th>\n      <td>0</td>\n    </tr>\n  </tbody>\n</table>\n</div>"
     },
     "execution_count": 254,
     "metadata": {},
     "output_type": "execute_result"
    }
   ],
   "source": [
    "label_df.head()"
   ]
  },
  {
   "cell_type": "code",
   "execution_count": 255,
   "id": "33034aeee3d94738",
   "metadata": {
    "collapsed": false,
    "ExecuteTime": {
     "end_time": "2024-04-05T04:11:06.194430Z",
     "start_time": "2024-04-05T04:11:06.181560Z"
    }
   },
   "outputs": [],
   "source": [
    "# label_df = label_df.replace({1:0, 2:1, 3:2, 4:3, 5:4, 6:5, 7:6, 8:7})"
   ]
  },
  {
   "cell_type": "code",
   "execution_count": 256,
   "id": "e616c58a0c1a632f",
   "metadata": {
    "collapsed": false,
    "ExecuteTime": {
     "end_time": "2024-04-05T04:11:06.210584Z",
     "start_time": "2024-04-05T04:11:06.196491Z"
    }
   },
   "outputs": [
    {
     "data": {
      "text/plain": "array([0, 1, 2, 3, 4, 5, 6, 7], dtype=int64)"
     },
     "execution_count": 256,
     "metadata": {},
     "output_type": "execute_result"
    }
   ],
   "source": [
    "label_df['genre'].unique()"
   ]
  },
  {
   "cell_type": "code",
   "execution_count": 257,
   "id": "8cdaae7a69b0f5a0",
   "metadata": {
    "collapsed": false,
    "ExecuteTime": {
     "end_time": "2024-04-05T04:11:06.226641Z",
     "start_time": "2024-04-05T04:11:06.211683Z"
    }
   },
   "outputs": [
    {
     "data": {
      "text/plain": "   genre\n0      0\n1      0\n2      0\n3      0\n4      0",
      "text/html": "<div>\n<style scoped>\n    .dataframe tbody tr th:only-of-type {\n        vertical-align: middle;\n    }\n\n    .dataframe tbody tr th {\n        vertical-align: top;\n    }\n\n    .dataframe thead th {\n        text-align: right;\n    }\n</style>\n<table border=\"1\" class=\"dataframe\">\n  <thead>\n    <tr style=\"text-align: right;\">\n      <th></th>\n      <th>genre</th>\n    </tr>\n  </thead>\n  <tbody>\n    <tr>\n      <th>0</th>\n      <td>0</td>\n    </tr>\n    <tr>\n      <th>1</th>\n      <td>0</td>\n    </tr>\n    <tr>\n      <th>2</th>\n      <td>0</td>\n    </tr>\n    <tr>\n      <th>3</th>\n      <td>0</td>\n    </tr>\n    <tr>\n      <th>4</th>\n      <td>0</td>\n    </tr>\n  </tbody>\n</table>\n</div>"
     },
     "execution_count": 257,
     "metadata": {},
     "output_type": "execute_result"
    }
   ],
   "source": [
    "label_df.head()"
   ]
  },
  {
   "cell_type": "markdown",
   "id": "8605f744e291a0f1",
   "metadata": {
    "collapsed": false
   },
   "source": [
    "# DataSet 생성, Tensor 변환, DataLoader 생성"
   ]
  },
  {
   "cell_type": "code",
   "execution_count": 258,
   "id": "98a1f30800b6e1c1",
   "metadata": {
    "collapsed": false,
    "ExecuteTime": {
     "end_time": "2024-04-05T04:11:06.238710Z",
     "start_time": "2024-04-05T04:11:06.228771Z"
    }
   },
   "outputs": [],
   "source": [
    "from torch.utils.data import Dataset, DataLoader, random_split\n",
    "\n",
    "import torch\n",
    "class CustomDataset(torch.utils.data.Dataset):\n",
    "    def __init__(self):\n",
    "        self.x_data = data.iloc[:, 2:].values\n",
    "        self.y_data = data[['genre']].values\n",
    "        \n",
    "    def __len__(self):\n",
    "        return len(self.x_data)\n",
    "    \n",
    "    def __getitem__(self,idx):\n",
    "        x = torch.LongTensor(self.x_data[idx])\n",
    "        y = torch.LongTensor(self.y_data[idx])\n",
    "        return x, y"
   ]
  },
  {
   "cell_type": "code",
   "execution_count": 259,
   "id": "90dd901d8aa17723",
   "metadata": {
    "collapsed": false,
    "ExecuteTime": {
     "end_time": "2024-04-05T04:11:06.254767Z",
     "start_time": "2024-04-05T04:11:06.240007Z"
    }
   },
   "outputs": [
    {
     "name": "stdout",
     "output_type": "stream",
     "text": [
      "694\n"
     ]
    }
   ],
   "source": [
    "DS = CustomDataset()\n",
    "\n",
    "num = int(len(DS) * 0.9)\n",
    "print(num)\n",
    "# print(DS[0])"
   ]
  },
  {
   "cell_type": "code",
   "execution_count": 260,
   "id": "46aba4978721aca9",
   "metadata": {
    "collapsed": false,
    "ExecuteTime": {
     "end_time": "2024-04-05T04:11:06.270131Z",
     "start_time": "2024-04-05T04:11:06.255826Z"
    }
   },
   "outputs": [],
   "source": [
    "# 학습용과 테스트용으로 분리\n",
    "train_ds, test_ds = random_split(DS, [num, len(DS) - num])"
   ]
  },
  {
   "cell_type": "code",
   "execution_count": 261,
   "id": "dad8949721b5c2e4",
   "metadata": {
    "collapsed": false,
    "ExecuteTime": {
     "end_time": "2024-04-05T04:11:06.286229Z",
     "start_time": "2024-04-05T04:11:06.273802Z"
    }
   },
   "outputs": [],
   "source": [
    "# 데이터 로더 생성\n",
    "BATCH = 20\n",
    "train_loader = DataLoader(train_ds, batch_size=BATCH, shuffle = True)\n",
    "test_loader = DataLoader(test_ds, batch_size = BATCH, shuffle = True)"
   ]
  },
  {
   "cell_type": "code",
   "execution_count": 262,
   "id": "3e1c1d1b",
   "metadata": {
    "ExecuteTime": {
     "end_time": "2024-04-05T04:11:06.302211Z",
     "start_time": "2024-04-05T04:11:06.287959Z"
    }
   },
   "outputs": [],
   "source": [
    "for x, y in train_loader:\n",
    "    # print(f'y : {y}\\nx : {x}')\n",
    "    break"
   ]
  },
  {
   "cell_type": "markdown",
   "id": "31f71710a9c4b6ac",
   "metadata": {
    "collapsed": false
   },
   "source": [
    "# 모델 설계"
   ]
  },
  {
   "cell_type": "code",
   "execution_count": 263,
   "id": "56fe7d4666bf3171",
   "metadata": {
    "collapsed": false,
    "ExecuteTime": {
     "end_time": "2024-04-05T04:11:06.321036Z",
     "start_time": "2024-04-05T04:11:06.304241Z"
    }
   },
   "outputs": [],
   "source": [
    "import torch.nn as nn\n",
    "class music_rnn(nn.Module):\n",
    "    def __init__(self, VOCAB_SIZE, EMBED_DIM, HIDDEN_SIZE, NUM_CLASS):\n",
    "        super().__init__()\n",
    "        self.embedding = nn.Embedding(num_embeddings=VOCAB_SIZE+2, embedding_dim=EMBED_DIM)\n",
    "        self.rnn = nn.RNN(input_size=EMBED_DIM, hidden_size=HIDDEN_SIZE, batch_first = True)\n",
    "        # 학습 모델을 RNN 대신에 LSTM을 사용해볼수도 있겠다\n",
    "        # RNN에서 양방향 학습 파라미터를 설정해볼 수 도 있겠다.\n",
    "        \n",
    "        # 활성화함수 => 다중 분류니까\n",
    "        # self.fc = nn.Softmax(HIDDEN_SIZE, NUM_CLASS) # 이렇게 쓰는게 아닌가?\n",
    "        self.fc = nn.Linear(HIDDEN_SIZE, NUM_CLASS) # 다중 분류인데 이게 되나?\n",
    "        \n",
    "        self.init_weights() # 이건 왜 쓴거지?\n",
    "        self.dropout = nn.Dropout()  # 혹시 모를 과대적합을 위해서\n",
    "        \n",
    "    # 가중치 초기화\n",
    "    def init_weights(self):\n",
    "        range = 0.5\n",
    "        self.embedding.weight.data.uniform_(-range, range)\n",
    "        # self.fc.weight.data.uniform_(-range, range)\n",
    "        # self.fc.bias.data.zero_()\n",
    "        \n",
    "    # 순방향 학습 진행\n",
    "    def forward(self, text):\n",
    "        embed = self.embedding(text)\n",
    "        output, hidden = self.rnn(embed)\n",
    "        output=output[:,-1,:]     ## 수정\n",
    "        result = self.fc(output)\n",
    "        # result = F.softmax(self.fc(output), dim=1)\n",
    "        return result"
   ]
  },
  {
   "cell_type": "code",
   "execution_count": 264,
   "id": "2e2f1701cefa5cb1",
   "metadata": {
    "collapsed": false,
    "ExecuteTime": {
     "end_time": "2024-04-05T04:11:06.352458Z",
     "start_time": "2024-04-05T04:11:06.323102Z"
    }
   },
   "outputs": [],
   "source": [
    "# 학습용 변수들 지정\n",
    "from torch import optim\n",
    "import torch\n",
    "import torch.nn as nn\n",
    "import torch.nn.functional as F\n",
    "VOCAB_SIZE = 13714\n",
    "EMBED_DIM = 50\n",
    "HIDDEN_SIZE = 10\n",
    "NUM_CLASS = 8\n",
    "model = music_rnn(VOCAB_SIZE, EMBED_DIM, HIDDEN_SIZE, NUM_CLASS)\n",
    "\n",
    "device = 'cuda' if torch.cuda.is_available() else 'cpu'\n",
    "loss_fn = nn.CrossEntropyLoss().to(device)\n",
    "optimizer = optim.Adam(params = model.parameters())\n",
    "scheduler = optim.lr_scheduler.ReduceLROnPlateau(optimizer)"
   ]
  },
  {
   "cell_type": "code",
   "execution_count": 265,
   "id": "73f39c723f6c868b",
   "metadata": {
    "collapsed": false,
    "ExecuteTime": {
     "end_time": "2024-04-05T04:11:06.367724Z",
     "start_time": "2024-04-05T04:11:06.354697Z"
    }
   },
   "outputs": [
    {
     "data": {
      "text/plain": "music_rnn(\n  (embedding): Embedding(13716, 50)\n  (rnn): RNN(50, 10, batch_first=True)\n  (fc): Linear(in_features=10, out_features=8, bias=True)\n  (dropout): Dropout(p=0.5, inplace=False)\n)"
     },
     "execution_count": 265,
     "metadata": {},
     "output_type": "execute_result"
    }
   ],
   "source": [
    "model"
   ]
  },
  {
   "cell_type": "markdown",
   "id": "9df80cc45c27fead",
   "metadata": {
    "collapsed": false
   },
   "source": [
    "# 함수 지정 (train, test)"
   ]
  },
  {
   "cell_type": "code",
   "execution_count": 266,
   "id": "e08084b5",
   "metadata": {
    "ExecuteTime": {
     "end_time": "2024-04-05T04:11:06.383344Z",
     "start_time": "2024-04-05T04:11:06.369914Z"
    }
   },
   "outputs": [],
   "source": [
    "import torchmetrics.functional.classification as metrics\n",
    "import numpy as np"
   ]
  },
  {
   "cell_type": "code",
   "execution_count": 267,
   "id": "73f7f55acbfe51e",
   "metadata": {
    "collapsed": false,
    "ExecuteTime": {
     "end_time": "2024-04-05T04:11:06.398487Z",
     "start_time": "2024-04-05T04:11:06.385461Z"
    }
   },
   "outputs": [],
   "source": [
    "def training(DATALOADER):\n",
    "    model.train()\n",
    "    output_list = [[], [], [], [], []]\n",
    "    # loss, acc, precision, recall, f1_score\n",
    "    for (feature, label) in DATALOADER:\n",
    "        feature = feature.to(device)\n",
    "        label = label.to(device)\n",
    "        ### 수정 된 부분\n",
    "        label_oh=F.one_hot(label, num_classes=8)\n",
    "        label_oh.squeeze_(dim=1)\n",
    "        pred = model(feature)\n",
    "        \n",
    "        # 손실 검정\n",
    "        loss = loss_fn(pred, label_oh.float())\n",
    "        output_list[0].append(loss.item())\n",
    "        output_list[1].append(metrics.accuracy(pred, label_oh, task = 'binary').item())\n",
    "        output_list[2].append(metrics.precision(pred, label_oh, task = 'binary').item())\n",
    "        output_list[3].append(metrics.recall(pred, label_oh, task = 'binary').item())\n",
    "        output_list[4].append(metrics.f1_score(pred, label_oh, task = 'binary').item())\n",
    "\n",
    "        # 업데이트\n",
    "        optimizer.zero_grad()\n",
    "        loss.backward()\n",
    "        optimizer.step()\n",
    "    total_loss = round(sum(output_list[0]) / len(output_list[0]), 4)\n",
    "    total_acc = round(sum(output_list[1])/len(output_list[1]), 4)\n",
    "    total_prec = round(sum(output_list[2])/len(output_list[2]), 4)\n",
    "    total_recall = round(sum(output_list[3])/len(output_list[3]), 4)\n",
    "    total_f1 = round(sum(output_list[4])/len(output_list[4]), 4)\n",
    "    \n",
    "    print(f\"< 1개의 에포크 train 후 result >\")\n",
    "    print(f\"loss {total_loss}   acc {total_acc}   precision {total_prec}   recall {total_recall}   f1_score {total_f1}\")\n",
    "    return total_loss, total_acc, total_prec, total_recall, total_f1\n",
    "# training(train_loader)"
   ]
  },
  {
   "cell_type": "code",
   "outputs": [],
   "source": [
    "def testing(DATALOADER):\n",
    "    model.eval()\n",
    "    output_list = [[], [], [], [], []]\n",
    "    # loss, acc, precision, recall, f1_score\n",
    "    for (feature, label) in DATALOADER:\n",
    "        feature = feature.to(device)\n",
    "        label = label.to(device)\n",
    "        ### 수정 된 부분\n",
    "        label_oh=F.one_hot(label, num_classes=8)\n",
    "        label_oh.squeeze_(dim=1)\n",
    "        pred = model(feature)\n",
    "        \n",
    "        # 손실 검정\n",
    "        loss = loss_fn(pred, label_oh.float())\n",
    "        output_list[0].append(loss.item())\n",
    "        output_list[1].append(metrics.accuracy(pred, label_oh, task = 'binary').item())\n",
    "        output_list[2].append(metrics.precision(pred, label_oh, task = 'binary').item())\n",
    "        output_list[3].append(metrics.recall(pred, label_oh, task = 'binary').item())\n",
    "        output_list[4].append(metrics.f1_score(pred, label_oh, task = 'binary').item())\n",
    "\n",
    "    total_loss = round(sum(output_list[0]) / len(output_list[0]), 4)\n",
    "    total_acc = round(sum(output_list[1])/len(output_list[1]), 4)\n",
    "    total_prec = round(sum(output_list[2])/len(output_list[2]), 4)\n",
    "    total_recall = round(sum(output_list[3])/len(output_list[3]), 4)\n",
    "    total_f1 = round(sum(output_list[4])/len(output_list[4]), 4)\n",
    "    \n",
    "    print(f\"< 1개의 에포크 test 후 result >\")\n",
    "    print(f\"loss {total_loss}   acc {total_acc}   precision {total_prec}   recall {total_recall}   f1_score {total_f1}\")\n",
    "    return total_loss, total_acc, total_prec, total_recall, total_f1\n",
    "\n",
    "# testing(test_loader)"
   ],
   "metadata": {
    "collapsed": false,
    "ExecuteTime": {
     "end_time": "2024-04-05T04:11:06.414107Z",
     "start_time": "2024-04-05T04:11:06.400660Z"
    }
   },
   "id": "9f0e4280359d2859",
   "execution_count": 268
  },
  {
   "cell_type": "markdown",
   "source": [
    "# 학습 진행"
   ],
   "metadata": {
    "collapsed": false
   },
   "id": "b8097cdacab092b7"
  },
  {
   "cell_type": "code",
   "outputs": [
    {
     "name": "stdout",
     "output_type": "stream",
     "text": [
      "< 1개의 에포크 train 후 result >\n",
      "loss 2.0994   acc 0.5839   precision 0.1234   recall 0.379   f1_score 0.1832\n",
      "1번쨰 학습 완료\n",
      "< 1개의 에포크 test 후 result >\n",
      "loss 2.0792   acc 0.6927   precision 0.1354   recall 0.2708   f1_score 0.1806\n",
      "1번쨰 검증 완료\n",
      "< 1개의 에포크 train 후 result >\n",
      "loss 2.0854   acc 0.671   precision 0.135   recall 0.3004   f1_score 0.1851\n",
      "2번쨰 학습 완료\n",
      "< 1개의 에포크 test 후 result >\n",
      "loss 2.0905   acc 0.6795   precision 0.109   recall 0.2181   f1_score 0.1454\n",
      "2번쨰 검증 완료\n",
      "< 1개의 에포크 train 후 result >\n",
      "loss 2.079   acc 0.7417   precision 0.1453   recall 0.2127   f1_score 0.1678\n",
      "3번쨰 학습 완료\n",
      "< 1개의 에포크 test 후 result >\n",
      "loss 2.0889   acc 0.7788   precision 0.1153   recall 0.1153   f1_score 0.1153\n",
      "3번쨰 검증 완료\n",
      "< 1개의 에포크 train 후 result >\n",
      "loss 2.0787   acc 0.8026   precision 0.1268   recall 0.1276   f1_score 0.1272\n",
      "4번쨰 학습 완료\n",
      "< 1개의 에포크 test 후 result >\n",
      "loss 2.0961   acc 0.7788   precision 0.1153   recall 0.1153   f1_score 0.1153\n",
      "4번쨰 검증 완료\n",
      "< 1개의 에포크 train 후 result >\n",
      "loss 2.076   acc 0.7883   precision 0.1407   recall 0.1427   f1_score 0.1415\n",
      "5번쨰 학습 완료\n",
      "< 1개의 에포크 test 후 result >\n",
      "loss 2.0936   acc 0.7788   precision 0.1153   recall 0.1153   f1_score 0.1153\n",
      "5번쨰 검증 완료\n",
      "< 1개의 에포크 train 후 result >\n",
      "loss 2.0774   acc 0.787   precision 0.1506   recall 0.1514   f1_score 0.151\n",
      "6번쨰 학습 완료\n",
      "< 1개의 에포크 test 후 result >\n",
      "loss 2.099   acc 0.7785   precision 0.1139   recall 0.1139   f1_score 0.1139\n",
      "6번쨰 검증 완료\n",
      "< 1개의 에포크 train 후 result >\n",
      "loss 2.0754   acc 0.7871   precision 0.1509   recall 0.152   f1_score 0.1514\n",
      "7번쨰 학습 완료\n",
      "< 1개의 에포크 test 후 result >\n",
      "loss 2.1002   acc 0.7795   precision 0.1181   recall 0.1181   f1_score 0.1181\n",
      "7번쨰 검증 완료\n",
      "< 1개의 에포크 train 후 result >\n",
      "loss 2.0744   acc 0.7981   precision 0.1244   recall 0.1247   f1_score 0.1245\n",
      "8번쨰 학습 완료\n",
      "< 1개의 에포크 test 후 result >\n",
      "loss 2.1023   acc 0.7792   precision 0.1167   recall 0.1167   f1_score 0.1167\n",
      "8번쨰 검증 완료\n",
      "< 1개의 에포크 train 후 result >\n",
      "loss 2.0746   acc 0.7874   precision 0.1521   recall 0.1533   f1_score 0.1526\n",
      "9번쨰 학습 완료\n",
      "< 1개의 에포크 test 후 result >\n",
      "loss 2.1059   acc 0.7788   precision 0.1153   recall 0.1153   f1_score 0.1153\n",
      "9번쨰 검증 완료\n",
      "< 1개의 에포크 train 후 result >\n",
      "loss 2.0737   acc 0.7962   precision 0.1155   recall 0.1169   f1_score 0.1161\n",
      "10번쨰 학습 완료\n",
      "< 1개의 에포크 test 후 result >\n",
      "loss 2.1029   acc 0.7795   precision 0.1181   recall 0.1181   f1_score 0.1181\n",
      "10번쨰 검증 완료\n"
     ]
    }
   ],
   "source": [
    "EPOCH = 10\n",
    "ep_train_result = [[], [], [], [], []]\n",
    "ep_test_result = [[], [], [], [], []]\n",
    "for epoch in range(EPOCH):\n",
    "    # 학습\n",
    "    tr_loss, tr_acc, tr_prec, tr_rec, tr_f1 = training(train_loader)\n",
    "    ep_train_result[0].append(tr_loss)\n",
    "    ep_train_result[1].append(tr_acc)\n",
    "    ep_train_result[2].append(tr_prec)\n",
    "    ep_train_result[3].append(tr_rec)\n",
    "    ep_train_result[4].append(tr_f1)\n",
    "    print(f\"{epoch + 1}번쨰 학습 완료\")\n",
    "    # 검증\n",
    "    ts_loss, ts_acc, ts_prec, ts_rec, ts_f1 = testing(test_loader)\n",
    "    ep_test_result[0].append(ts_loss)\n",
    "    ep_test_result[1].append(ts_acc)\n",
    "    ep_test_result[2].append(ts_prec)\n",
    "    ep_test_result[3].append(ts_rec)\n",
    "    ep_test_result[4].append(ts_f1)\n",
    "    print(f\"{epoch + 1}번쨰 검증 완료\")"
   ],
   "metadata": {
    "collapsed": false,
    "ExecuteTime": {
     "end_time": "2024-04-05T04:11:33.481568Z",
     "start_time": "2024-04-05T04:11:06.415209Z"
    }
   },
   "id": "4e9c7f8777592698",
   "execution_count": 269
  },
  {
   "cell_type": "code",
   "outputs": [
    {
     "data": {
      "text/plain": "<Figure size 1300x900 with 4 Axes>",
      "image/png": "[encoded data removed]"
     },
     "metadata": {},
     "output_type": "display_data"
    }
   ],
   "source": [
    "import matplotlib.pyplot as plt\n",
    "plt.figure(figsize = (13,9))\n",
    "\n",
    "plt.subplot(2,2,1)\n",
    "plt.plot(ep_train_result[0], label = 'loss', color = 'pink')\n",
    "plt.legend()\n",
    "plt.title('train & epoch')\n",
    "\n",
    "plt.subplot(2,2,2)\n",
    "plt.plot(ep_test_result[0], label = 'loss', color = 'pink')\n",
    "plt.legend()\n",
    "plt.title('test & epoch')\n",
    "\n",
    "plt.subplot(2,2,3)\n",
    "# plt.plot(ep_train_result[0], label = 'loss')\n",
    "plt.plot(ep_train_result[1], label = 'acc')\n",
    "plt.plot(ep_train_result[2], label = 'precission')\n",
    "plt.plot(ep_train_result[3], label = 'recall')\n",
    "plt.plot(ep_train_result[4], label = 'f1_score')\n",
    "plt.legend()\n",
    "plt.title('train & epoch')\n",
    "\n",
    "plt.subplot(2,2,4)\n",
    "# plt.plot(ep_test_result[0], label = 'loss')\n",
    "plt.plot(ep_test_result[1], label = 'acc')\n",
    "plt.plot(ep_test_result[2], label = 'precission')\n",
    "plt.plot(ep_test_result[3], label = 'recall')\n",
    "plt.plot(ep_test_result[4], label = 'f1_score')\n",
    "plt.legend()\n",
    "plt.title('test & epoch')\n",
    "\n",
    "plt.tight_layout()\n",
    "plt.show()"
   ],
   "metadata": {
    "collapsed": false,
    "ExecuteTime": {
     "end_time": "2024-04-05T04:14:23.432151Z",
     "start_time": "2024-04-05T04:14:22.441479Z"
    }
   },
   "id": "de18078a78775f8e",
   "execution_count": 279
  },
  {
   "cell_type": "code",
   "outputs": [
    {
     "name": "stdout",
     "output_type": "stream",
     "text": [
      "10번 학습을 돌렸을 떄 최종 결과는 다음과 같다.\n",
      "[Loss] 2.096 [Accuracy] 0.76 [Precision] 0.117 [RECALL] 0.142 [f1_score] 0.125\n"
     ]
    }
   ],
   "source": [
    "print(f\"{EPOCH}번 학습을 돌렸을 떄 최종 결과는 다음과 같다.\")\n",
    "LOSS = round(sum(ep_test_result[0])/len(ep_test_result[0]),3)\n",
    "ACC = round(sum(ep_test_result[1])/len(ep_test_result[1]),3)\n",
    "PREC = round(sum(ep_test_result[2])/len(ep_test_result[2]),3)\n",
    "RECALL = round(sum(ep_test_result[3])/len(ep_test_result[3]),3)\n",
    "F1_SCORE = round(sum(ep_test_result[4])/len(ep_test_result[4]),3)\n",
    "\n",
    "print(f\"[Loss] {LOSS} [Accuracy] {ACC} [Precision] {PREC} [RECALL] {RECALL} [f1_score] {F1_SCORE}\")"
   ],
   "metadata": {
    "collapsed": false,
    "ExecuteTime": {
     "end_time": "2024-04-05T04:11:33.864367Z",
     "start_time": "2024-04-05T04:11:33.850239Z"
    }
   },
   "id": "70ebf971614f83e1",
   "execution_count": 271
  },
  {
   "cell_type": "markdown",
   "source": [
    "# 예측"
   ],
   "metadata": {
    "collapsed": false
   },
   "id": "b7b773f196c5d090"
  },
  {
   "cell_type": "code",
   "outputs": [],
   "source": [
    "sample_text = \"\"\"\n",
    "Baby\\nI’m just trying to play it cool\\nBut I just can’t hide that\\nI want you\\n\\nWait a minute 이게 뭐지?\\n내 심장이 lub-dub\\n자꾸만 뛰어\\n\\n저 멀리서도 oh my gosh!\\n끌어당겨 you’re my crush!\\n초능력처럼\\n\\n거대한 자석이 된 것만 같아 my heart\\n네 모든 게 내 맘에 달라붙어버려 boy\\n\\nWe’re magnetized 인정할게\\nThis time I want\\n\\nYou You You You like it’s magnetic\\nU U U U U U U U super 이끌림\\nYou You You You like it’s magnetic\\nU U U U U U U U super 이끌림\\n\\nBAE BAE BAE BAE BAE BAE BAE BAE BAE\\nDash-da-da Dash-da-da Dash-da\\nLike it’s magnetic\\nBAE BAE BAE BAE BAE BAE BAE BAE BAE\\nDash-da-da Dash-da-da\\nBaby don’t say no\\n\\n정반대 같아 our type\\n넌 J 난 완전 P\\nS와 N 극이지만\\n그래서 끌리지\\n\\n내가 만들래 green light\\n여잔 배짱이지\\nSo let’s go let’s go\\nLet’s go let’s go\\n\\n숨기고 싶지 않아 자석 같은 my heart\\n내 맘의 끌림대로 너를 향해 갈게 boy\\n\\nWe’re magnetized 인정할게\\nThis time I want\\n\\nYou You You You like it’s magnetic\\nU U U U U U U U super 이끌림\\nYou You You You like it’s magnetic\\nU U U U U U U U super 이끌림\\n\\nNo push and pull\\n전속력으로 너에게 갈게\\n(In a rush in a rush)\\nOur chemistry\\n난 과몰입해 지금 순간에\\n(Baby you’re my crush you’re my crush)\\n\\nNo push and pull\\n네게 집중 후회는 안 할래\\n(Gonna dash gonna dash)\\nNever holding back\\n직진해 yeah\\nThis time I want\\n\\nYou You You You like it’s magnetic\\nU U U U U U U U super 이끌림\\nYou You You You like it’s magnetic\\nU U U U U U U U super 이끌림\\n\\nBAE BAE BAE BAE BAE BAE BAE BAE BAE\\nDash-da-da Dash-da-da Dash-da\\nLike it’s magnetic\\nBAE BAE BAE BAE BAE BAE BAE BAE BAE\\nDash-da-da Dash-da-da\\nBaby don’t say no\n",
    "\"\"\"\n",
    "\n",
    "# 아일릿 - 마그네틱"
   ],
   "metadata": {
    "collapsed": false,
    "ExecuteTime": {
     "end_time": "2024-04-05T04:22:36.974242Z",
     "start_time": "2024-04-05T04:22:36.964365Z"
    }
   },
   "id": "6002c52a9f7d5213",
   "execution_count": 280
  },
  {
   "cell_type": "code",
   "outputs": [],
   "source": [],
   "metadata": {
    "collapsed": false
   },
   "id": "4cc093a20510ee1d"
  }
 ],
 "metadata": {
  "kernelspec": {
   "display_name": "Python 3",
   "language": "python",
   "name": "python3"
  },
  "language_info": {
   "codemirror_mode": {
    "name": "ipython",
    "version": 3
   },
   "file_extension": ".py",
   "mimetype": "text/x-python",
   "name": "python",
   "nbconvert_exporter": "python",
   "pygments_lexer": "ipython3",
   "version": "3.8.19"
  }
 },
 "nbformat": 4,
 "nbformat_minor": 5
}
