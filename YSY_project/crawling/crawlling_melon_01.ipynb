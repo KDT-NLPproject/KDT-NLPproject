{
 "cells": [
  {
   "cell_type": "code",
   "execution_count": 19,
   "metadata": {
    "ExecuteTime": {
     "end_time": "2024-04-03T09:44:52.569162Z",
     "start_time": "2024-04-03T09:44:52.555261Z"
    }
   },
   "outputs": [],
   "source": [
    "import requests\n",
    "from bs4 import BeautifulSoup as bs\n",
    "import pandas as pd\n",
    "import time\n",
    "import os"
   ]
  },
  {
   "cell_type": "code",
   "execution_count": 20,
   "metadata": {
    "ExecuteTime": {
     "end_time": "2024-04-03T09:47:34.518706Z",
     "start_time": "2024-04-03T09:47:32.863657Z"
    },
    "collapsed": false
   },
   "outputs": [],
   "source": [
    "#!pip install selenium"
   ]
  },
  {
   "cell_type": "code",
   "execution_count": 21,
   "metadata": {
    "ExecuteTime": {
     "end_time": "2024-04-03T09:47:40.110127Z",
     "start_time": "2024-04-03T09:47:38.441436Z"
    }
   },
   "outputs": [],
   "source": [
    "#!pip install chromedriver-autoinstaller"
   ]
  },
  {
   "cell_type": "code",
   "execution_count": 22,
   "metadata": {
    "ExecuteTime": {
     "end_time": "2024-04-03T09:47:41.999533Z",
     "start_time": "2024-04-03T09:47:40.882257Z"
    }
   },
   "outputs": [],
   "source": [
    "#!pip install webdriver-auto-update"
   ]
  },
  {
   "cell_type": "code",
   "execution_count": 23,
   "metadata": {
    "ExecuteTime": {
     "end_time": "2024-04-03T09:47:43.139590Z",
     "start_time": "2024-04-03T09:47:43.126985Z"
    }
   },
   "outputs": [],
   "source": [
    "from time import sleep\n",
    "from selenium import webdriver\n",
    "from webdriver_manager.chrome import ChromeDriverManager\n",
    "# driver = webdriver.Chrome(ChromeDriverManager().install())\n",
    "# driver.get('https://www.naver.com')\n",
    "# print(driver.current_url)\n",
    "# sleep(2)\n",
    "# driver.close()# 하나의 탭만 종료\n",
    "# driver.quit() # webdriver 전체 종료"
   ]
  },
  {
   "cell_type": "code",
   "execution_count": 24,
   "metadata": {
    "ExecuteTime": {
     "end_time": "2024-04-03T09:47:44.980688Z",
     "start_time": "2024-04-03T09:47:44.965977Z"
    }
   },
   "outputs": [],
   "source": [
    "# selenium의 webdriver를 사용하기 위한 import\n",
    "from selenium import webdriver\n",
    "\n",
    "# selenium으로 키를 조작하기 위한 import\n",
    "from selenium.webdriver.common.keys import Keys\n",
    "\n",
    "# 페이지 로딩을 기다리는데에 사용할 time 모듈 import\n",
    "import time"
   ]
  },
  {
   "cell_type": "code",
   "execution_count": 25,
   "metadata": {
    "ExecuteTime": {
     "end_time": "2024-04-03T09:47:45.870074Z",
     "start_time": "2024-04-03T09:47:45.852285Z"
    }
   },
   "outputs": [],
   "source": [
    "import requests\n",
    "from bs4 import BeautifulSoup"
   ]
  },
  {
   "cell_type": "code",
   "execution_count": 26,
   "metadata": {
    "ExecuteTime": {
     "end_time": "2024-04-03T09:56:09.658726Z",
     "start_time": "2024-04-03T09:56:06.940756Z"
    }
   },
   "outputs": [],
   "source": [
    "from bs4 import BeautifulSoup\n",
    "from selenium import webdriver\n",
    "# dir = \"C:\\Users\\kdp\\.wdm\\drivers\\chromedriver\\win64\\121.0.6167.85\\chromedriver-win32\\chromedriver.exe\"\n",
    "# dir = \"C:/Users/kdp/.wdm/drivers/chromedriver/win64/123.0.6312.86/chromedriver-win32/chromedriver.exe\"\n",
    "driver = webdriver.Chrome()\n",
    "import re\n",
    "import pandas as pd\n",
    "driver.get(\"https://www.melon.com/chart/index.htm\")"
   ]
  },
  {
   "cell_type": "code",
   "execution_count": 10,
   "metadata": {
    "ExecuteTime": {
     "end_time": "2024-04-03T09:55:47.224448Z",
     "start_time": "2024-04-03T09:55:33.890863Z"
    },
    "collapsed": false
   },
   "outputs": [],
   "source": [
    "#!pip3 install selenium --upgrade"
   ]
  },
  {
   "cell_type": "code",
   "execution_count": 49,
   "metadata": {
    "ExecuteTime": {
     "end_time": "2024-04-03T09:47:50.914385Z",
     "start_time": "2024-04-03T09:47:50.300929Z"
    }
   },
   "outputs": [
    {
     "name": "stdout",
     "output_type": "stream",
     "text": [
      "Reset, 선재 (snzae)\n",
      "Tip Toe, EUNSAN\n",
      "신상 꿀템에 미쳤어, hipsummit\n",
      "와사비가 최고야, projectsummit\n",
      "Black Card, summitmusic\n",
      "southside, 이효승\n",
      "플레이더게임 (Play The Game), 21hee\n",
      "꽃신, Jimmy Bang, 아원 (A ONE)\n",
      "Royal (feat. 파란(PARAN),나길리(Na Gili)), D.hyeon\n",
      "적색 소년(feat.Tsuku), zisokada(지속하다)\n",
      "우린 눈만 봐도 알잖아, 태호서울\n",
      "떡볶이, 박강현, 신도현\n",
      "주인공 (feat. 295), raQoo\n",
      "열쩡., 웰빙 쿠키 (wellbeing kooki)\n",
      "Campus Chillout, MUSIC MUSEUM\n",
      "무념무상 (feat. gusii), sixty one\n",
      "Nebula of Emotions, proxy3096\n",
      "Profit, Lil Some\n",
      "Return, Forest Music\n",
      "약속했잖아 (Feat. 송수겸), 서인범\n",
      "Wassup (Feat. Cuven Hardi), BAPE HOUSE\n",
      "내 사랑, 피탈\n",
      "All new year (feat. LIL GIMCHI), Northfacegawd\n",
      "오늘 나는, 이랑\n",
      "100, hu57la\n",
      "해외도피, 0siggy\n",
      "Anti-hero, 솔 (SOL)\n",
      "Elevate, Guard\n",
      "시간이 몇 신데, 신코멧\n",
      "We Got Off, TripPin'\n",
      "향수(feat.Homeboy), 925notfound\n",
      "니가 보낸 heart 안에, 에이치 알\n",
      "사사이, 하성호, SPESS\n",
      "O'Z (ft.UZN), 오뉴월 (OHNEWOL)\n",
      "2000년대 명반 (Prod. ST4NDARD), JMR\n",
      "IDOL (Prod. Lemac), PIGIE\n",
      "랩아저씨 (90's eastcoast remix), 랩아저씨\n",
      "Tea Time, Room7\n",
      "Man Up (Feat. KOR KASH), Yonge Jaundice (영 잔디스)\n",
      "LEVEL UP, Travis YOUNG (트래비스영)\n",
      "밤하늘에게 (feat.$insa), 서다인\n",
      "2co, 가혁, GEOGU, Kaneya\n",
      "넌 내가 보고 싶지도 않니 (Don't you miss me?) (Feat. 현서 (HYUN SEO)), 바람이\n",
      "Don't scare me, 서진수\n",
      "Star, 하푼 (Harpoon)\n",
      "새내기, 해방둥이 임원철\n",
      "숲, 장성우\n",
      "우울이란 과녁, 한예준\n",
      "I'm baristar she is really star, 세홍 (sehong)\n",
      "랑그와 파롤, 김동원\n"
     ]
    }
   ],
   "source": [
    "import requests\n",
    "import urllib.request\n",
    "from bs4 import BeautifulSoup\n",
    "import csv\n",
    "import datetime\n",
    "import time\n",
    "#from oauth2client.service_account import ServiceAccountCredentials\n",
    "from bs4 import CData\n",
    "\n",
    "datetime.datetime.today()\n",
    "now = datetime.datetime.now()\n",
    "nowDatetime = now.strftime('%Y-%m-%d %H:%M:%S')\n",
    "\n",
    "\n",
    "def 멜론(url):\n",
    "    if __name__ == \"__main__\":\n",
    "        RANK = 100\n",
    "    \n",
    "        header = {'User-Agent': 'Mozilla/5.0 (Windows NT 6.3; Trident/7.0; rv:11.0) like Gecko'}\n",
    "        req = requests.get(url, headers = header)\n",
    "        html = req.text\n",
    "        parse = BeautifulSoup(html, 'html.parser')\n",
    "    \n",
    "        titles = parse.find_all(\"div\", {\"class\": \"ellipsis rank01\"}) \n",
    "        singers = parse.find_all(\"div\", {\"class\": \"ellipsis rank02\"}) \n",
    "        albums = parse.find_all(\"div\",{\"class\": \"ellipsis rank03\"})\n",
    "    \n",
    "        title = []\n",
    "        singer = []\n",
    "        album = []\n",
    "        tnumber= []\n",
    "        snumber= []\n",
    "\n",
    "        for t in titles:\n",
    "            title.append(t.find('a').text)\n",
    "    \n",
    "        for s in singers:\n",
    "            singer.append(s.find('span', {\"class\": \"checkEllipsis\"}).text)\n",
    "\n",
    "        for n in titles:\n",
    "            tnumber.append(n.find('a'))\n",
    "\n",
    "        for s in singers:\n",
    "            snumber.append(s.find('span', {\"class\": \"checkEllipsis\"}))\n",
    "\n",
    "        # with open('new_melon.csv', 'a', encoding='utf-8-sig', newline='') as f:\n",
    "        #     melonwriter=csv.writer(f)\n",
    "        #     melonwriter.writerow([nowDatetime])\n",
    "        #     melonwriter.writerows([title,singer,tnumber,snumber])\n",
    "        #     f.close()\n",
    "        a = list(zip(title, singer))\n",
    "        for b in a:\n",
    "            print(\", \".join(b))\n",
    "        # print(title, singer)\n",
    "\n",
    "멜론('https://www.melon.com/genre/song_list.htm?gnrCode=GN0300')"
   ]
  },
  {
   "cell_type": "code",
   "execution_count": null,
   "metadata": {
    "collapsed": false
   },
   "outputs": [],
   "source": []
  }
 ],
 "metadata": {
  "kernelspec": {
   "display_name": "NLP_38",
   "language": "python",
   "name": "python3"
  },
  "language_info": {
   "codemirror_mode": {
    "name": "ipython",
    "version": 3
   },
   "file_extension": ".py",
   "mimetype": "text/x-python",
   "name": "python",
   "nbconvert_exporter": "python",
   "pygments_lexer": "ipython3",
   "version": "3.8.19"
  }
 },
 "nbformat": 4,
 "nbformat_minor": 2
}
