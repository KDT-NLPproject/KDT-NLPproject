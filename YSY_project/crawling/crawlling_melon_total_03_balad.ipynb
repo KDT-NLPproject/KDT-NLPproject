{
 "cells": [
  {
   "cell_type": "markdown",
   "source": [
    "# 발라드"
   ],
   "metadata": {
    "collapsed": false
   }
  },
  {
   "cell_type": "code",
   "outputs": [],
   "source": [
    "from selenium.webdriver.common.keys import Keys\n",
    "import time\n",
    "import requests\n",
    "import pandas as pd\n",
    "from bs4 import BeautifulSoup\n",
    "from selenium import webdriver\n",
    "import re\n",
    "from selenium.webdriver.common.by import By\n",
    "from selenium.webdriver.support.ui import WebDriverWait\n",
    "from selenium.webdriver.support import expected_conditions as EC\n",
    "\n",
    "title_artist_lyrics = {'title':[], 'artist':[], 'lyric':[]}\n",
    "song_num_list = []"
   ],
   "metadata": {
    "collapsed": false,
    "ExecuteTime": {
     "end_time": "2024-04-03T15:54:27.503150Z",
     "start_time": "2024-04-03T15:54:26.899566Z"
    }
   },
   "execution_count": 1
  },
  {
   "cell_type": "code",
   "outputs": [],
   "source": [
    "input_url = \"https://www.melon.com/genre/song_list.htm?gnrCode=GN0100\"\n",
    "# 멜론 창 열기\n",
    "driver = webdriver.Chrome()\n",
    "driver.get(input_url)\n",
    "\n",
    "bs = BeautifulSoup(driver.page_source, 'html.parser')\n",
    "result = bs.find_all('tr')\n",
    "count = 1\n",
    "\n",
    "for res in result:\n",
    "    #print(res)\n",
    "    # print(f\"===== {count} =====\")\n",
    "    # print(res.find('button'))\n",
    "    if res.find('button'):\n",
    "        try: \n",
    "            # print(f\"===== {count} =====\")\n",
    "            song_number = str(res.find('button')).split('-no=\"')[1][:8]\n",
    "            song_num_list.append(song_number)\n",
    "        except: pass\n",
    "    count +=1\n",
    "\n",
    "time.sleep(1)\n",
    "driver.quit()"
   ],
   "metadata": {
    "collapsed": false,
    "ExecuteTime": {
     "end_time": "2024-04-03T15:54:33.167409Z",
     "start_time": "2024-04-03T15:54:27.504173Z"
    }
   },
   "execution_count": 2
  },
  {
   "cell_type": "code",
   "outputs": [],
   "source": [
    "input_url = \"https://www.melon.com/genre/song_list.htm?gnrCode=GN0100#params%5BgnrCode%5D=GN0100&params%5BdtlGnrCode%5D=&params%5BorderBy%5D=NEW&params%5BsteadyYn%5D=N&po=pageObj&startIndex=51\"\n",
    "# 멜론 창 열기\n",
    "driver = webdriver.Chrome()\n",
    "driver.get(input_url)\n",
    "bs = BeautifulSoup(driver.page_source, 'html.parser')\n",
    "result = bs.find_all('tr')\n",
    "count = 1\n",
    "for res in result:\n",
    "    #print(res)\n",
    "    # print(f\"===== {count} =====\")\n",
    "    # print(res.find('button'))\n",
    "    if res.find('button'):\n",
    "        try: \n",
    "            # print(f\"===== {count} =====\")\n",
    "            song_number = str(res.find('button')).split('-no=\"')[1][:8]\n",
    "            song_num_list.append(song_number)\n",
    "        except: pass\n",
    "    count +=1\n",
    "\n",
    "time.sleep(1)\n",
    "driver.quit()"
   ],
   "metadata": {
    "collapsed": false,
    "ExecuteTime": {
     "end_time": "2024-04-03T15:54:43.210316Z",
     "start_time": "2024-04-03T15:54:33.168743Z"
    }
   },
   "execution_count": 3
  },
  {
   "cell_type": "code",
   "outputs": [
    {
     "name": "stdout",
     "output_type": "stream",
     "text": [
      "100\n"
     ]
    }
   ],
   "source": [
    "print(len(song_num_list))"
   ],
   "metadata": {
    "collapsed": false,
    "ExecuteTime": {
     "end_time": "2024-04-03T15:54:43.225522Z",
     "start_time": "2024-04-03T15:54:43.213650Z"
    }
   },
   "execution_count": 4
  },
  {
   "cell_type": "code",
   "outputs": [
    {
     "name": "stdout",
     "output_type": "stream",
     "text": [
      "dictionary에 추가함\n",
      "dictionary에 추가함\n",
      "dictionary에 추가함\n",
      "dictionary에 추가함\n",
      "dictionary에 추가함\n",
      "dictionary에 추가함\n",
      "dictionary에 추가함\n",
      "dictionary에 추가함\n",
      "dictionary에 추가함\n",
      "dictionary에 추가함\n",
      "dictionary에 추가함\n",
      "dictionary에 추가함\n",
      "dictionary에 추가함\n",
      "dictionary에 추가함\n",
      "dictionary에 추가함\n",
      "dictionary에 추가함\n",
      "dictionary에 추가함\n",
      "dictionary에 추가함\n",
      "dictionary에 추가함\n",
      "dictionary에 추가함\n",
      "실패 Message: \n",
      "Stacktrace:\n",
      "\tGetHandleVerifier [0x00007FF675CB70C2+63090]\n",
      "\t(No symbol) [0x00007FF675C22D12]\n",
      "\t(No symbol) [0x00007FF675ABEC65]\n",
      "\t(No symbol) [0x00007FF675B0499D]\n",
      "\t(No symbol) [0x00007FF675B04ADC]\n",
      "\t(No symbol) [0x00007FF675B45B37]\n",
      "\t(No symbol) [0x00007FF675B2701F]\n",
      "\t(No symbol) [0x00007FF675B43412]\n",
      "\t(No symbol) [0x00007FF675B26D83]\n",
      "\t(No symbol) [0x00007FF675AF83A8]\n",
      "\t(No symbol) [0x00007FF675AF9441]\n",
      "\tGetHandleVerifier [0x00007FF6760B262D+4238301]\n",
      "\tGetHandleVerifier [0x00007FF6760EF78D+4488509]\n",
      "\tGetHandleVerifier [0x00007FF6760E7A6F+4456479]\n",
      "\tGetHandleVerifier [0x00007FF675D90606+953270]\n",
      "\t(No symbol) [0x00007FF675C2E5DF]\n",
      "\t(No symbol) [0x00007FF675C292B4]\n",
      "\t(No symbol) [0x00007FF675C293EB]\n",
      "\t(No symbol) [0x00007FF675C19C24]\n",
      "\tBaseThreadInitThunk [0x00007FFC07C3257D+29]\n",
      "\tRtlUserThreadStart [0x00007FFC092AAA58+40]\n",
      "dictionary에 추가함\n",
      "dictionary에 추가함\n",
      "dictionary에 추가함\n",
      "dictionary에 추가함\n",
      "dictionary에 추가함\n",
      "dictionary에 추가함\n",
      "dictionary에 추가함\n",
      "dictionary에 추가함\n",
      "dictionary에 추가함\n",
      "dictionary에 추가함\n",
      "dictionary에 추가함\n",
      "dictionary에 추가함\n",
      "dictionary에 추가함\n",
      "dictionary에 추가함\n",
      "dictionary에 추가함\n",
      "dictionary에 추가함\n",
      "dictionary에 추가함\n",
      "dictionary에 추가함\n",
      "dictionary에 추가함\n",
      "dictionary에 추가함\n",
      "dictionary에 추가함\n",
      "dictionary에 추가함\n",
      "dictionary에 추가함\n",
      "dictionary에 추가함\n",
      "dictionary에 추가함\n",
      "dictionary에 추가함\n",
      "dictionary에 추가함\n",
      "dictionary에 추가함\n",
      "dictionary에 추가함\n",
      "dictionary에 추가함\n",
      "실패 Message: \n",
      "Stacktrace:\n",
      "\tGetHandleVerifier [0x00007FF675CB70C2+63090]\n",
      "\t(No symbol) [0x00007FF675C22D12]\n",
      "\t(No symbol) [0x00007FF675ABEC65]\n",
      "\t(No symbol) [0x00007FF675B0499D]\n",
      "\t(No symbol) [0x00007FF675B04ADC]\n",
      "\t(No symbol) [0x00007FF675B45B37]\n",
      "\t(No symbol) [0x00007FF675B2701F]\n",
      "\t(No symbol) [0x00007FF675B43412]\n",
      "\t(No symbol) [0x00007FF675B26D83]\n",
      "\t(No symbol) [0x00007FF675AF83A8]\n",
      "\t(No symbol) [0x00007FF675AF9441]\n",
      "\tGetHandleVerifier [0x00007FF6760B262D+4238301]\n",
      "\tGetHandleVerifier [0x00007FF6760EF78D+4488509]\n",
      "\tGetHandleVerifier [0x00007FF6760E7A6F+4456479]\n",
      "\tGetHandleVerifier [0x00007FF675D90606+953270]\n",
      "\t(No symbol) [0x00007FF675C2E5DF]\n",
      "\t(No symbol) [0x00007FF675C292B4]\n",
      "\t(No symbol) [0x00007FF675C293EB]\n",
      "\t(No symbol) [0x00007FF675C19C24]\n",
      "\tBaseThreadInitThunk [0x00007FFC07C3257D+29]\n",
      "\tRtlUserThreadStart [0x00007FFC092AAA58+40]\n",
      "dictionary에 추가함\n",
      "실패 Message: \n",
      "Stacktrace:\n",
      "\tGetHandleVerifier [0x00007FF675CB70C2+63090]\n",
      "\t(No symbol) [0x00007FF675C22D12]\n",
      "\t(No symbol) [0x00007FF675ABEC65]\n",
      "\t(No symbol) [0x00007FF675B0499D]\n",
      "\t(No symbol) [0x00007FF675B04ADC]\n",
      "\t(No symbol) [0x00007FF675B45B37]\n",
      "\t(No symbol) [0x00007FF675B2701F]\n",
      "\t(No symbol) [0x00007FF675B43412]\n",
      "\t(No symbol) [0x00007FF675B26D83]\n",
      "\t(No symbol) [0x00007FF675AF83A8]\n",
      "\t(No symbol) [0x00007FF675AF9441]\n",
      "\tGetHandleVerifier [0x00007FF6760B262D+4238301]\n",
      "\tGetHandleVerifier [0x00007FF6760EF78D+4488509]\n",
      "\tGetHandleVerifier [0x00007FF6760E7A6F+4456479]\n",
      "\tGetHandleVerifier [0x00007FF675D90606+953270]\n",
      "\t(No symbol) [0x00007FF675C2E5DF]\n",
      "\t(No symbol) [0x00007FF675C292B4]\n",
      "\t(No symbol) [0x00007FF675C293EB]\n",
      "\t(No symbol) [0x00007FF675C19C24]\n",
      "\tBaseThreadInitThunk [0x00007FFC07C3257D+29]\n",
      "\tRtlUserThreadStart [0x00007FFC092AAA58+40]\n",
      "dictionary에 추가함\n",
      "dictionary에 추가함\n",
      "dictionary에 추가함\n",
      "dictionary에 추가함\n",
      "dictionary에 추가함\n",
      "dictionary에 추가함\n",
      "dictionary에 추가함\n",
      "dictionary에 추가함\n",
      "dictionary에 추가함\n",
      "dictionary에 추가함\n",
      "dictionary에 추가함\n",
      "dictionary에 추가함\n",
      "dictionary에 추가함\n",
      "dictionary에 추가함\n",
      "dictionary에 추가함\n",
      "dictionary에 추가함\n",
      "dictionary에 추가함\n",
      "dictionary에 추가함\n",
      "dictionary에 추가함\n",
      "dictionary에 추가함\n",
      "dictionary에 추가함\n",
      "dictionary에 추가함\n",
      "dictionary에 추가함\n",
      "dictionary에 추가함\n",
      "dictionary에 추가함\n",
      "dictionary에 추가함\n",
      "dictionary에 추가함\n",
      "dictionary에 추가함\n",
      "dictionary에 추가함\n",
      "dictionary에 추가함\n",
      "dictionary에 추가함\n",
      "dictionary에 추가함\n",
      "dictionary에 추가함\n",
      "dictionary에 추가함\n",
      "dictionary에 추가함\n",
      "dictionary에 추가함\n",
      "dictionary에 추가함\n",
      "dictionary에 추가함\n",
      "dictionary에 추가함\n",
      "dictionary에 추가함\n",
      "dictionary에 추가함\n",
      "dictionary에 추가함\n",
      "dictionary에 추가함\n",
      "dictionary에 추가함\n",
      "dictionary에 추가함\n",
      "dictionary에 추가함\n"
     ]
    }
   ],
   "source": [
    "title_artist_lyrics = {'title':[], 'artist':[], 'lyric':[]}\n",
    "\n",
    "url_front = 'https://www.melon.com/song/detail.htm?songId='\n",
    "for num in song_num_list:\n",
    "    url = url_front + num\n",
    "    driver = webdriver.Chrome()\n",
    "    driver.get(url)\n",
    "    try:\n",
    "        # 가사가 로드될 때까지 대기\n",
    "        lyric_element = WebDriverWait(driver, 1).until(\n",
    "            EC.presence_of_element_located((By.CLASS_NAME, 'lyric'))\n",
    "        )\n",
    "        \n",
    "        # text 부분만 뽑아서 print\n",
    "        lyric_text = lyric_element.text\n",
    "        # print(lyric_text)\n",
    "        \n",
    "        # 노래 제목 뽑기\n",
    "        title_element = WebDriverWait(driver, 1).until(\n",
    "            EC.presence_of_element_located((By.CLASS_NAME, 'song_name')))\n",
    "        title_text = title_element.text\n",
    "        # print(f\"노래 제목 : {title_text}\")\n",
    "        \n",
    "        # 아티스트 뽑기\n",
    "        artist_element = WebDriverWait(driver, 1).until(\n",
    "            EC.presence_of_element_located((By.CLASS_NAME, 'artist_name')))\n",
    "        artist_text = artist_element.text\n",
    "        # print(f\"가수 이름 : {artist_text}\")\n",
    "        \n",
    "        title_artist_lyrics['title'].append(title_text)\n",
    "        title_artist_lyrics['artist'].append(artist_text)\n",
    "        title_artist_lyrics['lyric'].append(lyric_text)\n",
    "        print('dictionary에 추가함')\n",
    "    except Exception as e: print(\"실패\", e)\n",
    "\n",
    "    driver.quit()\n",
    "    \n",
    "# print(title_artist_lyrics)"
   ],
   "metadata": {
    "collapsed": false,
    "ExecuteTime": {
     "end_time": "2024-04-03T16:09:00.267889Z",
     "start_time": "2024-04-03T15:54:43.230456Z"
    }
   },
   "execution_count": 5
  },
  {
   "cell_type": "code",
   "outputs": [
    {
     "data": {
      "text/plain": "97"
     },
     "execution_count": 6,
     "metadata": {},
     "output_type": "execute_result"
    }
   ],
   "source": [
    "len(title_artist_lyrics['lyric'])"
   ],
   "metadata": {
    "collapsed": false,
    "ExecuteTime": {
     "end_time": "2024-04-03T16:09:00.299274Z",
     "start_time": "2024-04-03T16:09:00.271549Z"
    }
   },
   "execution_count": 6
  },
  {
   "cell_type": "code",
   "outputs": [
    {
     "data": {
      "text/plain": "                        title       artist  \\\n0                  끝이 없는 영화처럼           영주   \n1                     보고싶다 벌써          박보람   \n2                    사랑인 것 같아    에이블(Able)   \n3  넌 기쁨이자 행운이야 (Piano by 임인건)  슬기 (SEULGI)   \n4           어떤 말도 우릴 설명할 수 없죠          주예인   \n\n                                               lyric  \n0  난 언제나 그랬듯이, 이 적막에 익숙해져\\n무심하게 들어오는 찬 바람에 틈을 막아\\...  \n1  밤은 깊어져가고\\n취기는 더 오르고\\n눈앞이 비틀대고\\n말끝은 흐려지고\\n\\n방금 ...  \n2  사랑에 빠진 것 같아 널 볼 때\\n두근거리는 소리가 더 커져\\n부드러운 눈빛이 나를...  \n3  넓고 푸르른 하늘이 이불이 되어 너는 편히 꿈꾸렴\\n즐거웠던 날의 기억 두 눈을 감...  \n4  오늘 밤 우리의 사랑이 끝난다면\\n어떤 모습일까\\n너와 나의 계절이 흩어져 사라지면...  ",
      "text/html": "<div>\n<style scoped>\n    .dataframe tbody tr th:only-of-type {\n        vertical-align: middle;\n    }\n\n    .dataframe tbody tr th {\n        vertical-align: top;\n    }\n\n    .dataframe thead th {\n        text-align: right;\n    }\n</style>\n<table border=\"1\" class=\"dataframe\">\n  <thead>\n    <tr style=\"text-align: right;\">\n      <th></th>\n      <th>title</th>\n      <th>artist</th>\n      <th>lyric</th>\n    </tr>\n  </thead>\n  <tbody>\n    <tr>\n      <th>0</th>\n      <td>끝이 없는 영화처럼</td>\n      <td>영주</td>\n      <td>난 언제나 그랬듯이, 이 적막에 익숙해져\\n무심하게 들어오는 찬 바람에 틈을 막아\\...</td>\n    </tr>\n    <tr>\n      <th>1</th>\n      <td>보고싶다 벌써</td>\n      <td>박보람</td>\n      <td>밤은 깊어져가고\\n취기는 더 오르고\\n눈앞이 비틀대고\\n말끝은 흐려지고\\n\\n방금 ...</td>\n    </tr>\n    <tr>\n      <th>2</th>\n      <td>사랑인 것 같아</td>\n      <td>에이블(Able)</td>\n      <td>사랑에 빠진 것 같아 널 볼 때\\n두근거리는 소리가 더 커져\\n부드러운 눈빛이 나를...</td>\n    </tr>\n    <tr>\n      <th>3</th>\n      <td>넌 기쁨이자 행운이야 (Piano by 임인건)</td>\n      <td>슬기 (SEULGI)</td>\n      <td>넓고 푸르른 하늘이 이불이 되어 너는 편히 꿈꾸렴\\n즐거웠던 날의 기억 두 눈을 감...</td>\n    </tr>\n    <tr>\n      <th>4</th>\n      <td>어떤 말도 우릴 설명할 수 없죠</td>\n      <td>주예인</td>\n      <td>오늘 밤 우리의 사랑이 끝난다면\\n어떤 모습일까\\n너와 나의 계절이 흩어져 사라지면...</td>\n    </tr>\n  </tbody>\n</table>\n</div>"
     },
     "execution_count": 7,
     "metadata": {},
     "output_type": "execute_result"
    }
   ],
   "source": [
    "df_song = pd.DataFrame(title_artist_lyrics)\n",
    "df_song.head()"
   ],
   "metadata": {
    "collapsed": false,
    "ExecuteTime": {
     "end_time": "2024-04-03T16:09:00.346066Z",
     "start_time": "2024-04-03T16:09:00.301360Z"
    }
   },
   "execution_count": 7
  },
  {
   "cell_type": "code",
   "outputs": [
    {
     "data": {
      "text/plain": "                             title       artist  \\\n92                        관계(2017)          주용정   \n93        어떤 날 (Vocal by COLORMAN)   비공일호 (B01)   \n94            Prettily (Vocal MP3)        고3 형민   \n95                  가을 그리고 겨울 다음 봄          김윤오   \n96  잊혀진 꿈 아쉬움 위로 (Feat. Easther.P)  아이럴 (ilull)   \n\n                                                lyric  \n92  우리가 그때 그렇게 만나면 괜찮았을텐데\\n생각이 많던 나라서 좀 많이 힘들었을텐데\\...  \n93  바람이 불어와 마음을 흔들어놓으면\\n가라앉았던 내 마음은 다시금 어질러져\\n\\n평범...  \n94  외톨이 산소와 외톨이 수소가\\n만나 물이 됐어요\\n이젠 목마를 일 없어요\\n아주 맘...  \n95  기다리고 기다려도\\n안된다는걸 알아\\n\\n같이 봤던 꽃이 시들어가\\n\\n겉옷을 꺼내...  \n96  시작은 늘 어렵고 마음은 더 불안해도\\n당신을 바라볼 수 있어서\\n다시 또 힘을 내...  ",
      "text/html": "<div>\n<style scoped>\n    .dataframe tbody tr th:only-of-type {\n        vertical-align: middle;\n    }\n\n    .dataframe tbody tr th {\n        vertical-align: top;\n    }\n\n    .dataframe thead th {\n        text-align: right;\n    }\n</style>\n<table border=\"1\" class=\"dataframe\">\n  <thead>\n    <tr style=\"text-align: right;\">\n      <th></th>\n      <th>title</th>\n      <th>artist</th>\n      <th>lyric</th>\n    </tr>\n  </thead>\n  <tbody>\n    <tr>\n      <th>92</th>\n      <td>관계(2017)</td>\n      <td>주용정</td>\n      <td>우리가 그때 그렇게 만나면 괜찮았을텐데\\n생각이 많던 나라서 좀 많이 힘들었을텐데\\...</td>\n    </tr>\n    <tr>\n      <th>93</th>\n      <td>어떤 날 (Vocal by COLORMAN)</td>\n      <td>비공일호 (B01)</td>\n      <td>바람이 불어와 마음을 흔들어놓으면\\n가라앉았던 내 마음은 다시금 어질러져\\n\\n평범...</td>\n    </tr>\n    <tr>\n      <th>94</th>\n      <td>Prettily (Vocal MP3)</td>\n      <td>고3 형민</td>\n      <td>외톨이 산소와 외톨이 수소가\\n만나 물이 됐어요\\n이젠 목마를 일 없어요\\n아주 맘...</td>\n    </tr>\n    <tr>\n      <th>95</th>\n      <td>가을 그리고 겨울 다음 봄</td>\n      <td>김윤오</td>\n      <td>기다리고 기다려도\\n안된다는걸 알아\\n\\n같이 봤던 꽃이 시들어가\\n\\n겉옷을 꺼내...</td>\n    </tr>\n    <tr>\n      <th>96</th>\n      <td>잊혀진 꿈 아쉬움 위로 (Feat. Easther.P)</td>\n      <td>아이럴 (ilull)</td>\n      <td>시작은 늘 어렵고 마음은 더 불안해도\\n당신을 바라볼 수 있어서\\n다시 또 힘을 내...</td>\n    </tr>\n  </tbody>\n</table>\n</div>"
     },
     "execution_count": 9,
     "metadata": {},
     "output_type": "execute_result"
    }
   ],
   "source": [
    "df_song.tail()"
   ],
   "metadata": {
    "collapsed": false,
    "ExecuteTime": {
     "end_time": "2024-04-03T16:11:18.878211Z",
     "start_time": "2024-04-03T16:11:18.862496Z"
    }
   },
   "execution_count": 9
  },
  {
   "cell_type": "code",
   "outputs": [
    {
     "name": "stdout",
     "output_type": "stream",
     "text": [
      "저장완료\n"
     ]
    }
   ],
   "source": [
    "df_song.to_csv('balad.csv')\n",
    "print('저장완료')"
   ],
   "metadata": {
    "collapsed": false,
    "ExecuteTime": {
     "end_time": "2024-04-03T16:09:00.377209Z",
     "start_time": "2024-04-03T16:09:00.349533Z"
    }
   },
   "execution_count": 8
  },
  {
   "cell_type": "code",
   "outputs": [],
   "source": [],
   "metadata": {
    "collapsed": false,
    "ExecuteTime": {
     "end_time": "2024-04-03T16:09:00.392949Z",
     "start_time": "2024-04-03T16:09:00.381909Z"
    }
   },
   "execution_count": 8
  }
 ],
 "metadata": {
  "kernelspec": {
   "display_name": "NLP_38",
   "language": "python",
   "name": "python3"
  },
  "language_info": {
   "codemirror_mode": {
    "name": "ipython",
    "version": 3
   },
   "file_extension": ".py",
   "mimetype": "text/x-python",
   "name": "python",
   "nbconvert_exporter": "python",
   "pygments_lexer": "ipython3",
   "version": "3.8.19"
  }
 },
 "nbformat": 4,
 "nbformat_minor": 2
}
