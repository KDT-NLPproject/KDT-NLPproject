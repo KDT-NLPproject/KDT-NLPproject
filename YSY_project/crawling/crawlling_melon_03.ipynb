{
 "cells": [
  {
   "cell_type": "code",
   "execution_count": 34,
   "metadata": {
    "ExecuteTime": {
     "end_time": "2024-04-03T11:50:57.139351Z",
     "start_time": "2024-04-03T11:50:57.125872Z"
    }
   },
   "outputs": [],
   "source": [
    "from selenium import webdriver\n",
    "from selenium.webdriver.common.keys import Keys\n",
    "import time\n",
    "import requests\n",
    "from selenium import webdriver\n",
    "from bs4 import BeautifulSoup\n",
    "import re\n",
    "import pandas as pd"
   ]
  },
  {
   "cell_type": "code",
   "execution_count": 35,
   "metadata": {
    "ExecuteTime": {
     "end_time": "2024-04-03T11:50:57.903887Z",
     "start_time": "2024-04-03T11:50:57.895460Z"
    }
   },
   "outputs": [],
   "source": [
    "# 접속 확인\n",
    "# driver = webdriver.Chrome()\n",
    "# driver.get(\"https://www.melon.com/chart/index.htm\")"
   ]
  },
  {
   "cell_type": "code",
   "execution_count": 36,
   "metadata": {
    "ExecuteTime": {
     "end_time": "2024-04-03T11:51:15.057367Z",
     "start_time": "2024-04-03T11:51:15.040257Z"
    }
   },
   "outputs": [],
   "source": [
    "# 노래 제목 얻는 함수\n",
    "def get_song_titles(url):\n",
    "    # URL에서 HTML 가져오기\n",
    "    response = requests.get(url)\n",
    "    html = response.text\n",
    "    \n",
    "    # BeautifulSoup을 사용하여 HTML 파싱\n",
    "    soup = BeautifulSoup(html, 'html.parser')\n",
    "    \n",
    "    # 노래 제목을 담을 리스트 초기화\n",
    "    song_titles = []\n",
    "    \n",
    "    # 노래 제목이 있는 요소를 찾아서 리스트에 추가\n",
    "    song_elements = soup.select('.ellipsis.rank01 > span > a')\n",
    "    for element in song_elements:\n",
    "        song_titles.append(element.text.strip())\n",
    "    \n",
    "    return song_titles\n",
    "\n",
    "# 주어진 URL에서 노래 제목 가져오기\n",
    "# url_rap = \"https://www.melon.com/genre/song_list.htm?gnrCode=GN0300\"\n",
    "# song_titles = get_song_titles(url_rap)\n",
    "\n",
    "# # 결과 출력\n",
    "# for title in song_titles:\n",
    "#     print(title)"
   ]
  },
  {
   "cell_type": "code",
   "execution_count": 37,
   "metadata": {
    "ExecuteTime": {
     "end_time": "2024-04-03T11:51:16.794440Z",
     "start_time": "2024-04-03T11:51:16.774581Z"
    }
   },
   "outputs": [],
   "source": [
    "#가사 들어가는 창\n",
    "# frm > div > table > tbody > tr:nth-child(1) > td:nth-child(4) > div > a\n",
    "\n",
    "# <a href=\"javascript:melon.link.goSongDetail('37379032');\" title=\"Reset 곡정보\" class=\"btn button_icons type03 song_info\"><span class=\"none\">곡정보</span></a>\n",
    "\n",
    "# frm > div > table > tbody > tr:nth-child(2) > td:nth-child(4) > div > a\n",
    "\n",
    "# <a href=\"javascript:melon.link.goSongDetail('37378951');\" title=\"Tip Toe 곡정보\" class=\"btn button_icons type03 song_info\"><span class=\"none\">곡정보</span></a>\n",
    "\n",
    "# <a href=\"javascript:melon.link.goSongDetail('37379922');\" title=\"신상 꿀템에 미쳤어 곡정보\" class=\"btn button_icons type03 song_info\">\n",
    "# <span class=\"none\">곡정보</span>\n",
    "# </a>"
   ]
  },
  {
   "cell_type": "code",
   "execution_count": 41,
   "metadata": {
    "ExecuteTime": {
     "end_time": "2024-04-03T11:56:45.161458Z",
     "start_time": "2024-04-03T11:56:44.850965Z"
    }
   },
   "outputs": [
    {
     "name": "stdout",
     "output_type": "stream",
     "text": [
      "response : <Response [406]>\n",
      "response status code : 406\n",
      "response text : \n",
      "html : \n",
      "\n",
      "None\n"
     ]
    },
    {
     "ename": "AttributeError",
     "evalue": "'NoneType' object has no attribute 'get'",
     "output_type": "error",
     "traceback": [
      "\u001B[1;31m---------------------------------------------------------------------------\u001B[0m",
      "\u001B[1;31mAttributeError\u001B[0m                            Traceback (most recent call last)",
      "Cell \u001B[1;32mIn[41], line 31\u001B[0m\n\u001B[0;32m     19\u001B[0m     \u001B[38;5;66;03m# # 노래 제목을 담을 리스트 초기화\u001B[39;00m\n\u001B[0;32m     20\u001B[0m     \u001B[38;5;66;03m# song_titles = []\u001B[39;00m\n\u001B[0;32m     21\u001B[0m     \u001B[38;5;66;03m# \u001B[39;00m\n\u001B[1;32m   (...)\u001B[0m\n\u001B[0;32m     28\u001B[0m \n\u001B[0;32m     29\u001B[0m \u001B[38;5;66;03m# 주어진 URL에서 노래 제목 가져오기\u001B[39;00m\n\u001B[0;32m     30\u001B[0m url_rap \u001B[38;5;241m=\u001B[39m \u001B[38;5;124m\"\u001B[39m\u001B[38;5;124mhttps://www.melon.com/genre/song_list.htm?gnrCode=GN0300\u001B[39m\u001B[38;5;124m\"\u001B[39m\n\u001B[1;32m---> 31\u001B[0m song_titles \u001B[38;5;241m=\u001B[39m \u001B[43mget_song_lyrics\u001B[49m\u001B[43m(\u001B[49m\u001B[43murl_rap\u001B[49m\u001B[43m)\u001B[49m\n\u001B[0;32m     32\u001B[0m \u001B[38;5;28mprint\u001B[39m(song_titles)\n",
      "Cell \u001B[1;32mIn[41], line 17\u001B[0m, in \u001B[0;36mget_song_lyrics\u001B[1;34m(url)\u001B[0m\n\u001B[0;32m     15\u001B[0m href_link \u001B[38;5;241m=\u001B[39m soup\u001B[38;5;241m.\u001B[39mfind(\u001B[38;5;124m'\u001B[39m\u001B[38;5;124ma\u001B[39m\u001B[38;5;124m'\u001B[39m, {\u001B[38;5;124m'\u001B[39m\u001B[38;5;124mclass\u001B[39m\u001B[38;5;124m'\u001B[39m : \u001B[38;5;124m\"\u001B[39m\u001B[38;5;124mbtn button_icons type03 song_info\u001B[39m\u001B[38;5;124m\"\u001B[39m})\n\u001B[0;32m     16\u001B[0m \u001B[38;5;28mprint\u001B[39m(href_link)\n\u001B[1;32m---> 17\u001B[0m \u001B[38;5;28mprint\u001B[39m(\u001B[43mhref_link\u001B[49m\u001B[38;5;241;43m.\u001B[39;49m\u001B[43mget\u001B[49m(\u001B[38;5;124m'\u001B[39m\u001B[38;5;124mhref\u001B[39m\u001B[38;5;124m'\u001B[39m))\n",
      "\u001B[1;31mAttributeError\u001B[0m: 'NoneType' object has no attribute 'get'"
     ]
    }
   ],
   "source": [
    "# 노래 가사 창 들어가서 가사 긁어오는 함수\n",
    "def get_song_lyrics(url):\n",
    "    # URL에서 HTML 가져오기\n",
    "    response = requests.get(url)\n",
    "    print(f\"response : {response}\")\n",
    "    print(f\"response status code : {response.status_code}\")\n",
    "    print(f\"response text : {response.text}\")\n",
    "    html = response.text\n",
    "    print(f\"html : \\n{html}\")\n",
    "    \n",
    "    # BeautifulSoup을 사용하여 HTML 파싱\n",
    "    soup = BeautifulSoup(html, 'html.parser')\n",
    "    \n",
    "    # 각 노래 제목에 대한 가사 창 들어가기\n",
    "    href_link = soup.find('a', {'class' : \"btn button_icons type03 song_info\"})\n",
    "    print(href_link)\n",
    "    print(href_link.get('href'))\n",
    "\n",
    "    # # 노래 제목을 담을 리스트 초기화\n",
    "    # song_titles = []\n",
    "    # \n",
    "    # # 노래 제목이 있는 요소를 찾아서 리스트에 추가\n",
    "    # song_elements = soup.select('.ellipsis.rank01 > span > a')\n",
    "    # for element in song_elements:\n",
    "    #     song_titles.append(element.text.strip())\n",
    "\n",
    "    # return song_titles\n",
    "\n",
    "# 주어진 URL에서 노래 제목 가져오기\n",
    "url_rap = \"https://www.melon.com/genre/song_list.htm?gnrCode=GN0300\"\n",
    "song_titles = get_song_lyrics(url_rap)\n",
    "print(song_titles)"
   ]
  },
  {
   "cell_type": "code",
   "outputs": [],
   "source": [
    "# <button type=\"button\" class=\"button_etc like\" title=\"Reset 좋아요\" data-song-no=\"37379032\" data-song-menuid=\"25240101\"><span class=\"odd_span\">좋아요</span>\n",
    "# <span class=\"cnt\">\n",
    "# <span class=\"none\">총건수</span>\n",
    "# 3</span></button>\n",
    "\n",
    "#frm > div > table > tbody > tr:nth-child(1) > td:nth-child(7) > div > button"
   ],
   "metadata": {
    "collapsed": false
   }
  },
  {
   "cell_type": "code",
   "execution_count": 24,
   "metadata": {
    "ExecuteTime": {
     "end_time": "2024-04-03T11:10:57.715288Z",
     "start_time": "2024-04-03T11:10:57.442227Z"
    }
   },
   "outputs": [
    {
     "name": "stdout",
     "output_type": "stream",
     "text": [
      "<Response [406]>\n",
      "\n",
      "\n",
      "[]\n",
      "[]\n"
     ]
    }
   ],
   "source": [
    "# 곡 번호 알아내기 함수\n",
    "\n",
    "def know_song_num(url):\n",
    "    # URL에서 HTML 가져오기\n",
    "    response = requests.get(url)\n",
    "    html = response.text\n",
    "    print(response)\n",
    "    print(html)\n",
    "    \n",
    "    # BeautifulSoup을 사용하여 HTML 파싱\n",
    "    soup = BeautifulSoup(html, 'html.parser')\n",
    "    print(soup)\n",
    "    # 곡 번호 접근하기\n",
    "    results = soup.find_all('tr')\n",
    "    print(results)\n",
    "    for r in results:\n",
    "        print(r)\n",
    "    \n",
    "    result = soup.find_all('button', {'class':'button_etc like'})\n",
    "    print(result)\n",
    "    for rsl in result:\n",
    "        print(rsl)\n",
    "    \n",
    "url_rap = \"https://www.melon.com/genre/song_list.htm?gnrCode=GN0300\"\n",
    "know_song_num(url_rap)"
   ]
  }
 ],
 "metadata": {
  "kernelspec": {
   "display_name": "NLP_38",
   "language": "python",
   "name": "python3"
  },
  "language_info": {
   "codemirror_mode": {
    "name": "ipython",
    "version": 3
   },
   "file_extension": ".py",
   "mimetype": "text/x-python",
   "name": "python",
   "nbconvert_exporter": "python",
   "pygments_lexer": "ipython3",
   "version": "3.8.19"
  }
 },
 "nbformat": 4,
 "nbformat_minor": 2
}
