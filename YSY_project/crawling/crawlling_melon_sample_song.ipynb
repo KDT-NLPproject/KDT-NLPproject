{
 "cells": [
  {
   "cell_type": "markdown",
   "source": [
    "# 장르별로 가사 크롤링하기! "
   ],
   "metadata": {
    "collapsed": false
   }
  },
  {
   "cell_type": "code",
   "outputs": [],
   "source": [
    "from selenium.webdriver.common.keys import Keys\n",
    "import time\n",
    "import requests\n",
    "import pandas as pd\n",
    "from bs4 import BeautifulSoup\n",
    "from selenium import webdriver\n",
    "import re\n",
    "from selenium.webdriver.common.by import By\n",
    "from selenium.webdriver.support.ui import WebDriverWait\n",
    "from selenium.webdriver.support import expected_conditions as EC\n",
    "\n",
    "title_artist_lyrics = {'title':[], 'artist':[], 'lyric':[]}\n",
    "song_num_list = ['37347911']"
   ],
   "metadata": {
    "collapsed": false,
    "ExecuteTime": {
     "end_time": "2024-04-05T04:22:09.420525Z",
     "start_time": "2024-04-05T04:22:09.411697Z"
    }
   },
   "execution_count": 2
  },
  {
   "cell_type": "markdown",
   "source": [
    "# input_url 변경 (1페이지)"
   ],
   "metadata": {
    "collapsed": false
   }
  },
  {
   "cell_type": "markdown",
   "source": [
    "# input_url 변경 (2페이지)"
   ],
   "metadata": {
    "collapsed": false
   }
  },
  {
   "cell_type": "code",
   "outputs": [
    {
     "name": "stdout",
     "output_type": "stream",
     "text": [
      "dictionary에 추가함\n"
     ]
    }
   ],
   "source": [
    "title_artist_lyrics = {'title':[], 'artist':[], 'lyric':[]}\n",
    "\n",
    "url_front = 'https://www.melon.com/song/detail.htm?songId='\n",
    "for num in song_num_list:\n",
    "    url = url_front + num\n",
    "    driver = webdriver.Chrome()\n",
    "    driver.get(url)\n",
    "    try:\n",
    "        # 가사가 로드될 때까지 대기\n",
    "        lyric_element = WebDriverWait(driver, 1).until(\n",
    "            EC.presence_of_element_located((By.CLASS_NAME, 'lyric'))\n",
    "        )\n",
    "        \n",
    "        # text 부분만 뽑아서 print\n",
    "        lyric_text = lyric_element.text\n",
    "        # print(lyric_text)\n",
    "        \n",
    "        # 노래 제목 뽑기\n",
    "        title_element = WebDriverWait(driver, 1).until(\n",
    "            EC.presence_of_element_located((By.CLASS_NAME, 'song_name')))\n",
    "        title_text = title_element.text\n",
    "        # print(f\"노래 제목 : {title_text}\")\n",
    "        \n",
    "        # 아티스트 뽑기\n",
    "        artist_element = WebDriverWait(driver, 1).until(\n",
    "            EC.presence_of_element_located((By.CLASS_NAME, 'artist_name')))\n",
    "        artist_text = artist_element.text\n",
    "        # print(f\"가수 이름 : {artist_text}\")\n",
    "        \n",
    "        title_artist_lyrics['title'].append(title_text)\n",
    "        title_artist_lyrics['artist'].append(artist_text)\n",
    "        title_artist_lyrics['lyric'].append(lyric_text)\n",
    "        print('dictionary에 추가함')\n",
    "    except Exception as e: print(\"실패\", e)\n",
    "\n",
    "    driver.quit()\n",
    "    \n",
    "# print(title_artist_lyrics)"
   ],
   "metadata": {
    "collapsed": false,
    "ExecuteTime": {
     "end_time": "2024-04-05T04:22:15.589645Z",
     "start_time": "2024-04-05T04:22:09.422752Z"
    }
   },
   "execution_count": 3
  },
  {
   "cell_type": "code",
   "outputs": [
    {
     "data": {
      "text/plain": "1"
     },
     "execution_count": 4,
     "metadata": {},
     "output_type": "execute_result"
    }
   ],
   "source": [
    "len(title_artist_lyrics['lyric'])"
   ],
   "metadata": {
    "collapsed": false,
    "ExecuteTime": {
     "end_time": "2024-04-05T04:22:15.614817Z",
     "start_time": "2024-04-05T04:22:15.593381Z"
    }
   },
   "execution_count": 4
  },
  {
   "cell_type": "code",
   "outputs": [
    {
     "data": {
      "text/plain": "      title      artist                                              lyric\n0  Magnetic  아일릿(ILLIT)  Baby\\nI’m just trying to play it cool\\nBut I j...",
      "text/html": "<div>\n<style scoped>\n    .dataframe tbody tr th:only-of-type {\n        vertical-align: middle;\n    }\n\n    .dataframe tbody tr th {\n        vertical-align: top;\n    }\n\n    .dataframe thead th {\n        text-align: right;\n    }\n</style>\n<table border=\"1\" class=\"dataframe\">\n  <thead>\n    <tr style=\"text-align: right;\">\n      <th></th>\n      <th>title</th>\n      <th>artist</th>\n      <th>lyric</th>\n    </tr>\n  </thead>\n  <tbody>\n    <tr>\n      <th>0</th>\n      <td>Magnetic</td>\n      <td>아일릿(ILLIT)</td>\n      <td>Baby\\nI’m just trying to play it cool\\nBut I j...</td>\n    </tr>\n  </tbody>\n</table>\n</div>"
     },
     "execution_count": 5,
     "metadata": {},
     "output_type": "execute_result"
    }
   ],
   "source": [
    "df_song = pd.DataFrame(title_artist_lyrics)\n",
    "df_song.head()"
   ],
   "metadata": {
    "collapsed": false,
    "ExecuteTime": {
     "end_time": "2024-04-05T04:22:15.633172Z",
     "start_time": "2024-04-05T04:22:15.615922Z"
    }
   },
   "execution_count": 5
  },
  {
   "cell_type": "markdown",
   "source": [
    "# 파일 저장명 변경"
   ],
   "metadata": {
    "collapsed": false
   }
  },
  {
   "cell_type": "code",
   "outputs": [],
   "source": [
    "# save_name = 'hiphop.csv'\n",
    "# df_song.to_csv('save_name)\n",
    "# print('csv 파일로 저장 완료')"
   ],
   "metadata": {
    "collapsed": false,
    "ExecuteTime": {
     "end_time": "2024-04-05T04:22:15.648605Z",
     "start_time": "2024-04-05T04:22:15.635298Z"
    }
   },
   "execution_count": 6
  },
  {
   "cell_type": "code",
   "outputs": [],
   "source": [],
   "metadata": {
    "collapsed": false,
    "ExecuteTime": {
     "end_time": "2024-04-05T04:22:15.663701Z",
     "start_time": "2024-04-05T04:22:15.650692Z"
    }
   },
   "execution_count": 6
  }
 ],
 "metadata": {
  "kernelspec": {
   "display_name": "NLP_38",
   "language": "python",
   "name": "python3"
  },
  "language_info": {
   "codemirror_mode": {
    "name": "ipython",
    "version": 3
   },
   "file_extension": ".py",
   "mimetype": "text/x-python",
   "name": "python",
   "nbconvert_exporter": "python",
   "pygments_lexer": "ipython3",
   "version": "3.8.19"
  }
 },
 "nbformat": 4,
 "nbformat_minor": 2
}
